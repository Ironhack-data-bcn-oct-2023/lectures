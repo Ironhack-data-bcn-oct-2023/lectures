{
 "cells": [
  {
   "cell_type": "markdown",
   "id": "4476bce5",
   "metadata": {
    "lang": "en"
   },
   "source": [
    "# List Comprehensions"
   ]
  },
  {
   "cell_type": "markdown",
   "id": "ambient-dodge",
   "metadata": {},
   "source": [
    "![elgif](https://media.giphy.com/media/8vZY0QZZjJZqmfResk/giphy.gif)"
   ]
  },
  {
   "cell_type": "markdown",
   "id": "2d0ea60c",
   "metadata": {
    "lang": "en"
   },
   "source": [
    "## But what is this?\n",
    "List compressions are a very powerful tool, creating one list based on another, on a single readable line."
   ]
  },
  {
   "cell_type": "markdown",
   "id": "a6776c39",
   "metadata": {
    "lang": "en"
   },
   "source": [
    "If we wanted to have a list like this but with all the words in uppercase using a loop..."
   ]
  },
  {
   "cell_type": "code",
   "execution_count": 1,
   "id": "4a5fbde9",
   "metadata": {},
   "outputs": [],
   "source": [
    "list_of_words = [\"Barcelona\", \"Madrid\", \"Girona\", \"Murcia\"]"
   ]
  },
  {
   "cell_type": "code",
   "execution_count": 11,
   "id": "3a5340c6",
   "metadata": {},
   "outputs": [],
   "source": [
    "#str(list_of_words).upper().replace(\"'\",\"\").split(\",\")"
   ]
  },
  {
   "cell_type": "code",
   "execution_count": 3,
   "id": "62e1e819",
   "metadata": {},
   "outputs": [
    {
     "data": {
      "text/plain": [
       "['BARCELONA', 'MADRID', 'GIRONA', 'MURCIA']"
      ]
     },
     "execution_count": 3,
     "metadata": {},
     "output_type": "execute_result"
    }
   ],
   "source": [
    "list_of_words_upper = []\n",
    "\n",
    "for city in list_of_words:\n",
    "    list_of_words_upper.append(city.upper())\n",
    "    \n",
    "list_of_words_upper"
   ]
  },
  {
   "cell_type": "markdown",
   "id": "012339ec",
   "metadata": {
    "lang": "en"
   },
   "source": [
    "How can we do it with list comprehension?"
   ]
  },
  {
   "cell_type": "code",
   "execution_count": 12,
   "id": "f29eeb6d",
   "metadata": {},
   "outputs": [],
   "source": [
    "list_of_words_upper = [city.upper() for city in list_of_words]"
   ]
  },
  {
   "cell_type": "code",
   "execution_count": 13,
   "id": "1c65371f",
   "metadata": {},
   "outputs": [
    {
     "data": {
      "text/plain": [
       "['BARCELONA', 'MADRID', 'GIRONA', 'MURCIA']"
      ]
     },
     "execution_count": 13,
     "metadata": {},
     "output_type": "execute_result"
    }
   ],
   "source": [
    "list_of_words_upper\n",
    "\n",
    "# Faster: computationally speaking\n",
    "# Sometimes: more readable\n",
    "# You dont need to append\n",
    "# You dont need to create a new list from scratch"
   ]
  },
  {
   "cell_type": "markdown",
   "id": "aa4b9751",
   "metadata": {
    "lang": "en"
   },
   "source": [
    "## Easy challenge 🤔\n",
    "We want a list containing the squares of the numbers 1 to 10."
   ]
  },
  {
   "cell_type": "code",
   "execution_count": 23,
   "id": "14273087",
   "metadata": {},
   "outputs": [
    {
     "data": {
      "text/plain": [
       "25"
      ]
     },
     "execution_count": 23,
     "metadata": {},
     "output_type": "execute_result"
    }
   ],
   "source": [
    "5 ** 2"
   ]
  },
  {
   "cell_type": "code",
   "execution_count": 27,
   "id": "e5887365",
   "metadata": {},
   "outputs": [
    {
     "data": {
      "text/plain": [
       "25"
      ]
     },
     "execution_count": 27,
     "metadata": {},
     "output_type": "execute_result"
    }
   ],
   "source": [
    "# pow\n",
    "pow(5, 2)"
   ]
  },
  {
   "cell_type": "code",
   "execution_count": 30,
   "id": "78a31458",
   "metadata": {},
   "outputs": [
    {
     "data": {
      "text/plain": [
       "[1, 4, 9, 16, 25, 36, 49, 64, 81, 100]"
      ]
     },
     "execution_count": 30,
     "metadata": {},
     "output_type": "execute_result"
    }
   ],
   "source": [
    "new_list = []\n",
    "\n",
    "for i in range(1, 11):\n",
    "    new_list.append(i**2)\n",
    "new_list"
   ]
  },
  {
   "cell_type": "code",
   "execution_count": 32,
   "id": "9eb245fa",
   "metadata": {},
   "outputs": [],
   "source": [
    "powered_numbers = [i**2 for i in range(1, 11)]"
   ]
  },
  {
   "cell_type": "code",
   "execution_count": null,
   "id": "be0f3a73",
   "metadata": {},
   "outputs": [],
   "source": [
    "# generators"
   ]
  },
  {
   "cell_type": "code",
   "execution_count": 33,
   "id": "f1bd0a83",
   "metadata": {},
   "outputs": [
    {
     "data": {
      "text/plain": [
       "[1, 4, 9, 16, 25, 36, 49, 64, 81, 100]"
      ]
     },
     "execution_count": 33,
     "metadata": {},
     "output_type": "execute_result"
    }
   ],
   "source": [
    "powered_numbers"
   ]
  },
  {
   "cell_type": "markdown",
   "id": "54ce8e78",
   "metadata": {
    "lang": "en"
   },
   "source": [
    "## Advantage\n",
    "Understanding the list:\n",
    " *we don't need an empty list to start* we don't use the `.append` method."
   ]
  },
  {
   "cell_type": "markdown",
   "id": "04427900",
   "metadata": {
    "lang": "en"
   },
   "source": [
    "## Easy challenge 🤔\n",
    "Create a new list, substituting \"e's\" for \"a's\" in each word in the original `words` list."
   ]
  },
  {
   "cell_type": "markdown",
   "id": "2c1733cd",
   "metadata": {},
   "source": [
    "### For loop"
   ]
  },
  {
   "cell_type": "code",
   "execution_count": 39,
   "id": "1dffc8fb",
   "metadata": {},
   "outputs": [
    {
     "data": {
      "text/plain": [
       "['BErcelonE', 'MEdrid', 'GironE', 'MurciE', 'ZEr']"
      ]
     },
     "execution_count": 39,
     "metadata": {},
     "output_type": "execute_result"
    }
   ],
   "source": [
    "list_of_words = [\"Barcelona\", \"Madrid\", \"Girona\", \"Murcia\", \"Zar\" ]\n",
    "# a -> E\n",
    "\n",
    "new_list = []\n",
    "\n",
    "for i in list_of_words:\n",
    "    item = i.replace(\"a\", \"E\")\n",
    "    new_list.append(item)\n",
    "new_list "
   ]
  },
  {
   "cell_type": "markdown",
   "id": "998fd911",
   "metadata": {},
   "source": [
    "### Comprehension list"
   ]
  },
  {
   "cell_type": "code",
   "execution_count": 42,
   "id": "9d447d8e",
   "metadata": {},
   "outputs": [],
   "source": [
    "weird_cities = [i.replace(\"a\", \"E\") for i in list_of_words]"
   ]
  },
  {
   "cell_type": "code",
   "execution_count": 43,
   "id": "69646177",
   "metadata": {},
   "outputs": [
    {
     "data": {
      "text/plain": [
       "['BErcelonE', 'MEdrid', 'GironE', 'MurciE', 'ZEr']"
      ]
     },
     "execution_count": 43,
     "metadata": {},
     "output_type": "execute_result"
    }
   ],
   "source": [
    "weird_cities"
   ]
  },
  {
   "cell_type": "markdown",
   "id": "69146175",
   "metadata": {
    "lang": "en"
   },
   "source": [
    "## Conditions (we put IF in the comprehension)"
   ]
  },
  {
   "cell_type": "markdown",
   "id": "worthy-major",
   "metadata": {},
   "source": [
    "<img width=600 src=\"https://www.mrdbourke.com/content/images/2019/09/python-list-comprehension-article.png\">"
   ]
  },
  {
   "cell_type": "markdown",
   "id": "27f79aae",
   "metadata": {
    "lang": "en"
   },
   "source": [
    "## Easy challenge 🤔\n",
    "We want a new list with words longer than 6 characters."
   ]
  },
  {
   "cell_type": "markdown",
   "id": "third-policy",
   "metadata": {},
   "source": [
    "![imagen_compr](https://stsewd.dev/charla-comprension-de-listas/img/listComprehensions.gif)"
   ]
  },
  {
   "cell_type": "markdown",
   "id": "4e443e54",
   "metadata": {},
   "source": [
    "### For loop"
   ]
  },
  {
   "cell_type": "code",
   "execution_count": 19,
   "id": "bf8f22f2",
   "metadata": {},
   "outputs": [
    {
     "data": {
      "text/plain": [
       "['Barcelona']"
      ]
     },
     "execution_count": 19,
     "metadata": {},
     "output_type": "execute_result"
    }
   ],
   "source": [
    "list_of_words = [\"Barcelona\", \"Madrid\", \"Girona\", \"Murcia\", \"Zar\" ]\n",
    "\n",
    "# List of cities with lenght > 5\n",
    "\n",
    "list_over_five = []\n",
    "\n",
    "for i in list_of_words:\n",
    "    if len(i) > 6:\n",
    "        list_over_five.append(i)\n",
    "list_over_five"
   ]
  },
  {
   "cell_type": "markdown",
   "id": "efa2cc76",
   "metadata": {},
   "source": [
    "### Comprehension list"
   ]
  },
  {
   "cell_type": "code",
   "execution_count": 20,
   "id": "9ecdb5f5",
   "metadata": {},
   "outputs": [
    {
     "data": {
      "text/plain": [
       "['Barcelona']"
      ]
     },
     "execution_count": 20,
     "metadata": {},
     "output_type": "execute_result"
    }
   ],
   "source": [
    "list_over_five = [i for i in list_of_words if len(i) > 6]\n",
    "list_over_five"
   ]
  },
  {
   "cell_type": "markdown",
   "id": "3a362f88",
   "metadata": {
    "lang": "en"
   },
   "source": [
    "## If / Else in comprehension\n",
    "You can include an else statement with a block of code that is implemented if the condition is false."
   ]
  },
  {
   "cell_type": "code",
   "execution_count": 81,
   "id": "68fc2144",
   "metadata": {},
   "outputs": [
    {
     "data": {
      "text/plain": [
       "['BARCELONA', 'ma', 'GIRONA', 'MURCIA', 'zar']"
      ]
     },
     "execution_count": 81,
     "metadata": {},
     "output_type": "execute_result"
    }
   ],
   "source": [
    "list_of_words = [\"Barcelona\", \"Mad\", \"Girona\", \"Murcia\", \"Zar\" ]\n",
    "\n",
    "list_over_five = []\n",
    "\n",
    "for i in list_of_words:\n",
    "    if len(i) > 5:\n",
    "        list_over_five.append(i.upper())\n",
    "    else:\n",
    "        list_over_five.append(i.lower())\n",
    "    \n",
    "list_over_five"
   ]
  },
  {
   "cell_type": "markdown",
   "id": "e5430c1d",
   "metadata": {
    "lang": "en"
   },
   "source": [
    "Be careful with the syntax, in this case it will change, the syntax of the comprehension will be:\n",
    "\n",
    "`[element if / else for element in whatever]`"
   ]
  },
  {
   "cell_type": "code",
   "execution_count": 89,
   "id": "c3181b11",
   "metadata": {},
   "outputs": [],
   "source": [
    "length_cities = [i.upper() if len(i) > 5 else i.lower() for i in list_of_words]"
   ]
  },
  {
   "cell_type": "code",
   "execution_count": 90,
   "id": "fb154d59",
   "metadata": {},
   "outputs": [
    {
     "data": {
      "text/plain": [
       "['BARCELONA', 'ma', 'GIRONA', 'MURCIA', 'zar']"
      ]
     },
     "execution_count": 90,
     "metadata": {},
     "output_type": "execute_result"
    }
   ],
   "source": [
    "length_cities"
   ]
  },
  {
   "cell_type": "markdown",
   "id": "6e95c674",
   "metadata": {
    "lang": "es"
   },
   "source": [
    "## Nested list comprehensions"
   ]
  },
  {
   "cell_type": "code",
   "execution_count": 44,
   "id": "de405011",
   "metadata": {},
   "outputs": [],
   "source": [
    "nested_list = [[1, 2], [3, 4], [5, 6]]"
   ]
  },
  {
   "cell_type": "markdown",
   "id": "ac27117f",
   "metadata": {},
   "source": [
    "### Comprehension list: nested lists"
   ]
  },
  {
   "cell_type": "markdown",
   "id": "18296b82",
   "metadata": {},
   "source": [
    "### For loop"
   ]
  },
  {
   "cell_type": "markdown",
   "id": "3dceac52",
   "metadata": {
    "lang": "en"
   },
   "source": [
    "Let's create a list of lists with a for loop"
   ]
  },
  {
   "cell_type": "code",
   "execution_count": 45,
   "id": "ad3ae9e8",
   "metadata": {},
   "outputs": [
    {
     "name": "stdout",
     "output_type": "stream",
     "text": [
      "[1, 2]\n",
      "[3, 4]\n",
      "[5, 6]\n"
     ]
    }
   ],
   "source": [
    "for i in nested_list:\n",
    "    print(i)"
   ]
  },
  {
   "cell_type": "code",
   "execution_count": 46,
   "id": "6beebb48",
   "metadata": {},
   "outputs": [
    {
     "data": {
      "text/plain": [
       "[1, 2, 3, 4, 5, 6]"
      ]
     },
     "execution_count": 46,
     "metadata": {},
     "output_type": "execute_result"
    }
   ],
   "source": [
    "#flat_list = [1, 2, 3, 4, 5, 6]\n",
    "flat_list = []\n",
    "\n",
    "for i in nested_list:\n",
    "    for j in i:\n",
    "        flat_list.append(j)\n",
    "\n",
    "flat_list"
   ]
  },
  {
   "cell_type": "code",
   "execution_count": 47,
   "id": "8a50f717",
   "metadata": {},
   "outputs": [
    {
     "data": {
      "text/plain": [
       "[1, 2, 3, 4, 5, 6]"
      ]
     },
     "execution_count": 47,
     "metadata": {},
     "output_type": "execute_result"
    }
   ],
   "source": [
    "flattened_list = [j for i in nested_list for j in i]\n",
    "flattened_list"
   ]
  },
  {
   "cell_type": "code",
   "execution_count": 48,
   "id": "28893a1e",
   "metadata": {},
   "outputs": [],
   "source": [
    "nested_list = [[[1, 2], [3, 4]], [[5, 6], [7,8]]]"
   ]
  },
  {
   "cell_type": "code",
   "execution_count": 52,
   "id": "aa598fba",
   "metadata": {},
   "outputs": [
    {
     "data": {
      "text/plain": [
       "[1, 2, 3, 4, 5, 6, 7, 8]"
      ]
     },
     "execution_count": 52,
     "metadata": {},
     "output_type": "execute_result"
    }
   ],
   "source": [
    "flattened_list = [l for i in nested_list for k in i for l in k]\n",
    "flattened_list"
   ]
  },
  {
   "cell_type": "markdown",
   "id": "3cbc2ea4",
   "metadata": {
    "lang": "en"
   },
   "source": [
    "## Dictionary comprehensions"
   ]
  },
  {
   "cell_type": "markdown",
   "id": "a199d32c",
   "metadata": {
    "lang": "en"
   },
   "source": [
    "How would we do it with a normal loop?"
   ]
  },
  {
   "cell_type": "code",
   "execution_count": 53,
   "id": "33a452d2",
   "metadata": {},
   "outputs": [],
   "source": [
    "names = [\"Clara\", \"Albert\", \"Laura\"]\n",
    "emojis = [\"🙃\", \"☝️\", \"🫂\"]"
   ]
  },
  {
   "cell_type": "code",
   "execution_count": 54,
   "id": "f2b079c3",
   "metadata": {},
   "outputs": [],
   "source": [
    "dict_ = {\n",
    "    \"Clara\": \"emoji\"\n",
    "}"
   ]
  },
  {
   "cell_type": "markdown",
   "id": "11a48040",
   "metadata": {},
   "source": [
    "### For loop"
   ]
  },
  {
   "cell_type": "code",
   "execution_count": 55,
   "id": "4a15be40",
   "metadata": {},
   "outputs": [
    {
     "data": {
      "text/plain": [
       "{'Clara': '🙃', 'Albert': '☝️', 'Laura': '🫂'}"
      ]
     },
     "execution_count": 55,
     "metadata": {},
     "output_type": "execute_result"
    }
   ],
   "source": [
    "dict_ = {}\n",
    "\n",
    "for name, emoji in zip(names, emojis):\n",
    "    dict_[name] = emoji\n",
    "dict_"
   ]
  },
  {
   "cell_type": "markdown",
   "id": "c8d2e4fa",
   "metadata": {
    "lang": "en"
   },
   "source": [
    "### Comprehension dict"
   ]
  },
  {
   "cell_type": "code",
   "execution_count": 56,
   "id": "1cd4fc87",
   "metadata": {},
   "outputs": [
    {
     "data": {
      "text/plain": [
       "{'Clara': '🙃', 'Albert': '☝️', 'Laura': '🫂'}"
      ]
     },
     "execution_count": 56,
     "metadata": {},
     "output_type": "execute_result"
    }
   ],
   "source": [
    "dict_ = {name:emoji for name, emoji in zip(names, emojis)}\n",
    "dict_"
   ]
  },
  {
   "cell_type": "code",
   "execution_count": 59,
   "id": "3cfe5696",
   "metadata": {},
   "outputs": [],
   "source": [
    "cities = ['Barcelona', 'Madrid', 'Girona', 'Murcia', 'Zar']"
   ]
  },
  {
   "cell_type": "code",
   "execution_count": 60,
   "id": "9c56bed8",
   "metadata": {},
   "outputs": [],
   "source": [
    "dict_ = {\n",
    "    \"Barcelona\": 9\n",
    "}"
   ]
  },
  {
   "cell_type": "markdown",
   "id": "c33cdd0a",
   "metadata": {
    "lang": "en"
   },
   "source": [
    "## Challenge 🤔\n",
    "They give you a list of words. Write a dictionary containing the length of each word."
   ]
  },
  {
   "cell_type": "code",
   "execution_count": 61,
   "id": "4f6b69fc",
   "metadata": {},
   "outputs": [
    {
     "data": {
      "text/plain": [
       "{'Barcelona': 9, 'Madrid': 6, 'Girona': 6, 'Murcia': 6, 'Zar': 3}"
      ]
     },
     "execution_count": 61,
     "metadata": {},
     "output_type": "execute_result"
    }
   ],
   "source": [
    "dict_ = {name:len(name) for name in cities}\n",
    "dict_"
   ]
  },
  {
   "cell_type": "markdown",
   "id": "6ecdeb74",
   "metadata": {},
   "source": [
    "### For loop"
   ]
  },
  {
   "cell_type": "code",
   "execution_count": null,
   "id": "bfbf642f",
   "metadata": {},
   "outputs": [],
   "source": []
  },
  {
   "cell_type": "markdown",
   "id": "c62375e0",
   "metadata": {},
   "source": [
    "### Comprehension dict"
   ]
  },
  {
   "cell_type": "code",
   "execution_count": null,
   "id": "1747bb00",
   "metadata": {},
   "outputs": [],
   "source": []
  },
  {
   "cell_type": "markdown",
   "id": "0389e710",
   "metadata": {
    "lang": "en"
   },
   "source": [
    "## Last Challenge: comprehension SET\n",
    "Also output, with a set comprehension, only unique country codes"
   ]
  },
  {
   "cell_type": "code",
   "execution_count": 62,
   "id": "79bc189b",
   "metadata": {},
   "outputs": [],
   "source": [
    "codes_countries = [\"es-91\", \"en-88\", \"fra-12\", \"it-33\", \"ar-55\", \"it-34\", \"es-98\"]"
   ]
  },
  {
   "cell_type": "code",
   "execution_count": 64,
   "id": "f29e6288",
   "metadata": {},
   "outputs": [
    {
     "data": {
      "text/plain": [
       "'es-91'"
      ]
     },
     "execution_count": 64,
     "metadata": {},
     "output_type": "execute_result"
    }
   ],
   "source": [
    "codes_countries[0] # {ES, EN, FRA, IT, AR}"
   ]
  },
  {
   "cell_type": "code",
   "execution_count": 69,
   "id": "1008cb99",
   "metadata": {},
   "outputs": [
    {
     "data": {
      "text/plain": [
       "{'AR', 'EN', 'ES', 'FRA', 'IT'}"
      ]
     },
     "execution_count": 69,
     "metadata": {},
     "output_type": "execute_result"
    }
   ],
   "source": [
    "new_list = []\n",
    "for i in codes_countries:\n",
    "    new_list.append(i.upper().split(\"-\")[0])\n",
    "set_countries = set(new_list)\n",
    "set_countries"
   ]
  },
  {
   "cell_type": "code",
   "execution_count": 71,
   "id": "c3c36d9c",
   "metadata": {},
   "outputs": [
    {
     "data": {
      "text/plain": [
       "{'AR', 'EN', 'ES', 'FRA', 'IT'}"
      ]
     },
     "execution_count": 71,
     "metadata": {},
     "output_type": "execute_result"
    }
   ],
   "source": [
    "comprset = [i.upper().split(\"-\")[0] for i in codes_countries]\n",
    "set(comprset)"
   ]
  },
  {
   "cell_type": "code",
   "execution_count": 74,
   "id": "b662a9aa",
   "metadata": {},
   "outputs": [
    {
     "data": {
      "text/plain": [
       "{'AR', 'EN', 'ES', 'FRA', 'IT'}"
      ]
     },
     "execution_count": 74,
     "metadata": {},
     "output_type": "execute_result"
    }
   ],
   "source": [
    "comprset = {i.upper().split(\"-\")[0] for i in codes_countries}\n",
    "comprset"
   ]
  },
  {
   "cell_type": "markdown",
   "id": "19d8a0d8",
   "metadata": {},
   "source": [
    "# RECAP"
   ]
  },
  {
   "cell_type": "code",
   "execution_count": null,
   "id": "f41a8143",
   "metadata": {},
   "outputs": [],
   "source": []
  }
 ],
 "metadata": {
  "kernelspec": {
   "display_name": "ironhack",
   "language": "python",
   "name": "ironhack"
  },
  "language_info": {
   "codemirror_mode": {
    "name": "ipython",
    "version": 3
   },
   "file_extension": ".py",
   "mimetype": "text/x-python",
   "name": "python",
   "nbconvert_exporter": "python",
   "pygments_lexer": "ipython3",
   "version": "3.9.12"
  },
  "nbTranslate": {
   "displayLangs": [
    "en",
    "es"
   ],
   "hotkey": "alt-a",
   "langInMainMenu": true,
   "sourceLang": "es",
   "targetLang": "en",
   "useGoogleTranslate": true
  },
  "toc": {
   "base_numbering": 1,
   "nav_menu": {},
   "number_sections": true,
   "sideBar": false,
   "skip_h1_title": true,
   "title_cell": "Table of Contents",
   "title_sidebar": "Contents",
   "toc_cell": false,
   "toc_position": {
    "height": "466px",
    "left": "91px",
    "top": "111.125px",
    "width": "256px"
   },
   "toc_section_display": true,
   "toc_window_display": false
  }
 },
 "nbformat": 4,
 "nbformat_minor": 5
}
