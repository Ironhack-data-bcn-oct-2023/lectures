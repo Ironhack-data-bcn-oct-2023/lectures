{
 "cells": [
  {
   "cell_type": "markdown",
   "id": "linear-pierre",
   "metadata": {
    "toc": true
   },
   "source": [
    "<h1>Table of Contents<span class=\"tocSkip\"></span></h1>\n",
    "<div class=\"toc\"><ul class=\"toc-item\"><li><span><a href=\"#What-is-OOP---Object-Oriented-Programming?\" data-toc-modified-id=\"What-is-OOP---Object-Oriented-Programming?-1\"><span class=\"toc-item-num\">1&nbsp;&nbsp;</span>What is OOP - Object Oriented Programming?</a></span><ul class=\"toc-item\"><li><span><a href=\"#Fundamental-Principles\" data-toc-modified-id=\"Fundamental-Principles-1.1\"><span class=\"toc-item-num\">1.1&nbsp;&nbsp;</span>Fundamental Principles</a></span></li></ul></li><li><span><a href=\"#Classes-and-instances\" data-toc-modified-id=\"Classes-and-instances-2\"><span class=\"toc-item-num\">2&nbsp;&nbsp;</span>Classes and instances</a></span></li><li><span><a href=\"#Definition-of-a-class\" data-toc-modified-id=\"Definition-of-a-class-3\"><span class=\"toc-item-num\">3&nbsp;&nbsp;</span>Definition of a class</a></span><ul class=\"toc-item\"><li><span><a href=\"#Self:\" data-toc-modified-id=\"Self:-3.1\"><span class=\"toc-item-num\">3.1&nbsp;&nbsp;</span>Self:</a></span><ul class=\"toc-item\"><li><span><a href=\"#Defining-a-function\" data-toc-modified-id=\"Defining-a-function-3.1.1\"><span class=\"toc-item-num\">3.1.1&nbsp;&nbsp;</span>Defining a function</a></span></li><li><span><a href=\"#Calling-a-function\" data-toc-modified-id=\"Calling-a-function-3.1.2\"><span class=\"toc-item-num\">3.1.2&nbsp;&nbsp;</span>Calling a function</a></span></li><li><span><a href=\"#Defining-a-class\" data-toc-modified-id=\"Defining-a-class-3.1.3\"><span class=\"toc-item-num\">3.1.3&nbsp;&nbsp;</span>Defining a class</a></span></li><li><span><a href=\"#Instansiating-a-class\" data-toc-modified-id=\"Instansiating-a-class-3.1.4\"><span class=\"toc-item-num\">3.1.4&nbsp;&nbsp;</span>Instansiating a class</a></span></li></ul></li><li><span><a href=\"#Exploring-a-class\" data-toc-modified-id=\"Exploring-a-class-3.2\"><span class=\"toc-item-num\">3.2&nbsp;&nbsp;</span>Exploring a class</a></span></li><li><span><a href=\"#Instance-Attributes\" data-toc-modified-id=\"Instance-Attributes-3.3\"><span class=\"toc-item-num\">3.3&nbsp;&nbsp;</span>Instance Attributes</a></span><ul class=\"toc-item\"><li><span><a href=\"#Default-attributes\" data-toc-modified-id=\"Default-attributes-3.3.1\"><span class=\"toc-item-num\">3.3.1&nbsp;&nbsp;</span>Default attributes</a></span></li></ul></li><li><span><a href=\"#Instance-Methods\" data-toc-modified-id=\"Instance-Methods-3.4\"><span class=\"toc-item-num\">3.4&nbsp;&nbsp;</span>Instance Methods</a></span><ul class=\"toc-item\"><li><span><a href=\"#Python-is-built-with-objects\" data-toc-modified-id=\"Python-is-built-with-objects-3.4.1\"><span class=\"toc-item-num\">3.4.1&nbsp;&nbsp;</span>Python is built with objects</a></span></li></ul></li><li><span><a href=\"#Class-variables\" data-toc-modified-id=\"Class-variables-3.5\"><span class=\"toc-item-num\">3.5&nbsp;&nbsp;</span>Class variables</a></span></li></ul></li><li><span><a href=\"#Before-continuing,-let's-take-a-breath-and-review-vocabulary\" data-toc-modified-id=\"Before-continuing,-let's-take-a-breath-and-review-vocabulary-4\"><span class=\"toc-item-num\">4&nbsp;&nbsp;</span>Before continuing, let's take a breath and review vocabulary</a></span><ul class=\"toc-item\"><li><ul class=\"toc-item\"><li><span><a href=\"#Easy-exercise\" data-toc-modified-id=\"Easy-exercise-4.0.1\"><span class=\"toc-item-num\">4.0.1&nbsp;&nbsp;</span>Easy exercise</a></span></li></ul></li></ul></li><li><span><a href=\"#Inheritance\" data-toc-modified-id=\"Inheritance-5\"><span class=\"toc-item-num\">5&nbsp;&nbsp;</span>Inheritance</a></span><ul class=\"toc-item\"><li><span><a href=\"#super()\" data-toc-modified-id=\"super()-5.1\"><span class=\"toc-item-num\">5.1&nbsp;&nbsp;</span>super()</a></span></li></ul></li><li><span><a href=\"#Summary\" data-toc-modified-id=\"Summary-6\"><span class=\"toc-item-num\">6&nbsp;&nbsp;</span>Summary</a></span></li><li><span><a href=\"#Furthermaterials\" data-toc-modified-id=\"Furthermaterials-7\"><span class=\"toc-item-num\">7&nbsp;&nbsp;</span>Furthermaterials</a></span><ul class=\"toc-item\"><li><span><a href=\"#Methods-ADVANCED-@classmethod@staticmethod\" data-toc-modified-id=\"Methods-ADVANCED-@classmethod@staticmethod-7.1\"><span class=\"toc-item-num\">7.1&nbsp;&nbsp;</span>Methods <strong>ADVANCED</strong> @classmethod@staticmethod</a></span></li></ul></li></ul></div>"
   ]
  },
  {
   "cell_type": "markdown",
   "id": "b24da1a7",
   "metadata": {},
   "source": [
    "# RECAP\n",
    "\n",
    "- Defining function:\n",
    "    - `def name (arg):`\n",
    "\n",
    "\n",
    "18k: number of rows in a given dataframe\n",
    "Import will be executed as many times as the function is running\n",
    "Performance\n",
    "\n",
    "import math\n",
    "\n",
    "```python\n",
    "    def square_root (number):\n",
    "        \"\"\"Docstrings explaining what this does\n",
    "        :number: int, int to square root\n",
    "        \"\"\"\n",
    "        result = math.sqrt(number)\n",
    "        return result\n",
    "```\n",
    "\n",
    "- Docstring\n",
    "    - Comment after defining\n",
    "    - name_of_function.__doc__\n",
    "    - get the source code\n",
    "    \"\"\"\n",
    "    Triple comment on python: it just comments\n",
    "    \"\"\"\n",
    "    \n",
    "```python\n",
    "# this is a snippet in markdown: it formats\n",
    "print(\"hello world\")\n",
    "```\n",
    "    \n",
    "    \n",
    "```python\n",
    "import inspect\n",
    "print(inspect.getsource(name_of_function))\n",
    "```\n",
    "    \n",
    "- Return vs. print\n",
    "    - return: refer to the result later on\n",
    "    - print: one time thing, just for visibility\n",
    "    \n",
    "- If no return\n",
    "    - The function evaluates to None\n",
    "    - None should equal 875: None != 875\n",
    "    - Always read error messages\n",
    "    \n",
    "- Lambda\n",
    "    - function \n",
    "    - not planning to re-use, on the spot\n",
    "    - anonymous: not-name\n",
    "    - different syntax: `lambda arg: arg_to_return`, `lambda x: x * 2`\n",
    "\n",
    "- Scope of functions\n",
    "    - Whatever is declared inside, is inside\n",
    "    - If you want to keep a variable defined inside -> save calling to func into a var\n",
    "         \n",
    "```python\n",
    "def square_root (number):\n",
    "\"\"\"Docstrings explaining what this does\n",
    ":number: int, int to square root\n",
    "\"\"\"\n",
    "    result = math.sqrt(number)\n",
    "    return result\n",
    "```\n",
    "\n",
    "the_result_to_access = square_root (number) # result\n",
    "    \n",
    "- A function can call itself or another function\n",
    "    - call funct inside of funct\n",
    "    - and you return functions as a result\n",
    "    \n",
    "- Positional arguments\n",
    "    - whatever you pass: no asterisk\n",
    "    - first_one is first_one, second_one is second_one\n",
    "    - `def function (a, b, *args, **kwasrgs)` -> a & b are both positional arguments\n",
    "    - * args: unknown number of elements\n",
    "        - as a tuple of unknown elements\n",
    "    - ** kwargs: unknown number of elements\n",
    "        - as a dictionary of unknown elements, (age = 20)\n",
    "        - name = \"Bego\", (keyword argument)\n",
    "    - There is an order:\n",
    "        0. Positional\n",
    "        1. * args\n",
    "        2. ** kwargs\n",
    "\n",
    "\n",
    "- Libraries\n",
    "\n",
    "```python\n",
    "import pandas\n",
    "df = pd.read_csv(\"../datasets/.csv)\n",
    "df.head()\n",
    "```\n",
    "    - Library for managing tables\n",
    "    - Code that someone else wrote\n",
    "        - put it into packages\n",
    "        - we use those packages\n",
    "    \n",
    "    - library: pd\n",
    "    - objects: df\n",
    "    - methods: df.head() # -> printing the 5 first rows of a table\n",
    "\n",
    "- Functions can be recursive\n",
    "    - they can call themselves\n",
    "    - similar to while loop\n",
    "        - if / else -> calling of the function to call itself\n",
    "\n",
    "- Booleans\n",
    "    - True and False\n",
    "    - True and False == False # True\n",
    "    - (True and False) == False # True\n",
    "    - (True or False) == False # False\n",
    "    \n",
    "    \n",
    "\n",
    "```python\n",
    "def password ():\n",
    "    \n",
    "    length = False\n",
    "    \n",
    "    if lenght > 8:\n",
    "        length = True\n",
    "       \n",
    "    if cond_1 and cond_2....\n",
    "        return True\n",
    "    \n",
    "    else:\n",
    "        return False\n",
    "```\n",
    "    \n",
    "\n",
    "\n",
    "```python\n",
    "def password ():\n",
    "    \n",
    "    length = False\n",
    "    \n",
    "    if lenght > 8:\n",
    "        length = True\n",
    "       \n",
    "    if cond_1 == True and cond_2 and cond_3:\n",
    "        return True\n",
    "    \n",
    "    return False\n",
    "```\n",
    "\n",
    "```python\n",
    "# No need to include the == True\n",
    "if cond_1:\n",
    "    print(\"condition_1\")\n",
    "```\n",
    "\n",
    "```python\n",
    "list_ = [(\"Barcelona\", 10), (\"Madrid\", 7)]\n",
    "sorted(list_, key=lambda x: x[0]) # Barcelona 1st \n",
    "```\n",
    "\n",
    "```python\n",
    "list_ = [(\"Barcelona\", 10), (\"Madrid\", 7)]\n",
    "sorted(list_, key=lambda x: x[1], reverse=True) # Madrid 1st \n",
    "```"
   ]
  },
  {
   "cell_type": "markdown",
   "id": "44bbe54e",
   "metadata": {
    "lang": "en"
   },
   "source": [
    "## What is OOP - Object Oriented Programming?"
   ]
  },
  {
   "cell_type": "markdown",
   "id": "da79b55b",
   "metadata": {
    "lang": "en"
   },
   "source": [
    "Object-oriented programming is a programming paradigm, that is, a programming style and technique, which goes beyond the implementation itself. This paradigm is based on the \"object\" concept, which can contain both data, in the form of fields called \"attributes\", and code for its manipulation in the form of procedures and functions, called \"methods\". Thanks to this, we can group everything under a single data type (the object \"class\"), which facilitates the modularity and reusability of the code.\n",
    "This has a strong implication in the design of IT solutions; Software engineering methodologies are based on object-oriented programming."
   ]
  },
  {
   "cell_type": "markdown",
   "id": "19380f68",
   "metadata": {
    "lang": "en"
   },
   "source": [
    "You can imagine objects as a new data type whose definition is given in a structure called class.\n",
    "Classes are often compared to cookie cutters and objects to the cookies themselves. While all cookies made from the same pan have the same shape, each one takes on individual attributes after baking. Things like color, texture, flavor... can be very different.\n",
    "In other words, the cookies share a manufacturing process and some attributes, but they are independent of each other and of the mold itself, and that makes each one unique.\n",
    "Extrapolating from the example, a class is just a script about how the objects that will be created with it should be."
   ]
  },
  {
   "cell_type": "markdown",
   "id": "fallen-brazil",
   "metadata": {},
   "source": [
    "![clases](https://files.realpython.com/media/Object-Oriented-Programming-OOP-in-Python-3_Watermarked.0d29780806d5.jpg)"
   ]
  },
  {
   "cell_type": "markdown",
   "id": "92d02d2c",
   "metadata": {
    "lang": "en"
   },
   "source": [
    "### Fundamental Principles"
   ]
  },
  {
   "cell_type": "markdown",
   "id": "0473322c",
   "metadata": {
    "lang": "en"
   },
   "source": [
    "1 - **Data abstraction**: Something we do naturally in our understanding of the world is the abstraction of concrete information in concepts or classes. For example, the concept of \"car\" evokes in us an idea of ​​a vehicle with four wheels, a steering wheel, an engine... Our car is a specific \"instance\" of that concept, and different from other cars, but we are capable of associating certain properties or characteristics to said concept above specific details. This ability to abstract a concept is essential for the development of human language and, of course, such a good idea has been transferred to the world of programming. In OOP, we call the abstract concept \"class\" and the realization of that concept \"object\". Your car is concrete, you can drive it, it is an object, an \"instance\" of the class \"car\".\n",
    "   \n",
    "   2 - **Encapsulation**: Each type of object contains its own information and can be manipulated in a particular way. A car can be driven and has a certain pressure in the wheels, a color, a certain level of gasoline, etc. With a GPS we can obtain our position coordinates and the batteries will have a certain charge. A dog barks, has a weight, an age. All those attributes and \"methods\" are \"encapsulated\" within the object, and are accessible only through a given object. The advantage is that we don't need to have, for example, a list with names, another with ages, another with weights... but rather a list of objects and each one contains, that is, encapsulates, its own information.\n",
    "   \n",
    "   3 - **Inheritance**: Some classes can specialize others. For this, the specialized class \"inherits\" the properties of the more general class, called the \"superclass\". For example, the \"Car\" and \"Truck\" classes can inherit from the \"Vehicle\" class. This is a way of reusing code, by being able to assume those common properties between several classes in a superior class. Python supports \"multiple inheritance\", so a class can be defined as a subclass of several classes from which it would inherit all its properties (attributes and methods) at once.\n",
    "   \n",
    "   4 - **Polymorphism**: A square can be drawn, a circle as well, just as any other shape can be drawn. \"Square\" and \"Circle\" would be subclasses of \"Shape\". The \"Shape\" superclass implements a draw() method, and both the \"Square\" subclass and the \"Circle\" subclass override this method to their particular case. So a function could accept an object of type \"Shape\" as a parameter and call the draw() method without knowing if the passed argument is a circle or a square. Each object knows its level of specialization and the concrete implementation of its methods. This ability to use superclass methods in code but resolve to subclass methods at run time is called \"Polymorphism\": the same variable can take different forms."
   ]
  },
  {
   "cell_type": "markdown",
   "id": "f325c4f9",
   "metadata": {
    "lang": "en"
   },
   "source": [
    "## Classes and instances"
   ]
  },
  {
   "cell_type": "markdown",
   "id": "f1423c0e",
   "metadata": {
    "lang": "en"
   },
   "source": [
    "A class is like an abstract type for objects that, in addition to storing values ​​called attributes, has associated a series of functions that we call methods. An instance of a class is the same as saying an object of that class. Instantiating a class refers to creating an object that belongs to that class.\n",
    "In Python, data types are classes, and any literal or variable of one of these types is an object that instantiates the type's class. For example: a = 2222 is equivalent to instantiating the PyLongObject class by assigning an internal attribute the value 2222. This is what happens at a low level, but we can consider that the variable a is of type int. We can know the type of any variable, that is, the class it instantiates, with the type() function, and the identifier of the instantiated object with the id() function."
   ]
  },
  {
   "cell_type": "code",
   "execution_count": null,
   "id": "4dcf6330",
   "metadata": {},
   "outputs": [],
   "source": [
    "# Imperative programming\n",
    "    # wirting things\n",
    "# Functional programming\n",
    "    # Debug\n",
    "    # Isolate the code -> easier\n",
    "# OOP\n",
    "    # Re-use code\n",
    "    # Both: attributes & methods\n",
    "        # Templates: characteristics, do things"
   ]
  },
  {
   "cell_type": "code",
   "execution_count": null,
   "id": "78b12e34",
   "metadata": {},
   "outputs": [],
   "source": [
    "# Object oriented programming\n",
    "\n",
    "class Car ():\n",
    "    \n",
    "    # things / properties / attributes\n",
    "    color \n",
    "    make\n",
    "    \n",
    "    # actions\n",
    "    backwards\n",
    "    forward\n",
    "    F, P, N, B\n",
    "\n",
    "my_car = Car(\"red\", \"fiat\")\n",
    "my_car.forward()\n",
    "\n",
    "\n",
    "my_brothers_car = Car(\"white\", \"bmw\")\n",
    "my_brothers_car.backwards()\n"
   ]
  },
  {
   "cell_type": "code",
   "execution_count": null,
   "id": "3238029e",
   "metadata": {},
   "outputs": [],
   "source": [
    "# Objects in python?\n",
    "# Everything is an object"
   ]
  },
  {
   "cell_type": "code",
   "execution_count": 3,
   "id": "0767ceed",
   "metadata": {},
   "outputs": [
    {
     "data": {
      "text/plain": [
       "'this is a string'"
      ]
     },
     "execution_count": 3,
     "metadata": {},
     "output_type": "execute_result"
    }
   ],
   "source": [
    "\"this is a string\" # str -> obj (native to python)"
   ]
  },
  {
   "cell_type": "code",
   "execution_count": 4,
   "id": "c96979ab",
   "metadata": {},
   "outputs": [
    {
     "data": {
      "text/plain": [
       "str"
      ]
     },
     "execution_count": 4,
     "metadata": {},
     "output_type": "execute_result"
    }
   ],
   "source": [
    "type(\"this is a string\")"
   ]
  },
  {
   "cell_type": "code",
   "execution_count": null,
   "id": "df4fa11f",
   "metadata": {},
   "outputs": [],
   "source": [
    "\"this is a string\""
   ]
  },
  {
   "cell_type": "code",
   "execution_count": 7,
   "id": "9d8e49d6",
   "metadata": {},
   "outputs": [
    {
     "data": {
      "text/plain": [
       "['__add__',\n",
       " '__class__',\n",
       " '__contains__',\n",
       " '__delattr__',\n",
       " '__dir__',\n",
       " '__doc__',\n",
       " '__eq__',\n",
       " '__format__',\n",
       " '__ge__',\n",
       " '__getattribute__',\n",
       " '__getitem__',\n",
       " '__getnewargs__',\n",
       " '__gt__',\n",
       " '__hash__',\n",
       " '__init__',\n",
       " '__init_subclass__',\n",
       " '__iter__',\n",
       " '__le__',\n",
       " '__len__',\n",
       " '__lt__',\n",
       " '__mod__',\n",
       " '__mul__',\n",
       " '__ne__',\n",
       " '__new__',\n",
       " '__reduce__',\n",
       " '__reduce_ex__',\n",
       " '__repr__',\n",
       " '__rmod__',\n",
       " '__rmul__',\n",
       " '__setattr__',\n",
       " '__sizeof__',\n",
       " '__str__',\n",
       " '__subclasshook__',\n",
       " 'capitalize',\n",
       " 'casefold',\n",
       " 'center',\n",
       " 'count',\n",
       " 'encode',\n",
       " 'endswith',\n",
       " 'expandtabs',\n",
       " 'find',\n",
       " 'format',\n",
       " 'format_map',\n",
       " 'index',\n",
       " 'isalnum',\n",
       " 'isalpha',\n",
       " 'isascii',\n",
       " 'isdecimal',\n",
       " 'isdigit',\n",
       " 'isidentifier',\n",
       " 'islower',\n",
       " 'isnumeric',\n",
       " 'isprintable',\n",
       " 'isspace',\n",
       " 'istitle',\n",
       " 'isupper',\n",
       " 'join',\n",
       " 'ljust',\n",
       " 'lower',\n",
       " 'lstrip',\n",
       " 'maketrans',\n",
       " 'partition',\n",
       " 'removeprefix',\n",
       " 'removesuffix',\n",
       " 'replace',\n",
       " 'rfind',\n",
       " 'rindex',\n",
       " 'rjust',\n",
       " 'rpartition',\n",
       " 'rsplit',\n",
       " 'rstrip',\n",
       " 'split',\n",
       " 'splitlines',\n",
       " 'startswith',\n",
       " 'strip',\n",
       " 'swapcase',\n",
       " 'title',\n",
       " 'translate',\n",
       " 'upper',\n",
       " 'zfill']"
      ]
     },
     "execution_count": 7,
     "metadata": {},
     "output_type": "execute_result"
    }
   ],
   "source": [
    "dir(\"this is a string\")"
   ]
  },
  {
   "cell_type": "code",
   "execution_count": 8,
   "id": "ea568e34",
   "metadata": {
    "scrolled": true
   },
   "outputs": [
    {
     "data": {
      "text/plain": [
       "['capitalize',\n",
       " 'casefold',\n",
       " 'center',\n",
       " 'count',\n",
       " 'encode',\n",
       " 'endswith',\n",
       " 'expandtabs',\n",
       " 'find',\n",
       " 'format',\n",
       " 'index',\n",
       " 'isalnum',\n",
       " 'isalpha',\n",
       " 'isascii',\n",
       " 'isdecimal',\n",
       " 'isdigit',\n",
       " 'isidentifier',\n",
       " 'islower',\n",
       " 'isnumeric',\n",
       " 'isprintable',\n",
       " 'isspace',\n",
       " 'istitle',\n",
       " 'isupper',\n",
       " 'join',\n",
       " 'ljust',\n",
       " 'lower',\n",
       " 'lstrip',\n",
       " 'maketrans',\n",
       " 'partition',\n",
       " 'removeprefix',\n",
       " 'removesuffix',\n",
       " 'replace',\n",
       " 'rfind',\n",
       " 'rindex',\n",
       " 'rjust',\n",
       " 'rpartition',\n",
       " 'rsplit',\n",
       " 'rstrip',\n",
       " 'split',\n",
       " 'splitlines',\n",
       " 'startswith',\n",
       " 'strip',\n",
       " 'swapcase',\n",
       " 'title',\n",
       " 'translate',\n",
       " 'upper',\n",
       " 'zfill']"
      ]
     },
     "execution_count": 8,
     "metadata": {},
     "output_type": "execute_result"
    }
   ],
   "source": [
    "[i for i in dir(\"this is a string\") if \"_\" not in i]"
   ]
  },
  {
   "cell_type": "code",
   "execution_count": 9,
   "id": "98fbb857",
   "metadata": {},
   "outputs": [
    {
     "data": {
      "text/plain": [
       "['append',\n",
       " 'clear',\n",
       " 'copy',\n",
       " 'count',\n",
       " 'extend',\n",
       " 'index',\n",
       " 'insert',\n",
       " 'pop',\n",
       " 'remove',\n",
       " 'reverse',\n",
       " 'sort']"
      ]
     },
     "execution_count": 9,
     "metadata": {},
     "output_type": "execute_result"
    }
   ],
   "source": [
    "[i for i in dir([]) if \"_\" not in i]"
   ]
  },
  {
   "cell_type": "code",
   "execution_count": null,
   "id": "b77d7c8a",
   "metadata": {},
   "outputs": [],
   "source": [
    "my_car = Car () # my_car is of Class Car\n",
    "my_list = [] # my_list is of Class List"
   ]
  },
  {
   "cell_type": "markdown",
   "id": "e4bd50ab",
   "metadata": {
    "lang": "en"
   },
   "source": [
    "To know all the methods and attributes of a class we can use the dir() function both on an object and on the class."
   ]
  },
  {
   "cell_type": "code",
   "execution_count": null,
   "id": "16d463df",
   "metadata": {},
   "outputs": [],
   "source": []
  },
  {
   "cell_type": "markdown",
   "id": "032f8630",
   "metadata": {},
   "source": [
    "You don't need to master this, just know what the `.__something__` means. It's a dunder/magic methods. Meant for Python internally"
   ]
  },
  {
   "cell_type": "code",
   "execution_count": 10,
   "id": "a973c674",
   "metadata": {},
   "outputs": [],
   "source": [
    "a = 10\n",
    "b = 20"
   ]
  },
  {
   "cell_type": "code",
   "execution_count": 12,
   "id": "e4d591a5",
   "metadata": {},
   "outputs": [],
   "source": [
    "#.__doc__"
   ]
  },
  {
   "cell_type": "code",
   "execution_count": 13,
   "id": "f1c3d393",
   "metadata": {},
   "outputs": [
    {
     "data": {
      "text/plain": [
       "30"
      ]
     },
     "execution_count": 13,
     "metadata": {},
     "output_type": "execute_result"
    }
   ],
   "source": [
    "a + b # WE do this"
   ]
  },
  {
   "cell_type": "code",
   "execution_count": 14,
   "id": "a75eb27f",
   "metadata": {},
   "outputs": [
    {
     "data": {
      "text/plain": [
       "30"
      ]
     },
     "execution_count": 14,
     "metadata": {},
     "output_type": "execute_result"
    }
   ],
   "source": [
    "a.__add__(b) # Python is doing this: makes it abstract"
   ]
  },
  {
   "cell_type": "code",
   "execution_count": null,
   "id": "5a2e8ffc",
   "metadata": {},
   "outputs": [],
   "source": [
    "# What is the double under score? (__) -> something for python to work internally"
   ]
  },
  {
   "cell_type": "code",
   "execution_count": 11,
   "id": "adc1ed5b",
   "metadata": {},
   "outputs": [
    {
     "data": {
      "text/plain": [
       "['__abs__',\n",
       " '__add__',\n",
       " '__and__',\n",
       " '__bool__',\n",
       " '__ceil__',\n",
       " '__class__',\n",
       " '__delattr__',\n",
       " '__dir__',\n",
       " '__divmod__',\n",
       " '__doc__',\n",
       " '__eq__',\n",
       " '__float__',\n",
       " '__floor__',\n",
       " '__floordiv__',\n",
       " '__format__',\n",
       " '__ge__',\n",
       " '__getattribute__',\n",
       " '__getnewargs__',\n",
       " '__gt__',\n",
       " '__hash__',\n",
       " '__index__',\n",
       " '__init__',\n",
       " '__init_subclass__',\n",
       " '__int__',\n",
       " '__invert__',\n",
       " '__le__',\n",
       " '__lshift__',\n",
       " '__lt__',\n",
       " '__mod__',\n",
       " '__mul__',\n",
       " '__ne__',\n",
       " '__neg__',\n",
       " '__new__',\n",
       " '__or__',\n",
       " '__pos__',\n",
       " '__pow__',\n",
       " '__radd__',\n",
       " '__rand__',\n",
       " '__rdivmod__',\n",
       " '__reduce__',\n",
       " '__reduce_ex__',\n",
       " '__repr__',\n",
       " '__rfloordiv__',\n",
       " '__rlshift__',\n",
       " '__rmod__',\n",
       " '__rmul__',\n",
       " '__ror__',\n",
       " '__round__',\n",
       " '__rpow__',\n",
       " '__rrshift__',\n",
       " '__rshift__',\n",
       " '__rsub__',\n",
       " '__rtruediv__',\n",
       " '__rxor__',\n",
       " '__setattr__',\n",
       " '__sizeof__',\n",
       " '__str__',\n",
       " '__sub__',\n",
       " '__subclasshook__',\n",
       " '__truediv__',\n",
       " '__trunc__',\n",
       " '__xor__',\n",
       " 'as_integer_ratio',\n",
       " 'bit_length',\n",
       " 'conjugate',\n",
       " 'denominator',\n",
       " 'from_bytes',\n",
       " 'imag',\n",
       " 'numerator',\n",
       " 'real',\n",
       " 'to_bytes']"
      ]
     },
     "execution_count": 11,
     "metadata": {},
     "output_type": "execute_result"
    }
   ],
   "source": [
    "dir(a) "
   ]
  },
  {
   "cell_type": "markdown",
   "id": "ffc3bd0b",
   "metadata": {
    "lang": "en"
   },
   "source": [
    "## Definition of a class"
   ]
  },
  {
   "cell_type": "markdown",
   "id": "8917064a",
   "metadata": {
    "lang": "en"
   },
   "source": [
    "We can define our own classes and indicate whether they inherit from others, what their internal attributes are, and what their methods are. Once the class is defined, it is possible to create objects from it. To create a class, simply group attributes and methods in the body of a **class** block.\n",
    "Imagine that you create software to manage a school, and you want to represent \"teachers\" in your Python code. Teachers will have some associated data (`attributes` in `class` jargon), and they will be able to *perform actions* through functions that we will call `methods` (again, `class` jargon).\n",
    "\n",
    "We could do it one by one:"
   ]
  },
  {
   "cell_type": "code",
   "execution_count": 15,
   "id": "ab05f966",
   "metadata": {},
   "outputs": [],
   "source": [
    "def name (): # convention\n",
    "    pass "
   ]
  },
  {
   "cell_type": "code",
   "execution_count": 16,
   "id": "4059f07a",
   "metadata": {},
   "outputs": [],
   "source": [
    "name(\"\")\n",
    "name(\"\")\n",
    "name(\"\")"
   ]
  },
  {
   "cell_type": "code",
   "execution_count": 17,
   "id": "a25630ce",
   "metadata": {},
   "outputs": [],
   "source": [
    "class Car ():    # Convention\n",
    "    pass"
   ]
  },
  {
   "cell_type": "code",
   "execution_count": null,
   "id": "388095e3",
   "metadata": {},
   "outputs": [],
   "source": [
    "my_car = Car ()    # Instansiating / initiating (not calling)\n",
    "my_brothers_car = Car () # You are creating new objects\n",
    "my_moms_car = Car() # They share properties"
   ]
  },
  {
   "cell_type": "code",
   "execution_count": null,
   "id": "cdbd45b2",
   "metadata": {},
   "outputs": [],
   "source": [
    "class Car ():\n",
    "    \n",
    "    def __init__ ():   # This is making sure\n",
    "                        # that when instantiating, the new elements\n",
    "                        # also have the same attributes\n",
    "        color\n",
    "        make\n",
    "        wheels\n",
    "    \n",
    "    pass"
   ]
  },
  {
   "cell_type": "code",
   "execution_count": null,
   "id": "a77fa23b",
   "metadata": {},
   "outputs": [],
   "source": [
    "\"this is my string\""
   ]
  },
  {
   "cell_type": "code",
   "execution_count": 19,
   "id": "d064376b",
   "metadata": {},
   "outputs": [
    {
     "name": "stdout",
     "output_type": "stream",
     "text": [
      "['capitalize', 'casefold', 'center', 'count', 'encode', 'endswith', 'expandtabs', 'find', 'format', 'index', 'isalnum', 'isalpha', 'isascii', 'isdecimal', 'isdigit', 'isidentifier', 'islower', 'isnumeric', 'isprintable', 'isspace', 'istitle', 'isupper', 'join', 'ljust', 'lower', 'lstrip', 'maketrans', 'partition', 'removeprefix', 'removesuffix', 'replace', 'rfind', 'rindex', 'rjust', 'rpartition', 'rsplit', 'rstrip', 'split', 'splitlines', 'startswith', 'strip', 'swapcase', 'title', 'translate', 'upper', 'zfill']\n"
     ]
    }
   ],
   "source": [
    "print([i for i in dir(\"this is my string\") if \"_\" not in i])"
   ]
  },
  {
   "cell_type": "code",
   "execution_count": 24,
   "id": "65c5756e",
   "metadata": {},
   "outputs": [
    {
     "data": {
      "text/plain": [
       "'THIS IS MY STRING'"
      ]
     },
     "execution_count": 24,
     "metadata": {},
     "output_type": "execute_result"
    }
   ],
   "source": [
    "\"this is my string\".upper()"
   ]
  },
  {
   "cell_type": "code",
   "execution_count": 25,
   "id": "9a19edef",
   "metadata": {},
   "outputs": [
    {
     "data": {
      "text/plain": [
       "17"
      ]
     },
     "execution_count": 25,
     "metadata": {},
     "output_type": "execute_result"
    }
   ],
   "source": [
    "len(\"this is my string\")"
   ]
  },
  {
   "cell_type": "code",
   "execution_count": 23,
   "id": "8be85891",
   "metadata": {},
   "outputs": [
    {
     "data": {
      "text/plain": [
       "'SAMPLE STRING'"
      ]
     },
     "execution_count": 23,
     "metadata": {},
     "output_type": "execute_result"
    }
   ],
   "source": [
    "def string_to_upper (a_string):\n",
    "    return a_string.upper()\n",
    "\n",
    "string_to_upper (\"sample string\")"
   ]
  },
  {
   "cell_type": "code",
   "execution_count": null,
   "id": "0d9ed778",
   "metadata": {},
   "outputs": [],
   "source": [
    "class Car ():\n",
    "    \n",
    "    def __init__ (self):    # This is making sure\n",
    "                            # that when instantiating, the new elements\n",
    "                            # also have the same attributes\n",
    "        self.color = \"red\"\n",
    "        self.make = \"fiat\"\n",
    "        self.wheels = \"4\"\n",
    "    \n",
    "    pass\n",
    "\n",
    "my_car = Car(\"red\", \"fiat\", \"4\")\n"
   ]
  },
  {
   "cell_type": "code",
   "execution_count": 38,
   "id": "e75f55f0",
   "metadata": {},
   "outputs": [
    {
     "data": {
      "text/plain": [
       "'bmw'"
      ]
     },
     "execution_count": 38,
     "metadata": {},
     "output_type": "execute_result"
    }
   ],
   "source": [
    "class Car (): # class\n",
    "    \n",
    "    def __init__ (self, color, make, wheels):    \n",
    "        self.color = color\n",
    "        self.make = make\n",
    "        self.wheels = wheels\n",
    "    \n",
    "my_car = Car(\"red\", \"fiat\", \"4\") # instance\n",
    "someone_elses_car = Car(color=\"white\", make=\"bmw\", wheels=\"4\")\n",
    "\n",
    "someone_elses_car.make"
   ]
  },
  {
   "cell_type": "code",
   "execution_count": null,
   "id": "a24aba55",
   "metadata": {},
   "outputs": [],
   "source": [
    "# from your_own_module import car\n",
    "# my_car = car ()\n",
    "\n",
    "\n",
    "Encapsulation: fitting into a function\n",
    "Modularization: fitting your functions / classes into different python files\n",
    "\n",
    "images/\n",
    "data/\n",
    "src/ # TO DEFINE: source code\n",
    "    cleaning.py\n",
    "    extraction.py\n",
    "    visualization.py\n",
    "notebooks/\n",
    "main.py # TO RUN: what you run\n",
    "\n",
    "1. Downloads\n",
    "2. Transforms a dataset\n",
    "3. Creates visualizations\n",
    "4. Opens the visualizations\n",
    "\n"
   ]
  },
  {
   "cell_type": "code",
   "execution_count": 33,
   "id": "c85f4339",
   "metadata": {},
   "outputs": [
    {
     "data": {
      "text/plain": [
       "'fiat'"
      ]
     },
     "execution_count": 33,
     "metadata": {},
     "output_type": "execute_result"
    }
   ],
   "source": [
    "my_car = Car(\"red\", \"fiat\", \"4\")\n",
    "my_car.make "
   ]
  },
  {
   "cell_type": "code",
   "execution_count": 32,
   "id": "2c239f19",
   "metadata": {},
   "outputs": [
    {
     "data": {
      "text/plain": [
       "'fiat'"
      ]
     },
     "execution_count": 32,
     "metadata": {},
     "output_type": "execute_result"
    }
   ],
   "source": [
    "my_car_dict = {\"make\":\"fiat\"}\n",
    "\n",
    "my_car_dict[\"make\"]"
   ]
  },
  {
   "cell_type": "code",
   "execution_count": 34,
   "id": "b1f0c367",
   "metadata": {},
   "outputs": [
    {
     "data": {
      "text/plain": [
       "['__class__',\n",
       " '__delattr__',\n",
       " '__dict__',\n",
       " '__dir__',\n",
       " '__doc__',\n",
       " '__eq__',\n",
       " '__format__',\n",
       " '__ge__',\n",
       " '__getattribute__',\n",
       " '__gt__',\n",
       " '__hash__',\n",
       " '__init__',\n",
       " '__init_subclass__',\n",
       " '__le__',\n",
       " '__lt__',\n",
       " '__module__',\n",
       " '__ne__',\n",
       " '__new__',\n",
       " '__reduce__',\n",
       " '__reduce_ex__',\n",
       " '__repr__',\n",
       " '__setattr__',\n",
       " '__sizeof__',\n",
       " '__str__',\n",
       " '__subclasshook__',\n",
       " '__weakref__',\n",
       " 'color',\n",
       " 'make',\n",
       " 'wheels']"
      ]
     },
     "execution_count": 34,
     "metadata": {},
     "output_type": "execute_result"
    }
   ],
   "source": [
    "dir(my_car)"
   ]
  },
  {
   "cell_type": "code",
   "execution_count": 35,
   "id": "a06523d3",
   "metadata": {},
   "outputs": [
    {
     "data": {
      "text/plain": [
       "{'color': 'red', 'make': 'fiat', 'wheels': '4'}"
      ]
     },
     "execution_count": 35,
     "metadata": {},
     "output_type": "execute_result"
    }
   ],
   "source": [
    "my_car.__dict__"
   ]
  },
  {
   "cell_type": "markdown",
   "id": "dffb2147",
   "metadata": {},
   "source": [
    "### Self: "
   ]
  },
  {
   "cell_type": "markdown",
   "id": "0acb0ad3",
   "metadata": {
    "lang": "en"
   },
   "source": [
    "I leave you [here](https://realpython.com/python-pep8/#naming-styles) a realpython article about the conventions for naming things (by things I mean variables, classes, functions... code tidbits )\n",
    "The Python user community has adopted a style guide that makes code easier to read and consistent between different user programs. This guide is not mandatory to follow, but it is highly recommended."
   ]
  },
  {
   "cell_type": "markdown",
   "id": "23576dae",
   "metadata": {},
   "source": [
    "#### Defining a function"
   ]
  },
  {
   "cell_type": "code",
   "execution_count": null,
   "id": "4c6f68dc",
   "metadata": {},
   "outputs": [],
   "source": []
  },
  {
   "cell_type": "markdown",
   "id": "0789adf6",
   "metadata": {},
   "source": [
    "#### Calling a function"
   ]
  },
  {
   "cell_type": "code",
   "execution_count": null,
   "id": "77edbd75",
   "metadata": {},
   "outputs": [],
   "source": []
  },
  {
   "cell_type": "markdown",
   "id": "9e4ef398",
   "metadata": {},
   "source": [
    "#### Defining a class"
   ]
  },
  {
   "cell_type": "code",
   "execution_count": null,
   "id": "103bfef4",
   "metadata": {},
   "outputs": [],
   "source": []
  },
  {
   "cell_type": "markdown",
   "id": "dda40dab",
   "metadata": {},
   "source": [
    "#### Instansiating a class"
   ]
  },
  {
   "cell_type": "code",
   "execution_count": null,
   "id": "f9c96c01",
   "metadata": {},
   "outputs": [],
   "source": []
  },
  {
   "cell_type": "markdown",
   "id": "be46cddd",
   "metadata": {},
   "source": [
    "### Exploring a class"
   ]
  },
  {
   "cell_type": "code",
   "execution_count": null,
   "id": "89b6cc81",
   "metadata": {},
   "outputs": [],
   "source": []
  },
  {
   "cell_type": "markdown",
   "id": "81f9ca3e",
   "metadata": {},
   "source": [
    "### Instance Attributes\n",
    "They contain data that is unique to each instance."
   ]
  },
  {
   "cell_type": "code",
   "execution_count": null,
   "id": "c7dee1bb",
   "metadata": {},
   "outputs": [],
   "source": [
    "class Car (): # class\n",
    "    \n",
    "    def __init__ (self, color, make, wheels):    \n",
    "        self.color = color\n",
    "        self.make = make\n",
    "        self.wheels = wheels\n",
    "    \n",
    "my_car = Car(\"red\", \"fiat\", \"4\") # instance\n",
    "someone_elses_car = Car(color=\"white\", make=\"bmw\", wheels=\"4\")\n",
    "\n",
    "someone_elses_car.make"
   ]
  },
  {
   "cell_type": "code",
   "execution_count": null,
   "id": "dc42a9a3",
   "metadata": {},
   "outputs": [],
   "source": [
    "dir(\"buit in\") # methods associated to the native objects in python"
   ]
  },
  {
   "cell_type": "code",
   "execution_count": null,
   "id": "350ebccd",
   "metadata": {},
   "outputs": [],
   "source": [
    "import pandas as pd\n",
    "df = pd.read_csv(\"..\")"
   ]
  },
  {
   "cell_type": "code",
   "execution_count": null,
   "id": "03bbdfe5",
   "metadata": {},
   "outputs": [],
   "source": [
    "class Car():\n",
    "    pass"
   ]
  },
  {
   "cell_type": "markdown",
   "id": "39ed3781",
   "metadata": {
    "lang": "en"
   },
   "source": [
    "Instead of doing it one by one, we can create these variables each time an object is instantiated with the special `__init__` method. This function defines all the actions that should be performed when we create a new object. The reason we have two underscores before and after the function name is to indicate that this function is internal to the object and should not be called from outside the object."
   ]
  },
  {
   "cell_type": "code",
   "execution_count": 112,
   "id": "26c9c730",
   "metadata": {},
   "outputs": [],
   "source": [
    "class Staff (): \n",
    "    \n",
    "    def __init__ (self, name, fname, city):    \n",
    "        self.name = name.upper()\n",
    "        self.fname = fname\n",
    "        self.city = city\n",
    "        \n",
    "        self.email = self.name + \".\" + self.fname.lower() + \"@ironhack.com\"\n",
    "        self.city_string = f\"I live in {self.city}\" # this keeps the original value\n",
    "        \n",
    "    def update_city (self, new_city):\n",
    "        self.city = new_city\n",
    "        self.city_string = f\"I live in {self.city}\""
   ]
  },
  {
   "cell_type": "code",
   "execution_count": 115,
   "id": "408330aa",
   "metadata": {},
   "outputs": [
    {
     "ename": "NameError",
     "evalue": "name 'self' is not defined",
     "output_type": "error",
     "traceback": [
      "\u001b[0;31m---------------------------------------------------------------------------\u001b[0m",
      "\u001b[0;31mNameError\u001b[0m                                 Traceback (most recent call last)",
      "Input \u001b[0;32mIn [115]\u001b[0m, in \u001b[0;36m<cell line: 1>\u001b[0;34m()\u001b[0m\n\u001b[0;32m----> 1\u001b[0m \u001b[38;5;28mself\u001b[39m\u001b[38;5;241m.\u001b[39mcity_string \u001b[38;5;241m=\u001b[39m \u001b[38;5;124mf\u001b[39m\u001b[38;5;124m\"\u001b[39m\u001b[38;5;124mI live in \u001b[39m\u001b[38;5;132;01m{\u001b[39;00m\u001b[38;5;28mself\u001b[39m\u001b[38;5;241m.\u001b[39mcity\u001b[38;5;132;01m}\u001b[39;00m\u001b[38;5;124m\"\u001b[39m\n",
      "\u001b[0;31mNameError\u001b[0m: name 'self' is not defined"
     ]
    }
   ],
   "source": [
    "self.city_string = f\"I live in {self.city}\""
   ]
  },
  {
   "cell_type": "code",
   "execution_count": 114,
   "id": "f7e89842",
   "metadata": {},
   "outputs": [
    {
     "name": "stdout",
     "output_type": "stream",
     "text": [
      "Barcelona\n",
      "I live in Barcelona\n"
     ]
    }
   ],
   "source": [
    "albert = Staff(\"Albert\", \"Coca\", \"Mataró\") # city begins being: \"Mataró\"\n",
    "albert.update_city(\"Barcelona\")\n",
    "print(albert.city)\n",
    "print(albert.city_string)"
   ]
  },
  {
   "cell_type": "code",
   "execution_count": 88,
   "id": "10bb2558",
   "metadata": {},
   "outputs": [
    {
     "data": {
      "text/plain": [
       "'Esplugues'"
      ]
     },
     "execution_count": 88,
     "metadata": {},
     "output_type": "execute_result"
    }
   ],
   "source": [
    "albert.city = \"Esplugues\"\n",
    "albert.city"
   ]
  },
  {
   "cell_type": "code",
   "execution_count": 15,
   "id": "cceaabfe",
   "metadata": {},
   "outputs": [
    {
     "name": "stdout",
     "output_type": "stream",
     "text": [
      "City when creating:  Mataró\n",
      "String when creating with Mataró I live in Mataró\n",
      "Abert city after updating, should be Barcelona:  Barcelona\n",
      "String albert after updating city:  I live in Mataró\n",
      "Albert as a dictionary:  {'name': 'ALBERT', 'fname': 'Coca', 'city': 'Barcelona', 'email': 'ALBERT.coca@ironhack.com', 'city_string': 'I live in Mataró'}\n"
     ]
    }
   ],
   "source": [
    "# 0. You create\n",
    "albert = Staff(\"Albert\", \"Coca\", \"Mataró\") # city begins being: \"Mataró\"\n",
    "print(\"City when creating: \", albert.city)\n",
    "print(\"String when creating with Mataró\", albert.city_string)\n",
    "\n",
    "# 1. You update\n",
    "albert.city = \"Barcelona\"\n",
    "\n",
    "# 2. You check\n",
    "print(\"Abert city after updating, should be Barcelona: \", albert.city)\n",
    "print(\"String albert after updating city: \", albert.city_string) # should be returning barcelona\n",
    "\n",
    "print(\"Albert as a dictionary: \", albert.__dict__)"
   ]
  },
  {
   "cell_type": "code",
   "execution_count": null,
   "id": "9d594517",
   "metadata": {},
   "outputs": [],
   "source": []
  },
  {
   "cell_type": "code",
   "execution_count": 110,
   "id": "427648fd",
   "metadata": {},
   "outputs": [],
   "source": [
    "albert = Staff(\"ALbert\", \"Coca\", \"Mataró\") # self is hidden"
   ]
  },
  {
   "cell_type": "code",
   "execution_count": 80,
   "id": "c35298f2",
   "metadata": {},
   "outputs": [],
   "source": [
    "laura = Staff (\"Laura\", \"Molas\", \"Mataró\")"
   ]
  },
  {
   "cell_type": "code",
   "execution_count": 81,
   "id": "bc413af1",
   "metadata": {},
   "outputs": [
    {
     "data": {
      "text/plain": [
       "'albert.coca@ironhack.com'"
      ]
     },
     "execution_count": 81,
     "metadata": {},
     "output_type": "execute_result"
    }
   ],
   "source": [
    "albert.email"
   ]
  },
  {
   "cell_type": "code",
   "execution_count": 82,
   "id": "dad232af",
   "metadata": {},
   "outputs": [
    {
     "data": {
      "text/plain": [
       "'laura.molas@ironhack.com'"
      ]
     },
     "execution_count": 82,
     "metadata": {},
     "output_type": "execute_result"
    }
   ],
   "source": [
    "laura.email"
   ]
  },
  {
   "cell_type": "code",
   "execution_count": 65,
   "id": "a88a3b98",
   "metadata": {},
   "outputs": [
    {
     "data": {
      "text/plain": [
       "'Mataró'"
      ]
     },
     "execution_count": 65,
     "metadata": {},
     "output_type": "execute_result"
    }
   ],
   "source": [
    "laura.city"
   ]
  },
  {
   "cell_type": "code",
   "execution_count": 44,
   "id": "1b0a4b6a",
   "metadata": {},
   "outputs": [
    {
     "data": {
      "text/plain": [
       "'Albert'"
      ]
     },
     "execution_count": 44,
     "metadata": {},
     "output_type": "execute_result"
    }
   ],
   "source": [
    "albert.name"
   ]
  },
  {
   "cell_type": "code",
   "execution_count": 45,
   "id": "c9369796",
   "metadata": {},
   "outputs": [
    {
     "data": {
      "text/plain": [
       "'Coca'"
      ]
     },
     "execution_count": 45,
     "metadata": {},
     "output_type": "execute_result"
    }
   ],
   "source": [
    "albert.fname # albert[\"fname\"]"
   ]
  },
  {
   "cell_type": "markdown",
   "id": "a9b11397",
   "metadata": {
    "lang": "en"
   },
   "source": [
    "What does self do? It indicates that the data we are entering is for the object we are creating."
   ]
  },
  {
   "cell_type": "code",
   "execution_count": 9,
   "id": "273d458e",
   "metadata": {},
   "outputs": [],
   "source": [
    "class Staff (): \n",
    "    \n",
    "    def __init__ (self, name, fname, city):    \n",
    "        self.name = name.upper()\n",
    "        self.fname = fname\n",
    "        self.city = city\n",
    "        \n",
    "        self.email = self.name + \".\" + self.fname.lower() + \"@ironhack.com\"\n",
    "        self.time_off = 30\n",
    "        \n",
    "    def takes_days_off (self, days=1): # Self so that I can say albert.takes_days_off(days)\n",
    "        if days > 0: # What if days passed are negative?\n",
    "            if self.time_off >= days:\n",
    "                self.time_off -= days\n",
    "            else:\n",
    "                print(f\"no no no, no more vacation, you only have {self.time_off} days left, you cant take {days}\")"
   ]
  },
  {
   "cell_type": "code",
   "execution_count": 16,
   "id": "5a790206",
   "metadata": {},
   "outputs": [],
   "source": [
    "laura = Staff (\"Laura\", \"Molas\", \"Mataró\")"
   ]
  },
  {
   "cell_type": "code",
   "execution_count": 20,
   "id": "99fcd6b1",
   "metadata": {},
   "outputs": [
    {
     "data": {
      "text/plain": [
       "20"
      ]
     },
     "execution_count": 20,
     "metadata": {},
     "output_type": "execute_result"
    }
   ],
   "source": [
    "laura.time_off"
   ]
  },
  {
   "cell_type": "code",
   "execution_count": 19,
   "id": "ab57b56a",
   "metadata": {},
   "outputs": [],
   "source": [
    "laura.takes_days_off(10)"
   ]
  },
  {
   "cell_type": "code",
   "execution_count": 10,
   "id": "a11a71c8",
   "metadata": {},
   "outputs": [],
   "source": [
    "albert = Staff (\"Albert\", \"Coca\", \"Mataró\")"
   ]
  },
  {
   "cell_type": "code",
   "execution_count": 11,
   "id": "e3284c8d",
   "metadata": {},
   "outputs": [
    {
     "data": {
      "text/plain": [
       "30"
      ]
     },
     "execution_count": 11,
     "metadata": {},
     "output_type": "execute_result"
    }
   ],
   "source": [
    "albert.time_off"
   ]
  },
  {
   "cell_type": "code",
   "execution_count": 14,
   "id": "4c1e8557",
   "metadata": {},
   "outputs": [],
   "source": [
    "albert.takes_days_off(-20) # if not specified, he always take 1 day off "
   ]
  },
  {
   "cell_type": "code",
   "execution_count": 15,
   "id": "0ec635bf",
   "metadata": {},
   "outputs": [
    {
     "data": {
      "text/plain": [
       "30"
      ]
     },
     "execution_count": 15,
     "metadata": {},
     "output_type": "execute_result"
    }
   ],
   "source": [
    "albert.time_off"
   ]
  },
  {
   "cell_type": "markdown",
   "id": "8751e24c",
   "metadata": {
    "lang": "en"
   },
   "source": [
    "#### Default attributes\n",
    "\n",
    "We can initialize the attributes with a default value in case later, when creating the instances, the user or ourselves do not put anything in any of the attributes"
   ]
  },
  {
   "cell_type": "code",
   "execution_count": 92,
   "id": "9553fd43",
   "metadata": {},
   "outputs": [
    {
     "ename": "TypeError",
     "evalue": "__init__() missing 1 required positional argument: 'something'",
     "output_type": "error",
     "traceback": [
      "\u001b[0;31m---------------------------------------------------------------------------\u001b[0m",
      "\u001b[0;31mTypeError\u001b[0m                                 Traceback (most recent call last)",
      "Input \u001b[0;32mIn [92]\u001b[0m, in \u001b[0;36m<cell line: 5>\u001b[0;34m()\u001b[0m\n\u001b[1;32m      2\u001b[0m     \u001b[38;5;28;01mdef\u001b[39;00m \u001b[38;5;21m__init__\u001b[39m (\u001b[38;5;28mself\u001b[39m, something):\n\u001b[1;32m      3\u001b[0m         \u001b[38;5;28;01mpass\u001b[39;00m\n\u001b[0;32m----> 5\u001b[0m ejemplo \u001b[38;5;241m=\u001b[39m \u001b[43mEmptyStaff\u001b[49m\u001b[43m(\u001b[49m\u001b[43m)\u001b[49m\n",
      "\u001b[0;31mTypeError\u001b[0m: __init__() missing 1 required positional argument: 'something'"
     ]
    }
   ],
   "source": [
    "class EmptyStaff ():\n",
    "    def __init__ (self, something):\n",
    "        pass\n",
    "    \n",
    "ejemplo = EmptyStaff()"
   ]
  },
  {
   "cell_type": "code",
   "execution_count": 80,
   "id": "755ea01e",
   "metadata": {},
   "outputs": [],
   "source": [
    "class Staff (): \n",
    "    \n",
    "    def __init__ (self, name, fname, city=\"Mataró\"):    \n",
    "        # 1. What does __init__ ?: to instantiate -> require the args you pass (albert needs name, fname, city = optional)\n",
    "        self.name = name.upper()\n",
    "        self.fname = fname\n",
    "        self.city = city\n",
    "        \n",
    "        self.email = self.name + \".\" + self.fname.lower() + \"@ironhack.com\"\n",
    "        self.time_off = 30\n",
    "        \n",
    "        self.hobbies = []\n",
    "        \n",
    "        # 2. Why do I need self: to refer to itself in the future: attr & methods of the instance\n",
    "        # 3. Why no need to pass name to introduce function: it takes it from th attrs (able to do it because of the self)\n",
    "        # 4. Why do I need to pass *hobby but not self.hobby to adds_hobbies fn: \n",
    "            # because it's external: it doesnt belong to the class\n",
    "            # cays doesnt belong to albert, its external\n",
    "        \n",
    "    def takes_days_off (self, days=1): # Self so that I can say albert.takes_days_off(days)\n",
    "        if days > 0: # What if days passed are negative?\n",
    "            if self.time_off >= days:\n",
    "                self.time_off -= days\n",
    "            else:\n",
    "                print(f\"no no no, no more vacation, you only have {self.time_off} days left, you cant take {days}\")\n",
    "                \n",
    "    def adds_hobbies (self, *hobby):\n",
    "        self.hobbies.extend([*hobby])\n",
    "        print(f\"You added new hobby: {hobby}\")\n",
    "        \n",
    "    \n",
    "    def introduce (self):\n",
    "        print(f\"Hello! My name is {self.name} and my hobbies are: {self.hobbies}, my city is {self.city}\")"
   ]
  },
  {
   "cell_type": "code",
   "execution_count": 81,
   "id": "d6c366e2",
   "metadata": {},
   "outputs": [],
   "source": [
    "# game = Game (player_1, player_2)\n",
    "# back_up_at_eleven = game.save()\n",
    "# new_game = Game(back_up = back_up_at_eleven)"
   ]
  },
  {
   "cell_type": "code",
   "execution_count": 82,
   "id": "07367ae4",
   "metadata": {},
   "outputs": [],
   "source": [
    "albert = Staff (\"Albert\", \"Coca\")"
   ]
  },
  {
   "cell_type": "code",
   "execution_count": 83,
   "id": "898ae435",
   "metadata": {},
   "outputs": [
    {
     "data": {
      "text/plain": [
       "[]"
      ]
     },
     "execution_count": 83,
     "metadata": {},
     "output_type": "execute_result"
    }
   ],
   "source": [
    "albert.hobbies"
   ]
  },
  {
   "cell_type": "code",
   "execution_count": 84,
   "id": "c7549778",
   "metadata": {},
   "outputs": [
    {
     "name": "stdout",
     "output_type": "stream",
     "text": [
      "You added new hobby: ('climbing',)\n"
     ]
    }
   ],
   "source": [
    "albert.adds_hobbies(\"climbing\")"
   ]
  },
  {
   "cell_type": "code",
   "execution_count": 85,
   "id": "d0f538a6",
   "metadata": {},
   "outputs": [
    {
     "name": "stdout",
     "output_type": "stream",
     "text": [
      "Hello! My name is ALBERT and my hobbies are: ['climbing']\n"
     ]
    }
   ],
   "source": [
    "albert.introduce()"
   ]
  },
  {
   "cell_type": "markdown",
   "id": "0ce1eb62",
   "metadata": {
    "lang": "en"
   },
   "source": [
    "### Instance Methods"
   ]
  },
  {
   "cell_type": "code",
   "execution_count": null,
   "id": "7f3ecad3",
   "metadata": {},
   "outputs": [],
   "source": []
  },
  {
   "cell_type": "markdown",
   "id": "3b7de249",
   "metadata": {
    "lang": "en"
   },
   "source": [
    "They are functions within the classes that will save us a lot of time"
   ]
  },
  {
   "cell_type": "code",
   "execution_count": null,
   "id": "5c9fef82",
   "metadata": {},
   "outputs": [],
   "source": []
  },
  {
   "cell_type": "markdown",
   "id": "fdda9183",
   "metadata": {},
   "source": [
    "_⚠️:  Target variables when instantiaing, ingnoring defaults?_"
   ]
  },
  {
   "cell_type": "code",
   "execution_count": null,
   "id": "aa27d407",
   "metadata": {},
   "outputs": [],
   "source": []
  },
  {
   "cell_type": "markdown",
   "id": "c584762d",
   "metadata": {
    "lang": "en"
   },
   "source": [
    "**watch out** 👀\n",
    "If we modify a class and add attributes or methods, we have to recreate the object so that it is initialized with those attributes and has those methods."
   ]
  },
  {
   "cell_type": "markdown",
   "id": "b6c1dbd0",
   "metadata": {
    "lang": "en"
   },
   "source": [
    "#### Python is built with objects\n",
    "In Python primitive data types are also objects that have associated attributes and methods."
   ]
  },
  {
   "cell_type": "code",
   "execution_count": null,
   "id": "d7a7a599",
   "metadata": {},
   "outputs": [],
   "source": []
  },
  {
   "cell_type": "markdown",
   "id": "e6af3733",
   "metadata": {
    "lang": "en"
   },
   "source": [
    "Whenever we do .something, it is because we are calling the methods/attributes of that class"
   ]
  },
  {
   "cell_type": "markdown",
   "id": "2b7c965f",
   "metadata": {
    "lang": "en"
   },
   "source": [
    "### Class variables"
   ]
  },
  {
   "cell_type": "code",
   "execution_count": null,
   "id": "e55d6664",
   "metadata": {},
   "outputs": [],
   "source": []
  },
  {
   "cell_type": "markdown",
   "id": "2a28ab69",
   "metadata": {
    "lang": "en"
   },
   "source": [
    "In general, class attributes should not be used, except to store constant values."
   ]
  },
  {
   "cell_type": "markdown",
   "id": "9ad7387e",
   "metadata": {
    "lang": "en"
   },
   "source": [
    "**Exercise**\n",
    "\n",
    "Create a class `Circle` with:\n",
    "- radius as instance/object variable\n",
    "- pi (math.pi) as class variable\n",
    "- a compute_area(self) method that returns the area of ​​the \"circle\" object"
   ]
  },
  {
   "cell_type": "code",
   "execution_count": null,
   "id": "892b6bca",
   "metadata": {},
   "outputs": [],
   "source": [
    "import math\n",
    "class Circle():\n",
    "    \n",
    "    PI = math.pi # 3.14....\n",
    "    \n",
    "    def __ ini__ .....\n",
    "        pass\n",
    "\n",
    "\n",
    "begos_circle = Circle(45) # radio = 45, to instantiate\n",
    "begos_circle.compute_area() # -> area of Bego's circle\n",
    "\n",
    "\n",
    "\n",
    "\n",
    "\n",
    "\n",
    "\n",
    "\n"
   ]
  },
  {
   "cell_type": "code",
   "execution_count": null,
   "id": "2da77254",
   "metadata": {},
   "outputs": [],
   "source": [
    "# Emma\n",
    "class circle():\n",
    "    def __init__(self, radius) :\n",
    "        self.radius = radius\n",
    "    def area (self):\n",
    "        pi = math.pi\n",
    "        return print(pi * self.radius**2)"
   ]
  },
  {
   "cell_type": "code",
   "execution_count": null,
   "id": "55ff2835",
   "metadata": {},
   "outputs": [],
   "source": [
    "# Noe\n",
    "import math\n",
    "class Circle():\n",
    "    def __init__(self, radius):\n",
    "        self.radius = radius\n",
    "    def compute_area(self):\n",
    "        return f\"The area is: {round(math.pi * (self.radius**2), 2)}\"\n",
    "circ1 = Circle(2)\n",
    "circ1.compute_area()"
   ]
  },
  {
   "cell_type": "code",
   "execution_count": 101,
   "id": "f8130e30",
   "metadata": {},
   "outputs": [
    {
     "name": "stdout",
     "output_type": "stream",
     "text": [
      "Circle's area is = 314.1592653589793\n"
     ]
    },
    {
     "data": {
      "text/plain": [
       "{'radius': 10, 'area': 314.1592653589793}"
      ]
     },
     "execution_count": 101,
     "metadata": {},
     "output_type": "execute_result"
    }
   ],
   "source": [
    "# Paty\n",
    "import math\n",
    "class Circle ()b:\n",
    "    \n",
    "    PI = math.pi # class variables\n",
    "    \n",
    "    def __init__ (self, radius): # Create each circle with a given radius\n",
    "        self.radius = radius\n",
    "        #self.area = None\n",
    "        \n",
    "    def compute_area (self):\n",
    "        area = self.PI * (self.radius)**2\n",
    "        print(f\"Circle's area is = {self.PI * (self.radius)**2}\")\n",
    "        return area\n",
    "    \n",
    "# 0. Instance        \n",
    "paty_circle = Circle(10)\n",
    "\n",
    "# 1. Creating and saving area (outside)\n",
    "area = paty_circle.compute_area()\n",
    "\n",
    "# 2. Adding a NEW asttribute inside\n",
    "paty_circle.area = area # I can include it as an attribute\n",
    "\n",
    "# 3. Checking the attribute it it exists:\n",
    "classpaty_circle.__dict__"
   ]
  },
  {
   "cell_type": "code",
   "execution_count": null,
   "id": "57a2d085",
   "metadata": {},
   "outputs": [],
   "source": [
    "class Shape ():\n",
    "    pass\n",
    "\n",
    "class Circle (Shape):\n",
    "    pass"
   ]
  },
  {
   "cell_type": "code",
   "execution_count": 108,
   "id": "1c486132",
   "metadata": {},
   "outputs": [
    {
     "data": {
      "text/plain": [
       "'The area of the circle is 12.566370614359172'"
      ]
     },
     "execution_count": 108,
     "metadata": {},
     "output_type": "execute_result"
    }
   ],
   "source": [
    "import math \n",
    "\n",
    "PI = math.pi # Class variable\n",
    "\n",
    "class Circle ():\n",
    "    \n",
    "    PI = math.pi\n",
    "    \n",
    "    def __init__ (self, radius):   # 1. Only instantiating\n",
    "        self.radius = radius\n",
    "    \n",
    "    def compute_area(self):\n",
    "        compute_area = self.PI*self.radius**2 \n",
    "        return f\"The area of the circle is {compute_area}\"\n",
    "    \n",
    "circletest = Circle(2)\n",
    "circletest.compute_area()\n",
    "\n",
    "# 1. DON'T name attrbiutes / variables / functions the same\n",
    "    # When calling a method, it'll first look at attributes\n",
    "    # Watch out when naming: unique names for everything\n",
    "\n",
    "# 2. Missing parenthesis\n",
    "# 3. Missing self in the PI\n",
    "\n",
    "circltest.PI"
   ]
  },
  {
   "cell_type": "code",
   "execution_count": null,
   "id": "00833295",
   "metadata": {},
   "outputs": [],
   "source": [
    "# Variable -> Attribute\n",
    "# Function -> method\n",
    "\n",
    "# methods are functions\n",
    "# classes = objects\n",
    "# everything in python is an object\n",
    "\n",
    "# Class: cookie cutter. \"Idea\" of the thing.\n",
    "    # Instance: the actual cookie. Tangible thing is the instance\n",
    "    \n",
    "# 1. You can follow an OOP paradigm when writing coe\n",
    "# 2. You're gonna use methods from everything\n",
    "    # Python is open-source\n",
    "    # There's sooo many libraries\n",
    "    # Objects to instantiate\n",
    "    # methods to make those objects work\n",
    "    \n",
    "    # method\n",
    "    # instance\n",
    "    # arguments\n",
    "    \n",
    "# videogames (OOP)\n",
    "# users in a database: staff, ... (OOP)\n",
    "# bank_account (OOP)\n",
    "    - balance\n",
    "    - name\n",
    "    - withdraw\n",
    "    - deposit"
   ]
  },
  {
   "cell_type": "markdown",
   "id": "87cccad5",
   "metadata": {
    "lang": "en"
   },
   "source": [
    "## Before continuing, let's take a breath and review vocabulary"
   ]
  },
  {
   "cell_type": "markdown",
   "id": "9170647e",
   "metadata": {
    "lang": "en"
   },
   "source": [
    "- **Class**: The cookie mold. With the class we can generate instances or objects.\n",
    "- **Object**: The cookie we generated. Each object has different characteristics but under the same pattern as the class.\n",
    "- **Instance**: Same as object, it's a synonym :) hehe\n",
    "- **Attribute**: The different ingredients of each object. They are defined as arguments in the __init__ function but are saved as data when we instantiate an object by calling the class"
   ]
  },
  {
   "cell_type": "code",
   "execution_count": null,
   "id": "5c6951ca",
   "metadata": {},
   "outputs": [],
   "source": []
  },
  {
   "cell_type": "markdown",
   "id": "05499ca5",
   "metadata": {},
   "source": [
    "We can say that the attributes are the DATA, in this case \"Pau\" and \"Peracaula\".\n",
    "They are variables\n",
    "\n",
    "\n",
    "* **Class attribute**: Variables that belong to the class and that will be the same in all objects.\n",
    "* **Object/instance attribute**: The attributes explained above, specific to each object.\n",
    "* **Method**: Functions that do things"
   ]
  },
  {
   "cell_type": "markdown",
   "id": "8772dea7",
   "metadata": {
    "lang": "en"
   },
   "source": [
    "#### Easy exercise\n",
    "Kata --> https://www.codewars.com/kata/53f0f358b9cb376eca001079/train/python\n",
    "\n",
    "You can ignore the \"object\" for now"
   ]
  },
  {
   "cell_type": "code",
   "execution_count": 1,
   "id": "b6a27bcf",
   "metadata": {},
   "outputs": [],
   "source": []
  },
  {
   "cell_type": "markdown",
   "id": "pressed-proof",
   "metadata": {},
   "source": [
    "## Inheritance"
   ]
  },
  {
   "cell_type": "markdown",
   "id": "1f62f02d",
   "metadata": {
    "lang": "en"
   },
   "source": [
    "Inheritance allows defining new classes from existing classes. The class from which it is inherited is called the \"parent class\"/\"superclass\"/\"parent\". The class that it inherits is called a \"child class\" or \"subclass.\"\n",
    "The child class \"inherits\" all the properties of the parent class and allows us to override methods and attributes or add new ones. The fundamental advantage that the inheritance mechanism brings to programming is the ability to reuse code. Thus, a set of classes that share attributes and methods can inherit from a superclass where those methods and attributes are defined."
   ]
  },
  {
   "cell_type": "markdown",
   "id": "wanted-works",
   "metadata": {},
   "source": [
    "\n",
    "![miniyoda](https://media.giphy.com/media/j0eRJzyW7XjMpu1Pqd/giphy.gif)"
   ]
  },
  {
   "cell_type": "markdown",
   "id": "37b8b77c",
   "metadata": {
    "lang": "en"
   },
   "source": [
    "- Method defined in the `parent`, but not in the `child`\n",
    "\n",
    "In this case, the child will inherit the parent's method, it will work exactly the same and there is no need to override it.\n",
    "\n",
    "- Method defined in `Child`, but not in Parent\n",
    "\n",
    "The method only belongs to the child. Inheritance is one way.\n",
    "\n",
    "- Method set to \"both\".\n",
    "\n",
    "Two things can happen here, but both are a variant of the same fact. The method written in the `Child` class will override the one previously defined in Parent.\n",
    "\n",
    "However, if we want to use the original method and just add something else to it, we can always refer to the original (parent) method with `super()`. The `super()` function allows us to call any method of the parent class. Just remember to call it on the new define and make sure you get all the attributes it needs 😉 ."
   ]
  },
  {
   "cell_type": "code",
   "execution_count": 116,
   "id": "5bfd8b43",
   "metadata": {},
   "outputs": [],
   "source": [
    "class Staff (): \n",
    "    \n",
    "    def __init__ (self, name, fname, city=\"Mataró\"):    \n",
    "        self.name = name.upper()\n",
    "        self.fname = fname\n",
    "        self.city = city\n",
    "        \n",
    "        self.email = self.name + \".\" + self.fname.lower() + \"@ironhack.com\"\n",
    "        self.time_off = 30\n",
    "        \n",
    "        self.hobbies = []\n",
    " \n",
    "        \n",
    "    def takes_days_off (self, days=1): \n",
    "        if days > 0: \n",
    "            if self.time_off >= days:\n",
    "                self.time_off -= days\n",
    "            else:\n",
    "                print(f\"no no no, no more vacation, you only have {self.time_off} days left, you cant take {days}\")\n",
    "                \n",
    "    def adds_hobbies (self, *hobby):\n",
    "        self.hobbies.extend([*hobby])\n",
    "        print(f\"You added new hobby: {hobby}\")\n",
    "        \n",
    "    \n",
    "    def introduce (self):\n",
    "        print(f\"Hello! My name is {self.name} and my hobbies are: {self.hobbies}, my city is {self.city}\")"
   ]
  },
  {
   "cell_type": "code",
   "execution_count": null,
   "id": "c06d6584",
   "metadata": {},
   "outputs": [],
   "source": [
    "# Staff\n",
    "    # Marketing\n",
    "        # does_things \n",
    "    # Teaching"
   ]
  },
  {
   "cell_type": "code",
   "execution_count": 117,
   "id": "6af26d4d",
   "metadata": {},
   "outputs": [],
   "source": [
    "albert = Staff(\"Albert\", \"Coca\", \"Mataró\")"
   ]
  },
  {
   "cell_type": "code",
   "execution_count": 247,
   "id": "32e58e63",
   "metadata": {},
   "outputs": [],
   "source": [
    "class Marketing(Staff):\n",
    "    \n",
    "    def __init__ (self, name, fname, skills, city=\"Valencia\"):\n",
    "        super().__init__(name, fname, city=\"Valencia\") # allowing to choose which i want to reuse\n",
    "        self.skills = skills\n",
    "        # self.name = name ...\n",
    "    \n",
    "    def organic_growth (self):\n",
    "        print(f\"New post in {self.city}\")"
   ]
  },
  {
   "cell_type": "code",
   "execution_count": 248,
   "id": "605fdbbf",
   "metadata": {},
   "outputs": [],
   "source": [
    "marina = Marketing(\"Marina\", \"Rodríguez\", \"Posting\")"
   ]
  },
  {
   "cell_type": "code",
   "execution_count": 249,
   "id": "2946175e",
   "metadata": {},
   "outputs": [
    {
     "data": {
      "text/plain": [
       "{'name': 'MARINA',\n",
       " 'fname': 'Rodríguez',\n",
       " 'city': 'Valencia',\n",
       " 'email': 'MARINA.rodríguez@ironhack.com',\n",
       " 'time_off': 30,\n",
       " 'hobbies': [],\n",
       " 'skills': 'Posting'}"
      ]
     },
     "execution_count": 249,
     "metadata": {},
     "output_type": "execute_result"
    }
   ],
   "source": [
    "marina.__dict__"
   ]
  },
  {
   "cell_type": "code",
   "execution_count": 171,
   "id": "f38b8f9e",
   "metadata": {},
   "outputs": [],
   "source": [
    "class Paid (Marketing):\n",
    "    # instagram, ads -> profiled \n",
    "    \n",
    "    def paid_posts (self):\n",
    "        print(f\"New paid post in {self.city}, I'm from PAID DEPARTMENT\")"
   ]
  },
  {
   "cell_type": "code",
   "execution_count": 154,
   "id": "a8637514",
   "metadata": {},
   "outputs": [],
   "source": [
    "class Teaching (Staff):\n",
    "    \n",
    "    \n",
    "    def fail_students (self):\n",
    "        print(\"You failed\")"
   ]
  },
  {
   "cell_type": "code",
   "execution_count": 172,
   "id": "7d106bc2",
   "metadata": {},
   "outputs": [],
   "source": [
    "vito = Paid (\"Victoria\", \"Fernández\", \"Madrid\")"
   ]
  },
  {
   "cell_type": "code",
   "execution_count": 174,
   "id": "48a15c07",
   "metadata": {},
   "outputs": [
    {
     "name": "stdout",
     "output_type": "stream",
     "text": [
      "New paid post in Madrid, I'm from PAID DEPARTMENT\n"
     ]
    }
   ],
   "source": [
    "vito.paid_posts()"
   ]
  },
  {
   "cell_type": "code",
   "execution_count": 179,
   "id": "b6567045",
   "metadata": {},
   "outputs": [
    {
     "data": {
      "text/plain": [
       "True"
      ]
     },
     "execution_count": 179,
     "metadata": {},
     "output_type": "execute_result"
    }
   ],
   "source": [
    "isinstance(albert, Staff)"
   ]
  },
  {
   "cell_type": "code",
   "execution_count": 177,
   "id": "559f4865",
   "metadata": {},
   "outputs": [
    {
     "data": {
      "text/plain": [
       "True"
      ]
     },
     "execution_count": 177,
     "metadata": {},
     "output_type": "execute_result"
    }
   ],
   "source": [
    "isinstance(vito, Staff)"
   ]
  },
  {
   "cell_type": "code",
   "execution_count": 155,
   "id": "40f0d194",
   "metadata": {},
   "outputs": [],
   "source": [
    "mika = Teaching(\"Mika\", \"Katzman\", \"Argentina\")"
   ]
  },
  {
   "cell_type": "code",
   "execution_count": 156,
   "id": "8a9eaf63",
   "metadata": {},
   "outputs": [
    {
     "data": {
      "text/plain": [
       "'MIKA.katzman@ironhack.com'"
      ]
     },
     "execution_count": 156,
     "metadata": {},
     "output_type": "execute_result"
    }
   ],
   "source": [
    "mika.email"
   ]
  },
  {
   "cell_type": "code",
   "execution_count": 157,
   "id": "49bbb5d1",
   "metadata": {},
   "outputs": [
    {
     "name": "stdout",
     "output_type": "stream",
     "text": [
      "You failed\n"
     ]
    }
   ],
   "source": [
    "mika.fail_students()"
   ]
  },
  {
   "cell_type": "code",
   "execution_count": 158,
   "id": "7087056a",
   "metadata": {},
   "outputs": [
    {
     "ename": "AttributeError",
     "evalue": "'Marketing' object has no attribute 'fail_students'",
     "output_type": "error",
     "traceback": [
      "\u001b[0;31m---------------------------------------------------------------------------\u001b[0m",
      "\u001b[0;31mAttributeError\u001b[0m                            Traceback (most recent call last)",
      "Input \u001b[0;32mIn [158]\u001b[0m, in \u001b[0;36m<cell line: 1>\u001b[0;34m()\u001b[0m\n\u001b[0;32m----> 1\u001b[0m \u001b[43mmarina\u001b[49m\u001b[38;5;241;43m.\u001b[39;49m\u001b[43mfail_students\u001b[49m()\n",
      "\u001b[0;31mAttributeError\u001b[0m: 'Marketing' object has no attribute 'fail_students'"
     ]
    }
   ],
   "source": [
    "marina.fail_students()"
   ]
  },
  {
   "cell_type": "code",
   "execution_count": 161,
   "id": "72dcb2d6",
   "metadata": {},
   "outputs": [],
   "source": [
    "marina = Marketing(\"Marina\", \"Rodríguez\", \"Valencia\")"
   ]
  },
  {
   "cell_type": "code",
   "execution_count": 162,
   "id": "73e74026",
   "metadata": {},
   "outputs": [
    {
     "data": {
      "text/plain": [
       "'MARINA'"
      ]
     },
     "execution_count": 162,
     "metadata": {},
     "output_type": "execute_result"
    }
   ],
   "source": [
    "marina.name"
   ]
  },
  {
   "cell_type": "code",
   "execution_count": 163,
   "id": "e6553fb3",
   "metadata": {},
   "outputs": [
    {
     "data": {
      "text/plain": [
       "'MARINA.rodríguez@ironhack.com'"
      ]
     },
     "execution_count": 163,
     "metadata": {},
     "output_type": "execute_result"
    }
   ],
   "source": [
    "marina.email"
   ]
  },
  {
   "cell_type": "code",
   "execution_count": 164,
   "id": "1ee08753",
   "metadata": {},
   "outputs": [
    {
     "data": {
      "text/plain": [
       "30"
      ]
     },
     "execution_count": 164,
     "metadata": {},
     "output_type": "execute_result"
    }
   ],
   "source": [
    "marina.time_off"
   ]
  },
  {
   "cell_type": "code",
   "execution_count": 165,
   "id": "dbf5c44b",
   "metadata": {},
   "outputs": [
    {
     "data": {
      "text/plain": [
       "['city', 'email', 'fname', 'hobbies', 'introduce', 'name']"
      ]
     },
     "execution_count": 165,
     "metadata": {},
     "output_type": "execute_result"
    }
   ],
   "source": [
    "[i for i in dir(marina) if \"_\" not in i]"
   ]
  },
  {
   "cell_type": "code",
   "execution_count": 166,
   "id": "74f3a4b6",
   "metadata": {},
   "outputs": [
    {
     "name": "stdout",
     "output_type": "stream",
     "text": [
      "Hello! My name is MARINA and my hobbies are: [], my city is Valencia\n"
     ]
    }
   ],
   "source": [
    "marina.introduce()"
   ]
  },
  {
   "cell_type": "code",
   "execution_count": 167,
   "id": "6deba4c9",
   "metadata": {},
   "outputs": [
    {
     "name": "stdout",
     "output_type": "stream",
     "text": [
      "New post in Valencia\n"
     ]
    }
   ],
   "source": [
    "marina.post_on_instagram()"
   ]
  },
  {
   "cell_type": "code",
   "execution_count": 168,
   "id": "ae1c653e",
   "metadata": {},
   "outputs": [],
   "source": [
    "#albert.post_on_instagram() #AttributeError: 'Staff' object has no attribute 'post_on_instagram'\n"
   ]
  },
  {
   "cell_type": "markdown",
   "id": "willing-workshop",
   "metadata": {},
   "source": [
    "### super()"
   ]
  },
  {
   "cell_type": "code",
   "execution_count": null,
   "id": "2800959e",
   "metadata": {},
   "outputs": [],
   "source": []
  },
  {
   "cell_type": "markdown",
   "id": "06927b5c",
   "metadata": {},
   "source": [
    "## Summary"
   ]
  },
  {
   "cell_type": "code",
   "execution_count": null,
   "id": "1796146a",
   "metadata": {},
   "outputs": [],
   "source": [
    "# python \n",
    "    # instance connection\n",
    "        # instanceconnection.QUERY(\"select * \")\n",
    "\n",
    "            # sqlalchemy\n",
    "            # import engine from sqlaclhemy\n",
    "            # engine.connection(\"\")\n",
    "            # engine.query(\"Select * from....\")\n",
    "            \n"
   ]
  },
  {
   "cell_type": "markdown",
   "id": "7d8865bd",
   "metadata": {
    "lang": "en"
   },
   "source": [
    "## Furthermaterials\n",
    "\n",
    "- Youtube Tutorial by [Corey Schafer](https://www.youtube.com/watch?v=ZDa-Z5JzLYM)\n",
    "- [Real Python](https://docs.hektorprofe.net/python/object-oriented-programming/classes-and-objects/)\n",
    "- [Interesting read](https://medium.com/@shaistha24/functional-programming-vs-object-oriented-programming-oop-which-is-better-82172e53a526) --> OOP vs Functional programming"
   ]
  },
  {
   "cell_type": "markdown",
   "id": "92bd3cce",
   "metadata": {
    "lang": "en"
   },
   "source": [
    "### Methods **ADVANCED** @classmethod@staticmethod\n",
    "* [Real Python - @classmethod/@stathicmethod](https://realpython.com/instance-class-and-static-methods-demystified/). Advanced Python with decorators (we'll mention them later)"
   ]
  }
 ],
 "metadata": {
  "kernelspec": {
   "display_name": "kepler",
   "language": "python",
   "name": "kepler"
  },
  "language_info": {
   "codemirror_mode": {
    "name": "ipython",
    "version": 3
   },
   "file_extension": ".py",
   "mimetype": "text/x-python",
   "name": "python",
   "nbconvert_exporter": "python",
   "pygments_lexer": "ipython3",
   "version": "3.9.12"
  },
  "nbTranslate": {
   "displayLangs": [
    "en",
    "es"
   ],
   "hotkey": "alt-a",
   "langInMainMenu": true,
   "sourceLang": "es",
   "targetLang": "en",
   "useGoogleTranslate": true
  },
  "toc": {
   "base_numbering": 1,
   "nav_menu": {},
   "number_sections": true,
   "sideBar": true,
   "skip_h1_title": true,
   "title_cell": "Table of Contents",
   "title_sidebar": "Contents",
   "toc_cell": true,
   "toc_position": {
    "height": "calc(100% - 180px)",
    "left": "10px",
    "top": "150px",
    "width": "288px"
   },
   "toc_section_display": true,
   "toc_window_display": false
  }
 },
 "nbformat": 4,
 "nbformat_minor": 5
}
