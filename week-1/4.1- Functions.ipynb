{
 "cells": [
  {
   "cell_type": "markdown",
   "id": "85cb1a17",
   "metadata": {},
   "source": [
    "# RECAP: Flow Control & list comprehensions\n",
    "\n",
    "- List comprehensions\n",
    "    - Creating a list: loop & append*\n",
    "    - Shorter & more complex: Writing loops\n",
    "    - Only if you have practice\n",
    "    \n",
    "- Syntax\n",
    "    - `name_new_list = [result for i in something]`\n",
    "    - `name_new_cond = [i for i in something if i > 5]`\n",
    "    - `name_if_else = [i.upper() if len(i) > 5 else i.lower() for i in something ]`\n",
    "\n",
    "- Comprehension\n",
    "    - Lists\n",
    "    - Dictionaries: `name = {key:value for key:value in something.items()}`\n",
    "        - zip: list_1, list_2\n",
    "        `name = {item_list_1:item_list_2 for item_list_1, item_list_2 in zip(list_1, list_2)}` \n",
    "            - names = [\"Albert\", \"Clara\"]\n",
    "            - cities = [\"Mataró, \"Barcelona\"]\n",
    "            dict_cities_names = {\"Albert\":\"Mataró\", \"Clara\": \"Barcelona\"}\n",
    "    \n",
    "    - Sets\n",
    "    - Tuples\n",
    "\n",
    "\n",
    "- zip: it loops through two (or more) lists at once\n",
    "    - same length: ok\n",
    "    - not same length: shortest one\n",
    "    - list_1 & list_2\n",
    "    - `for item_list_1, item_list_2 in zip(list_1, list_2)`\n",
    "    \n",
    "    \n",
    "- `enumerate`: index\n",
    "    - It helps us get the item & its index at once\n",
    "    - `for index, element in enumerate(list_1)`\n",
    "    - `for a, b  in  enueramate(list_1)`\n",
    "    - `for position, the_item  in  enumerate(list_1)`\n",
    "    - First one refers to the index\n",
    "    \n",
    "- LOOPS\n",
    "     - while\n",
    "         - you don't know how many times\n",
    "         - it stops: based on a condition until it's met\n",
    "         \n",
    "     - for\n",
    "         - when you know; based on the length of whatever you're looping\n",
    "     \n",
    "     - keywords:\n",
    "         - continue: doesn't stop loop, jumps into next iteration. \n",
    "         - break: stops the loop.\n",
    "         - pass: it passes, it does nothing, makes sure the code doesn't break, placeholder.\n",
    "     \n",
    "     - loopable objects\n",
    "         - iterables\n",
    "         - an INT is not an iterable\n",
    "             - workaround: cast into str\n",
    "         \n",
    "- Pseudocode\n",
    "    - what is it: human way of writing code\n",
    "    - useful to draft your code before actually coding\n",
    "    - gives you a plan\n",
    "    \n",
    "- Refactoring\n",
    "    - Making your code better\n",
    "    - IS: changing the form but not the function\n",
    "        - More efficient: \n",
    "            - Faster\n",
    "            - Remove unnecessary steps along the way\n",
    "        - Cleaner\n",
    "        - More explicit\n",
    "        - Less code\n",
    "        \n",
    "- IF vs. IF / ELIF   \n",
    "   - If / if \n",
    "       - Problems: \n",
    "           - check separately\n",
    "           - Conditions AREN'T mutually exclusive\n",
    "           - Check for many things at once\n",
    "           - Password:\n",
    "               if len()\n",
    "               if characher included\n",
    "               if uppercase\n",
    "  \n",
    "   \n",
    "   - If / elif\n",
    "      - Either option, one OR the other, but not both\n",
    "      - Cannot be used with greater than AND smaller than -> mutually exclusive\n",
    "   - If / if / if / if\n",
    "       - Still will work\n",
    "       - Not efficient: python will continue reading all of it\n",
    "- formatting\n",
    "    - print(f\"My string {var1}, {var2}\")\n",
    "    - print(\"My string {}, {}\".format(var1, var2))\n",
    "    - It can be saved into a variable\n",
    "    \n",
    "- Strings & variables\n",
    "    - string methods return some things: workaround\n",
    "        - doesn't persist: it may not modify the actual object\n",
    "        - COPY instead of changing the thing\n",
    "        - to persist: new variable\n",
    "        - HINTs: \n",
    "            - If printed: not affected\n",
    "            - If not printed: changed (won't tell you)\n",
    "            \n",
    "- BOOL\n",
    "    - Data type: Boolean, True / False\n",
    "    - Truthy / Falsie: what things evaluate to\n",
    "        - str, data type str -> evaluate to truthy or falsie\n",
    "    - What are falsies:\n",
    "        - 0\n",
    "        - range(0)\n",
    "        - 0.0\n",
    "        - Empty data strcutures: [], (), {} (dict), set(), \"\"\n",
    "    - (True and False): False\n",
    "    - (False and False):\n",
    "        - is false\n",
    "        - false == false -> true\n",
    "        - `(False and False) == False` -> True\n",
    "    - True and True: True\n",
    "    - conditions\n",
    "        - `if len(var) > 0`\n",
    "        - `if var`"
   ]
  },
  {
   "cell_type": "code",
   "execution_count": null,
   "id": "bf324047",
   "metadata": {},
   "outputs": [],
   "source": [
    "# TypeError: 'int' object is not iterable"
   ]
  },
  {
   "cell_type": "code",
   "execution_count": 4,
   "id": "df53950c",
   "metadata": {},
   "outputs": [
    {
     "data": {
      "text/plain": [
       "False"
      ]
     },
     "execution_count": 4,
     "metadata": {},
     "output_type": "execute_result"
    }
   ],
   "source": [
    "hello = False and False\n",
    "hello"
   ]
  },
  {
   "cell_type": "code",
   "execution_count": 5,
   "id": "26fda151",
   "metadata": {},
   "outputs": [
    {
     "data": {
      "text/plain": [
       "True"
      ]
     },
     "execution_count": 5,
     "metadata": {},
     "output_type": "execute_result"
    }
   ],
   "source": [
    "hello == False"
   ]
  },
  {
   "cell_type": "code",
   "execution_count": 12,
   "id": "17d143ad",
   "metadata": {},
   "outputs": [
    {
     "data": {
      "text/plain": [
       "True"
      ]
     },
     "execution_count": 12,
     "metadata": {},
     "output_type": "execute_result"
    }
   ],
   "source": [
    "True or False"
   ]
  },
  {
   "cell_type": "code",
   "execution_count": 13,
   "id": "a306aeec",
   "metadata": {},
   "outputs": [
    {
     "data": {
      "text/plain": [
       "True"
      ]
     },
     "execution_count": 13,
     "metadata": {},
     "output_type": "execute_result"
    }
   ],
   "source": [
    "False or True"
   ]
  },
  {
   "cell_type": "code",
   "execution_count": 14,
   "id": "03ae25e7",
   "metadata": {},
   "outputs": [
    {
     "data": {
      "text/plain": [
       "False"
      ]
     },
     "execution_count": 14,
     "metadata": {},
     "output_type": "execute_result"
    }
   ],
   "source": [
    "False or False"
   ]
  },
  {
   "cell_type": "code",
   "execution_count": 15,
   "id": "a6ed2452",
   "metadata": {},
   "outputs": [
    {
     "data": {
      "text/plain": [
       "True"
      ]
     },
     "execution_count": 15,
     "metadata": {},
     "output_type": "execute_result"
    }
   ],
   "source": [
    "False or True"
   ]
  },
  {
   "cell_type": "code",
   "execution_count": 16,
   "id": "84ed26a6",
   "metadata": {},
   "outputs": [
    {
     "data": {
      "text/plain": [
       "True"
      ]
     },
     "execution_count": 16,
     "metadata": {},
     "output_type": "execute_result"
    }
   ],
   "source": [
    "True or True"
   ]
  },
  {
   "cell_type": "markdown",
   "id": "77f6cf4d",
   "metadata": {},
   "source": [
    "```\n",
    "cond_1 = True\n",
    "cond_2 = False\n",
    "cond_3 = True\n",
    "cond_4 = True\n",
    "\n",
    "for ...\n",
    "    if...\n",
    "        cond_2 = True\n",
    "        \n",
    "print(((cond_1 or cond_2) and cond_3) == cond_4) #true / false\n",
    "```"
   ]
  },
  {
   "cell_type": "code",
   "execution_count": 21,
   "id": "2646b2a7",
   "metadata": {},
   "outputs": [
    {
     "data": {
      "text/plain": [
       "True"
      ]
     },
     "execution_count": 21,
     "metadata": {},
     "output_type": "execute_result"
    }
   ],
   "source": [
    "((cond_1 or cond_2) and cond_3) == cond_4"
   ]
  },
  {
   "cell_type": "code",
   "execution_count": null,
   "id": "529bea36",
   "metadata": {},
   "outputs": [],
   "source": []
  },
  {
   "cell_type": "code",
   "execution_count": 17,
   "id": "bdb64aa9",
   "metadata": {},
   "outputs": [
    {
     "data": {
      "text/plain": [
       "True"
      ]
     },
     "execution_count": 17,
     "metadata": {},
     "output_type": "execute_result"
    }
   ],
   "source": [
    "False or True # OR -> True"
   ]
  },
  {
   "cell_type": "code",
   "execution_count": 11,
   "id": "2a4b154f",
   "metadata": {},
   "outputs": [
    {
     "data": {
      "text/plain": [
       "True"
      ]
     },
     "execution_count": 11,
     "metadata": {},
     "output_type": "execute_result"
    }
   ],
   "source": [
    "(False or False) == False # should be true (?)"
   ]
  },
  {
   "cell_type": "code",
   "execution_count": 8,
   "id": "cd84ec34",
   "metadata": {},
   "outputs": [
    {
     "data": {
      "text/plain": [
       "True"
      ]
     },
     "execution_count": 8,
     "metadata": {},
     "output_type": "execute_result"
    }
   ],
   "source": [
    "(True and False) == False"
   ]
  },
  {
   "cell_type": "code",
   "execution_count": 4,
   "id": "68b32b4d",
   "metadata": {},
   "outputs": [
    {
     "data": {
      "text/plain": [
       "set()"
      ]
     },
     "execution_count": 4,
     "metadata": {},
     "output_type": "execute_result"
    }
   ],
   "source": [
    "# empty set\n",
    "set()"
   ]
  },
  {
   "cell_type": "code",
   "execution_count": 5,
   "id": "f4d1546a",
   "metadata": {},
   "outputs": [],
   "source": [
    "my_list = []"
   ]
  },
  {
   "cell_type": "code",
   "execution_count": 7,
   "id": "82b97081",
   "metadata": {},
   "outputs": [
    {
     "data": {
      "text/plain": [
       "[]"
      ]
     },
     "execution_count": 7,
     "metadata": {},
     "output_type": "execute_result"
    }
   ],
   "source": [
    "my_list = list()\n",
    "my_list"
   ]
  },
  {
   "cell_type": "markdown",
   "id": "9eb0f57b",
   "metadata": {
    "lang": "en"
   },
   "source": [
    "# Functional Programming"
   ]
  },
  {
   "cell_type": "markdown",
   "id": "conceptual-behalf",
   "metadata": {},
   "source": [
    "![elgif](https://media.giphy.com/media/CuMiNoTRz2bYc/giphy.gif)"
   ]
  },
  {
   "cell_type": "markdown",
   "id": "incorrect-serum",
   "metadata": {
    "toc": true
   },
   "source": [
    "<h1>Table of Contents<span class=\"tocSkip\"></span></h1>\n",
    "<div class=\"toc\"><ul class=\"toc-item\"><li><span><a href=\"#Your-contributions-🚀\" data-toc-modified-id=\"Your-contributions-🚀-1\"><span class=\"toc-item-num\">1&nbsp;&nbsp;</span>Your contributions 🚀</a></span></li><li><span><a href=\"#What-is-functional-programming?:-paradigms\" data-toc-modified-id=\"What-is-functional-programming?:-paradigms-2\"><span class=\"toc-item-num\">2&nbsp;&nbsp;</span>What is functional programming?: paradigms</a></span></li><li><span><a href=\"#Built-in-functions\" data-toc-modified-id=\"Built-in-functions-3\"><span class=\"toc-item-num\">3&nbsp;&nbsp;</span>Built-in functions</a></span></li><li><span><a href=\"#USER---DEFINED-FUNCTIONS\" data-toc-modified-id=\"USER---DEFINED-FUNCTIONS-4\"><span class=\"toc-item-num\">4&nbsp;&nbsp;</span>USER - DEFINED FUNCTIONS</a></span><ul class=\"toc-item\"><li><span><a href=\"#def\" data-toc-modified-id=\"def-4.1\"><span class=\"toc-item-num\">4.1&nbsp;&nbsp;</span>def</a></span></li><li><span><a href=\"#name\" data-toc-modified-id=\"name-4.2\"><span class=\"toc-item-num\">4.2&nbsp;&nbsp;</span>name</a></span></li><li><span><a href=\"#parameters\" data-toc-modified-id=\"parameters-4.3\"><span class=\"toc-item-num\">4.3&nbsp;&nbsp;</span>parameters</a></span></li><li><span><a href=\"#arguments\" data-toc-modified-id=\"arguments-4.4\"><span class=\"toc-item-num\">4.4&nbsp;&nbsp;</span>arguments</a></span><ul class=\"toc-item\"><li><span><a href=\"#default-parameters\" data-toc-modified-id=\"default-parameters-4.4.1\"><span class=\"toc-item-num\">4.4.1&nbsp;&nbsp;</span>default parameters</a></span></li><li><span><a href=\"#positional-arguments-&amp;-keyword-arguments\" data-toc-modified-id=\"positional-arguments-&amp;-keyword-arguments-4.4.2\"><span class=\"toc-item-num\">4.4.2&nbsp;&nbsp;</span>positional arguments &amp; keyword arguments</a></span></li><li><span><a href=\"#*args\" data-toc-modified-id=\"*args-4.4.3\"><span class=\"toc-item-num\">4.4.3&nbsp;&nbsp;</span><code>*args</code></a></span></li><li><span><a href=\"#**kwargs\" data-toc-modified-id=\"**kwargs-4.4.4\"><span class=\"toc-item-num\">4.4.4&nbsp;&nbsp;</span>**kwargs</a></span></li><li><span><a href=\"#order\" data-toc-modified-id=\"order-4.4.5\"><span class=\"toc-item-num\">4.4.5&nbsp;&nbsp;</span>order</a></span></li></ul></li><li><span><a href=\"#return\" data-toc-modified-id=\"return-4.5\"><span class=\"toc-item-num\">4.5&nbsp;&nbsp;</span>return</a></span></li><li><span><a href=\"#Docstrings:-documentation-strings\" data-toc-modified-id=\"Docstrings:-documentation-strings-4.6\"><span class=\"toc-item-num\">4.6&nbsp;&nbsp;</span>Docstrings: documentation strings</a></span></li><li><span><a href=\"#source-code\" data-toc-modified-id=\"source-code-4.7\"><span class=\"toc-item-num\">4.7&nbsp;&nbsp;</span>source code</a></span></li></ul></li><li><span><a href=\"#Scope-of-functions\" data-toc-modified-id=\"Scope-of-functions-5\"><span class=\"toc-item-num\">5&nbsp;&nbsp;</span>Scope of functions</a></span></li><li><span><a href=\"#Lambda\" data-toc-modified-id=\"Lambda-6\"><span class=\"toc-item-num\">6&nbsp;&nbsp;</span>Lambda</a></span><ul class=\"toc-item\"><li><span><a href=\"#Syntax-of-a-lambda\" data-toc-modified-id=\"Syntax-of-a-lambda-6.1\"><span class=\"toc-item-num\">6.1&nbsp;&nbsp;</span>Syntax of a lambda</a></span></li><li><span><a href=\"#lambda-examples\" data-toc-modified-id=\"lambda-examples-6.2\"><span class=\"toc-item-num\">6.2&nbsp;&nbsp;</span>lambda examples</a></span></li><li><span><a href=\"#lambda--as-the-option-of-some-other-built-in-functions\" data-toc-modified-id=\"lambda--as-the-option-of-some-other-built-in-functions-6.3\"><span class=\"toc-item-num\">6.3&nbsp;&nbsp;</span><code>lambda</code>  as the option of some other built-in functions</a></span></li></ul></li><li><span><a href=\"#Functions:-functions-as-return-of-another-function\" data-toc-modified-id=\"Functions:-functions-as-return-of-another-function-7\"><span class=\"toc-item-num\">7&nbsp;&nbsp;</span>Functions: functions as return of another function</a></span></li><li><span><a href=\"#Recursion\" data-toc-modified-id=\"Recursion-8\"><span class=\"toc-item-num\">8&nbsp;&nbsp;</span>Recursion</a></span></li><li><span><a href=\"#Summary\" data-toc-modified-id=\"Summary-9\"><span class=\"toc-item-num\">9&nbsp;&nbsp;</span>Summary</a></span></li></ul></div>"
   ]
  },
  {
   "cell_type": "markdown",
   "id": "ca639911",
   "metadata": {},
   "source": [
    "-- overwrite your changes\n",
    "-- git stash\n",
    "-- git pull\n",
    "\n",
    "\n",
    "\n",
    "\n"
   ]
  },
  {
   "cell_type": "markdown",
   "id": "c8dbbad6",
   "metadata": {
    "lang": "en"
   },
   "source": [
    "## Your contributions 🚀\n",
    "What do you think functions do/what properties do they have? Whare they useful for?"
   ]
  },
  {
   "cell_type": "markdown",
   "id": "38d8979e",
   "metadata": {},
   "source": [
    "- FUNCTIONS\n",
    "    - transform x into z\n",
    "    - a box where you put something in and you get something out transformed\n",
    "        - Piece of code (box): DO THINGS\n",
    "    - something you make to invoke later, and it takes arguments\n",
    "        - 1. DEFINE, 2. CALL\n",
    "    - way to avoid repeatitive actions\n",
    "        - lazy -> reuse code\n",
    "        - Code to be reused, lives are easier\n",
    "        - 1. Define once, 2. Call many times, \n",
    "    - make our code simpler\n",
    "    - personalizing a task\n",
    "        - specific: ONE specific task\n",
    "        - general: many different instances of the same thing\n",
    "            - def function_restaurants (location):\n",
    "                return restaurants\n",
    "                \n",
    "                - specific: ONLY gives you restaurants. Doesn't give you bars\n",
    "                - general: diferent locations\n",
    "                \n",
    "    - easy maintenance of the code \n",
    "        - one change: easier to debug\n",
    "        - within a little box\n",
    "        - If code: encapsulated (box) -> box and fix it\n",
    "            - spot it, easier to find\n",
    "        \n",
    "    - standard functions: built-in functions\n",
    "        - user-defined functions: `def my_defined_function ()`\n",
    "        - built-in functions: `print()`, `\"\".capitalize()`\n",
    "        - lambda: `lambda x: x * 2`\n",
    "        \n",
    "- Test driven development (TDD): paradigm\n",
    "    - 1. Possible problems\n",
    "    - 2. Goals\n",
    "    - 3. Tests for the code\n",
    "    - 4. Code\n",
    "    \n",
    "    - This code should be returning a number\n",
    "    - The number should be greater than a qty\n",
    "    - The code should work even if the number is passed as a string\n",
    "    - ...\n",
    "    \n",
    "- Today (lab), it is test based\n",
    "- Codewars\n",
    "`import unittest` -> to do it yourself "
   ]
  },
  {
   "cell_type": "markdown",
   "id": "199cb1a8",
   "metadata": {
    "lang": "en"
   },
   "source": [
    "## What is functional programming?: paradigms\n",
    "What does it mean that Python is multi-paradigm?\n",
    "According to Wikipedia:\n",
    "\n",
    "“Python is an interpreted programming language whose philosophy emphasizes the readability of its code. It is a multiparadigm programming language, since it supports object orientation, imperative programming and, to a lesser extent, functional programming.\n",
    "\n",
    "It means that it accepts different ways of working with language. Basically there are 3 predominant paradigms, or in other words, 3 global formats to organize a code."
   ]
  },
  {
   "cell_type": "markdown",
   "id": "1a292435",
   "metadata": {},
   "source": [
    "- **Imperative programming (structured)**: the code will be executed from the beginning of the file to the end without following any type of deviation. Its biggest advantage lies in its simplicity and low weight. Its danger is the spaghetti code, files with hundreds or thousands of lines where only a few human beings are able to modify and emerge victorious. It can look like this:"
   ]
  },
  {
   "cell_type": "code",
   "execution_count": 5,
   "id": "0272d6e3",
   "metadata": {},
   "outputs": [
    {
     "data": {
      "text/html": [
       "<div>\n",
       "<style scoped>\n",
       "    .dataframe tbody tr th:only-of-type {\n",
       "        vertical-align: middle;\n",
       "    }\n",
       "\n",
       "    .dataframe tbody tr th {\n",
       "        vertical-align: top;\n",
       "    }\n",
       "\n",
       "    .dataframe thead th {\n",
       "        text-align: right;\n",
       "    }\n",
       "</style>\n",
       "<table border=\"1\" class=\"dataframe\">\n",
       "  <thead>\n",
       "    <tr style=\"text-align: right;\">\n",
       "      <th></th>\n",
       "      <th>cylinders</th>\n",
       "      <th>weight</th>\n",
       "    </tr>\n",
       "  </thead>\n",
       "  <tbody>\n",
       "    <tr>\n",
       "      <th>0</th>\n",
       "      <td>8</td>\n",
       "      <td>3504</td>\n",
       "    </tr>\n",
       "    <tr>\n",
       "      <th>1</th>\n",
       "      <td>8</td>\n",
       "      <td>3693</td>\n",
       "    </tr>\n",
       "    <tr>\n",
       "      <th>2</th>\n",
       "      <td>8</td>\n",
       "      <td>3436</td>\n",
       "    </tr>\n",
       "    <tr>\n",
       "      <th>3</th>\n",
       "      <td>8</td>\n",
       "      <td>3433</td>\n",
       "    </tr>\n",
       "    <tr>\n",
       "      <th>4</th>\n",
       "      <td>8</td>\n",
       "      <td>3449</td>\n",
       "    </tr>\n",
       "    <tr>\n",
       "      <th>...</th>\n",
       "      <td>...</td>\n",
       "      <td>...</td>\n",
       "    </tr>\n",
       "    <tr>\n",
       "      <th>393</th>\n",
       "      <td>4</td>\n",
       "      <td>2790</td>\n",
       "    </tr>\n",
       "    <tr>\n",
       "      <th>394</th>\n",
       "      <td>4</td>\n",
       "      <td>2130</td>\n",
       "    </tr>\n",
       "    <tr>\n",
       "      <th>395</th>\n",
       "      <td>4</td>\n",
       "      <td>2295</td>\n",
       "    </tr>\n",
       "    <tr>\n",
       "      <th>396</th>\n",
       "      <td>4</td>\n",
       "      <td>2625</td>\n",
       "    </tr>\n",
       "    <tr>\n",
       "      <th>397</th>\n",
       "      <td>4</td>\n",
       "      <td>2720</td>\n",
       "    </tr>\n",
       "  </tbody>\n",
       "</table>\n",
       "<p>398 rows × 2 columns</p>\n",
       "</div>"
      ],
      "text/plain": [
       "     cylinders  weight\n",
       "0            8    3504\n",
       "1            8    3693\n",
       "2            8    3436\n",
       "3            8    3433\n",
       "4            8    3449\n",
       "..         ...     ...\n",
       "393          4    2790\n",
       "394          4    2130\n",
       "395          4    2295\n",
       "396          4    2625\n",
       "397          4    2720\n",
       "\n",
       "[398 rows x 2 columns]"
      ]
     },
     "execution_count": 5,
     "metadata": {},
     "output_type": "execute_result"
    }
   ],
   "source": [
    "# do this\n",
    "# do this now\n",
    "# do this later\n",
    "# do that\n",
    "# ...\n",
    "# top -> bottom\n",
    "# imperative programming\n",
    "\n",
    "\n",
    "import pandas as pd\n",
    "df = pd.read_csv(\"../datasets/auto-mpg.csv\")\n",
    "df.head()\n",
    "df.drop(columns=[\"mpg\"])\n",
    "df[[\"cylinders\",\"weight\"]]\n",
    "\n",
    "# Pandas is managing tables: csv"
   ]
  },
  {
   "cell_type": "markdown",
   "id": "02cb1e2b",
   "metadata": {},
   "source": [
    "- **Object Oriented Programming (OOP or Object Oriented Programming)**: where variables and functions are encapsulated in small modules capable of being cloned and modified. Its strong point is the ability to reuse and isolate to avoid problems with other features. The negative part lies in the complexity of creating good objects and debugging. It can look like this:\n"
   ]
  },
  {
   "cell_type": "code",
   "execution_count": null,
   "id": "4cbe955b",
   "metadata": {},
   "outputs": [],
   "source": [
    "class Car ():\n",
    "    # model\n",
    "    # passengers\n",
    "    # color\n",
    "    # speed\n",
    "    \n",
    "    # def backwards ():\n",
    "        pass\n",
    "    # def break ():\n",
    "        pass\n",
    "    \n",
    "    \n",
    "my_car = Car()    \n",
    "bego_car = Car()\n",
    "\n",
    "# classes / objetcs -> attributes & things\n",
    "# re-use"
   ]
  },
  {
   "cell_type": "markdown",
   "id": "2a679fd0",
   "metadata": {},
   "source": [
    "- **Functional programming (FP or Functional programming)**: where the code is divided into simple functions capable of being invoked with variables or other functions. Its ease of use by atomicity achieves robust maintainability and compatibility with almost any language. In addition, its immutability of variables avoids many of the problems that object-oriented programming suffers."
   ]
  },
  {
   "cell_type": "code",
   "execution_count": 6,
   "id": "8a9c96f4",
   "metadata": {},
   "outputs": [],
   "source": [
    "def greeting (name):\n",
    "    return f\"Hello {name}!\""
   ]
  },
  {
   "cell_type": "code",
   "execution_count": 7,
   "id": "aa5c64f2",
   "metadata": {},
   "outputs": [
    {
     "data": {
      "text/plain": [
       "'Hello Bego!'"
      ]
     },
     "execution_count": 7,
     "metadata": {},
     "output_type": "execute_result"
    }
   ],
   "source": [
    "greeting(\"Bego\") # calling / invoking the function"
   ]
  },
  {
   "cell_type": "code",
   "execution_count": 8,
   "id": "a1f691f0",
   "metadata": {},
   "outputs": [
    {
     "data": {
      "text/plain": [
       "'Hello Marina!'"
      ]
     },
     "execution_count": 8,
     "metadata": {},
     "output_type": "execute_result"
    }
   ],
   "source": [
    "greeting(\"Marina\")"
   ]
  },
  {
   "cell_type": "code",
   "execution_count": 9,
   "id": "739cdb9c",
   "metadata": {},
   "outputs": [
    {
     "data": {
      "text/plain": [
       "'Hello Albert!'"
      ]
     },
     "execution_count": 9,
     "metadata": {},
     "output_type": "execute_result"
    }
   ],
   "source": [
    "greeting(\"Albert\")"
   ]
  },
  {
   "cell_type": "markdown",
   "id": "7f89fd70",
   "metadata": {
    "lang": "en"
   },
   "source": [
    "## Built-in functions"
   ]
  },
  {
   "cell_type": "markdown",
   "id": "80919246",
   "metadata": {
    "lang": "en"
   },
   "source": [
    "The Python interpreter has a number of built-in functions and types that are always available. They are listed [here](https://docs.python.org/3/library/functions.html) in alphabetical order."
   ]
  },
  {
   "cell_type": "code",
   "execution_count": 10,
   "id": "b8e2371a",
   "metadata": {},
   "outputs": [
    {
     "name": "stdout",
     "output_type": "stream",
     "text": [
      "Hello\n"
     ]
    }
   ],
   "source": [
    "print(\"Hello\") \n",
    "\n",
    "# no need to def the print\n",
    "# takes an arg\n",
    "# gives us a message on the interface"
   ]
  },
  {
   "cell_type": "markdown",
   "id": "d36c02f5",
   "metadata": {
    "lang": "en"
   },
   "source": [
    "In case of built-in functions we can't extract the code with inspect, since Python itself is written in C... the Print function looks like this 👇🏻"
   ]
  },
  {
   "cell_type": "markdown",
   "id": "through-silicon",
   "metadata": {},
   "source": [
    "```C\n",
    "static PyObject *\n",
    "builtin_print(PyObject *self, PyObject *args, PyObject *kwds)\n",
    "{\n",
    "    static char *kwlist[] = {\"sep\", \"end\", \"file\", 0};\n",
    "    static PyObject *dummy_args = NULL;\n",
    "    static PyObject *unicode_newline = NULL, *unicode_space = NULL;\n",
    "    static PyObject *str_newline = NULL, *str_space = NULL;\n",
    "    PyObject *newline, *space;\n",
    "    PyObject *sep = NULL, *end = NULL, *file = NULL;\n",
    "    int i, err, use_unicode = 0;\n",
    "\n",
    "    if (dummy_args == NULL) {\n",
    "        if (!(dummy_args = PyTuple_New(0)))\n",
    "            return NULL;\n",
    "    }\n",
    "    if (str_newline == NULL) {\n",
    "        str_newline = PyString_FromString(\"\\n\");\n",
    "        if (str_newline == NULL)\n",
    "            return NULL;\n",
    "        str_space = PyString_FromString(\" \");\n",
    "        if (str_space == NULL) {\n",
    "            Py_CLEAR(str_newline);\n",
    "            return NULL;\n",
    "        }\n",
    "#ifdef Py_USING_UNICODE\n",
    "        unicode_newline = PyUnicode_FromString(\"\\n\");\n",
    "        if (unicode_newline == NULL) {\n",
    "            Py_CLEAR(str_newline);\n",
    "            Py_CLEAR(str_space);\n",
    "            return NULL;\n",
    "        }\n",
    "        unicode_space = PyUnicode_FromString(\" \");\n",
    "        if (unicode_space == NULL) {\n",
    "            Py_CLEAR(str_newline);\n",
    "            Py_CLEAR(str_space);\n",
    "            Py_CLEAR(unicode_space);\n",
    "            return NULL;\n",
    "        }\n",
    "#endif\n",
    "    }\n",
    "    if (!PyArg_ParseTupleAndKeywords(dummy_args, kwds, \"|OOO:print\",\n",
    "                                     kwlist, &sep, &end, &file))\n",
    "        return NULL;\n",
    "    if (file == NULL || file == Py_None) {\n",
    "        file = PySys_GetObject(\"stdout\");\n",
    "        /* sys.stdout may be None when FILE* stdout isn't connected */\n",
    "        if (file == Py_None)\n",
    "            Py_RETURN_NONE;\n",
    "    }\n",
    "    if (sep == Py_None) {\n",
    "        sep = NULL;\n",
    "    }\n",
    "    else if (sep) {\n",
    "        if (PyUnicode_Check(sep)) {\n",
    "            use_unicode = 1;\n",
    "        }\n",
    "        else if (!PyString_Check(sep)) {\n",
    "            PyErr_Format(PyExc_TypeError,\n",
    "                         \"sep must be None, str or unicode, not %.200s\",\n",
    "                         sep->ob_type->tp_name);\n",
    "            return NULL;\n",
    "        }\n",
    "    }\n",
    "    if (end == Py_None)\n",
    "        end = NULL;\n",
    "    else if (end) {\n",
    "        if (PyUnicode_Check(end)) {\n",
    "            use_unicode = 1;\n",
    "        }\n",
    "        else if (!PyString_Check(end)) {\n",
    "            PyErr_Format(PyExc_TypeError,\n",
    "                         \"end must be None, str or unicode, not %.200s\",\n",
    "                         end->ob_type->tp_name);\n",
    "            return NULL;\n",
    "        }\n",
    "    }\n",
    "\n",
    "    if (!use_unicode) {\n",
    "        for (i = 0; i < PyTuple_Size(args); i++) {\n",
    "            if (PyUnicode_Check(PyTuple_GET_ITEM(args, i))) {\n",
    "                use_unicode = 1;\n",
    "                break;\n",
    "            }\n",
    "        }\n",
    "    }\n",
    "    if (use_unicode) {\n",
    "        newline = unicode_newline;\n",
    "        space = unicode_space;\n",
    "    }\n",
    "    else {\n",
    "        newline = str_newline;\n",
    "        space = str_space;\n",
    "    }\n",
    "\n",
    "    for (i = 0; i < PyTuple_Size(args); i++) {\n",
    "        if (i > 0) {\n",
    "            if (sep == NULL)\n",
    "                err = PyFile_WriteObject(space, file,\n",
    "                                         Py_PRINT_RAW);\n",
    "            else\n",
    "                err = PyFile_WriteObject(sep, file,\n",
    "                                         Py_PRINT_RAW);\n",
    "            if (err)\n",
    "                return NULL;\n",
    "        }\n",
    "        err = PyFile_WriteObject(PyTuple_GetItem(args, i), file,\n",
    "                                 Py_PRINT_RAW);\n",
    "        if (err)\n",
    "            return NULL;\n",
    "    }\n",
    "\n",
    "    if (end == NULL)\n",
    "        err = PyFile_WriteObject(newline, file, Py_PRINT_RAW);\n",
    "    else\n",
    "        err = PyFile_WriteObject(end, file, Py_PRINT_RAW);\n",
    "    if (err)\n",
    "        return NULL;\n",
    "\n",
    "    Py_RETURN_NONE;\n",
    "}\n",
    "```"
   ]
  },
  {
   "cell_type": "code",
   "execution_count": 11,
   "id": "f7695035",
   "metadata": {},
   "outputs": [
    {
     "name": "stdout",
     "output_type": "stream",
     "text": [
      ":)\n"
     ]
    }
   ],
   "source": [
    "print(\":)\")"
   ]
  },
  {
   "cell_type": "code",
   "execution_count": 12,
   "id": "0c1c9829",
   "metadata": {},
   "outputs": [],
   "source": [
    "# abstraction\n",
    "    # literal"
   ]
  },
  {
   "cell_type": "markdown",
   "id": "9197a86b",
   "metadata": {},
   "source": [
    "## USER - DEFINED FUNCTIONS"
   ]
  },
  {
   "cell_type": "markdown",
   "id": "054f974c",
   "metadata": {},
   "source": [
    "- `def` \n",
    "- `name` \n",
    "- `params` \n",
    "- `args` \n",
    "-  `return`\n",
    "- `docstrings` \n",
    "\n",
    "- `source coude`"
   ]
  },
  {
   "cell_type": "markdown",
   "id": "85d6428d",
   "metadata": {
    "lang": "en"
   },
   "source": [
    "**Syntax for DEFINING a function**\n",
    "```python\n",
    "\n",
    "def name_function(input params):\n",
    "    # the colon and the indentation imply being in the function\n",
    "    take an action\n",
    "    return() # return a certain value\n",
    "\n",
    "```\n",
    "\n",
    "**Syntax for CALLING a function**\n",
    "\n",
    "`name_of_the_function(argument1, argument2, ...)`\n",
    "\n",
    "or, if you want to save the result in a variable\n",
    "\n",
    "`result = name_of_the_function(argument1, argument2, ...)`"
   ]
  },
  {
   "cell_type": "markdown",
   "id": "d14ec799",
   "metadata": {},
   "source": [
    "### def"
   ]
  },
  {
   "cell_type": "code",
   "execution_count": null,
   "id": "758fc928",
   "metadata": {},
   "outputs": [],
   "source": [
    "def "
   ]
  },
  {
   "cell_type": "markdown",
   "id": "f2e75efb",
   "metadata": {},
   "source": [
    "### name"
   ]
  },
  {
   "cell_type": "code",
   "execution_count": null,
   "id": "f654d98a",
   "metadata": {},
   "outputs": [],
   "source": [
    "def renaming_columns # verbs\n"
   ]
  },
  {
   "cell_type": "markdown",
   "id": "80ee81e1",
   "metadata": {},
   "source": [
    "### parameters"
   ]
  },
  {
   "cell_type": "markdown",
   "id": "5ddcf19e",
   "metadata": {},
   "source": [
    "`()`"
   ]
  },
  {
   "cell_type": "code",
   "execution_count": null,
   "id": "fdb563e9",
   "metadata": {},
   "outputs": [],
   "source": [
    "def greeging (name) # param"
   ]
  },
  {
   "cell_type": "markdown",
   "id": "93588783",
   "metadata": {},
   "source": [
    "`(param_1, param_2)`"
   ]
  },
  {
   "cell_type": "code",
   "execution_count": null,
   "id": "6a08a012",
   "metadata": {},
   "outputs": [],
   "source": []
  },
  {
   "cell_type": "markdown",
   "id": "5308ad65",
   "metadata": {},
   "source": [
    "### arguments"
   ]
  },
  {
   "cell_type": "code",
   "execution_count": null,
   "id": "875542a9",
   "metadata": {},
   "outputs": [],
   "source": [
    "def greeging (\"Bego\") # argument"
   ]
  },
  {
   "cell_type": "markdown",
   "id": "9791b430",
   "metadata": {},
   "source": [
    "Formal parameters for a function are listed in the function declaration and used in the body of the function definition.\n",
    "\n",
    "An argument is what is used when referring to parameters. When you write a function call, the arguments are listed in parentheses after the function name. When the function call is executed, the arguments are inserted for the parameters.\n",
    "\n",
    "Let's say then that the parameters are those \"imaginary\" variables that will have the same name in the definition and in the body of the function.\n",
    "The arguments are the REAL DATA that we use when we call the function."
   ]
  },
  {
   "cell_type": "markdown",
   "id": "ade26130",
   "metadata": {},
   "source": [
    "#### default parameters"
   ]
  },
  {
   "cell_type": "markdown",
   "id": "6cda5b22",
   "metadata": {},
   "source": [
    "`(param_1, param_default = defaultvalue)` "
   ]
  },
  {
   "cell_type": "markdown",
   "id": "62729a1e",
   "metadata": {},
   "source": [
    "1. `greetings_default(myself, someone_else, language=\"en\")`"
   ]
  },
  {
   "cell_type": "code",
   "execution_count": 14,
   "id": "d6af2d5d",
   "metadata": {},
   "outputs": [],
   "source": [
    "def greetings_default (myself, someone_else, language=\"en\"):\n",
    "    \n",
    "    return f\"Hi {someone_else}! My name is {myself}\""
   ]
  },
  {
   "cell_type": "code",
   "execution_count": 15,
   "id": "dc004363",
   "metadata": {},
   "outputs": [
    {
     "data": {
      "text/plain": [
       "'Hi Bego! My name is Fer'"
      ]
     },
     "execution_count": 15,
     "metadata": {},
     "output_type": "execute_result"
    }
   ],
   "source": [
    "greetings_default (\"Fer\", \"Bego\", language=\"en\")"
   ]
  },
  {
   "cell_type": "code",
   "execution_count": 16,
   "id": "24ef09c5",
   "metadata": {},
   "outputs": [
    {
     "data": {
      "text/plain": [
       "'Hi Bego! My name is Fer'"
      ]
     },
     "execution_count": 16,
     "metadata": {},
     "output_type": "execute_result"
    }
   ],
   "source": [
    "greetings_default (\"Fer\", \"Bego\") # ther is a default"
   ]
  },
  {
   "cell_type": "code",
   "execution_count": 17,
   "id": "9a334c43",
   "metadata": {},
   "outputs": [
    {
     "data": {
      "text/plain": [
       "'Hi Bego! My name is Fer'"
      ]
     },
     "execution_count": 17,
     "metadata": {},
     "output_type": "execute_result"
    }
   ],
   "source": [
    "greetings_default (\"Fer\", \"Bego\", language=\"es\")"
   ]
  },
  {
   "cell_type": "code",
   "execution_count": 18,
   "id": "546fa0f8",
   "metadata": {},
   "outputs": [],
   "source": [
    "def greetings_default (myself, someone_else, language=\"en\"):\n",
    "    \n",
    "    if language == \"en\":\n",
    "        return f\"Hi {someone_else}! My name is {myself}\"\n",
    "    \n",
    "    elif language == \"es\":\n",
    "        return f\"Hola {someone_else}! Soy {myself}\""
   ]
  },
  {
   "cell_type": "code",
   "execution_count": 19,
   "id": "d62c5b13",
   "metadata": {},
   "outputs": [
    {
     "data": {
      "text/plain": [
       "'Hi Bego! My name is Fer'"
      ]
     },
     "execution_count": 19,
     "metadata": {},
     "output_type": "execute_result"
    }
   ],
   "source": [
    "greetings_default (\"Fer\", \"Bego\", language=\"en\")"
   ]
  },
  {
   "cell_type": "code",
   "execution_count": 20,
   "id": "623cc306",
   "metadata": {},
   "outputs": [
    {
     "data": {
      "text/plain": [
       "'Hola Bego! Soy Fer'"
      ]
     },
     "execution_count": 20,
     "metadata": {},
     "output_type": "execute_result"
    }
   ],
   "source": [
    "greetings_default (\"Fer\", \"Bego\", language=\"es\")"
   ]
  },
  {
   "cell_type": "code",
   "execution_count": 21,
   "id": "0c72ea8f",
   "metadata": {},
   "outputs": [
    {
     "data": {
      "text/plain": [
       "'Hi Bego! My name is Fer'"
      ]
     },
     "execution_count": 21,
     "metadata": {},
     "output_type": "execute_result"
    }
   ],
   "source": [
    "greetings_default (\"Fer\", \"Bego\")"
   ]
  },
  {
   "cell_type": "code",
   "execution_count": null,
   "id": "ea0302a8",
   "metadata": {},
   "outputs": [],
   "source": [
    "# Q: why default instead of also including it as a regular parameter?\n",
    "# A: so that I don't have to pass the arguemnt if not needed"
   ]
  },
  {
   "cell_type": "code",
   "execution_count": 39,
   "id": "dd8397b9",
   "metadata": {},
   "outputs": [],
   "source": [
    "def greetings_default (myself, someone_else, the_language):\n",
    "    \n",
    "    if the_language == \"en\":\n",
    "        return f\"Hi {someone_else}! My name is {myself}\"\n",
    "    \n",
    "    elif the_language == \"es\":\n",
    "        return f\"Hola {someone_else}! Soy {myself}\""
   ]
  },
  {
   "cell_type": "code",
   "execution_count": 40,
   "id": "0fc85ff9",
   "metadata": {},
   "outputs": [
    {
     "data": {
      "text/plain": [
       "'Hola Bego! Soy Fer'"
      ]
     },
     "execution_count": 40,
     "metadata": {},
     "output_type": "execute_result"
    }
   ],
   "source": [
    "greetings_default (\"Fer\", \"Bego\", \"es\") "
   ]
  },
  {
   "cell_type": "code",
   "execution_count": 30,
   "id": "d9f28eb5",
   "metadata": {},
   "outputs": [
    {
     "data": {
      "text/plain": [
       "'Hi Bego! My name is Fer'"
      ]
     },
     "execution_count": 30,
     "metadata": {},
     "output_type": "execute_result"
    }
   ],
   "source": [
    "greetings_default (\"Fer\", \"Bego\",\"en\")"
   ]
  },
  {
   "cell_type": "code",
   "execution_count": 25,
   "id": "3c24cde0",
   "metadata": {},
   "outputs": [
    {
     "ename": "TypeError",
     "evalue": "greetings_default() missing 1 required positional argument: 'language'",
     "output_type": "error",
     "traceback": [
      "\u001b[0;31m---------------------------------------------------------------------------\u001b[0m",
      "\u001b[0;31mTypeError\u001b[0m                                 Traceback (most recent call last)",
      "Input \u001b[0;32mIn [25]\u001b[0m, in \u001b[0;36m<cell line: 1>\u001b[0;34m()\u001b[0m\n\u001b[0;32m----> 1\u001b[0m \u001b[43mgreetings_default\u001b[49m\u001b[43m \u001b[49m\u001b[43m(\u001b[49m\u001b[38;5;124;43m\"\u001b[39;49m\u001b[38;5;124;43mFer\u001b[39;49m\u001b[38;5;124;43m\"\u001b[39;49m\u001b[43m,\u001b[49m\u001b[43m \u001b[49m\u001b[38;5;124;43m\"\u001b[39;49m\u001b[38;5;124;43mBego\u001b[39;49m\u001b[38;5;124;43m\"\u001b[39;49m\u001b[43m)\u001b[49m\n",
      "\u001b[0;31mTypeError\u001b[0m: greetings_default() missing 1 required positional argument: 'language'"
     ]
    }
   ],
   "source": [
    "greetings_default (\"Fer\", \"Bego\")"
   ]
  },
  {
   "cell_type": "code",
   "execution_count": null,
   "id": "92d15175",
   "metadata": {},
   "outputs": [],
   "source": [
    "# TypeError: greetings_default() missing 1 required positional argument: 'language'"
   ]
  },
  {
   "cell_type": "markdown",
   "id": "ee22d185",
   "metadata": {},
   "source": [
    "2. `calculation (num_1, num_2, operation=\"+\")`"
   ]
  },
  {
   "cell_type": "code",
   "execution_count": 44,
   "id": "5910d035",
   "metadata": {},
   "outputs": [],
   "source": [
    "def calculation (num_1, num_2, operation = \"+\"):\n",
    "    \n",
    "    if operation == \"+\":\n",
    "        return num_1 + num_2\n",
    "    \n",
    "    elif operation == \"*\":\n",
    "        return num_1 * num_2\n",
    "    \n",
    "    elif operation == \"/\":\n",
    "        return num_1 / num_2\n",
    "    \n",
    "    else:\n",
    "        return num_1 - num_2"
   ]
  },
  {
   "cell_type": "code",
   "execution_count": 45,
   "id": "5cd3a9aa",
   "metadata": {},
   "outputs": [
    {
     "data": {
      "text/plain": [
       "13"
      ]
     },
     "execution_count": 45,
     "metadata": {},
     "output_type": "execute_result"
    }
   ],
   "source": [
    "calculation (10, 3, operation = \"+\")"
   ]
  },
  {
   "cell_type": "code",
   "execution_count": 46,
   "id": "53a476d0",
   "metadata": {},
   "outputs": [
    {
     "data": {
      "text/plain": [
       "13"
      ]
     },
     "execution_count": 46,
     "metadata": {},
     "output_type": "execute_result"
    }
   ],
   "source": [
    "calculation (10, 3) #default"
   ]
  },
  {
   "cell_type": "code",
   "execution_count": 47,
   "id": "f822b93e",
   "metadata": {},
   "outputs": [
    {
     "data": {
      "text/plain": [
       "3.3333333333333335"
      ]
     },
     "execution_count": 47,
     "metadata": {},
     "output_type": "execute_result"
    }
   ],
   "source": [
    "calculation (10, 3, \"/\")"
   ]
  },
  {
   "cell_type": "code",
   "execution_count": 48,
   "id": "b6e1900d",
   "metadata": {},
   "outputs": [
    {
     "data": {
      "text/plain": [
       "7"
      ]
     },
     "execution_count": 48,
     "metadata": {},
     "output_type": "execute_result"
    }
   ],
   "source": [
    "calculation (10, 3, \"%\")"
   ]
  },
  {
   "cell_type": "code",
   "execution_count": 50,
   "id": "8f504d99",
   "metadata": {},
   "outputs": [],
   "source": [
    "# Q: If it's a default: refactor?\n",
    "\n",
    "def calculation (num_1, num_2, operation = \"+\"):\n",
    "        \n",
    "    if operation == \"*\":\n",
    "        return num_1 * num_2\n",
    "    \n",
    "    elif operation == \"/\":\n",
    "        return num_1 / num_2\n",
    "    \n",
    "    elif operation == \"-\":\n",
    "        return num_1 - num_2\n",
    "    \n",
    "    return num_1 + num_2"
   ]
  },
  {
   "cell_type": "code",
   "execution_count": 57,
   "id": "cc7e41d2",
   "metadata": {},
   "outputs": [
    {
     "data": {
      "text/plain": [
       "30"
      ]
     },
     "execution_count": 57,
     "metadata": {},
     "output_type": "execute_result"
    }
   ],
   "source": [
    "calculation (num_1 = 10, num_2 = 3, operation=\"*\")"
   ]
  },
  {
   "cell_type": "code",
   "execution_count": 58,
   "id": "dbdef5ce",
   "metadata": {},
   "outputs": [
    {
     "data": {
      "text/plain": [
       "30"
      ]
     },
     "execution_count": 58,
     "metadata": {},
     "output_type": "execute_result"
    }
   ],
   "source": [
    "calculation (10, 3, \"*\")"
   ]
  },
  {
   "cell_type": "code",
   "execution_count": null,
   "id": "3f061408",
   "metadata": {},
   "outputs": [],
   "source": [
    "# After a functions hits return, it is DONE"
   ]
  },
  {
   "cell_type": "code",
   "execution_count": null,
   "id": "632fcf4f",
   "metadata": {},
   "outputs": [],
   "source": [
    "# User-defined\n",
    "    # docstring: string with documentation within the code\n",
    "# from library\n",
    "    # shift & tab: "
   ]
  },
  {
   "cell_type": "code",
   "execution_count": 62,
   "id": "96dd906a",
   "metadata": {},
   "outputs": [
    {
     "ename": "TypeError",
     "evalue": "read_csv() missing 1 required positional argument: 'filepath_or_buffer'",
     "output_type": "error",
     "traceback": [
      "\u001b[0;31m---------------------------------------------------------------------------\u001b[0m",
      "\u001b[0;31mTypeError\u001b[0m                                 Traceback (most recent call last)",
      "Input \u001b[0;32mIn [62]\u001b[0m, in \u001b[0;36m<cell line: 2>\u001b[0;34m()\u001b[0m\n\u001b[1;32m      1\u001b[0m \u001b[38;5;28;01mimport\u001b[39;00m \u001b[38;5;21;01mpandas\u001b[39;00m \u001b[38;5;28;01mas\u001b[39;00m \u001b[38;5;21;01mpd\u001b[39;00m\n\u001b[0;32m----> 2\u001b[0m df \u001b[38;5;241m=\u001b[39m \u001b[43mpd\u001b[49m\u001b[38;5;241;43m.\u001b[39;49m\u001b[43mread_csv\u001b[49m\u001b[43m(\u001b[49m\u001b[43msep\u001b[49m\u001b[38;5;241;43m=\u001b[39;49m\u001b[38;5;124;43m\"\u001b[39;49m\u001b[38;5;124;43m,\u001b[39;49m\u001b[38;5;124;43m\"\u001b[39;49m\u001b[43m)\u001b[49m\n\u001b[1;32m      3\u001b[0m df\u001b[38;5;241m.\u001b[39mhead()\n",
      "\u001b[0;31mTypeError\u001b[0m: read_csv() missing 1 required positional argument: 'filepath_or_buffer'"
     ]
    }
   ],
   "source": [
    "import pandas as pd\n",
    "df = pd.read_csv(sep=\",\")\n",
    "df.head()"
   ]
  },
  {
   "cell_type": "markdown",
   "id": "37fbea85",
   "metadata": {},
   "source": [
    "#### positional arguments & keyword arguments"
   ]
  },
  {
   "cell_type": "markdown",
   "id": "e3e4c777",
   "metadata": {},
   "source": [
    "`def addition (num_1, some_name=withavalue)`"
   ]
  },
  {
   "cell_type": "markdown",
   "id": "b77b53ca",
   "metadata": {},
   "source": [
    "#### `*args`\n",
    "In Python, the special parameter `*args` in a function is used to optionally pass a variable number of **positional** arguments."
   ]
  },
  {
   "cell_type": "markdown",
   "id": "2bb755bc",
   "metadata": {},
   "source": [
    "`two arguments`"
   ]
  },
  {
   "cell_type": "code",
   "execution_count": 63,
   "id": "d76e4be9",
   "metadata": {},
   "outputs": [],
   "source": [
    "def addition_of_numbers (a, b):\n",
    "    return a + b"
   ]
  },
  {
   "cell_type": "code",
   "execution_count": 64,
   "id": "31d3c756",
   "metadata": {},
   "outputs": [
    {
     "data": {
      "text/plain": [
       "13"
      ]
     },
     "execution_count": 64,
     "metadata": {},
     "output_type": "execute_result"
    }
   ],
   "source": [
    "addition_of_numbers (10, 3)"
   ]
  },
  {
   "cell_type": "code",
   "execution_count": 100,
   "id": "b5c2ae33",
   "metadata": {},
   "outputs": [],
   "source": [
    "def addition_of_numbers (*nums): # variable number of args\n",
    "    counter = 0\n",
    "    \n",
    "    print(f\"The *nums are: \", nums)\n",
    "    print(f\"The type(*nums) is: \", type(nums))\n",
    "\n",
    "    for i in nums:\n",
    "        counter += i\n",
    "        \n",
    "    return counter"
   ]
  },
  {
   "cell_type": "code",
   "execution_count": 102,
   "id": "ea4bf62e",
   "metadata": {},
   "outputs": [
    {
     "name": "stdout",
     "output_type": "stream",
     "text": [
      "The *nums are:  (1, 2, 34)\n",
      "The type(*nums) is:  <class 'tuple'>\n"
     ]
    },
    {
     "data": {
      "text/plain": [
       "37"
      ]
     },
     "execution_count": 102,
     "metadata": {},
     "output_type": "execute_result"
    }
   ],
   "source": [
    "addition_of_numbers (1, 2, 34)"
   ]
  },
  {
   "cell_type": "markdown",
   "id": "7fee6e45",
   "metadata": {},
   "source": [
    "`unkown number of arguments`"
   ]
  },
  {
   "cell_type": "code",
   "execution_count": 110,
   "id": "18a77de6",
   "metadata": {},
   "outputs": [],
   "source": [
    "def addition_of_numbers (num_1, num_2, *nums): # variable number of args\n",
    "    counter = 0\n",
    "    \n",
    "    regular_addition = num_1 * num_2\n",
    "\n",
    "    for i in nums:\n",
    "        counter += i\n",
    "        \n",
    "    total = regular_addition + counter \n",
    "    return total"
   ]
  },
  {
   "cell_type": "code",
   "execution_count": 111,
   "id": "780bda49",
   "metadata": {},
   "outputs": [
    {
     "data": {
      "text/plain": [
       "60"
      ]
     },
     "execution_count": 111,
     "metadata": {},
     "output_type": "execute_result"
    }
   ],
   "source": [
    "addition_of_numbers (30, 2)"
   ]
  },
  {
   "cell_type": "code",
   "execution_count": 112,
   "id": "17cb7a1f",
   "metadata": {},
   "outputs": [
    {
     "data": {
      "text/plain": [
       "46"
      ]
     },
     "execution_count": 112,
     "metadata": {},
     "output_type": "execute_result"
    }
   ],
   "source": [
    "addition_of_numbers (2, 10, 4, 0, 10, 3, 4, 5)\n",
    "#addition_of_numbers (2, 10, *(4, 0, 10, 3, 4, 5))"
   ]
  },
  {
   "cell_type": "code",
   "execution_count": 128,
   "id": "889211f6",
   "metadata": {},
   "outputs": [
    {
     "data": {
      "text/plain": [
       "60"
      ]
     },
     "execution_count": 128,
     "metadata": {},
     "output_type": "execute_result"
    }
   ],
   "source": [
    "addition_of_numbers (30, 2)"
   ]
  },
  {
   "cell_type": "code",
   "execution_count": 129,
   "id": "d15e5560",
   "metadata": {},
   "outputs": [],
   "source": [
    "result_of_calculation = addition_of_numbers (30, 2)"
   ]
  },
  {
   "cell_type": "code",
   "execution_count": 130,
   "id": "6c789276",
   "metadata": {},
   "outputs": [
    {
     "data": {
      "text/plain": [
       "60"
      ]
     },
     "execution_count": 130,
     "metadata": {},
     "output_type": "execute_result"
    }
   ],
   "source": [
    "result_of_calculation"
   ]
  },
  {
   "cell_type": "markdown",
   "id": "17a04c9e",
   "metadata": {},
   "source": [
    "`otherwise`: errors"
   ]
  },
  {
   "cell_type": "code",
   "execution_count": null,
   "id": "30e61eaa",
   "metadata": {},
   "outputs": [],
   "source": []
  },
  {
   "cell_type": "markdown",
   "id": "67833de1",
   "metadata": {},
   "source": [
    "#### **kwargs"
   ]
  },
  {
   "cell_type": "code",
   "execution_count": null,
   "id": "fb69c6d9",
   "metadata": {},
   "outputs": [],
   "source": []
  },
  {
   "cell_type": "markdown",
   "id": "8821d732",
   "metadata": {},
   "source": [
    "#### order"
   ]
  },
  {
   "cell_type": "markdown",
   "id": "12ce7273",
   "metadata": {},
   "source": [
    "`def example(arg1, arg2, *args,**kwargs)`"
   ]
  },
  {
   "cell_type": "markdown",
   "id": "5a76c906",
   "metadata": {},
   "source": [
    "### return\n",
    "\n",
    "- return gives you something back\n",
    "- there can be more than one return\n",
    "- **after a function returns something, the execution STOPS**"
   ]
  },
  {
   "cell_type": "markdown",
   "id": "506cb965",
   "metadata": {},
   "source": [
    "`function with return`"
   ]
  },
  {
   "cell_type": "code",
   "execution_count": null,
   "id": "70fc6f43",
   "metadata": {},
   "outputs": [],
   "source": []
  },
  {
   "cell_type": "markdown",
   "id": "b61cca6c",
   "metadata": {},
   "source": [
    "`function with no return`: NoneType"
   ]
  },
  {
   "cell_type": "code",
   "execution_count": null,
   "id": "c5f4e9ca",
   "metadata": {},
   "outputs": [],
   "source": []
  },
  {
   "cell_type": "markdown",
   "id": "3f0b4787",
   "metadata": {},
   "source": [
    "`accessing the value of the result of the function`: print & return"
   ]
  },
  {
   "cell_type": "code",
   "execution_count": null,
   "id": "6e03ec1a",
   "metadata": {},
   "outputs": [],
   "source": []
  },
  {
   "cell_type": "markdown",
   "id": "309bb330",
   "metadata": {},
   "source": [
    "`more than one return`"
   ]
  },
  {
   "cell_type": "code",
   "execution_count": null,
   "id": "39587ded",
   "metadata": {},
   "outputs": [],
   "source": []
  },
  {
   "cell_type": "markdown",
   "id": "d4a7b05b",
   "metadata": {},
   "source": [
    "### Docstrings: documentation strings"
   ]
  },
  {
   "cell_type": "markdown",
   "id": "65bd3a59",
   "metadata": {},
   "source": [
    "- The code is written 1 time.\n",
    "- The code is read 100 times.\n",
    "- Help your colleagues understand your work.\n",
    "\n",
    "![lafoto](https://res.cloudinary.com/highflyer910/image/upload/v1589577574/1_1_httqnc.jpg)"
   ]
  },
  {
   "cell_type": "markdown",
   "id": "14e0777b",
   "metadata": {},
   "source": [
    "In this example, we have defined a cat function that returns meow. We have declared a docstring that explains what the function does. To get the docstring of a function, we need to display the doc attribute (print(cat.__doc__))\n",
    "Photo reference, description and more info about docstring [here](https://techiestuff.netlify.app/blog/what-is-a-python-docstring/)"
   ]
  },
  {
   "cell_type": "code",
   "execution_count": null,
   "id": "93154e4c",
   "metadata": {},
   "outputs": [],
   "source": []
  },
  {
   "cell_type": "markdown",
   "id": "1bcd1e17",
   "metadata": {},
   "source": [
    "### source code"
   ]
  },
  {
   "cell_type": "code",
   "execution_count": null,
   "id": "15a16e01",
   "metadata": {},
   "outputs": [],
   "source": []
  },
  {
   "cell_type": "markdown",
   "id": "86c5ccda",
   "metadata": {
    "lang": "en"
   },
   "source": [
    "## Scope of functions"
   ]
  },
  {
   "cell_type": "markdown",
   "id": "a353567d",
   "metadata": {},
   "source": [
    "`outer to inner`"
   ]
  },
  {
   "cell_type": "code",
   "execution_count": null,
   "id": "68156243",
   "metadata": {},
   "outputs": [],
   "source": []
  },
  {
   "cell_type": "markdown",
   "id": "c26ce173",
   "metadata": {},
   "source": [
    "`inner to outter` "
   ]
  },
  {
   "cell_type": "code",
   "execution_count": null,
   "id": "1281cc32",
   "metadata": {},
   "outputs": [],
   "source": []
  },
  {
   "cell_type": "markdown",
   "id": "80ccf4fe",
   "metadata": {},
   "source": [
    "[Extra: global variables](https://www.w3schools.com/python/python_variables_global.asp)"
   ]
  },
  {
   "cell_type": "markdown",
   "id": "28a2d72b",
   "metadata": {
    "lang": "en"
   },
   "source": [
    "## Lambda\n",
    "A lambda function is an anonymous function, with no identifier, that can be declared in place. Since we can take functions as arguments and assign them to variables, the notation that makes it possible to create lambda functions is very handy in many cases.\n",
    "\n",
    "\n",
    "### Syntax of a lambda\n",
    "```python\n",
    "lambda <param list>:<return expression>\n",
    "```\n"
   ]
  },
  {
   "cell_type": "code",
   "execution_count": null,
   "id": "78318b75",
   "metadata": {},
   "outputs": [],
   "source": []
  },
  {
   "cell_type": "markdown",
   "id": "5add6142",
   "metadata": {},
   "source": [
    "### lambda examples"
   ]
  },
  {
   "cell_type": "code",
   "execution_count": null,
   "id": "f929c4ac",
   "metadata": {},
   "outputs": [],
   "source": []
  },
  {
   "cell_type": "markdown",
   "id": "6f67a9bf",
   "metadata": {},
   "source": [
    "### `lambda`  as the option of some other built-in functions"
   ]
  },
  {
   "cell_type": "markdown",
   "id": "85df84e3",
   "metadata": {
    "lang": "en"
   },
   "source": [
    "It is also possible to use these anonymous functions as arguments in calls to other functions. For example, in a call to sorted() or list.sort() we can use a lambda function as an argument to the key parameter:"
   ]
  },
  {
   "cell_type": "code",
   "execution_count": null,
   "id": "31abf911",
   "metadata": {},
   "outputs": [],
   "source": []
  },
  {
   "cell_type": "markdown",
   "id": "51204969",
   "metadata": {},
   "source": [
    "## Functions: functions as return of another function"
   ]
  },
  {
   "cell_type": "code",
   "execution_count": null,
   "id": "35748490",
   "metadata": {},
   "outputs": [],
   "source": []
  },
  {
   "cell_type": "markdown",
   "id": "f90508d9",
   "metadata": {
    "lang": "en"
   },
   "source": [
    "## Recursion\n",
    "It is called recursive call (or recursion), to those functions that in their algorithm, refer to itself.\n",
    "\n",
    "Recursive calls are usually very useful in very specific cases, but due to their great feasibility of falling into infinite iterations, adequate preventive measures should be taken and only used when strictly necessary and there is no viable alternative way to solve the problem. avoiding recursion.\n",
    "\n",
    "Python supports recursive calls, allowing a function to call itself, just as it does when calling another function."
   ]
  },
  {
   "cell_type": "code",
   "execution_count": null,
   "id": "cb764c07",
   "metadata": {},
   "outputs": [],
   "source": []
  },
  {
   "cell_type": "markdown",
   "id": "419b6db5",
   "metadata": {},
   "source": [
    "`ins't it the same as a while loop?`"
   ]
  },
  {
   "cell_type": "code",
   "execution_count": null,
   "id": "841ed12d",
   "metadata": {},
   "outputs": [],
   "source": []
  },
  {
   "cell_type": "markdown",
   "id": "4cb268d0",
   "metadata": {
    "lang": "en"
   },
   "source": [
    "## Summary\n",
    "It's your turn. What have we learned today?"
   ]
  },
  {
   "cell_type": "code",
   "execution_count": null,
   "id": "5af47259",
   "metadata": {},
   "outputs": [],
   "source": []
  }
 ],
 "metadata": {
  "kernelspec": {
   "display_name": "ironhack",
   "language": "python",
   "name": "ironhack"
  },
  "language_info": {
   "codemirror_mode": {
    "name": "ipython",
    "version": 3
   },
   "file_extension": ".py",
   "mimetype": "text/x-python",
   "name": "python",
   "nbconvert_exporter": "python",
   "pygments_lexer": "ipython3",
   "version": "3.9.12"
  },
  "nbTranslate": {
   "displayLangs": [
    "en",
    "es"
   ],
   "hotkey": "alt-a",
   "langInMainMenu": true,
   "sourceLang": "es",
   "targetLang": "en",
   "useGoogleTranslate": true
  },
  "toc": {
   "base_numbering": 1,
   "nav_menu": {},
   "number_sections": true,
   "sideBar": true,
   "skip_h1_title": true,
   "title_cell": "Table of Contents",
   "title_sidebar": "Contents",
   "toc_cell": true,
   "toc_position": {
    "height": "calc(100% - 180px)",
    "left": "10px",
    "top": "150px",
    "width": "288px"
   },
   "toc_section_display": true,
   "toc_window_display": false
  }
 },
 "nbformat": 4,
 "nbformat_minor": 5
}
