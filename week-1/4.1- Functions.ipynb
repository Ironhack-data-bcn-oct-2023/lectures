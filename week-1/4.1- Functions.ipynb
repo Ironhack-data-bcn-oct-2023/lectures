{
 "cells": [
  {
   "cell_type": "markdown",
   "id": "faf98556",
   "metadata": {},
   "source": [
    "# RECAP: Flow Control & list comprehensions\n",
    "\n",
    "- List comprehensions\n",
    "    - Creating a list: loop & append*\n",
    "    - Shorter & more complex: Writing loops\n",
    "    - Only if you have practice\n",
    "    \n",
    "- Syntax\n",
    "    - `name_new_list = [result for i in something]`\n",
    "    - `name_new_cond = [i for i in something if i > 5]`\n",
    "    - `name_if_else = [i.upper() if len(i) > 5 else i.lower() for i in something ]`\n",
    "\n",
    "- Comprehension\n",
    "    - Lists\n",
    "    - Dictionaries: `name = {key:value for key:value in something.items()}`\n",
    "        - zip: list_1, list_2\n",
    "        `name = {item_list_1:item_list_2 for item_list_1, item_list_2 in zip(list_1, list_2)}` \n",
    "            - names = [\"Albert\", \"Clara\"]\n",
    "            - cities = [\"Mataró, \"Barcelona\"]\n",
    "            dict_cities_names = {\"Albert\":\"Mataró\", \"Clara\": \"Barcelona\"}\n",
    "    \n",
    "    - Sets\n",
    "    - Tuples\n",
    "\n",
    "\n",
    "- zip: it loops through two (or more) lists at once\n",
    "    - same length: ok\n",
    "    - not same length: shortest one\n",
    "    - list_1 & list_2\n",
    "    - `for item_list_1, item_list_2 in zip(list_1, list_2)`\n",
    "    \n",
    "    \n",
    "- `enumerate`: index\n",
    "    - It helps us get the item & its index at once\n",
    "    - `for index, element in enumerate(list_1)`\n",
    "    - `for a, b  in  enueramate(list_1)`\n",
    "    - `for position, the_item  in  enumerate(list_1)`\n",
    "    - First one refers to the index\n",
    "    \n",
    "- LOOPS\n",
    "     - while\n",
    "         - you don't know how many times\n",
    "         - it stops: based on a condition until it's met\n",
    "         \n",
    "     - for\n",
    "         - when you know; based on the length of whatever you're looping\n",
    "     \n",
    "     - keywords:\n",
    "         - continue: doesn't stop loop, jumps into next iteration. \n",
    "         - break: stops the loop.\n",
    "         - pass: it passes, it does nothing, makes sure the code doesn't break, placeholder.\n",
    "     \n",
    "     - loopable objects\n",
    "         - iterables\n",
    "         - an INT is not an iterable\n",
    "             - workaround: cast into str\n",
    "         \n",
    "- Pseudocode\n",
    "    - what is it: human way of writing code\n",
    "    - useful to draft your code before actually coding\n",
    "    - gives you a plan\n",
    "    \n",
    "- Refactoring\n",
    "    - Making your code better\n",
    "    - IS: changing the form but not the function\n",
    "        - More efficient: \n",
    "            - Faster\n",
    "            - Remove unnecessary steps along the way\n",
    "        - Cleaner\n",
    "        - More explicit\n",
    "        - Less code\n",
    "        \n",
    "- IF vs. IF / ELIF   \n",
    "   - If / if \n",
    "       - Problems: \n",
    "           - check separately\n",
    "           - Conditions AREN'T mutually exclusive\n",
    "           - Check for many things at once\n",
    "           - Password:\n",
    "               if len()\n",
    "               if characher included\n",
    "               if uppercase\n",
    "  \n",
    "   \n",
    "   - If / elif\n",
    "      - Either option, one OR the other, but not both\n",
    "      - Cannot be used with greater than AND smaller than -> mutually exclusive\n",
    "   - If / if / if / if\n",
    "       - Still will work\n",
    "       - Not efficient: python will continue reading all of it\n",
    "- formatting\n",
    "    - print(f\"My string {var1}, {var2}\")\n",
    "    - print(\"My string {}, {}\".format(var1, var2))\n",
    "    - It can be saved into a variable\n",
    "    \n",
    "- Strings & variables\n",
    "    - string methods return some things: workaround\n",
    "        - doesn't persist: it may not modify the actual object\n",
    "        - COPY instead of changing the thing\n",
    "        - to persist: new variable\n",
    "        - HINTs: \n",
    "            - If printed: not affected\n",
    "            - If not printed: changed (won't tell you)\n",
    "            \n",
    "- BOOL\n",
    "    - Data type: Boolean, True / False\n",
    "    - Truthy / Falsie: what things evaluate to\n",
    "        - str, data type str -> evaluate to truthy or falsie\n",
    "    - What are falsies:\n",
    "        - 0\n",
    "        - range(0)\n",
    "        - 0.0\n",
    "        - Empty data strcutures: [], (), {} (dict), set(), \"\"\n",
    "    - (True and False): False\n",
    "    - (False and False):\n",
    "        - is false\n",
    "        - false == false -> true\n",
    "        - `(False and False) == False` -> True\n",
    "    - True and True: True\n",
    "    - conditions\n",
    "        - `if len(var) > 0`\n",
    "        - `if var`"
   ]
  },
  {
   "cell_type": "code",
   "execution_count": null,
   "id": "e0f54cd0",
   "metadata": {},
   "outputs": [],
   "source": [
    "# TypeError: 'int' object is not iterable"
   ]
  },
  {
   "cell_type": "code",
   "execution_count": 4,
   "id": "c3c6f6a0",
   "metadata": {},
   "outputs": [
    {
     "data": {
      "text/plain": [
       "False"
      ]
     },
     "execution_count": 4,
     "metadata": {},
     "output_type": "execute_result"
    }
   ],
   "source": [
    "hello = False and False\n",
    "hello"
   ]
  },
  {
   "cell_type": "code",
   "execution_count": 5,
   "id": "ad113b64",
   "metadata": {},
   "outputs": [
    {
     "data": {
      "text/plain": [
       "True"
      ]
     },
     "execution_count": 5,
     "metadata": {},
     "output_type": "execute_result"
    }
   ],
   "source": [
    "hello == False"
   ]
  },
  {
   "cell_type": "code",
   "execution_count": 12,
   "id": "42c3bc14",
   "metadata": {},
   "outputs": [
    {
     "data": {
      "text/plain": [
       "True"
      ]
     },
     "execution_count": 12,
     "metadata": {},
     "output_type": "execute_result"
    }
   ],
   "source": [
    "True or False"
   ]
  },
  {
   "cell_type": "code",
   "execution_count": 13,
   "id": "e114a1f0",
   "metadata": {},
   "outputs": [
    {
     "data": {
      "text/plain": [
       "True"
      ]
     },
     "execution_count": 13,
     "metadata": {},
     "output_type": "execute_result"
    }
   ],
   "source": [
    "False or True"
   ]
  },
  {
   "cell_type": "code",
   "execution_count": 14,
   "id": "fe02c2c8",
   "metadata": {},
   "outputs": [
    {
     "data": {
      "text/plain": [
       "False"
      ]
     },
     "execution_count": 14,
     "metadata": {},
     "output_type": "execute_result"
    }
   ],
   "source": [
    "False or False"
   ]
  },
  {
   "cell_type": "code",
   "execution_count": 15,
   "id": "cfabdd29",
   "metadata": {},
   "outputs": [
    {
     "data": {
      "text/plain": [
       "True"
      ]
     },
     "execution_count": 15,
     "metadata": {},
     "output_type": "execute_result"
    }
   ],
   "source": [
    "False or True"
   ]
  },
  {
   "cell_type": "code",
   "execution_count": 16,
   "id": "66821d0b",
   "metadata": {},
   "outputs": [
    {
     "data": {
      "text/plain": [
       "True"
      ]
     },
     "execution_count": 16,
     "metadata": {},
     "output_type": "execute_result"
    }
   ],
   "source": [
    "True or True"
   ]
  },
  {
   "cell_type": "markdown",
   "id": "d3a5bb03",
   "metadata": {},
   "source": [
    "```\n",
    "cond_1 = True\n",
    "cond_2 = False\n",
    "cond_3 = True\n",
    "cond_4 = True\n",
    "\n",
    "for ...\n",
    "    if...\n",
    "        cond_2 = True\n",
    "        \n",
    "print(((cond_1 or cond_2) and cond_3) == cond_4) #true / false\n",
    "```"
   ]
  },
  {
   "cell_type": "code",
   "execution_count": 21,
   "id": "7b568f3b",
   "metadata": {},
   "outputs": [
    {
     "data": {
      "text/plain": [
       "True"
      ]
     },
     "execution_count": 21,
     "metadata": {},
     "output_type": "execute_result"
    }
   ],
   "source": [
    "((cond_1 or cond_2) and cond_3) == cond_4"
   ]
  },
  {
   "cell_type": "code",
   "execution_count": null,
   "id": "69b95b98",
   "metadata": {},
   "outputs": [],
   "source": []
  },
  {
   "cell_type": "code",
   "execution_count": 17,
   "id": "930e86c5",
   "metadata": {},
   "outputs": [
    {
     "data": {
      "text/plain": [
       "True"
      ]
     },
     "execution_count": 17,
     "metadata": {},
     "output_type": "execute_result"
    }
   ],
   "source": [
    "False or True # OR -> True"
   ]
  },
  {
   "cell_type": "code",
   "execution_count": 11,
   "id": "fc76e737",
   "metadata": {},
   "outputs": [
    {
     "data": {
      "text/plain": [
       "True"
      ]
     },
     "execution_count": 11,
     "metadata": {},
     "output_type": "execute_result"
    }
   ],
   "source": [
    "(False or False) == False # should be true (?)"
   ]
  },
  {
   "cell_type": "code",
   "execution_count": 8,
   "id": "30804df8",
   "metadata": {},
   "outputs": [
    {
     "data": {
      "text/plain": [
       "True"
      ]
     },
     "execution_count": 8,
     "metadata": {},
     "output_type": "execute_result"
    }
   ],
   "source": [
    "(True and False) == False"
   ]
  },
  {
   "cell_type": "code",
   "execution_count": 4,
   "id": "47ee7047",
   "metadata": {},
   "outputs": [
    {
     "data": {
      "text/plain": [
       "set()"
      ]
     },
     "execution_count": 4,
     "metadata": {},
     "output_type": "execute_result"
    }
   ],
   "source": [
    "# empty set\n",
    "set()"
   ]
  },
  {
   "cell_type": "code",
   "execution_count": 5,
   "id": "e2daf212",
   "metadata": {},
   "outputs": [],
   "source": [
    "my_list = []"
   ]
  },
  {
   "cell_type": "code",
   "execution_count": 7,
   "id": "538650be",
   "metadata": {},
   "outputs": [
    {
     "data": {
      "text/plain": [
       "[]"
      ]
     },
     "execution_count": 7,
     "metadata": {},
     "output_type": "execute_result"
    }
   ],
   "source": [
    "my_list = list()\n",
    "my_list"
   ]
  },
  {
   "cell_type": "markdown",
   "id": "9eb0f57b",
   "metadata": {
    "lang": "en"
   },
   "source": [
    "# Functional Programming"
   ]
  },
  {
   "cell_type": "markdown",
   "id": "conceptual-behalf",
   "metadata": {},
   "source": [
    "![elgif](https://media.giphy.com/media/CuMiNoTRz2bYc/giphy.gif)"
   ]
  },
  {
   "cell_type": "markdown",
   "id": "incorrect-serum",
   "metadata": {
    "toc": true
   },
   "source": [
    "<h1>Table of Contents<span class=\"tocSkip\"></span></h1>\n",
    "<div class=\"toc\"><ul class=\"toc-item\"><li><span><a href=\"#Your-contributions-🚀\" data-toc-modified-id=\"Your-contributions-🚀-1\"><span class=\"toc-item-num\">1&nbsp;&nbsp;</span>Your contributions 🚀</a></span></li><li><span><a href=\"#What-is-functional-programming?:-paradigms\" data-toc-modified-id=\"What-is-functional-programming?:-paradigms-2\"><span class=\"toc-item-num\">2&nbsp;&nbsp;</span>What is functional programming?: paradigms</a></span></li><li><span><a href=\"#Built-in-functions\" data-toc-modified-id=\"Built-in-functions-3\"><span class=\"toc-item-num\">3&nbsp;&nbsp;</span>Built-in functions</a></span></li><li><span><a href=\"#USER---DEFINED-FUNCTIONS\" data-toc-modified-id=\"USER---DEFINED-FUNCTIONS-4\"><span class=\"toc-item-num\">4&nbsp;&nbsp;</span>USER - DEFINED FUNCTIONS</a></span><ul class=\"toc-item\"><li><span><a href=\"#def\" data-toc-modified-id=\"def-4.1\"><span class=\"toc-item-num\">4.1&nbsp;&nbsp;</span>def</a></span></li><li><span><a href=\"#name\" data-toc-modified-id=\"name-4.2\"><span class=\"toc-item-num\">4.2&nbsp;&nbsp;</span>name</a></span></li><li><span><a href=\"#parameters\" data-toc-modified-id=\"parameters-4.3\"><span class=\"toc-item-num\">4.3&nbsp;&nbsp;</span>parameters</a></span></li><li><span><a href=\"#arguments\" data-toc-modified-id=\"arguments-4.4\"><span class=\"toc-item-num\">4.4&nbsp;&nbsp;</span>arguments</a></span><ul class=\"toc-item\"><li><span><a href=\"#default-parameters\" data-toc-modified-id=\"default-parameters-4.4.1\"><span class=\"toc-item-num\">4.4.1&nbsp;&nbsp;</span>default parameters</a></span></li><li><span><a href=\"#positional-arguments-&amp;-keyword-arguments\" data-toc-modified-id=\"positional-arguments-&amp;-keyword-arguments-4.4.2\"><span class=\"toc-item-num\">4.4.2&nbsp;&nbsp;</span>positional arguments &amp; keyword arguments</a></span></li><li><span><a href=\"#*args\" data-toc-modified-id=\"*args-4.4.3\"><span class=\"toc-item-num\">4.4.3&nbsp;&nbsp;</span><code>*args</code></a></span></li><li><span><a href=\"#**kwargs\" data-toc-modified-id=\"**kwargs-4.4.4\"><span class=\"toc-item-num\">4.4.4&nbsp;&nbsp;</span>**kwargs</a></span></li><li><span><a href=\"#order\" data-toc-modified-id=\"order-4.4.5\"><span class=\"toc-item-num\">4.4.5&nbsp;&nbsp;</span>order</a></span></li></ul></li><li><span><a href=\"#return\" data-toc-modified-id=\"return-4.5\"><span class=\"toc-item-num\">4.5&nbsp;&nbsp;</span>return</a></span></li><li><span><a href=\"#Docstrings:-documentation-strings\" data-toc-modified-id=\"Docstrings:-documentation-strings-4.6\"><span class=\"toc-item-num\">4.6&nbsp;&nbsp;</span>Docstrings: documentation strings</a></span></li><li><span><a href=\"#source-code\" data-toc-modified-id=\"source-code-4.7\"><span class=\"toc-item-num\">4.7&nbsp;&nbsp;</span>source code</a></span></li></ul></li><li><span><a href=\"#Scope-of-functions\" data-toc-modified-id=\"Scope-of-functions-5\"><span class=\"toc-item-num\">5&nbsp;&nbsp;</span>Scope of functions</a></span></li><li><span><a href=\"#Lambda\" data-toc-modified-id=\"Lambda-6\"><span class=\"toc-item-num\">6&nbsp;&nbsp;</span>Lambda</a></span><ul class=\"toc-item\"><li><span><a href=\"#Syntax-of-a-lambda\" data-toc-modified-id=\"Syntax-of-a-lambda-6.1\"><span class=\"toc-item-num\">6.1&nbsp;&nbsp;</span>Syntax of a lambda</a></span></li><li><span><a href=\"#lambda-examples\" data-toc-modified-id=\"lambda-examples-6.2\"><span class=\"toc-item-num\">6.2&nbsp;&nbsp;</span>lambda examples</a></span></li><li><span><a href=\"#lambda--as-the-option-of-some-other-built-in-functions\" data-toc-modified-id=\"lambda--as-the-option-of-some-other-built-in-functions-6.3\"><span class=\"toc-item-num\">6.3&nbsp;&nbsp;</span><code>lambda</code>  as the option of some other built-in functions</a></span></li></ul></li><li><span><a href=\"#Functions:-functions-as-return-of-another-function\" data-toc-modified-id=\"Functions:-functions-as-return-of-another-function-7\"><span class=\"toc-item-num\">7&nbsp;&nbsp;</span>Functions: functions as return of another function</a></span></li><li><span><a href=\"#Recursion\" data-toc-modified-id=\"Recursion-8\"><span class=\"toc-item-num\">8&nbsp;&nbsp;</span>Recursion</a></span></li><li><span><a href=\"#Summary\" data-toc-modified-id=\"Summary-9\"><span class=\"toc-item-num\">9&nbsp;&nbsp;</span>Summary</a></span></li></ul></div>"
   ]
  },
  {
   "cell_type": "markdown",
   "id": "756fea03",
   "metadata": {},
   "source": [
    "-- overwrite your changes\n",
    "-- git stash\n",
    "-- git pull\n",
    "\n",
    "\n",
    "\n",
    "\n"
   ]
  },
  {
   "cell_type": "markdown",
   "id": "c8dbbad6",
   "metadata": {
    "lang": "en"
   },
   "source": [
    "## Your contributions 🚀\n",
    "What do you think functions do/what properties do they have? Whare they useful for?"
   ]
  },
  {
   "cell_type": "markdown",
   "id": "d88042dc",
   "metadata": {},
   "source": [
    "- FUNCTIONS\n",
    "    - transform x into z\n",
    "    - a box where you put something in and you get something out transformed\n",
    "        - Piece of code (box): DO THINGS\n",
    "    - something you make to invoke later, and it takes arguments\n",
    "        - 1. DEFINE, 2. CALL\n",
    "    - way to avoid repeatitive actions\n",
    "        - lazy -> reuse code\n",
    "        - Code to be reused, lives are easier\n",
    "        - 1. Define once, 2. Call many times, \n",
    "    - make our code simpler\n",
    "    - personalizing a task\n",
    "        - specific: ONE specific task\n",
    "        - general: many different instances of the same thing\n",
    "            - def function_restaurants (location):\n",
    "                return restaurants\n",
    "                \n",
    "                - specific: ONLY gives you restaurants. Doesn't give you bars\n",
    "                - general: diferent locations\n",
    "                \n",
    "    - easy maintenance of the code \n",
    "        - one change: easier to debug\n",
    "        - within a little box\n",
    "        - If code: encapsulated (box) -> box and fix it\n",
    "            - spot it, easier to find\n",
    "        \n",
    "    - standard functions: built-in functions\n",
    "        - user-defined functions: `def my_defined_function ()`\n",
    "        - built-in functions: `print()`, `\"\".capitalize()`\n",
    "        - lambda: `lambda x: x * 2`\n",
    "        \n",
    "- Test driven development (TDD): paradigm\n",
    "    - 1. Possible problems\n",
    "    - 2. Goals\n",
    "    - 3. Tests for the code\n",
    "    - 4. Code\n",
    "    \n",
    "    - This code should be returning a number\n",
    "    - The number should be greater than a qty\n",
    "    - The code should work even if the number is passed as a string\n",
    "    - ...\n",
    "    \n",
    "- Today (lab), it is test based\n",
    "- Codewars\n",
    "`import unittest` -> to do it yourself "
   ]
  },
  {
   "cell_type": "markdown",
   "id": "199cb1a8",
   "metadata": {
    "lang": "en"
   },
   "source": [
    "## What is functional programming?: paradigms\n",
    "What does it mean that Python is multi-paradigm?\n",
    "According to Wikipedia:\n",
    "\n",
    "“Python is an interpreted programming language whose philosophy emphasizes the readability of its code. It is a multiparadigm programming language, since it supports object orientation, imperative programming and, to a lesser extent, functional programming.\n",
    "\n",
    "It means that it accepts different ways of working with language. Basically there are 3 predominant paradigms, or in other words, 3 global formats to organize a code."
   ]
  },
  {
   "cell_type": "markdown",
   "id": "1a292435",
   "metadata": {},
   "source": [
    "- **Imperative programming (structured)**: the code will be executed from the beginning of the file to the end without following any type of deviation. Its biggest advantage lies in its simplicity and low weight. Its danger is the spaghetti code, files with hundreds or thousands of lines where only a few human beings are able to modify and emerge victorious. It can look like this:"
   ]
  },
  {
   "cell_type": "code",
   "execution_count": 5,
   "id": "0272d6e3",
   "metadata": {},
   "outputs": [
    {
     "data": {
      "text/html": [
       "<div>\n",
       "<style scoped>\n",
       "    .dataframe tbody tr th:only-of-type {\n",
       "        vertical-align: middle;\n",
       "    }\n",
       "\n",
       "    .dataframe tbody tr th {\n",
       "        vertical-align: top;\n",
       "    }\n",
       "\n",
       "    .dataframe thead th {\n",
       "        text-align: right;\n",
       "    }\n",
       "</style>\n",
       "<table border=\"1\" class=\"dataframe\">\n",
       "  <thead>\n",
       "    <tr style=\"text-align: right;\">\n",
       "      <th></th>\n",
       "      <th>cylinders</th>\n",
       "      <th>weight</th>\n",
       "    </tr>\n",
       "  </thead>\n",
       "  <tbody>\n",
       "    <tr>\n",
       "      <th>0</th>\n",
       "      <td>8</td>\n",
       "      <td>3504</td>\n",
       "    </tr>\n",
       "    <tr>\n",
       "      <th>1</th>\n",
       "      <td>8</td>\n",
       "      <td>3693</td>\n",
       "    </tr>\n",
       "    <tr>\n",
       "      <th>2</th>\n",
       "      <td>8</td>\n",
       "      <td>3436</td>\n",
       "    </tr>\n",
       "    <tr>\n",
       "      <th>3</th>\n",
       "      <td>8</td>\n",
       "      <td>3433</td>\n",
       "    </tr>\n",
       "    <tr>\n",
       "      <th>4</th>\n",
       "      <td>8</td>\n",
       "      <td>3449</td>\n",
       "    </tr>\n",
       "    <tr>\n",
       "      <th>...</th>\n",
       "      <td>...</td>\n",
       "      <td>...</td>\n",
       "    </tr>\n",
       "    <tr>\n",
       "      <th>393</th>\n",
       "      <td>4</td>\n",
       "      <td>2790</td>\n",
       "    </tr>\n",
       "    <tr>\n",
       "      <th>394</th>\n",
       "      <td>4</td>\n",
       "      <td>2130</td>\n",
       "    </tr>\n",
       "    <tr>\n",
       "      <th>395</th>\n",
       "      <td>4</td>\n",
       "      <td>2295</td>\n",
       "    </tr>\n",
       "    <tr>\n",
       "      <th>396</th>\n",
       "      <td>4</td>\n",
       "      <td>2625</td>\n",
       "    </tr>\n",
       "    <tr>\n",
       "      <th>397</th>\n",
       "      <td>4</td>\n",
       "      <td>2720</td>\n",
       "    </tr>\n",
       "  </tbody>\n",
       "</table>\n",
       "<p>398 rows × 2 columns</p>\n",
       "</div>"
      ],
      "text/plain": [
       "     cylinders  weight\n",
       "0            8    3504\n",
       "1            8    3693\n",
       "2            8    3436\n",
       "3            8    3433\n",
       "4            8    3449\n",
       "..         ...     ...\n",
       "393          4    2790\n",
       "394          4    2130\n",
       "395          4    2295\n",
       "396          4    2625\n",
       "397          4    2720\n",
       "\n",
       "[398 rows x 2 columns]"
      ]
     },
     "execution_count": 5,
     "metadata": {},
     "output_type": "execute_result"
    }
   ],
   "source": [
    "# do this\n",
    "# do this now\n",
    "# do this later\n",
    "# do that\n",
    "# ...\n",
    "# top -> bottom\n",
    "# imperative programming\n",
    "\n",
    "\n",
    "import pandas as pd\n",
    "df = pd.read_csv(\"../datasets/auto-mpg.csv\")\n",
    "df.head()\n",
    "df.drop(columns=[\"mpg\"])\n",
    "df[[\"cylinders\",\"weight\"]]\n",
    "\n",
    "# Pandas is managing tables: csv"
   ]
  },
  {
   "cell_type": "markdown",
   "id": "02cb1e2b",
   "metadata": {},
   "source": [
    "- **Object Oriented Programming (OOP or Object Oriented Programming)**: where variables and functions are encapsulated in small modules capable of being cloned and modified. Its strong point is the ability to reuse and isolate to avoid problems with other features. The negative part lies in the complexity of creating good objects and debugging. It can look like this:\n"
   ]
  },
  {
   "cell_type": "code",
   "execution_count": null,
   "id": "4cbe955b",
   "metadata": {},
   "outputs": [],
   "source": [
    "class Car ():\n",
    "    # model\n",
    "    # passengers\n",
    "    # color\n",
    "    # speed\n",
    "    \n",
    "    # def backwards ():\n",
    "        pass\n",
    "    # def break ():\n",
    "        pass\n",
    "    \n",
    "    \n",
    "my_car = Car()    \n",
    "bego_car = Car()\n",
    "\n",
    "# classes / objetcs -> attributes & things\n",
    "# re-use"
   ]
  },
  {
   "cell_type": "markdown",
   "id": "2a679fd0",
   "metadata": {},
   "source": [
    "- **Functional programming (FP or Functional programming)**: where the code is divided into simple functions capable of being invoked with variables or other functions. Its ease of use by atomicity achieves robust maintainability and compatibility with almost any language. In addition, its immutability of variables avoids many of the problems that object-oriented programming suffers."
   ]
  },
  {
   "cell_type": "code",
   "execution_count": 6,
   "id": "8a9c96f4",
   "metadata": {},
   "outputs": [],
   "source": [
    "def greeting (name):\n",
    "    return f\"Hello {name}!\""
   ]
  },
  {
   "cell_type": "code",
   "execution_count": 7,
   "id": "8ab25de5",
   "metadata": {},
   "outputs": [
    {
     "data": {
      "text/plain": [
       "'Hello Bego!'"
      ]
     },
     "execution_count": 7,
     "metadata": {},
     "output_type": "execute_result"
    }
   ],
   "source": [
    "greeting(\"Bego\") # calling / invoking the function"
   ]
  },
  {
   "cell_type": "code",
   "execution_count": 8,
   "id": "62bfb749",
   "metadata": {},
   "outputs": [
    {
     "data": {
      "text/plain": [
       "'Hello Marina!'"
      ]
     },
     "execution_count": 8,
     "metadata": {},
     "output_type": "execute_result"
    }
   ],
   "source": [
    "greeting(\"Marina\")"
   ]
  },
  {
   "cell_type": "code",
   "execution_count": 9,
   "id": "03398c7b",
   "metadata": {},
   "outputs": [
    {
     "data": {
      "text/plain": [
       "'Hello Albert!'"
      ]
     },
     "execution_count": 9,
     "metadata": {},
     "output_type": "execute_result"
    }
   ],
   "source": [
    "greeting(\"Albert\")"
   ]
  },
  {
   "cell_type": "markdown",
   "id": "7f89fd70",
   "metadata": {
    "lang": "en"
   },
   "source": [
    "## Built-in functions"
   ]
  },
  {
   "cell_type": "markdown",
   "id": "80919246",
   "metadata": {
    "lang": "en"
   },
   "source": [
    "The Python interpreter has a number of built-in functions and types that are always available. They are listed [here](https://docs.python.org/3/library/functions.html) in alphabetical order."
   ]
  },
  {
   "cell_type": "code",
   "execution_count": 10,
   "id": "b8e2371a",
   "metadata": {},
   "outputs": [
    {
     "name": "stdout",
     "output_type": "stream",
     "text": [
      "Hello\n"
     ]
    }
   ],
   "source": [
    "print(\"Hello\") \n",
    "\n",
    "# no need to def the print\n",
    "# takes an arg\n",
    "# gives us a message on the interface"
   ]
  },
  {
   "cell_type": "markdown",
   "id": "d36c02f5",
   "metadata": {
    "lang": "en"
   },
   "source": [
    "In case of built-in functions we can't extract the code with inspect, since Python itself is written in C... the Print function looks like this 👇🏻"
   ]
  },
  {
   "cell_type": "markdown",
   "id": "through-silicon",
   "metadata": {},
   "source": [
    "```C\n",
    "static PyObject *\n",
    "builtin_print(PyObject *self, PyObject *args, PyObject *kwds)\n",
    "{\n",
    "    static char *kwlist[] = {\"sep\", \"end\", \"file\", 0};\n",
    "    static PyObject *dummy_args = NULL;\n",
    "    static PyObject *unicode_newline = NULL, *unicode_space = NULL;\n",
    "    static PyObject *str_newline = NULL, *str_space = NULL;\n",
    "    PyObject *newline, *space;\n",
    "    PyObject *sep = NULL, *end = NULL, *file = NULL;\n",
    "    int i, err, use_unicode = 0;\n",
    "\n",
    "    if (dummy_args == NULL) {\n",
    "        if (!(dummy_args = PyTuple_New(0)))\n",
    "            return NULL;\n",
    "    }\n",
    "    if (str_newline == NULL) {\n",
    "        str_newline = PyString_FromString(\"\\n\");\n",
    "        if (str_newline == NULL)\n",
    "            return NULL;\n",
    "        str_space = PyString_FromString(\" \");\n",
    "        if (str_space == NULL) {\n",
    "            Py_CLEAR(str_newline);\n",
    "            return NULL;\n",
    "        }\n",
    "#ifdef Py_USING_UNICODE\n",
    "        unicode_newline = PyUnicode_FromString(\"\\n\");\n",
    "        if (unicode_newline == NULL) {\n",
    "            Py_CLEAR(str_newline);\n",
    "            Py_CLEAR(str_space);\n",
    "            return NULL;\n",
    "        }\n",
    "        unicode_space = PyUnicode_FromString(\" \");\n",
    "        if (unicode_space == NULL) {\n",
    "            Py_CLEAR(str_newline);\n",
    "            Py_CLEAR(str_space);\n",
    "            Py_CLEAR(unicode_space);\n",
    "            return NULL;\n",
    "        }\n",
    "#endif\n",
    "    }\n",
    "    if (!PyArg_ParseTupleAndKeywords(dummy_args, kwds, \"|OOO:print\",\n",
    "                                     kwlist, &sep, &end, &file))\n",
    "        return NULL;\n",
    "    if (file == NULL || file == Py_None) {\n",
    "        file = PySys_GetObject(\"stdout\");\n",
    "        /* sys.stdout may be None when FILE* stdout isn't connected */\n",
    "        if (file == Py_None)\n",
    "            Py_RETURN_NONE;\n",
    "    }\n",
    "    if (sep == Py_None) {\n",
    "        sep = NULL;\n",
    "    }\n",
    "    else if (sep) {\n",
    "        if (PyUnicode_Check(sep)) {\n",
    "            use_unicode = 1;\n",
    "        }\n",
    "        else if (!PyString_Check(sep)) {\n",
    "            PyErr_Format(PyExc_TypeError,\n",
    "                         \"sep must be None, str or unicode, not %.200s\",\n",
    "                         sep->ob_type->tp_name);\n",
    "            return NULL;\n",
    "        }\n",
    "    }\n",
    "    if (end == Py_None)\n",
    "        end = NULL;\n",
    "    else if (end) {\n",
    "        if (PyUnicode_Check(end)) {\n",
    "            use_unicode = 1;\n",
    "        }\n",
    "        else if (!PyString_Check(end)) {\n",
    "            PyErr_Format(PyExc_TypeError,\n",
    "                         \"end must be None, str or unicode, not %.200s\",\n",
    "                         end->ob_type->tp_name);\n",
    "            return NULL;\n",
    "        }\n",
    "    }\n",
    "\n",
    "    if (!use_unicode) {\n",
    "        for (i = 0; i < PyTuple_Size(args); i++) {\n",
    "            if (PyUnicode_Check(PyTuple_GET_ITEM(args, i))) {\n",
    "                use_unicode = 1;\n",
    "                break;\n",
    "            }\n",
    "        }\n",
    "    }\n",
    "    if (use_unicode) {\n",
    "        newline = unicode_newline;\n",
    "        space = unicode_space;\n",
    "    }\n",
    "    else {\n",
    "        newline = str_newline;\n",
    "        space = str_space;\n",
    "    }\n",
    "\n",
    "    for (i = 0; i < PyTuple_Size(args); i++) {\n",
    "        if (i > 0) {\n",
    "            if (sep == NULL)\n",
    "                err = PyFile_WriteObject(space, file,\n",
    "                                         Py_PRINT_RAW);\n",
    "            else\n",
    "                err = PyFile_WriteObject(sep, file,\n",
    "                                         Py_PRINT_RAW);\n",
    "            if (err)\n",
    "                return NULL;\n",
    "        }\n",
    "        err = PyFile_WriteObject(PyTuple_GetItem(args, i), file,\n",
    "                                 Py_PRINT_RAW);\n",
    "        if (err)\n",
    "            return NULL;\n",
    "    }\n",
    "\n",
    "    if (end == NULL)\n",
    "        err = PyFile_WriteObject(newline, file, Py_PRINT_RAW);\n",
    "    else\n",
    "        err = PyFile_WriteObject(end, file, Py_PRINT_RAW);\n",
    "    if (err)\n",
    "        return NULL;\n",
    "\n",
    "    Py_RETURN_NONE;\n",
    "}\n",
    "```"
   ]
  },
  {
   "cell_type": "code",
   "execution_count": 11,
   "id": "f7695035",
   "metadata": {},
   "outputs": [
    {
     "name": "stdout",
     "output_type": "stream",
     "text": [
      ":)\n"
     ]
    }
   ],
   "source": [
    "print(\":)\")"
   ]
  },
  {
   "cell_type": "code",
   "execution_count": 12,
   "id": "4ed7e409",
   "metadata": {},
   "outputs": [],
   "source": [
    "# abstraction\n",
    "    # literal"
   ]
  },
  {
   "cell_type": "markdown",
   "id": "9197a86b",
   "metadata": {},
   "source": [
    "## USER - DEFINED FUNCTIONS"
   ]
  },
  {
   "cell_type": "markdown",
   "id": "054f974c",
   "metadata": {},
   "source": [
    "- `def` \n",
    "- `name` \n",
    "- `params` \n",
    "- `args` \n",
    "-  `return`\n",
    "- `docstrings` \n",
    "\n",
    "- `source coude`"
   ]
  },
  {
   "cell_type": "markdown",
   "id": "85d6428d",
   "metadata": {
    "lang": "en"
   },
   "source": [
    "**Syntax for DEFINING a function**\n",
    "```python\n",
    "\n",
    "def name_function(input params):\n",
    "    # the colon and the indentation imply being in the function\n",
    "    take an action\n",
    "    return() # return a certain value\n",
    "\n",
    "```\n",
    "\n",
    "**Syntax for CALLING a function**\n",
    "\n",
    "`name_of_the_function(argument1, argument2, ...)`\n",
    "\n",
    "or, if you want to save the result in a variable\n",
    "\n",
    "`result = name_of_the_function(argument1, argument2, ...)`"
   ]
  },
  {
   "cell_type": "markdown",
   "id": "d14ec799",
   "metadata": {},
   "source": [
    "### def"
   ]
  },
  {
   "cell_type": "code",
   "execution_count": null,
   "id": "758fc928",
   "metadata": {},
   "outputs": [],
   "source": [
    "def "
   ]
  },
  {
   "cell_type": "markdown",
   "id": "f2e75efb",
   "metadata": {},
   "source": [
    "### name"
   ]
  },
  {
   "cell_type": "code",
   "execution_count": null,
   "id": "f654d98a",
   "metadata": {},
   "outputs": [],
   "source": [
    "def renaming_columns # verbs\n"
   ]
  },
  {
   "cell_type": "markdown",
   "id": "80ee81e1",
   "metadata": {},
   "source": [
    "### parameters"
   ]
  },
  {
   "cell_type": "markdown",
   "id": "5ddcf19e",
   "metadata": {},
   "source": [
    "`()`"
   ]
  },
  {
   "cell_type": "code",
   "execution_count": null,
   "id": "fdb563e9",
   "metadata": {},
   "outputs": [],
   "source": [
    "def greeging (name) # param"
   ]
  },
  {
   "cell_type": "markdown",
   "id": "93588783",
   "metadata": {},
   "source": [
    "`(param_1, param_2)`"
   ]
  },
  {
   "cell_type": "code",
   "execution_count": null,
   "id": "6a08a012",
   "metadata": {},
   "outputs": [],
   "source": []
  },
  {
   "cell_type": "markdown",
   "id": "5308ad65",
   "metadata": {},
   "source": [
    "### arguments"
   ]
  },
  {
   "cell_type": "code",
   "execution_count": null,
   "id": "875542a9",
   "metadata": {},
   "outputs": [],
   "source": [
    "def greeging (\"Bego\") # argument"
   ]
  },
  {
   "cell_type": "markdown",
   "id": "9791b430",
   "metadata": {},
   "source": [
    "Formal parameters for a function are listed in the function declaration and used in the body of the function definition.\n",
    "\n",
    "An argument is what is used when referring to parameters. When you write a function call, the arguments are listed in parentheses after the function name. When the function call is executed, the arguments are inserted for the parameters.\n",
    "\n",
    "Let's say then that the parameters are those \"imaginary\" variables that will have the same name in the definition and in the body of the function.\n",
    "The arguments are the REAL DATA that we use when we call the function."
   ]
  },
  {
   "cell_type": "markdown",
   "id": "ade26130",
   "metadata": {},
   "source": [
    "#### default parameters"
   ]
  },
  {
   "cell_type": "markdown",
   "id": "6cda5b22",
   "metadata": {},
   "source": [
    "`(param_1, param_default = defaultvalue)` "
   ]
  },
  {
   "cell_type": "markdown",
   "id": "62729a1e",
   "metadata": {},
   "source": [
    "1. `greetings_default(myself, someone_else, language=\"en\")`"
   ]
  },
  {
   "cell_type": "code",
   "execution_count": 14,
   "id": "d6af2d5d",
   "metadata": {},
   "outputs": [],
   "source": [
    "def greetings_default (myself, someone_else, language=\"en\"):\n",
    "    \n",
    "    return f\"Hi {someone_else}! My name is {myself}\""
   ]
  },
  {
   "cell_type": "code",
   "execution_count": 15,
   "id": "8de07b83",
   "metadata": {},
   "outputs": [
    {
     "data": {
      "text/plain": [
       "'Hi Bego! My name is Fer'"
      ]
     },
     "execution_count": 15,
     "metadata": {},
     "output_type": "execute_result"
    }
   ],
   "source": [
    "greetings_default (\"Fer\", \"Bego\", language=\"en\")"
   ]
  },
  {
   "cell_type": "code",
   "execution_count": 16,
   "id": "e9e3463a",
   "metadata": {},
   "outputs": [
    {
     "data": {
      "text/plain": [
       "'Hi Bego! My name is Fer'"
      ]
     },
     "execution_count": 16,
     "metadata": {},
     "output_type": "execute_result"
    }
   ],
   "source": [
    "greetings_default (\"Fer\", \"Bego\") # ther is a default"
   ]
  },
  {
   "cell_type": "code",
   "execution_count": 17,
   "id": "a8ab8d55",
   "metadata": {},
   "outputs": [
    {
     "data": {
      "text/plain": [
       "'Hi Bego! My name is Fer'"
      ]
     },
     "execution_count": 17,
     "metadata": {},
     "output_type": "execute_result"
    }
   ],
   "source": [
    "greetings_default (\"Fer\", \"Bego\", language=\"es\")"
   ]
  },
  {
   "cell_type": "code",
   "execution_count": 18,
   "id": "311bc872",
   "metadata": {},
   "outputs": [],
   "source": [
    "def greetings_default (myself, someone_else, language=\"en\"):\n",
    "    \n",
    "    if language == \"en\":\n",
    "        return f\"Hi {someone_else}! My name is {myself}\"\n",
    "    \n",
    "    elif language == \"es\":\n",
    "        return f\"Hola {someone_else}! Soy {myself}\""
   ]
  },
  {
   "cell_type": "code",
   "execution_count": 19,
   "id": "5a6348f0",
   "metadata": {},
   "outputs": [
    {
     "data": {
      "text/plain": [
       "'Hi Bego! My name is Fer'"
      ]
     },
     "execution_count": 19,
     "metadata": {},
     "output_type": "execute_result"
    }
   ],
   "source": [
    "greetings_default (\"Fer\", \"Bego\", language=\"en\")"
   ]
  },
  {
   "cell_type": "code",
   "execution_count": 20,
   "id": "e56eb1fe",
   "metadata": {},
   "outputs": [
    {
     "data": {
      "text/plain": [
       "'Hola Bego! Soy Fer'"
      ]
     },
     "execution_count": 20,
     "metadata": {},
     "output_type": "execute_result"
    }
   ],
   "source": [
    "greetings_default (\"Fer\", \"Bego\", language=\"es\")"
   ]
  },
  {
   "cell_type": "code",
   "execution_count": 21,
   "id": "29e12e50",
   "metadata": {},
   "outputs": [
    {
     "data": {
      "text/plain": [
       "'Hi Bego! My name is Fer'"
      ]
     },
     "execution_count": 21,
     "metadata": {},
     "output_type": "execute_result"
    }
   ],
   "source": [
    "greetings_default (\"Fer\", \"Bego\")"
   ]
  },
  {
   "cell_type": "code",
   "execution_count": null,
   "id": "4688866e",
   "metadata": {},
   "outputs": [],
   "source": [
    "# Q: why default instead of also including it as a regular parameter?\n",
    "# A: so that I don't have to pass the arguemnt if not needed"
   ]
  },
  {
   "cell_type": "code",
   "execution_count": 39,
   "id": "e30a553f",
   "metadata": {},
   "outputs": [],
   "source": [
    "def greetings_default (myself, someone_else, the_language):\n",
    "    \n",
    "    if the_language == \"en\":\n",
    "        return f\"Hi {someone_else}! My name is {myself}\"\n",
    "    \n",
    "    elif the_language == \"es\":\n",
    "        return f\"Hola {someone_else}! Soy {myself}\""
   ]
  },
  {
   "cell_type": "code",
   "execution_count": 40,
   "id": "cc7e3d7a",
   "metadata": {},
   "outputs": [
    {
     "data": {
      "text/plain": [
       "'Hola Bego! Soy Fer'"
      ]
     },
     "execution_count": 40,
     "metadata": {},
     "output_type": "execute_result"
    }
   ],
   "source": [
    "greetings_default (\"Fer\", \"Bego\", \"es\") "
   ]
  },
  {
   "cell_type": "code",
   "execution_count": 30,
   "id": "13d3f819",
   "metadata": {},
   "outputs": [
    {
     "data": {
      "text/plain": [
       "'Hi Bego! My name is Fer'"
      ]
     },
     "execution_count": 30,
     "metadata": {},
     "output_type": "execute_result"
    }
   ],
   "source": [
    "greetings_default (\"Fer\", \"Bego\",\"en\")"
   ]
  },
  {
   "cell_type": "code",
   "execution_count": 25,
   "id": "a0bc9d13",
   "metadata": {},
   "outputs": [
    {
     "ename": "TypeError",
     "evalue": "greetings_default() missing 1 required positional argument: 'language'",
     "output_type": "error",
     "traceback": [
      "\u001b[0;31m---------------------------------------------------------------------------\u001b[0m",
      "\u001b[0;31mTypeError\u001b[0m                                 Traceback (most recent call last)",
      "Input \u001b[0;32mIn [25]\u001b[0m, in \u001b[0;36m<cell line: 1>\u001b[0;34m()\u001b[0m\n\u001b[0;32m----> 1\u001b[0m \u001b[43mgreetings_default\u001b[49m\u001b[43m \u001b[49m\u001b[43m(\u001b[49m\u001b[38;5;124;43m\"\u001b[39;49m\u001b[38;5;124;43mFer\u001b[39;49m\u001b[38;5;124;43m\"\u001b[39;49m\u001b[43m,\u001b[49m\u001b[43m \u001b[49m\u001b[38;5;124;43m\"\u001b[39;49m\u001b[38;5;124;43mBego\u001b[39;49m\u001b[38;5;124;43m\"\u001b[39;49m\u001b[43m)\u001b[49m\n",
      "\u001b[0;31mTypeError\u001b[0m: greetings_default() missing 1 required positional argument: 'language'"
     ]
    }
   ],
   "source": [
    "greetings_default (\"Fer\", \"Bego\")"
   ]
  },
  {
   "cell_type": "code",
   "execution_count": null,
   "id": "38bcb8b9",
   "metadata": {},
   "outputs": [],
   "source": [
    "# TypeError: greetings_default() missing 1 required positional argument: 'language'"
   ]
  },
  {
   "cell_type": "markdown",
   "id": "ee22d185",
   "metadata": {},
   "source": [
    "2. `calculation (num_1, num_2, operation=\"+\")`"
   ]
  },
  {
   "cell_type": "code",
   "execution_count": 131,
   "id": "5910d035",
   "metadata": {},
   "outputs": [],
   "source": [
    "def calculation (num_1, num_2, operation = \"+\"):\n",
    "    \n",
    "    if operation == \"+\":\n",
    "        return num_1 + num_2\n",
    "    \n",
    "    elif operation == \"*\":\n",
    "        return num_1 * num_2\n",
    "    \n",
    "    elif operation == \"/\":\n",
    "        return num_1 / num_2\n",
    "    \n",
    "    else:\n",
    "        return num_1 - num_2"
   ]
  },
  {
   "cell_type": "code",
   "execution_count": 45,
   "id": "12f0984b",
   "metadata": {},
   "outputs": [
    {
     "data": {
      "text/plain": [
       "13"
      ]
     },
     "execution_count": 45,
     "metadata": {},
     "output_type": "execute_result"
    }
   ],
   "source": [
    "calculation (10, 3, operation = \"+\")"
   ]
  },
  {
   "cell_type": "code",
   "execution_count": 46,
   "id": "57f5b93f",
   "metadata": {},
   "outputs": [
    {
     "data": {
      "text/plain": [
       "13"
      ]
     },
     "execution_count": 46,
     "metadata": {},
     "output_type": "execute_result"
    }
   ],
   "source": [
    "calculation (10, 3) #default"
   ]
  },
  {
   "cell_type": "code",
   "execution_count": 47,
   "id": "59a009c8",
   "metadata": {},
   "outputs": [
    {
     "data": {
      "text/plain": [
       "3.3333333333333335"
      ]
     },
     "execution_count": 47,
     "metadata": {},
     "output_type": "execute_result"
    }
   ],
   "source": [
    "calculation (10, 3, \"/\")"
   ]
  },
  {
   "cell_type": "code",
   "execution_count": 48,
   "id": "fdce60cc",
   "metadata": {},
   "outputs": [
    {
     "data": {
      "text/plain": [
       "7"
      ]
     },
     "execution_count": 48,
     "metadata": {},
     "output_type": "execute_result"
    }
   ],
   "source": [
    "calculation (10, 3, \"%\")"
   ]
  },
  {
   "cell_type": "code",
   "execution_count": 133,
   "id": "d2129f36",
   "metadata": {},
   "outputs": [],
   "source": [
    "# Q: If it's a default: refactor?\n",
    "\n",
    "def calculation (num_1, num_2, operation = \"+\"):\n",
    "        \n",
    "    if operation == \"*\":\n",
    "        return num_1 * num_2\n",
    "    \n",
    "    elif operation == \"/\":\n",
    "        return num_1 / num_2\n",
    "    \n",
    "    elif operation == \"-\":\n",
    "        return num_1 - num_2\n",
    "    \n",
    "    return num_1 + num_2"
   ]
  },
  {
   "cell_type": "code",
   "execution_count": 57,
   "id": "2b27777a",
   "metadata": {},
   "outputs": [
    {
     "data": {
      "text/plain": [
       "30"
      ]
     },
     "execution_count": 57,
     "metadata": {},
     "output_type": "execute_result"
    }
   ],
   "source": [
    "calculation (num_1 = 10, num_2 = 3, operation=\"*\")"
   ]
  },
  {
   "cell_type": "code",
   "execution_count": 58,
   "id": "021130cc",
   "metadata": {},
   "outputs": [
    {
     "data": {
      "text/plain": [
       "30"
      ]
     },
     "execution_count": 58,
     "metadata": {},
     "output_type": "execute_result"
    }
   ],
   "source": [
    "calculation (10, 3, \"*\")"
   ]
  },
  {
   "cell_type": "code",
   "execution_count": null,
   "id": "46e7616a",
   "metadata": {},
   "outputs": [],
   "source": [
    "# After a functions hits return, it is DONE"
   ]
  },
  {
   "cell_type": "code",
   "execution_count": null,
   "id": "cb923a17",
   "metadata": {},
   "outputs": [],
   "source": [
    "# User-defined\n",
    "    # docstring: string with documentation within the code\n",
    "# from library\n",
    "    # shift & tab: "
   ]
  },
  {
   "cell_type": "code",
   "execution_count": 62,
   "id": "acd2e1ef",
   "metadata": {},
   "outputs": [
    {
     "ename": "TypeError",
     "evalue": "read_csv() missing 1 required positional argument: 'filepath_or_buffer'",
     "output_type": "error",
     "traceback": [
      "\u001b[0;31m---------------------------------------------------------------------------\u001b[0m",
      "\u001b[0;31mTypeError\u001b[0m                                 Traceback (most recent call last)",
      "Input \u001b[0;32mIn [62]\u001b[0m, in \u001b[0;36m<cell line: 2>\u001b[0;34m()\u001b[0m\n\u001b[1;32m      1\u001b[0m \u001b[38;5;28;01mimport\u001b[39;00m \u001b[38;5;21;01mpandas\u001b[39;00m \u001b[38;5;28;01mas\u001b[39;00m \u001b[38;5;21;01mpd\u001b[39;00m\n\u001b[0;32m----> 2\u001b[0m df \u001b[38;5;241m=\u001b[39m \u001b[43mpd\u001b[49m\u001b[38;5;241;43m.\u001b[39;49m\u001b[43mread_csv\u001b[49m\u001b[43m(\u001b[49m\u001b[43msep\u001b[49m\u001b[38;5;241;43m=\u001b[39;49m\u001b[38;5;124;43m\"\u001b[39;49m\u001b[38;5;124;43m,\u001b[39;49m\u001b[38;5;124;43m\"\u001b[39;49m\u001b[43m)\u001b[49m\n\u001b[1;32m      3\u001b[0m df\u001b[38;5;241m.\u001b[39mhead()\n",
      "\u001b[0;31mTypeError\u001b[0m: read_csv() missing 1 required positional argument: 'filepath_or_buffer'"
     ]
    }
   ],
   "source": [
    "import pandas as pd\n",
    "df = pd.read_csv(sep=\",\")\n",
    "df.head()"
   ]
  },
  {
   "cell_type": "markdown",
   "id": "37fbea85",
   "metadata": {},
   "source": [
    "#### positional arguments & keyword arguments"
   ]
  },
  {
   "cell_type": "markdown",
   "id": "e3e4c777",
   "metadata": {},
   "source": [
    "`def addition (num_1, some_name=withavalue)`"
   ]
  },
  {
   "cell_type": "markdown",
   "id": "b77b53ca",
   "metadata": {},
   "source": [
    "#### `*args`\n",
    "In Python, the special parameter `*args` in a function is used to optionally pass a variable number of **positional** arguments."
   ]
  },
  {
   "cell_type": "markdown",
   "id": "2bb755bc",
   "metadata": {},
   "source": [
    "`two arguments`"
   ]
  },
  {
   "cell_type": "code",
   "execution_count": 63,
   "id": "d76e4be9",
   "metadata": {},
   "outputs": [],
   "source": [
    "def addition_of_numbers (a, b):\n",
    "    return a + b"
   ]
  },
  {
   "cell_type": "code",
   "execution_count": 64,
   "id": "ff06f6c0",
   "metadata": {},
   "outputs": [
    {
     "data": {
      "text/plain": [
       "13"
      ]
     },
     "execution_count": 64,
     "metadata": {},
     "output_type": "execute_result"
    }
   ],
   "source": [
    "addition_of_numbers (10, 3)"
   ]
  },
  {
   "cell_type": "code",
   "execution_count": 100,
   "id": "9a0ac1c1",
   "metadata": {},
   "outputs": [],
   "source": [
    "def addition_of_numbers (*nums): # variable number of args\n",
    "    counter = 0\n",
    "    \n",
    "    print(f\"The *nums are: \", nums)\n",
    "    print(f\"The type(*nums) is: \", type(nums))\n",
    "\n",
    "    for i in nums:\n",
    "        counter += i\n",
    "        \n",
    "    return counter"
   ]
  },
  {
   "cell_type": "code",
   "execution_count": 102,
   "id": "4ddbb55f",
   "metadata": {},
   "outputs": [
    {
     "name": "stdout",
     "output_type": "stream",
     "text": [
      "The *nums are:  (1, 2, 34)\n",
      "The type(*nums) is:  <class 'tuple'>\n"
     ]
    },
    {
     "data": {
      "text/plain": [
       "37"
      ]
     },
     "execution_count": 102,
     "metadata": {},
     "output_type": "execute_result"
    }
   ],
   "source": [
    "addition_of_numbers (1, 2, 34)"
   ]
  },
  {
   "cell_type": "markdown",
   "id": "7fee6e45",
   "metadata": {},
   "source": [
    "`unkown number of arguments`"
   ]
  },
  {
   "cell_type": "code",
   "execution_count": 110,
   "id": "18a77de6",
   "metadata": {},
   "outputs": [],
   "source": [
    "def addition_of_numbers (num_1, num_2, *nums): # variable number of args\n",
    "    counter = 0\n",
    "    \n",
    "    regular_addition = num_1 * num_2\n",
    "\n",
    "    for i in nums:\n",
    "        counter += i\n",
    "        \n",
    "    total = regular_addition + counter \n",
    "    return total"
   ]
  },
  {
   "cell_type": "code",
   "execution_count": 111,
   "id": "04b3b8d1",
   "metadata": {},
   "outputs": [
    {
     "data": {
      "text/plain": [
       "60"
      ]
     },
     "execution_count": 111,
     "metadata": {},
     "output_type": "execute_result"
    }
   ],
   "source": [
    "addition_of_numbers (30, 2)"
   ]
  },
  {
   "cell_type": "code",
   "execution_count": 112,
   "id": "48365dfd",
   "metadata": {},
   "outputs": [
    {
     "data": {
      "text/plain": [
       "46"
      ]
     },
     "execution_count": 112,
     "metadata": {},
     "output_type": "execute_result"
    }
   ],
   "source": [
    "addition_of_numbers (2, 10, 4, 0, 10, 3, 4, 5)\n",
    "#addition_of_numbers (2, 10, *(4, 0, 10, 3, 4, 5))"
   ]
  },
  {
   "cell_type": "code",
   "execution_count": 128,
   "id": "96e43d82",
   "metadata": {},
   "outputs": [
    {
     "data": {
      "text/plain": [
       "60"
      ]
     },
     "execution_count": 128,
     "metadata": {},
     "output_type": "execute_result"
    }
   ],
   "source": [
    "addition_of_numbers (30, 2)"
   ]
  },
  {
   "cell_type": "code",
   "execution_count": 129,
   "id": "e5c53f8f",
   "metadata": {},
   "outputs": [],
   "source": [
    "result_of_calculation = addition_of_numbers (30, 2)"
   ]
  },
  {
   "cell_type": "code",
   "execution_count": 130,
   "id": "d151f86d",
   "metadata": {},
   "outputs": [
    {
     "data": {
      "text/plain": [
       "60"
      ]
     },
     "execution_count": 130,
     "metadata": {},
     "output_type": "execute_result"
    }
   ],
   "source": [
    "result_of_calculation"
   ]
  },
  {
   "cell_type": "markdown",
   "id": "17a04c9e",
   "metadata": {},
   "source": [
    "`otherwise`: errors"
   ]
  },
  {
   "cell_type": "code",
   "execution_count": null,
   "id": "30e61eaa",
   "metadata": {},
   "outputs": [],
   "source": []
  },
  {
   "cell_type": "markdown",
   "id": "67833de1",
   "metadata": {},
   "source": [
    "#### **kwargs"
   ]
  },
  {
   "cell_type": "code",
   "execution_count": null,
   "id": "fb69c6d9",
   "metadata": {},
   "outputs": [],
   "source": [
    "# Unknown number of arguments: *args\n",
    "# Unkown number of arguemtns: **kwargs"
   ]
  },
  {
   "cell_type": "code",
   "execution_count": 150,
   "id": "358920f6",
   "metadata": {},
   "outputs": [],
   "source": [
    "def function_example (a, b, *args, **kwargs):\n",
    "    \n",
    "    print(f\"A is: {a}, of type {type(a)}\")\n",
    "    print(f\"B is: {b}, of type {type(b)}\")\n",
    "    print(f\"Args is: {args}, of type {type(args)}\")\n",
    "    print(f\"kwargs is: {kwargs}, of type {type(kwargs)}\")\n"
   ]
  },
  {
   "cell_type": "code",
   "execution_count": 148,
   "id": "040dfc93",
   "metadata": {},
   "outputs": [],
   "source": [
    "def function_example (*args, **kwargs):\n",
    "    \n",
    "    print(f\"Args is: {args}, of type {type(args)}\")\n",
    "    print(f\"kwargs is: {kwargs}, of type {type(kwargs)}\")\n"
   ]
  },
  {
   "cell_type": "code",
   "execution_count": 151,
   "id": "aa71fd1e",
   "metadata": {},
   "outputs": [
    {
     "name": "stdout",
     "output_type": "stream",
     "text": [
      "A is: [1, 23], of type <class 'list'>\n",
      "B is: 20, of type <class 'int'>\n",
      "Args is: (1, 2, 3), of type <class 'tuple'>\n",
      "kwargs is: {'name': 'Santi'}, of type <class 'dict'>\n"
     ]
    }
   ],
   "source": [
    "function_example ([1, 23], 20, 1, 2, 3, name=\"Santi\")"
   ]
  },
  {
   "cell_type": "code",
   "execution_count": 147,
   "id": "a8137716",
   "metadata": {},
   "outputs": [
    {
     "name": "stdout",
     "output_type": "stream",
     "text": [
      "A is: 10, of type <class 'int'>\n",
      "B is: 20, of type <class 'int'>\n",
      "Args is: (1, 2, 3), of type <class 'tuple'>\n",
      "kwargs is: {'name': 'Santi'}, of type <class 'dict'>\n"
     ]
    }
   ],
   "source": [
    "function_example (10, 20, 1, 2, 3, name=\"Santi\")"
   ]
  },
  {
   "cell_type": "code",
   "execution_count": null,
   "id": "c0a71439",
   "metadata": {},
   "outputs": [],
   "source": [
    "# *dict"
   ]
  },
  {
   "cell_type": "code",
   "execution_count": 205,
   "id": "804120d6",
   "metadata": {},
   "outputs": [],
   "source": [
    "def job_description (year, salary, *hours, **kwargs):\n",
    "    \n",
    "    # 1. Year & salary: positional arguments\n",
    "    print(f\"The year is: {year}\")\n",
    "    print(f\"The salary for this position is: {salary}\")\n",
    "    \n",
    "    # 2. Variable numbers\n",
    "    print(f\"The hours are {hours}, type: {type(hours)}\")\n",
    "    total_hours = 0 \n",
    "    for i in hours:\n",
    "        total_hours += i\n",
    "        \n",
    "    print(f\"I worked a total of {total_hours}\")\n",
    "    \n",
    "    # 3. Handle kwargs\n",
    "    \n",
    "    for key, value in kwargs.items():\n",
    "        print(f\"My {key} is: {value}\")"
   ]
  },
  {
   "cell_type": "code",
   "execution_count": 202,
   "id": "1c767d6f",
   "metadata": {},
   "outputs": [],
   "source": [
    "# average salary in Spain: before tax\n",
    "    # 20k something\n",
    "    # 22k"
   ]
  },
  {
   "cell_type": "code",
   "execution_count": 190,
   "id": "a8565a38",
   "metadata": {},
   "outputs": [
    {
     "name": "stdout",
     "output_type": "stream",
     "text": [
      "The year is: 2023\n",
      "The salary for this position is: 25000\n",
      "The hours are (8, 6, 5, 8, 3), type: <class 'tuple'>\n",
      "I worked a total of 30\n",
      "My name is: Marina\n",
      "My age is: 27\n",
      "My city is: Mataró\n"
     ]
    }
   ],
   "source": [
    "job_description (2023, 25000, 8, 6, 5, 8, 3, name=\"Marina\", age = 27, city = \"Mataró\")"
   ]
  },
  {
   "cell_type": "code",
   "execution_count": 191,
   "id": "552d4bb0",
   "metadata": {},
   "outputs": [],
   "source": [
    "dict_marina = {\n",
    "    \"name\":\"Marina\",\n",
    "    \"age\":27, \n",
    "    \"city\":\"Mataró\"\n",
    "}"
   ]
  },
  {
   "cell_type": "code",
   "execution_count": 192,
   "id": "24c962b3",
   "metadata": {},
   "outputs": [],
   "source": [
    "dict_albert = {\n",
    "    \"name\":\"Albert\",\n",
    "    \"age\":30, \n",
    "    \"city\":\"Barcelona\"\n",
    "}"
   ]
  },
  {
   "cell_type": "code",
   "execution_count": 206,
   "id": "8bb56e28",
   "metadata": {},
   "outputs": [],
   "source": [
    "hours = (8, 6, 5, 8, 3)"
   ]
  },
  {
   "cell_type": "code",
   "execution_count": 207,
   "id": "4bc42541",
   "metadata": {},
   "outputs": [
    {
     "name": "stdout",
     "output_type": "stream",
     "text": [
      "The year is: 2023\n",
      "The salary for this position is: 25000\n",
      "The hours are (8, 6, 5, 8, 3), type: <class 'tuple'>\n",
      "I worked a total of 30\n",
      "My name is: Albert\n",
      "My age is: 30\n",
      "My city is: Barcelona\n"
     ]
    }
   ],
   "source": [
    "job_description (2023, 25000, *hours, **dict_albert)"
   ]
  },
  {
   "cell_type": "code",
   "execution_count": 195,
   "id": "7a52d0bf",
   "metadata": {},
   "outputs": [],
   "source": [
    "dict_marina = {\n",
    "    \"name\":\"Marina\",\n",
    "    \"age\":27, \n",
    "    \"city\":\"Mataró\",\n",
    "    \"hobbies\":\"surfing\"\n",
    "}"
   ]
  },
  {
   "cell_type": "code",
   "execution_count": 196,
   "id": "fbfc9857",
   "metadata": {},
   "outputs": [
    {
     "name": "stdout",
     "output_type": "stream",
     "text": [
      "The year is: 2023\n",
      "The salary for this position is: 25000\n",
      "The hours are (8, 6, 5, 8, 3), type: <class 'tuple'>\n",
      "I worked a total of 30\n",
      "My name is: Marina\n",
      "My age is: 27\n",
      "My city is: Mataró\n",
      "My hobbies is: surfing\n"
     ]
    }
   ],
   "source": [
    "job_description (2023, 25000, *hours, **dict_marina) \n",
    "# unknown number of args & kwarg"
   ]
  },
  {
   "cell_type": "code",
   "execution_count": null,
   "id": "0443d0d5",
   "metadata": {},
   "outputs": [],
   "source": [
    "job_description (2023, 25000, *[80, 4, 1, 3], **dict_albert) # If d. structure -> *, ** when calling"
   ]
  },
  {
   "cell_type": "code",
   "execution_count": 211,
   "id": "b1b91fe8",
   "metadata": {},
   "outputs": [
    {
     "name": "stdout",
     "output_type": "stream",
     "text": [
      "The year is: 2023\n",
      "The salary for this position is: 25000\n",
      "The hours are (80, 4, 1, 3), type: <class 'tuple'>\n",
      "I worked a total of 88\n",
      "My name is: Marina\n"
     ]
    }
   ],
   "source": [
    "job_description (2023, 25000, 80, 4, 1, 3, name=\"Marina\") # If item -> nothing when calling"
   ]
  },
  {
   "cell_type": "code",
   "execution_count": 213,
   "id": "1d783f23",
   "metadata": {},
   "outputs": [],
   "source": [
    "#job_description (2023, 25000, *[[80, 4], 1, 3], **dict_albert) # If d. structure -> *, ** when calling"
   ]
  },
  {
   "cell_type": "code",
   "execution_count": null,
   "id": "fa6e5ad7",
   "metadata": {},
   "outputs": [],
   "source": [
    "job_description (2023, 25000, *[80, 4, 1, 3], **dict_albert) # If d. structure -> *, ** when calling"
   ]
  },
  {
   "cell_type": "markdown",
   "id": "8821d732",
   "metadata": {},
   "source": [
    "#### order"
   ]
  },
  {
   "cell_type": "markdown",
   "id": "12ce7273",
   "metadata": {},
   "source": [
    "`def example(arg1, arg2, *args,**kwargs)`"
   ]
  },
  {
   "cell_type": "code",
   "execution_count": 217,
   "id": "c417c922",
   "metadata": {},
   "outputs": [
    {
     "ename": "SyntaxError",
     "evalue": "positional argument follows keyword argument unpacking (2818120216.py, line 1)",
     "output_type": "error",
     "traceback": [
      "\u001b[0;36m  Input \u001b[0;32mIn [217]\u001b[0;36m\u001b[0m\n\u001b[0;31m    job_description (**dict_albert, 1, 2 ) # If d. structure -> *, ** when calling\u001b[0m\n\u001b[0m                                         ^\u001b[0m\n\u001b[0;31mSyntaxError\u001b[0m\u001b[0;31m:\u001b[0m positional argument follows keyword argument unpacking\n"
     ]
    }
   ],
   "source": [
    "job_description (**dict_albert, 1, 2) # If d. structure -> *, ** when calling"
   ]
  },
  {
   "cell_type": "code",
   "execution_count": null,
   "id": "7000c3bc",
   "metadata": {},
   "outputs": [],
   "source": [
    "#(a, b, *args, **kwargs)"
   ]
  },
  {
   "cell_type": "code",
   "execution_count": 219,
   "id": "8c69a915",
   "metadata": {},
   "outputs": [
    {
     "name": "stdout",
     "output_type": "stream",
     "text": [
      "The year is: 1\n",
      "The salary for this position is: 2\n",
      "The hours are (20,), type: <class 'tuple'>\n",
      "I worked a total of 20\n",
      "My name is: Albert\n"
     ]
    }
   ],
   "source": [
    "job_description (1, 2, 20, name=\"Albert\",)"
   ]
  },
  {
   "cell_type": "code",
   "execution_count": 220,
   "id": "88b7fbad",
   "metadata": {},
   "outputs": [
    {
     "ename": "SyntaxError",
     "evalue": "positional argument follows keyword argument (1763996982.py, line 1)",
     "output_type": "error",
     "traceback": [
      "\u001b[0;36m  Input \u001b[0;32mIn [220]\u001b[0;36m\u001b[0m\n\u001b[0;31m    job_description (1, 2, name=\"Albert\", 20)\u001b[0m\n\u001b[0m                                            ^\u001b[0m\n\u001b[0;31mSyntaxError\u001b[0m\u001b[0;31m:\u001b[0m positional argument follows keyword argument\n"
     ]
    }
   ],
   "source": [
    "job_description (1, 2, name=\"Albert\", 20) # args, kwargs"
   ]
  },
  {
   "cell_type": "code",
   "execution_count": 224,
   "id": "7b569510",
   "metadata": {},
   "outputs": [
    {
     "data": {
      "text/html": [
       "<div>\n",
       "<style scoped>\n",
       "    .dataframe tbody tr th:only-of-type {\n",
       "        vertical-align: middle;\n",
       "    }\n",
       "\n",
       "    .dataframe tbody tr th {\n",
       "        vertical-align: top;\n",
       "    }\n",
       "\n",
       "    .dataframe thead th {\n",
       "        text-align: right;\n",
       "    }\n",
       "</style>\n",
       "<table border=\"1\" class=\"dataframe\">\n",
       "  <thead>\n",
       "    <tr style=\"text-align: right;\">\n",
       "      <th></th>\n",
       "      <th>Unnamed: 0</th>\n",
       "      <th>Date</th>\n",
       "      <th>AveragePrice</th>\n",
       "      <th>Total Volume</th>\n",
       "      <th>4046</th>\n",
       "      <th>4225</th>\n",
       "      <th>4770</th>\n",
       "      <th>Total Bags</th>\n",
       "      <th>Small Bags</th>\n",
       "      <th>Large Bags</th>\n",
       "      <th>XLarge Bags</th>\n",
       "      <th>type</th>\n",
       "      <th>year</th>\n",
       "      <th>region</th>\n",
       "    </tr>\n",
       "  </thead>\n",
       "  <tbody>\n",
       "    <tr>\n",
       "      <th>2575</th>\n",
       "      <td>27</td>\n",
       "      <td>2015-06-21</td>\n",
       "      <td>1.4</td>\n",
       "      <td>60370.27</td>\n",
       "      <td>624.44</td>\n",
       "      <td>32511.25</td>\n",
       "      <td>3173.19</td>\n",
       "      <td>24061.39</td>\n",
       "      <td>24061.39</td>\n",
       "      <td>0.0</td>\n",
       "      <td>0.0</td>\n",
       "      <td>conventional</td>\n",
       "      <td>2015</td>\n",
       "      <td>Syracuse</td>\n",
       "    </tr>\n",
       "  </tbody>\n",
       "</table>\n",
       "</div>"
      ],
      "text/plain": [
       "      Unnamed: 0        Date  AveragePrice  Total Volume    4046      4225   \n",
       "2575          27  2015-06-21           1.4      60370.27  624.44  32511.25  \\\n",
       "\n",
       "         4770  Total Bags  Small Bags  Large Bags  XLarge Bags          type   \n",
       "2575  3173.19    24061.39    24061.39         0.0          0.0  conventional  \\\n",
       "\n",
       "      year    region  \n",
       "2575  2015  Syracuse  "
      ]
     },
     "execution_count": 224,
     "metadata": {},
     "output_type": "execute_result"
    }
   ],
   "source": [
    "pd.read_csv(\"../datasets/avocado_kaggle.csv\", sep=\",\").sample()"
   ]
  },
  {
   "cell_type": "code",
   "execution_count": 226,
   "id": "3180d18d",
   "metadata": {},
   "outputs": [
    {
     "ename": "TypeError",
     "evalue": "read_csv() takes 1 positional argument but 2 were given",
     "output_type": "error",
     "traceback": [
      "\u001b[0;31m---------------------------------------------------------------------------\u001b[0m",
      "\u001b[0;31mTypeError\u001b[0m                                 Traceback (most recent call last)",
      "Input \u001b[0;32mIn [226]\u001b[0m, in \u001b[0;36m<cell line: 1>\u001b[0;34m()\u001b[0m\n\u001b[0;32m----> 1\u001b[0m \u001b[43mpd\u001b[49m\u001b[38;5;241;43m.\u001b[39;49m\u001b[43mread_csv\u001b[49m\u001b[43m(\u001b[49m\u001b[38;5;124;43m\"\u001b[39;49m\u001b[38;5;124;43m,\u001b[39;49m\u001b[38;5;124;43m\"\u001b[39;49m\u001b[43m,\u001b[49m\u001b[43m \u001b[49m\u001b[38;5;124;43m\"\u001b[39;49m\u001b[38;5;124;43m../datasets/avocado_kaggle.csv\u001b[39;49m\u001b[38;5;124;43m\"\u001b[39;49m\u001b[43m \u001b[49m\u001b[43m)\u001b[49m\u001b[38;5;241m.\u001b[39msample()\n",
      "\u001b[0;31mTypeError\u001b[0m: read_csv() takes 1 positional argument but 2 were given"
     ]
    }
   ],
   "source": [
    "pd.read_csv(\",\", \"../datasets/avocado_kaggle.csv\" ).sample()"
   ]
  },
  {
   "cell_type": "code",
   "execution_count": 228,
   "id": "d60caa4f",
   "metadata": {},
   "outputs": [
    {
     "ename": "SyntaxError",
     "evalue": "positional argument follows keyword argument (284209840.py, line 1)",
     "output_type": "error",
     "traceback": [
      "\u001b[0;36m  Input \u001b[0;32mIn [228]\u001b[0;36m\u001b[0m\n\u001b[0;31m    pd.read_csv(sep = \",\", \"../datasets/avocado_kaggle.csv\").sample()\u001b[0m\n\u001b[0m                                                           ^\u001b[0m\n\u001b[0;31mSyntaxError\u001b[0m\u001b[0;31m:\u001b[0m positional argument follows keyword argument\n"
     ]
    }
   ],
   "source": [
    "pd.read_csv(sep = \",\", \"../datasets/avocado_kaggle.csv\").sample()"
   ]
  },
  {
   "cell_type": "markdown",
   "id": "5a76c906",
   "metadata": {},
   "source": [
    "### return\n",
    "\n",
    "- return gives you something back\n",
    "- there can be more than one return\n",
    "- **after a function returns something, the execution STOPS**"
   ]
  },
  {
   "cell_type": "markdown",
   "id": "506cb965",
   "metadata": {},
   "source": [
    "`function with return`"
   ]
  },
  {
   "cell_type": "code",
   "execution_count": 243,
   "id": "70fc6f43",
   "metadata": {},
   "outputs": [],
   "source": [
    "def addition_return (a, b):\n",
    "    return a + b"
   ]
  },
  {
   "cell_type": "code",
   "execution_count": 244,
   "id": "94e4b07f",
   "metadata": {},
   "outputs": [
    {
     "data": {
      "text/plain": [
       "15"
      ]
     },
     "execution_count": 244,
     "metadata": {},
     "output_type": "execute_result"
    }
   ],
   "source": [
    "addition_return (10, 5)"
   ]
  },
  {
   "cell_type": "code",
   "execution_count": 245,
   "id": "2663eb6a",
   "metadata": {},
   "outputs": [
    {
     "data": {
      "text/plain": [
       "int"
      ]
     },
     "execution_count": 245,
     "metadata": {},
     "output_type": "execute_result"
    }
   ],
   "source": [
    "type(addition_return (10, 5))"
   ]
  },
  {
   "cell_type": "markdown",
   "id": "b61cca6c",
   "metadata": {},
   "source": [
    "`function with no return`: NoneType"
   ]
  },
  {
   "cell_type": "code",
   "execution_count": 246,
   "id": "c5f4e9ca",
   "metadata": {},
   "outputs": [],
   "source": [
    "def addition_print (a, b):\n",
    "    print (a + b)"
   ]
  },
  {
   "cell_type": "code",
   "execution_count": 247,
   "id": "94b4a2d3",
   "metadata": {},
   "outputs": [
    {
     "name": "stdout",
     "output_type": "stream",
     "text": [
      "15\n"
     ]
    }
   ],
   "source": [
    "addition_print(10, 5)"
   ]
  },
  {
   "cell_type": "code",
   "execution_count": 248,
   "id": "58f6d012",
   "metadata": {},
   "outputs": [
    {
     "name": "stdout",
     "output_type": "stream",
     "text": [
      "15\n"
     ]
    },
    {
     "data": {
      "text/plain": [
       "NoneType"
      ]
     },
     "execution_count": 248,
     "metadata": {},
     "output_type": "execute_result"
    }
   ],
   "source": [
    "type(addition_print (10, 5))"
   ]
  },
  {
   "cell_type": "code",
   "execution_count": null,
   "id": "10bf9f6c",
   "metadata": {},
   "outputs": [],
   "source": [
    "# None should equal something else\n",
    "    # You are not returning anything: no return \n",
    "    # You are returning a print() or nothing"
   ]
  },
  {
   "cell_type": "code",
   "execution_count": 249,
   "id": "3dd4c4f7",
   "metadata": {},
   "outputs": [
    {
     "name": "stdout",
     "output_type": "stream",
     "text": [
      "10\n"
     ]
    },
    {
     "data": {
      "text/plain": [
       "NoneType"
      ]
     },
     "execution_count": 249,
     "metadata": {},
     "output_type": "execute_result"
    }
   ],
   "source": [
    "num = 10\n",
    "type(print(num))"
   ]
  },
  {
   "cell_type": "code",
   "execution_count": null,
   "id": "c96dcebb",
   "metadata": {},
   "outputs": [],
   "source": [
    "# When to return\n",
    "    # We need to refer to it in the future\n",
    "    # keep the value\n",
    "    \n",
    "# When don't return \n",
    "    # We only want info\n",
    "    # Just print\n",
    "    # Do things"
   ]
  },
  {
   "cell_type": "markdown",
   "id": "3f0b4787",
   "metadata": {},
   "source": [
    "`accessing the value of the result of the function`: print & return"
   ]
  },
  {
   "cell_type": "code",
   "execution_count": 250,
   "id": "6e03ec1a",
   "metadata": {},
   "outputs": [],
   "source": [
    "def addition_return (a, b):\n",
    "    return a + b"
   ]
  },
  {
   "cell_type": "code",
   "execution_count": 251,
   "id": "d3d49f9f",
   "metadata": {},
   "outputs": [
    {
     "data": {
      "text/plain": [
       "15"
      ]
     },
     "execution_count": 251,
     "metadata": {},
     "output_type": "execute_result"
    }
   ],
   "source": [
    "result = addition_return (10, 5)\n",
    "result"
   ]
  },
  {
   "cell_type": "code",
   "execution_count": 252,
   "id": "4918aa93",
   "metadata": {},
   "outputs": [
    {
     "data": {
      "text/plain": [
       "12.75"
      ]
     },
     "execution_count": 252,
     "metadata": {},
     "output_type": "execute_result"
    }
   ],
   "source": [
    "result * 0.85"
   ]
  },
  {
   "cell_type": "code",
   "execution_count": 264,
   "id": "82268da8",
   "metadata": {},
   "outputs": [],
   "source": [
    "def addition_print (a, b):\n",
    "    print(a + b)"
   ]
  },
  {
   "cell_type": "code",
   "execution_count": 265,
   "id": "fcb70664",
   "metadata": {},
   "outputs": [
    {
     "name": "stdout",
     "output_type": "stream",
     "text": [
      "15\n"
     ]
    }
   ],
   "source": [
    "result_print = addition_print (10, 5)\n",
    "result_print"
   ]
  },
  {
   "cell_type": "code",
   "execution_count": 266,
   "id": "cc3ea897",
   "metadata": {},
   "outputs": [
    {
     "ename": "TypeError",
     "evalue": "unsupported operand type(s) for *: 'NoneType' and 'float'",
     "output_type": "error",
     "traceback": [
      "\u001b[0;31m---------------------------------------------------------------------------\u001b[0m",
      "\u001b[0;31mTypeError\u001b[0m                                 Traceback (most recent call last)",
      "Input \u001b[0;32mIn [266]\u001b[0m, in \u001b[0;36m<cell line: 1>\u001b[0;34m()\u001b[0m\n\u001b[0;32m----> 1\u001b[0m \u001b[43mresult_print\u001b[49m\u001b[43m \u001b[49m\u001b[38;5;241;43m*\u001b[39;49m\u001b[43m \u001b[49m\u001b[38;5;241;43m0.85\u001b[39;49m\n",
      "\u001b[0;31mTypeError\u001b[0m: unsupported operand type(s) for *: 'NoneType' and 'float'"
     ]
    }
   ],
   "source": [
    "result_print * 0.85"
   ]
  },
  {
   "cell_type": "markdown",
   "id": "309bb330",
   "metadata": {},
   "source": [
    "`more than one return`"
   ]
  },
  {
   "cell_type": "code",
   "execution_count": 272,
   "id": "39587ded",
   "metadata": {},
   "outputs": [],
   "source": [
    "def multiplied (a, b):\n",
    "    return a*2, b*2, b*a"
   ]
  },
  {
   "cell_type": "code",
   "execution_count": 275,
   "id": "13f00cfc",
   "metadata": {
    "scrolled": true
   },
   "outputs": [
    {
     "data": {
      "text/plain": [
       "(40, 8, 80)"
      ]
     },
     "execution_count": 275,
     "metadata": {},
     "output_type": "execute_result"
    }
   ],
   "source": [
    "multiplied (20, 4)"
   ]
  },
  {
   "cell_type": "code",
   "execution_count": 276,
   "id": "9f05e729",
   "metadata": {},
   "outputs": [],
   "source": [
    "first_value = multiplied (20, 4)[0]"
   ]
  },
  {
   "cell_type": "code",
   "execution_count": 277,
   "id": "14de4fc8",
   "metadata": {},
   "outputs": [
    {
     "data": {
      "text/plain": [
       "40"
      ]
     },
     "execution_count": 277,
     "metadata": {},
     "output_type": "execute_result"
    }
   ],
   "source": [
    "first_value"
   ]
  },
  {
   "cell_type": "markdown",
   "id": "d4a7b05b",
   "metadata": {},
   "source": [
    "### Docstrings: documentation strings"
   ]
  },
  {
   "cell_type": "markdown",
   "id": "65bd3a59",
   "metadata": {},
   "source": [
    "- The code is written 1 time.\n",
    "- The code is read 100 times.\n",
    "- Help your colleagues understand your work.\n",
    "\n",
    "![lafoto](https://res.cloudinary.com/highflyer910/image/upload/v1589577574/1_1_httqnc.jpg)"
   ]
  },
  {
   "cell_type": "markdown",
   "id": "14e0777b",
   "metadata": {},
   "source": [
    "In this example, we have defined a cat function that returns meow. We have declared a docstring that explains what the function does. To get the docstring of a function, we need to display the doc attribute (print(cat.__doc__))\n",
    "Photo reference, description and more info about docstring [here](https://techiestuff.netlify.app/blog/what-is-a-python-docstring/)"
   ]
  },
  {
   "cell_type": "code",
   "execution_count": null,
   "id": "c4d68394",
   "metadata": {},
   "outputs": [],
   "source": [
    "# technical debt\n",
    "    # solving things that are not priorities\n",
    "    # documenting code\n",
    "    # refactoring"
   ]
  },
  {
   "cell_type": "code",
   "execution_count": 284,
   "id": "93154e4c",
   "metadata": {},
   "outputs": [],
   "source": [
    "def greeting_function (myself, someone_else, age=0):\n",
    "    \"\"\"\n",
    "    This function greets by introducing yourself\n",
    "    Stating your name, saying hi to someone and stating your age\n",
    "    :myself: str, me\n",
    "    :someone_else: str, someone\n",
    "    :age: optional. int, my age\n",
    "    \"\"\"\n",
    "    return f\"Hello! {someone_else}, my name is {myself} and I am {age} years old\""
   ]
  },
  {
   "cell_type": "code",
   "execution_count": 321,
   "id": "99082233",
   "metadata": {},
   "outputs": [
    {
     "data": {
      "text/plain": [
       "'Hello! Bego, my name is Fer and I am 456789 years old'"
      ]
     },
     "execution_count": 321,
     "metadata": {},
     "output_type": "execute_result"
    }
   ],
   "source": [
    "greeting_function (\"Fer\", \"Bego\", 456789)"
   ]
  },
  {
   "cell_type": "code",
   "execution_count": 288,
   "id": "c6746383",
   "metadata": {},
   "outputs": [
    {
     "data": {
      "text/plain": [
       "'Hello! Bego, my name is Fer and I am 0 years old'"
      ]
     },
     "execution_count": 288,
     "metadata": {},
     "output_type": "execute_result"
    }
   ],
   "source": [
    "greeting_function (\"Fer\", \"Bego\")"
   ]
  },
  {
   "cell_type": "code",
   "execution_count": 280,
   "id": "da67fae2",
   "metadata": {},
   "outputs": [
    {
     "data": {
      "text/plain": [
       "'This function greets by introducing yourself\\n    Stating your name, saying hi to someone and stating your age\\n    :myself: str, me\\n    :someone_else: str, someone\\n    :age: int, my age\\n    '"
      ]
     },
     "execution_count": 280,
     "metadata": {},
     "output_type": "execute_result"
    }
   ],
   "source": [
    "greeting_function.__doc__"
   ]
  },
  {
   "cell_type": "code",
   "execution_count": 281,
   "id": "eba101db",
   "metadata": {},
   "outputs": [
    {
     "name": "stdout",
     "output_type": "stream",
     "text": [
      "This function greets by introducing yourself\n",
      "    Stating your name, saying hi to someone and stating your age\n",
      "    :myself: str, me\n",
      "    :someone_else: str, someone\n",
      "    :age: int, my age\n",
      "    \n"
     ]
    }
   ],
   "source": [
    "print(greeting_function.__doc__)"
   ]
  },
  {
   "cell_type": "code",
   "execution_count": 282,
   "id": "a81fa828",
   "metadata": {},
   "outputs": [
    {
     "name": "stdout",
     "output_type": "stream",
     "text": [
      "def greeting_function (myself, someone_else, age):\n",
      "    \"\"\"This function greets by introducing yourself\n",
      "    Stating your name, saying hi to someone and stating your age\n",
      "    :myself: str, me\n",
      "    :someone_else: str, someone\n",
      "    :age: int, my age\n",
      "    \"\"\"\n",
      "    return f\"Hello! {someone_else}, my name is {myself} and I am {age} years old\"\n",
      "\n"
     ]
    }
   ],
   "source": [
    "import inspect\n",
    "print(inspect.getsource(greeting_function))"
   ]
  },
  {
   "cell_type": "markdown",
   "id": "1bcd1e17",
   "metadata": {},
   "source": [
    "### source code"
   ]
  },
  {
   "cell_type": "code",
   "execution_count": null,
   "id": "15a16e01",
   "metadata": {},
   "outputs": [],
   "source": []
  },
  {
   "cell_type": "markdown",
   "id": "86c5ccda",
   "metadata": {
    "lang": "en"
   },
   "source": [
    "## Scope of functions"
   ]
  },
  {
   "cell_type": "markdown",
   "id": "a353567d",
   "metadata": {},
   "source": [
    "`outer to inner`"
   ]
  },
  {
   "cell_type": "code",
   "execution_count": 304,
   "id": "68156243",
   "metadata": {},
   "outputs": [],
   "source": [
    "# what happens in a function, stays in a function\n",
    "\n",
    "def greets (name):\n",
    "    greeting_string = f\"Hello there! I am {name}\"\n",
    "    age_inside_function_3 = 30\n",
    "    return greeting_string\n",
    "\n",
    "\n",
    "def greets_2 (name):\n",
    "    greeting_string = f\"Hello there! I am {name} second function\"\n",
    "    age_inside_function_3 = 20\n",
    "    return greeting_string"
   ]
  },
  {
   "cell_type": "code",
   "execution_count": 305,
   "id": "945e99d8",
   "metadata": {},
   "outputs": [
    {
     "ename": "NameError",
     "evalue": "name 'age_inside_function_3' is not defined",
     "output_type": "error",
     "traceback": [
      "\u001b[0;31m---------------------------------------------------------------------------\u001b[0m",
      "\u001b[0;31mNameError\u001b[0m                                 Traceback (most recent call last)",
      "Input \u001b[0;32mIn [305]\u001b[0m, in \u001b[0;36m<cell line: 1>\u001b[0;34m()\u001b[0m\n\u001b[0;32m----> 1\u001b[0m \u001b[38;5;28mprint\u001b[39m(\u001b[43mage_inside_function_3\u001b[49m)\n",
      "\u001b[0;31mNameError\u001b[0m: name 'age_inside_function_3' is not defined"
     ]
    }
   ],
   "source": [
    "print(age_inside_function_3)"
   ]
  },
  {
   "cell_type": "code",
   "execution_count": 299,
   "id": "ac2916ad",
   "metadata": {},
   "outputs": [
    {
     "data": {
      "text/plain": [
       "'Hello there! I am Marina'"
      ]
     },
     "execution_count": 299,
     "metadata": {},
     "output_type": "execute_result"
    }
   ],
   "source": [
    "greets (\"Marina\")"
   ]
  },
  {
   "cell_type": "code",
   "execution_count": null,
   "id": "2e392b25",
   "metadata": {},
   "outputs": [],
   "source": [
    "greets_2 (\"Bego\")"
   ]
  },
  {
   "cell_type": "code",
   "execution_count": 300,
   "id": "3131a6b8",
   "metadata": {},
   "outputs": [
    {
     "name": "stdout",
     "output_type": "stream",
     "text": [
      "Hello there! I am Marina\n"
     ]
    }
   ],
   "source": [
    "print(greeting_string)"
   ]
  },
  {
   "cell_type": "code",
   "execution_count": 301,
   "id": "d43fdb8e",
   "metadata": {},
   "outputs": [
    {
     "data": {
      "text/plain": [
       "'Hello there! I am Marina'"
      ]
     },
     "execution_count": 301,
     "metadata": {},
     "output_type": "execute_result"
    }
   ],
   "source": [
    "greeting_string = greets (\"Marina\")\n",
    "greeting_string"
   ]
  },
  {
   "cell_type": "code",
   "execution_count": 302,
   "id": "ceec66fb",
   "metadata": {},
   "outputs": [
    {
     "ename": "NameError",
     "evalue": "name 'age_inside_function' is not defined",
     "output_type": "error",
     "traceback": [
      "\u001b[0;31m---------------------------------------------------------------------------\u001b[0m",
      "\u001b[0;31mNameError\u001b[0m                                 Traceback (most recent call last)",
      "Input \u001b[0;32mIn [302]\u001b[0m, in \u001b[0;36m<cell line: 1>\u001b[0;34m()\u001b[0m\n\u001b[0;32m----> 1\u001b[0m \u001b[38;5;28mprint\u001b[39m(\u001b[43mage_inside_function\u001b[49m)\n",
      "\u001b[0;31mNameError\u001b[0m: name 'age_inside_function' is not defined"
     ]
    }
   ],
   "source": [
    "print(age_inside_function)"
   ]
  },
  {
   "cell_type": "markdown",
   "id": "c26ce173",
   "metadata": {},
   "source": [
    "`inner to outter` "
   ]
  },
  {
   "cell_type": "code",
   "execution_count": 311,
   "id": "1281cc32",
   "metadata": {},
   "outputs": [],
   "source": [
    "def greets (name):\n",
    "    greeting_string = f\"Hello there! I am {name}\"\n",
    "    age_inside_function = 30\n",
    "    return greeting_string, age_inside_function\n",
    "\n",
    "the_first_element, the_second_element = greets (\"Marina\")"
   ]
  },
  {
   "cell_type": "code",
   "execution_count": 312,
   "id": "2d5d6e9a",
   "metadata": {},
   "outputs": [
    {
     "data": {
      "text/plain": [
       "'Hello there! I am Marina'"
      ]
     },
     "execution_count": 312,
     "metadata": {},
     "output_type": "execute_result"
    }
   ],
   "source": [
    "the_first_element"
   ]
  },
  {
   "cell_type": "code",
   "execution_count": 313,
   "id": "7cd9d3a2",
   "metadata": {},
   "outputs": [
    {
     "data": {
      "text/plain": [
       "30"
      ]
     },
     "execution_count": 313,
     "metadata": {},
     "output_type": "execute_result"
    }
   ],
   "source": [
    "the_second_element"
   ]
  },
  {
   "cell_type": "code",
   "execution_count": 309,
   "id": "468a19fa",
   "metadata": {},
   "outputs": [
    {
     "name": "stdout",
     "output_type": "stream",
     "text": [
      "3\n",
      "4\n"
     ]
    }
   ],
   "source": [
    "a, b = (3, 4)\n",
    "print(a)\n",
    "print(b)"
   ]
  },
  {
   "cell_type": "code",
   "execution_count": null,
   "id": "47782843",
   "metadata": {},
   "outputs": [],
   "source": [
    "# hashtags & docstrings\n",
    "   # comment: one.line\n",
    "    # docstring: docs, multi-line\n",
    "        # more extensive\n",
    "        # it can be accessed through python native methods function.__doc__\n"
   ]
  },
  {
   "cell_type": "markdown",
   "id": "80ccf4fe",
   "metadata": {},
   "source": [
    "[Extra: global variables](https://www.w3schools.com/python/python_variables_global.asp)"
   ]
  },
  {
   "cell_type": "markdown",
   "id": "28a2d72b",
   "metadata": {
    "lang": "en"
   },
   "source": [
    "## Lambda\n",
    "A lambda function is an anonymous function, with no identifier, that can be declared in place. Since we can take functions as arguments and assign them to variables, the notation that makes it possible to create lambda functions is very handy in many cases.\n",
    "\n",
    "\n",
    "### Syntax of a lambda\n",
    "```python\n",
    "lambda <param list>:<return expression>\n",
    "```\n"
   ]
  },
  {
   "cell_type": "code",
   "execution_count": null,
   "id": "78318b75",
   "metadata": {},
   "outputs": [],
   "source": [
    "# User defined\n",
    "# Built-in methods\n",
    "# lambda expressions\n",
    "    # on the spot\n",
    "    # no need to reuse\n",
    "        # takes an argument\n",
    "        # \"returns\" something"
   ]
  },
  {
   "cell_type": "code",
   "execution_count": 330,
   "id": "7ce12b0d",
   "metadata": {},
   "outputs": [
    {
     "data": {
      "text/html": [
       "<div>\n",
       "<style scoped>\n",
       "    .dataframe tbody tr th:only-of-type {\n",
       "        vertical-align: middle;\n",
       "    }\n",
       "\n",
       "    .dataframe tbody tr th {\n",
       "        vertical-align: top;\n",
       "    }\n",
       "\n",
       "    .dataframe thead th {\n",
       "        text-align: right;\n",
       "    }\n",
       "</style>\n",
       "<table border=\"1\" class=\"dataframe\">\n",
       "  <thead>\n",
       "    <tr style=\"text-align: right;\">\n",
       "      <th></th>\n",
       "      <th>Unnamed: 0</th>\n",
       "      <th>Date</th>\n",
       "      <th>AveragePrice</th>\n",
       "      <th>Total Volume</th>\n",
       "      <th>4046</th>\n",
       "      <th>4225</th>\n",
       "      <th>4770</th>\n",
       "      <th>Total Bags</th>\n",
       "      <th>Small Bags</th>\n",
       "      <th>Large Bags</th>\n",
       "      <th>XLarge Bags</th>\n",
       "      <th>type</th>\n",
       "      <th>year</th>\n",
       "      <th>region</th>\n",
       "    </tr>\n",
       "  </thead>\n",
       "  <tbody>\n",
       "    <tr>\n",
       "      <th>0</th>\n",
       "      <td>0</td>\n",
       "      <td>2015-12-27</td>\n",
       "      <td>133.0</td>\n",
       "      <td>64236.62</td>\n",
       "      <td>1036.74</td>\n",
       "      <td>54454.85</td>\n",
       "      <td>48.16</td>\n",
       "      <td>8696.87</td>\n",
       "      <td>8603.62</td>\n",
       "      <td>93.25</td>\n",
       "      <td>0.0</td>\n",
       "      <td>conventional</td>\n",
       "      <td>2015</td>\n",
       "      <td>Albany</td>\n",
       "    </tr>\n",
       "    <tr>\n",
       "      <th>1</th>\n",
       "      <td>1</td>\n",
       "      <td>2015-12-20</td>\n",
       "      <td>135.0</td>\n",
       "      <td>54876.98</td>\n",
       "      <td>674.28</td>\n",
       "      <td>44638.81</td>\n",
       "      <td>58.33</td>\n",
       "      <td>9505.56</td>\n",
       "      <td>9408.07</td>\n",
       "      <td>97.49</td>\n",
       "      <td>0.0</td>\n",
       "      <td>conventional</td>\n",
       "      <td>2015</td>\n",
       "      <td>Albany</td>\n",
       "    </tr>\n",
       "    <tr>\n",
       "      <th>2</th>\n",
       "      <td>2</td>\n",
       "      <td>2015-12-13</td>\n",
       "      <td>93.0</td>\n",
       "      <td>118220.22</td>\n",
       "      <td>794.70</td>\n",
       "      <td>109149.67</td>\n",
       "      <td>130.50</td>\n",
       "      <td>8145.35</td>\n",
       "      <td>8042.21</td>\n",
       "      <td>103.14</td>\n",
       "      <td>0.0</td>\n",
       "      <td>conventional</td>\n",
       "      <td>2015</td>\n",
       "      <td>Albany</td>\n",
       "    </tr>\n",
       "    <tr>\n",
       "      <th>3</th>\n",
       "      <td>3</td>\n",
       "      <td>2015-12-06</td>\n",
       "      <td>108.0</td>\n",
       "      <td>78992.15</td>\n",
       "      <td>1132.00</td>\n",
       "      <td>71976.41</td>\n",
       "      <td>72.58</td>\n",
       "      <td>5811.16</td>\n",
       "      <td>5677.40</td>\n",
       "      <td>133.76</td>\n",
       "      <td>0.0</td>\n",
       "      <td>conventional</td>\n",
       "      <td>2015</td>\n",
       "      <td>Albany</td>\n",
       "    </tr>\n",
       "    <tr>\n",
       "      <th>4</th>\n",
       "      <td>4</td>\n",
       "      <td>2015-11-29</td>\n",
       "      <td>128.0</td>\n",
       "      <td>51039.60</td>\n",
       "      <td>941.48</td>\n",
       "      <td>43838.39</td>\n",
       "      <td>75.78</td>\n",
       "      <td>6183.95</td>\n",
       "      <td>5986.26</td>\n",
       "      <td>197.69</td>\n",
       "      <td>0.0</td>\n",
       "      <td>conventional</td>\n",
       "      <td>2015</td>\n",
       "      <td>Albany</td>\n",
       "    </tr>\n",
       "  </tbody>\n",
       "</table>\n",
       "</div>"
      ],
      "text/plain": [
       "   Unnamed: 0        Date  AveragePrice  Total Volume     4046       4225   \n",
       "0           0  2015-12-27         133.0      64236.62  1036.74   54454.85  \\\n",
       "1           1  2015-12-20         135.0      54876.98   674.28   44638.81   \n",
       "2           2  2015-12-13          93.0     118220.22   794.70  109149.67   \n",
       "3           3  2015-12-06         108.0      78992.15  1132.00   71976.41   \n",
       "4           4  2015-11-29         128.0      51039.60   941.48   43838.39   \n",
       "\n",
       "     4770  Total Bags  Small Bags  Large Bags  XLarge Bags          type   \n",
       "0   48.16     8696.87     8603.62       93.25          0.0  conventional  \\\n",
       "1   58.33     9505.56     9408.07       97.49          0.0  conventional   \n",
       "2  130.50     8145.35     8042.21      103.14          0.0  conventional   \n",
       "3   72.58     5811.16     5677.40      133.76          0.0  conventional   \n",
       "4   75.78     6183.95     5986.26      197.69          0.0  conventional   \n",
       "\n",
       "   year  region  \n",
       "0  2015  Albany  \n",
       "1  2015  Albany  \n",
       "2  2015  Albany  \n",
       "3  2015  Albany  \n",
       "4  2015  Albany  "
      ]
     },
     "execution_count": 330,
     "metadata": {},
     "output_type": "execute_result"
    }
   ],
   "source": [
    "import pandas as pd\n",
    "df = pd.read_csv(\"../datasets/avocado_kaggle.csv\")\n",
    "df.head()\n",
    "\n",
    "\n",
    "df[\"AveragePrice\"] = df[\"AveragePrice\"].apply(lambda x: x*100)\n",
    "df.head()\n",
    "\n",
    "#{\"AveragePrice\": [133.0, 135.0, 93.0]}"
   ]
  },
  {
   "cell_type": "code",
   "execution_count": 331,
   "id": "eb1336c8",
   "metadata": {},
   "outputs": [
    {
     "data": {
      "text/html": [
       "<div>\n",
       "<style scoped>\n",
       "    .dataframe tbody tr th:only-of-type {\n",
       "        vertical-align: middle;\n",
       "    }\n",
       "\n",
       "    .dataframe tbody tr th {\n",
       "        vertical-align: top;\n",
       "    }\n",
       "\n",
       "    .dataframe thead th {\n",
       "        text-align: right;\n",
       "    }\n",
       "</style>\n",
       "<table border=\"1\" class=\"dataframe\">\n",
       "  <thead>\n",
       "    <tr style=\"text-align: right;\">\n",
       "      <th></th>\n",
       "      <th>Unnamed: 0</th>\n",
       "      <th>Date</th>\n",
       "      <th>AveragePrice</th>\n",
       "      <th>Total Volume</th>\n",
       "      <th>4046</th>\n",
       "      <th>4225</th>\n",
       "      <th>4770</th>\n",
       "      <th>Total Bags</th>\n",
       "      <th>Small Bags</th>\n",
       "      <th>Large Bags</th>\n",
       "      <th>XLarge Bags</th>\n",
       "      <th>type</th>\n",
       "      <th>year</th>\n",
       "      <th>region</th>\n",
       "    </tr>\n",
       "  </thead>\n",
       "  <tbody>\n",
       "    <tr>\n",
       "      <th>0</th>\n",
       "      <td>0</td>\n",
       "      <td>2015-12-27</td>\n",
       "      <td>133.0</td>\n",
       "      <td>64236.62</td>\n",
       "      <td>1036.74</td>\n",
       "      <td>54454.85</td>\n",
       "      <td>48.16</td>\n",
       "      <td>8696.87</td>\n",
       "      <td>8603.62</td>\n",
       "      <td>93.25</td>\n",
       "      <td>0.0</td>\n",
       "      <td>conventional</td>\n",
       "      <td>2015</td>\n",
       "      <td>Albany</td>\n",
       "    </tr>\n",
       "    <tr>\n",
       "      <th>1</th>\n",
       "      <td>1</td>\n",
       "      <td>2015-12-20</td>\n",
       "      <td>135.0</td>\n",
       "      <td>54876.98</td>\n",
       "      <td>674.28</td>\n",
       "      <td>44638.81</td>\n",
       "      <td>58.33</td>\n",
       "      <td>9505.56</td>\n",
       "      <td>9408.07</td>\n",
       "      <td>97.49</td>\n",
       "      <td>0.0</td>\n",
       "      <td>conventional</td>\n",
       "      <td>2015</td>\n",
       "      <td>Albany</td>\n",
       "    </tr>\n",
       "    <tr>\n",
       "      <th>2</th>\n",
       "      <td>2</td>\n",
       "      <td>2015-12-13</td>\n",
       "      <td>93.0</td>\n",
       "      <td>118220.22</td>\n",
       "      <td>794.70</td>\n",
       "      <td>109149.67</td>\n",
       "      <td>130.50</td>\n",
       "      <td>8145.35</td>\n",
       "      <td>8042.21</td>\n",
       "      <td>103.14</td>\n",
       "      <td>0.0</td>\n",
       "      <td>conventional</td>\n",
       "      <td>2015</td>\n",
       "      <td>Albany</td>\n",
       "    </tr>\n",
       "    <tr>\n",
       "      <th>3</th>\n",
       "      <td>3</td>\n",
       "      <td>2015-12-06</td>\n",
       "      <td>108.0</td>\n",
       "      <td>78992.15</td>\n",
       "      <td>1132.00</td>\n",
       "      <td>71976.41</td>\n",
       "      <td>72.58</td>\n",
       "      <td>5811.16</td>\n",
       "      <td>5677.40</td>\n",
       "      <td>133.76</td>\n",
       "      <td>0.0</td>\n",
       "      <td>conventional</td>\n",
       "      <td>2015</td>\n",
       "      <td>Albany</td>\n",
       "    </tr>\n",
       "    <tr>\n",
       "      <th>4</th>\n",
       "      <td>4</td>\n",
       "      <td>2015-11-29</td>\n",
       "      <td>128.0</td>\n",
       "      <td>51039.60</td>\n",
       "      <td>941.48</td>\n",
       "      <td>43838.39</td>\n",
       "      <td>75.78</td>\n",
       "      <td>6183.95</td>\n",
       "      <td>5986.26</td>\n",
       "      <td>197.69</td>\n",
       "      <td>0.0</td>\n",
       "      <td>conventional</td>\n",
       "      <td>2015</td>\n",
       "      <td>Albany</td>\n",
       "    </tr>\n",
       "  </tbody>\n",
       "</table>\n",
       "</div>"
      ],
      "text/plain": [
       "   Unnamed: 0        Date  AveragePrice  Total Volume     4046       4225   \n",
       "0           0  2015-12-27         133.0      64236.62  1036.74   54454.85  \\\n",
       "1           1  2015-12-20         135.0      54876.98   674.28   44638.81   \n",
       "2           2  2015-12-13          93.0     118220.22   794.70  109149.67   \n",
       "3           3  2015-12-06         108.0      78992.15  1132.00   71976.41   \n",
       "4           4  2015-11-29         128.0      51039.60   941.48   43838.39   \n",
       "\n",
       "     4770  Total Bags  Small Bags  Large Bags  XLarge Bags          type   \n",
       "0   48.16     8696.87     8603.62       93.25          0.0  conventional  \\\n",
       "1   58.33     9505.56     9408.07       97.49          0.0  conventional   \n",
       "2  130.50     8145.35     8042.21      103.14          0.0  conventional   \n",
       "3   72.58     5811.16     5677.40      133.76          0.0  conventional   \n",
       "4   75.78     6183.95     5986.26      197.69          0.0  conventional   \n",
       "\n",
       "   year  region  \n",
       "0  2015  Albany  \n",
       "1  2015  Albany  \n",
       "2  2015  Albany  \n",
       "3  2015  Albany  \n",
       "4  2015  Albany  "
      ]
     },
     "execution_count": 331,
     "metadata": {},
     "output_type": "execute_result"
    }
   ],
   "source": [
    "import pandas as pd\n",
    "df = pd.read_csv(\"../datasets/avocado_kaggle.csv\")\n",
    "df.head()\n",
    "\n",
    "def multiply (x):\n",
    "    return x * 100\n",
    "\n",
    "\n",
    "df[\"AveragePrice\"] = df[\"AveragePrice\"].apply(multiply)\n",
    "df.head()"
   ]
  },
  {
   "cell_type": "markdown",
   "id": "5add6142",
   "metadata": {},
   "source": [
    "### lambda examples"
   ]
  },
  {
   "cell_type": "code",
   "execution_count": null,
   "id": "d92cb1ef",
   "metadata": {},
   "outputs": [],
   "source": []
  },
  {
   "cell_type": "code",
   "execution_count": null,
   "id": "f929c4ac",
   "metadata": {},
   "outputs": [],
   "source": []
  },
  {
   "cell_type": "markdown",
   "id": "6f67a9bf",
   "metadata": {},
   "source": [
    "### `lambda`  as the option of some other built-in functions"
   ]
  },
  {
   "cell_type": "markdown",
   "id": "85df84e3",
   "metadata": {
    "lang": "en"
   },
   "source": [
    "It is also possible to use these anonymous functions as arguments in calls to other functions. For example, in a call to sorted() or list.sort() we can use a lambda function as an argument to the key parameter:"
   ]
  },
  {
   "cell_type": "code",
   "execution_count": 332,
   "id": "31abf911",
   "metadata": {},
   "outputs": [],
   "source": [
    "list_ot_tuples = [(\"zaragoza\", 10000, \"b\"), (\"barcelona\", 56767, \"z\"), (\"madrid\", 678900000, \"a\")]"
   ]
  },
  {
   "cell_type": "code",
   "execution_count": 333,
   "id": "789d9922",
   "metadata": {},
   "outputs": [
    {
     "data": {
      "text/plain": [
       "[('zaragoza', 10000, 'b'),\n",
       " ('barcelona', 56767, 'z'),\n",
       " ('madrid', 678900000, 'a')]"
      ]
     },
     "execution_count": 333,
     "metadata": {},
     "output_type": "execute_result"
    }
   ],
   "source": [
    "list_ot_tuples"
   ]
  },
  {
   "cell_type": "code",
   "execution_count": 334,
   "id": "ba722ca2",
   "metadata": {},
   "outputs": [
    {
     "data": {
      "text/plain": [
       "[('barcelona', 56767, 'z'),\n",
       " ('madrid', 678900000, 'a'),\n",
       " ('zaragoza', 10000, 'b')]"
      ]
     },
     "execution_count": 334,
     "metadata": {},
     "output_type": "execute_result"
    }
   ],
   "source": [
    "sorted(list_ot_tuples)"
   ]
  },
  {
   "cell_type": "code",
   "execution_count": 337,
   "id": "feeec701",
   "metadata": {},
   "outputs": [
    {
     "data": {
      "text/plain": [
       "[('madrid', 678900000, 'a'),\n",
       " ('zaragoza', 10000, 'b'),\n",
       " ('barcelona', 56767, 'z')]"
      ]
     },
     "execution_count": 337,
     "metadata": {},
     "output_type": "execute_result"
    }
   ],
   "source": [
    "sorted(list_ot_tuples, key=lambda x: x[2])"
   ]
  },
  {
   "cell_type": "code",
   "execution_count": 338,
   "id": "f364f8b3",
   "metadata": {},
   "outputs": [
    {
     "data": {
      "text/plain": [
       "[('zaragoza', 10000, 'b'),\n",
       " ('barcelona', 56767, 'z'),\n",
       " ('madrid', 678900000, 'a')]"
      ]
     },
     "execution_count": 338,
     "metadata": {},
     "output_type": "execute_result"
    }
   ],
   "source": [
    "sorted(list_ot_tuples, key = lambda x: x[1])"
   ]
  },
  {
   "cell_type": "markdown",
   "id": "51204969",
   "metadata": {},
   "source": [
    "## Functions: functions as return of another function"
   ]
  },
  {
   "cell_type": "code",
   "execution_count": 351,
   "id": "35748490",
   "metadata": {},
   "outputs": [],
   "source": [
    "def greater_number (a, b):\n",
    "    if a > b:\n",
    "        return a\n",
    "    else:\n",
    "        return b"
   ]
  },
  {
   "cell_type": "code",
   "execution_count": 352,
   "id": "96877abe",
   "metadata": {},
   "outputs": [
    {
     "data": {
      "text/plain": [
       "10"
      ]
     },
     "execution_count": 352,
     "metadata": {},
     "output_type": "execute_result"
    }
   ],
   "source": [
    "greater_number (10, 3)"
   ]
  },
  {
   "cell_type": "code",
   "execution_count": 353,
   "id": "cd0b1a47",
   "metadata": {},
   "outputs": [
    {
     "data": {
      "text/plain": [
       "10"
      ]
     },
     "execution_count": 353,
     "metadata": {},
     "output_type": "execute_result"
    }
   ],
   "source": [
    "greater_number (3, 10)"
   ]
  },
  {
   "cell_type": "code",
   "execution_count": 367,
   "id": "d22bb041",
   "metadata": {},
   "outputs": [],
   "source": [
    "def lesser_number (a, b):\n",
    "    if a > b:\n",
    "        return b\n",
    "    else:\n",
    "        return a"
   ]
  },
  {
   "cell_type": "code",
   "execution_count": 368,
   "id": "5e018dcf",
   "metadata": {},
   "outputs": [
    {
     "data": {
      "text/plain": [
       "3"
      ]
     },
     "execution_count": 368,
     "metadata": {},
     "output_type": "execute_result"
    }
   ],
   "source": [
    "lesser_number (10, 3)"
   ]
  },
  {
   "cell_type": "code",
   "execution_count": 370,
   "id": "099c47be",
   "metadata": {},
   "outputs": [
    {
     "data": {
      "text/plain": [
       "10"
      ]
     },
     "execution_count": 370,
     "metadata": {},
     "output_type": "execute_result"
    }
   ],
   "source": [
    "lesser_number (10, 30)"
   ]
  },
  {
   "cell_type": "code",
   "execution_count": 371,
   "id": "0ea1d2db",
   "metadata": {},
   "outputs": [],
   "source": [
    "def compares (type_of_comparison):\n",
    "    if type_of_comparison == \"greater\":\n",
    "        return greater_number # fn\n",
    "    \n",
    "    elif type_of_comparison == \"lesser\":\n",
    "        return lesser_number # fn"
   ]
  },
  {
   "cell_type": "code",
   "execution_count": 372,
   "id": "bcf228b2",
   "metadata": {},
   "outputs": [
    {
     "data": {
      "text/plain": [
       "10"
      ]
     },
     "execution_count": 372,
     "metadata": {},
     "output_type": "execute_result"
    }
   ],
   "source": [
    "compares(\"greater\")(10, 3) \n",
    "\n",
    "# compares(\"greater\") -> # greater_number\n",
    "# compares(\"greater\")(10, 3 ) -> greater_number(a, b)"
   ]
  },
  {
   "cell_type": "code",
   "execution_count": 378,
   "id": "f45396e1",
   "metadata": {},
   "outputs": [],
   "source": [
    "def compares (type_of_comparison):\n",
    "    if type_of_comparison == \"greater\":\n",
    "        return greater_number\n",
    "    \n",
    "    elif type_of_comparison == \"lesser\":\n",
    "        return lambda x, y: x if x < y else y # fn"
   ]
  },
  {
   "cell_type": "code",
   "execution_count": 380,
   "id": "4295c236",
   "metadata": {},
   "outputs": [],
   "source": [
    "def compares (type_of_comparison):\n",
    "    if type_of_comparison == \"greater\":\n",
    "        return lambda x, y: x if x > y else y # fn\n",
    "    \n",
    "    elif type_of_comparison == \"lesser\":\n",
    "        return lambda x, y: x if x < y else y # fn"
   ]
  },
  {
   "cell_type": "code",
   "execution_count": 381,
   "id": "b0f74006",
   "metadata": {},
   "outputs": [
    {
     "data": {
      "text/plain": [
       "10"
      ]
     },
     "execution_count": 381,
     "metadata": {},
     "output_type": "execute_result"
    }
   ],
   "source": [
    "compares(\"greater\")(10, 3) \n",
    "\n",
    "# greater / lesser\n",
    "    # greater number / lambda"
   ]
  },
  {
   "cell_type": "code",
   "execution_count": 382,
   "id": "9fa70943",
   "metadata": {},
   "outputs": [
    {
     "data": {
      "text/plain": [
       "3"
      ]
     },
     "execution_count": 382,
     "metadata": {},
     "output_type": "execute_result"
    }
   ],
   "source": [
    "compares(\"lesser\")(10, 3)"
   ]
  },
  {
   "cell_type": "markdown",
   "id": "f90508d9",
   "metadata": {
    "lang": "en"
   },
   "source": [
    "## Recursion\n",
    "It is called recursive call (or recursion), to those functions that in their algorithm, refer to itself.\n",
    "\n",
    "Recursive calls are usually very useful in very specific cases, but due to their great feasibility of falling into infinite iterations, adequate preventive measures should be taken and only used when strictly necessary and there is no viable alternative way to solve the problem. avoiding recursion.\n",
    "\n",
    "Python supports recursive calls, allowing a function to call itself, just as it does when calling another function."
   ]
  },
  {
   "cell_type": "code",
   "execution_count": 385,
   "id": "cb764c07",
   "metadata": {},
   "outputs": [],
   "source": [
    "def user ():\n",
    "    \n",
    "    value = int(input(\"Please input a number > 5: \"))\n",
    "    \n",
    "    if value > 5:\n",
    "        print(\"Success!\")\n",
    "    else: \n",
    "        return user() \n",
    "    \n",
    "    # recursive function\n",
    "    # the return is calling itself\n",
    "    # it's like a while loop\n",
    "    "
   ]
  },
  {
   "cell_type": "code",
   "execution_count": 386,
   "id": "4139794e",
   "metadata": {},
   "outputs": [
    {
     "name": "stdout",
     "output_type": "stream",
     "text": [
      "Please input a number > 5: 5\n",
      "Please input a number > 5: 6\n",
      "Success!\n"
     ]
    }
   ],
   "source": [
    "user()"
   ]
  },
  {
   "cell_type": "markdown",
   "id": "419b6db5",
   "metadata": {},
   "source": [
    "`ins't it the same as a while loop?`"
   ]
  },
  {
   "cell_type": "code",
   "execution_count": null,
   "id": "841ed12d",
   "metadata": {},
   "outputs": [],
   "source": []
  },
  {
   "cell_type": "markdown",
   "id": "4cb268d0",
   "metadata": {
    "lang": "en"
   },
   "source": [
    "## Summary\n",
    "It's your turn. What have we learned today?"
   ]
  },
  {
   "cell_type": "markdown",
   "id": "9bc1b06b",
   "metadata": {},
   "source": [
    "TYPES OF FUNCTIONS\n",
    "\n",
    "- user-defined\n",
    "- built-in\n",
    "- lambdas:\n",
    "    - easy code\n",
    "    - not reuse\n",
    "\n",
    "\n",
    "- What is a function?\n",
    "    - It's a piece of code\n",
    "    - Functions to things\n",
    "    - Piece of code that does thing\n",
    "    - Re-usable code\n",
    "    - Specific & general\n",
    "        - DOES something very specific, well defined task\n",
    "        - General: should work for different examples of the same\n",
    "\n",
    "PARAMS\n",
    "\n",
    "- Params & args: name & \"bego\"\n",
    "    - param: name\n",
    "    - arg: bego\n",
    "    \n",
    "    - default_param = 0\n",
    "        - optional\n",
    "        \n",
    "- It can have return\n",
    "    - Future use\n",
    "    - Assing the result of the fn to a variable\n",
    "- If it doesnt' have a return, it evalues to: None\n",
    "- * args & ** kwargs: unknown/variable number of arguments\n",
    "    - args: tupple-(r)-ized\n",
    "    - kwargs: dictionir-ized\n",
    "    - order: positional, args, kwargs\n",
    "\n",
    "- print vs return\n",
    "    - print: show (None)\n",
    "    - return: give you the actual object\n",
    "    \n",
    "- SCOPE\n",
    "    - what happens inside the function, stays in the function\n",
    "        - save_into_variable = fun(a, b), it'll keep what you returned\n",
    "    - From the outside -> inside, it does work\n",
    "    \n",
    "- CALLING THE FUNCTION\n",
    "    - name_of_function(args if needed)\n",
    "- DEFINING\n",
    "    - `def function (args):`\n",
    "- DOCSTRINGS\n",
    "    - multi-line comments right below the def\n",
    "        - 1. Description of what the function does\n",
    "        - 2. Arguments it needs\n",
    "            - name\n",
    "            - what it is\n",
    "            - type of data\n",
    "    - summoning: `function_name.__doc__`\n",
    "    - Hashtags: for one-line comments \n",
    "    \n",
    "- Three different paradigms \n",
    "    - imperative\n",
    "    - functional\n",
    "    - OOP: object oriented programming\n",
    "    \n",
    "    \n",
    "- TDD: test driven development\n",
    "- Recursion:\n",
    "    - Functions can call themselves\n",
    "    - Functions can call other functions\n"
   ]
  }
 ],
 "metadata": {
  "kernelspec": {
   "display_name": "ironhack",
   "language": "python",
   "name": "ironhack"
  },
  "language_info": {
   "codemirror_mode": {
    "name": "ipython",
    "version": 3
   },
   "file_extension": ".py",
   "mimetype": "text/x-python",
   "name": "python",
   "nbconvert_exporter": "python",
   "pygments_lexer": "ipython3",
   "version": "3.9.12"
  },
  "nbTranslate": {
   "displayLangs": [
    "en",
    "es"
   ],
   "hotkey": "alt-a",
   "langInMainMenu": true,
   "sourceLang": "es",
   "targetLang": "en",
   "useGoogleTranslate": true
  },
  "toc": {
   "base_numbering": 1,
   "nav_menu": {},
   "number_sections": true,
   "sideBar": true,
   "skip_h1_title": true,
   "title_cell": "Table of Contents",
   "title_sidebar": "Contents",
   "toc_cell": true,
   "toc_position": {
    "height": "calc(100% - 180px)",
    "left": "10px",
    "top": "150px",
    "width": "288px"
   },
   "toc_section_display": true,
   "toc_window_display": false
  }
 },
 "nbformat": 4,
 "nbformat_minor": 5
}
