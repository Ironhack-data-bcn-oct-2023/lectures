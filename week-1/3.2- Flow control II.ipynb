{
 "cells": [
  {
   "cell_type": "markdown",
   "id": "raised-meter",
   "metadata": {
    "toc": true
   },
   "source": [
    "<h1>Table of Contents<span class=\"tocSkip\"></span></h1>\n",
    "<div class=\"toc\"><ul class=\"toc-item\"><li><span><a href=\"#The-&quot;while&quot;-statement\" data-toc-modified-id=\"The-&quot;while&quot;-statement-1\"><span class=\"toc-item-num\">1&nbsp;&nbsp;</span>The \"while\" statement</a></span></li><li><span><a href=\"#Pass,--continue-&amp;-break\" data-toc-modified-id=\"Pass,--continue-&amp;-break-2\"><span class=\"toc-item-num\">2&nbsp;&nbsp;</span>Pass,  continue &amp; break</a></span></li><li><span><a href=\"#For\" data-toc-modified-id=\"For-3\"><span class=\"toc-item-num\">3&nbsp;&nbsp;</span>For</a></span><ul class=\"toc-item\"><li><span><a href=\"#Iterate-through-strings\" data-toc-modified-id=\"Iterate-through-strings-3.1\"><span class=\"toc-item-num\">3.1&nbsp;&nbsp;</span>Iterate through strings</a></span></li><li><span><a href=\"#Iterate-through-a-list\" data-toc-modified-id=\"Iterate-through-a-list-3.2\"><span class=\"toc-item-num\">3.2&nbsp;&nbsp;</span>Iterate through a list</a></span></li><li><span><a href=\"#We-iterate-through-lists-over-their-index\" data-toc-modified-id=\"We-iterate-through-lists-over-their-index-3.3\"><span class=\"toc-item-num\">3.3&nbsp;&nbsp;</span>We iterate through lists over their index</a></span></li><li><span><a href=\"#Loop-through-two-lists-at-the-same-time\" data-toc-modified-id=\"Loop-through-two-lists-at-the-same-time-3.4\"><span class=\"toc-item-num\">3.4&nbsp;&nbsp;</span>Loop through two lists at the same time</a></span></li><li><span><a href=\"#Iterate-over-the-elements-of-a-dictionary\" data-toc-modified-id=\"Iterate-over-the-elements-of-a-dictionary-3.5\"><span class=\"toc-item-num\">3.5&nbsp;&nbsp;</span>Iterate over the elements of a dictionary</a></span></li></ul></li><li><span><a href=\"#Summary\" data-toc-modified-id=\"Summary-4\"><span class=\"toc-item-num\">4&nbsp;&nbsp;</span>Summary</a></span></li></ul></div>"
   ]
  },
  {
   "cell_type": "markdown",
   "id": "constant-discovery",
   "metadata": {},
   "source": [
    "# Let's keep the flow going"
   ]
  },
  {
   "cell_type": "markdown",
   "id": "genetic-output",
   "metadata": {},
   "source": [
    "![FLOW](https://media.giphy.com/media/h8y265b9iKtzKT0pDj/giphy.gif)"
   ]
  },
  {
   "cell_type": "markdown",
   "id": "1dc47ed3",
   "metadata": {},
   "source": [
    "```\n",
    "while loops\n",
    "    - you dont know when it ends\n",
    "    - condition\n",
    "    \n",
    "for loops\n",
    "    - finite number\n",
    "    - ends when iterable ends\n",
    "```"
   ]
  },
  {
   "cell_type": "code",
   "execution_count": 11,
   "id": "49bd6f98",
   "metadata": {
    "scrolled": true
   },
   "outputs": [
    {
     "name": "stdout",
     "output_type": "stream",
     "text": [
      "Current balance is: 91 after transaction\n",
      "Current balance is: 82 after transaction\n",
      "Current balance is: 73 after transaction\n",
      "Current balance is: 64 after transaction\n",
      "Current balance is: 55 after transaction\n",
      "Current balance is: 46 after transaction\n",
      "Current balance is: 37 after transaction\n",
      "Current balance is: 28 after transaction\n",
      "Current balance is: 19 after transaction\n",
      "Current balance is: 10 after transaction\n",
      "Current balance is: 1 after transaction\n",
      "My balance is 1 after 11 purchases\n"
     ]
    }
   ],
   "source": [
    "balance = 100\n",
    "cost = 9\n",
    "counter = 0\n",
    "\n",
    "# if condition that is continously running\n",
    "\n",
    "while balance > cost: \n",
    "    balance -= cost\n",
    "    counter += 1\n",
    "    print(f\"Current balance is: {balance} after transaction\")\n",
    "\n",
    "print(f\"My balance is {balance} after {counter} purchases\")"
   ]
  },
  {
   "cell_type": "code",
   "execution_count": 13,
   "id": "051e69f5",
   "metadata": {},
   "outputs": [
    {
     "name": "stdout",
     "output_type": "stream",
     "text": [
      "My balance is 1after 11 purchases\n"
     ]
    }
   ],
   "source": [
    "print(\"My balance is \" + str(balance) + \"after \" + str(counter) + \" purchases\")"
   ]
  },
  {
   "cell_type": "code",
   "execution_count": 8,
   "id": "353352ed",
   "metadata": {},
   "outputs": [
    {
     "name": "stdout",
     "output_type": "stream",
     "text": [
      "My balance is  1 after  11  purchases\n"
     ]
    }
   ],
   "source": [
    "print(\"My balance is \", balance, \"after \", counter, \" purchases\")"
   ]
  },
  {
   "cell_type": "code",
   "execution_count": 14,
   "id": "d6afd541",
   "metadata": {},
   "outputs": [
    {
     "name": "stdout",
     "output_type": "stream",
     "text": [
      "My balance is 1 after 11 purchases\n"
     ]
    }
   ],
   "source": [
    "print(f\"My balance is {balance} after {counter} purchases\")"
   ]
  },
  {
   "cell_type": "code",
   "execution_count": null,
   "id": "034ea8ec",
   "metadata": {},
   "outputs": [],
   "source": [
    "# watch out for infinite loops!!! -> stop the kernel"
   ]
  },
  {
   "cell_type": "code",
   "execution_count": 17,
   "id": "f60d392e",
   "metadata": {},
   "outputs": [
    {
     "name": "stdout",
     "output_type": "stream",
     "text": [
      "Clara\n",
      "Albert\n",
      "Laura\n",
      "Number of times:  3\n"
     ]
    }
   ],
   "source": [
    "list_of_names = [\"clara\", \"albert\", \"laura\"] #all of it -> for\n",
    "counter = 0\n",
    "\n",
    "for name in list_of_names:\n",
    "    counter += 1\n",
    "    print(name.capitalize())\n",
    "    \n",
    "print(\"Number of times: \", counter) # to see how many times"
   ]
  },
  {
   "cell_type": "code",
   "execution_count": null,
   "id": "babf3f47",
   "metadata": {},
   "outputs": [],
   "source": [
    "# counter, auxiliary variable\n",
    "\n",
    "# enumerate\n",
    "# zip\n",
    "# range"
   ]
  },
  {
   "cell_type": "code",
   "execution_count": 19,
   "id": "f2d263f4",
   "metadata": {},
   "outputs": [
    {
     "name": "stdout",
     "output_type": "stream",
     "text": [
      "0\n",
      "1\n",
      "2\n"
     ]
    }
   ],
   "source": [
    "for i in range(3):\n",
    "    print(i)"
   ]
  },
  {
   "cell_type": "code",
   "execution_count": 20,
   "id": "b406ea9c",
   "metadata": {},
   "outputs": [
    {
     "name": "stdout",
     "output_type": "stream",
     "text": [
      "clara\n",
      "albert\n",
      "laura\n",
      "Number of times:  3\n"
     ]
    }
   ],
   "source": [
    "list_of_names = [\"clara\", \"albert\", \"laura\"] \n",
    "\n",
    "for i in range(len(list_of_names)):\n",
    "    print(list_of_names[i])\n",
    "    \n",
    "print(\"Number of times: \", counter)"
   ]
  },
  {
   "cell_type": "markdown",
   "id": "17832115",
   "metadata": {
    "lang": "en"
   },
   "source": [
    "## The \"while\" statement\n",
    "\n",
    "Sometimes we want to run a program until a condition is met. We can achieve this with the `while` clause.\n",
    "\n",
    "**Note:** Beware of infinite recursions!"
   ]
  },
  {
   "cell_type": "code",
   "execution_count": null,
   "id": "ca737f63",
   "metadata": {},
   "outputs": [],
   "source": []
  },
  {
   "cell_type": "markdown",
   "id": "ba1c5adf",
   "metadata": {
    "lang": "en"
   },
   "source": [
    "In the case of while True the expression will always evaluate to true by definition.\n",
    "It would be equivalent to:\n",
    "\n",
    "```python\n",
    "as long as true is true:\n",
    "    do something\n",
    "   ````"
   ]
  },
  {
   "cell_type": "code",
   "execution_count": null,
   "id": "f85e7b7d",
   "metadata": {},
   "outputs": [],
   "source": []
  },
  {
   "cell_type": "markdown",
   "id": "587399ed",
   "metadata": {
    "lang": "en"
   },
   "source": [
    "🐒 - We write a program that asks the user for a letter between a and d forever until he enters one correctly."
   ]
  },
  {
   "cell_type": "code",
   "execution_count": 27,
   "id": "d6441703",
   "metadata": {},
   "outputs": [
    {
     "name": "stdout",
     "output_type": "stream",
     "text": [
      "Please enter a letter: f\n",
      "Please enter a letter that is correct: f\n",
      "Please enter a letter that is correct: f\n",
      "Please enter a letter that is correct: a\n"
     ]
    }
   ],
   "source": [
    "# ask for input\n",
    "# letters = [\"a\", \"b\", \"c\"]\n",
    "# We want to get one of these three letteras\n",
    "# Until we don't get one of them -> we're not gonna stop asking\n",
    "\n",
    "\n",
    "# for loop?\n",
    "# while loop?\n",
    "\n",
    "# run until something happnes -> condition; not the end of the iterable\n",
    "\n",
    "list_of_letters = [\"a\", \"b\", \"c\"]\n",
    "\n",
    "letter = input(\"Please enter a letter: \")\n",
    "\n",
    "while letter not in list_of_letters:\n",
    "    # if happening many times\n",
    "    letter = input(\"Please enter a letter that is correct: \")"
   ]
  },
  {
   "cell_type": "markdown",
   "id": "9af78e68",
   "metadata": {
    "lang": "en"
   },
   "source": [
    "## Pass,  continue & break\n",
    "The pass statement does nothing. Can be used when a syntax statement is required but no action is required by the program (from the [docs](https://docs.python.org/3/tutorial/controlflow.html))\n",
    "\n",
    "\n",
    "Although it may surprise us, it is useful in several situations. In Python we cannot have an undefined block of code (for example, the body of a function, the body of a condition, or the body of a loop). So it's common to use pass when we're writing the structure of our program but haven't yet tackled the implementation of certain blocks of code."
   ]
  },
  {
   "cell_type": "code",
   "execution_count": 28,
   "id": "5b7cd447",
   "metadata": {},
   "outputs": [],
   "source": [
    "list_of_names = [\"Clara\", \"Albert\", \"Laura\"]"
   ]
  },
  {
   "cell_type": "code",
   "execution_count": 29,
   "id": "056fe9cd",
   "metadata": {},
   "outputs": [
    {
     "name": "stdout",
     "output_type": "stream",
     "text": [
      "Clara\n",
      "Albert\n",
      "Laura\n"
     ]
    }
   ],
   "source": [
    "for i in list_of_names:\n",
    "    print(i)"
   ]
  },
  {
   "cell_type": "markdown",
   "id": "9a7bc1ee",
   "metadata": {},
   "source": [
    "`pass`: ignores, does things and goes to next iteration"
   ]
  },
  {
   "cell_type": "code",
   "execution_count": 36,
   "id": "a798c2c2",
   "metadata": {},
   "outputs": [
    {
     "name": "stdout",
     "output_type": "stream",
     "text": [
      "Clara\n",
      "Albert\n",
      "Laura\n"
     ]
    }
   ],
   "source": [
    "list_of_names = [\"Clara\", \"Albert\", \"Laura\"]\n",
    "for i in list_of_names:\n",
    "    if i.startswith(\"A\"):\n",
    "        pass # do nothing\n",
    "    print(i)"
   ]
  },
  {
   "cell_type": "code",
   "execution_count": 44,
   "id": "2b248b91",
   "metadata": {},
   "outputs": [],
   "source": [
    "def procrastinate ():\n",
    "    #...\n",
    "    pass #placeholder"
   ]
  },
  {
   "cell_type": "code",
   "execution_count": 43,
   "id": "0af70605",
   "metadata": {},
   "outputs": [
    {
     "ename": "NameError",
     "evalue": "name 'variable' is not defined",
     "output_type": "error",
     "traceback": [
      "\u001b[0;31m---------------------------------------------------------------------------\u001b[0m",
      "\u001b[0;31mNameError\u001b[0m                                 Traceback (most recent call last)",
      "Input \u001b[0;32mIn [43]\u001b[0m, in \u001b[0;36m<cell line: 6>\u001b[0;34m()\u001b[0m\n\u001b[1;32m      3\u001b[0m     variable \u001b[38;5;241m=\u001b[39m \u001b[38;5;124m\"\u001b[39m\u001b[38;5;124mlorem ipsum\u001b[39m\u001b[38;5;124m\"\u001b[39m\n\u001b[1;32m      4\u001b[0m     \u001b[38;5;28;01mreturn\u001b[39;00m variable\n\u001b[0;32m----> 6\u001b[0m \u001b[38;5;28mprint\u001b[39m(\u001b[43mvariable\u001b[49m)\n",
      "\u001b[0;31mNameError\u001b[0m: name 'variable' is not defined"
     ]
    }
   ],
   "source": [
    "# Regarding scope \n",
    "def procrastinate (): \n",
    "    variable = \"lorem ipsum\"\n",
    "    return variable\n",
    "\n",
    "print(variable) # error"
   ]
  },
  {
   "cell_type": "markdown",
   "id": "6630b66a",
   "metadata": {},
   "source": [
    "`continue`: stops and goes to next iteration"
   ]
  },
  {
   "cell_type": "code",
   "execution_count": 32,
   "id": "c3f27b58",
   "metadata": {},
   "outputs": [
    {
     "name": "stdout",
     "output_type": "stream",
     "text": [
      "Clara\n",
      "Laura\n"
     ]
    }
   ],
   "source": [
    "list_of_names = [\"Clara\", \"Albert\", \"Laura\"]\n",
    "for i in list_of_names:\n",
    "    if i.startswith(\"A\"):\n",
    "        continue #ignore move on to the next ITERATION / ELEMENT\n",
    "    print(i)"
   ]
  },
  {
   "cell_type": "markdown",
   "id": "d57347a0",
   "metadata": {},
   "source": [
    "`break` stops the loop"
   ]
  },
  {
   "cell_type": "code",
   "execution_count": 35,
   "id": "72f4b95b",
   "metadata": {},
   "outputs": [
    {
     "name": "stdout",
     "output_type": "stream",
     "text": [
      "Clara\n"
     ]
    }
   ],
   "source": [
    "list_of_names = [\"Clara\", \"Albert\", \"Laura\"]\n",
    "for i in list_of_names:\n",
    "    if i.startswith(\"A\"):\n",
    "        break \n",
    "    print(i)"
   ]
  },
  {
   "cell_type": "markdown",
   "id": "classical-passenger",
   "metadata": {},
   "source": [
    "## For"
   ]
  },
  {
   "cell_type": "markdown",
   "id": "fdb36275",
   "metadata": {
    "lang": "en"
   },
   "source": [
    "It is very common to write a code with loops within these two possible situations:\n",
    "- 1: When we use a counter within a repetition. The counter is a variable that increases or decreases constantly in each iteration of the loop until it reaches a limit value that marks the end of the repetitions.\n",
    "- 2: When we iterate over the elements of a container, for example, a list, to operate on each one of them. Also in this case we know in advance the number of repetitions that will take place."
   ]
  },
  {
   "cell_type": "markdown",
   "id": "753d6746",
   "metadata": {
    "lang": "en"
   },
   "source": [
    "The For statement, in Python, allows you to iterate over sequences of values ​​(lists or strings) according to an established order. Unlike other languages, with Python's for you don't define counters or expressions that change at each iteration, but rather a sequence over which the counter variable will take its values. In any case, it is the most appropriate option to solve the two previous cases...let's give an example:"
   ]
  },
  {
   "cell_type": "code",
   "execution_count": 50,
   "id": "197248fd",
   "metadata": {},
   "outputs": [
    {
     "ename": "TypeError",
     "evalue": "'int' object is not iterable",
     "output_type": "error",
     "traceback": [
      "\u001b[0;31m---------------------------------------------------------------------------\u001b[0m",
      "\u001b[0;31mTypeError\u001b[0m                                 Traceback (most recent call last)",
      "Input \u001b[0;32mIn [50]\u001b[0m, in \u001b[0;36m<cell line: 3>\u001b[0;34m()\u001b[0m\n\u001b[1;32m      1\u001b[0m number \u001b[38;5;241m=\u001b[39m \u001b[38;5;241m56789\u001b[39m\n\u001b[0;32m----> 3\u001b[0m \u001b[38;5;28;01mfor\u001b[39;00m num \u001b[38;5;129;01min\u001b[39;00m number:\n\u001b[1;32m      4\u001b[0m     \u001b[38;5;28mprint\u001b[39m(num \u001b[38;5;241m*\u001b[39m \u001b[38;5;241m13\u001b[39m)\n",
      "\u001b[0;31mTypeError\u001b[0m: 'int' object is not iterable"
     ]
    }
   ],
   "source": [
    "number = 56789\n",
    "\n",
    "for num in number:\n",
    "    print(num * 13) # You cannot loop numbers"
   ]
  },
  {
   "cell_type": "code",
   "execution_count": 55,
   "id": "4545e7e0",
   "metadata": {},
   "outputs": [
    {
     "name": "stdout",
     "output_type": "stream",
     "text": [
      "5555555555555555555555555555555555555555\n",
      "6666666666666666666666666666666666666666\n",
      "7777777777777777777777777777777777777777\n",
      "8888888888888888888888888888888888888888\n",
      "9999999999999999999999999999999999999999\n"
     ]
    }
   ],
   "source": [
    "number = 56789\n",
    "\n",
    "for num in str(number):\n",
    "    print(num * 40)"
   ]
  },
  {
   "cell_type": "code",
   "execution_count": 52,
   "id": "2180470e",
   "metadata": {},
   "outputs": [
    {
     "name": "stdout",
     "output_type": "stream",
     "text": [
      "50\n",
      "110\n",
      "180\n",
      "260\n",
      "350\n"
     ]
    }
   ],
   "source": [
    "# Q: Emma\n",
    "number = 56789\n",
    "whole_addition = 0  \n",
    "\n",
    "for num in str(number):\n",
    "    \"\"\"\n",
    "    First iteration:\n",
    "        \"5\"\n",
    "        5\n",
    "        5 * 10\n",
    "        50\n",
    "        whole_addition = 0 + 50\n",
    "        whole_addition = 50\n",
    "    \"\"\"\n",
    "\n",
    "    multiplied_version = int(num) * 10\n",
    "    whole_addition += multiplied_version\n",
    "\n",
    "    print(whole_addition)"
   ]
  },
  {
   "cell_type": "code",
   "execution_count": 61,
   "id": "211e27c7",
   "metadata": {},
   "outputs": [
    {
     "name": "stdout",
     "output_type": "stream",
     "text": [
      "34\n"
     ]
    }
   ],
   "source": [
    "# Q: Patricia\n",
    "\n",
    "number = 346666666656789\n",
    "print(str(number)[:2])"
   ]
  },
  {
   "cell_type": "code",
   "execution_count": 63,
   "id": "f9d0982c",
   "metadata": {},
   "outputs": [],
   "source": [
    "list_of_names = ['Clara', 'Albert', 'Laura']"
   ]
  },
  {
   "cell_type": "code",
   "execution_count": 74,
   "id": "ca003152",
   "metadata": {},
   "outputs": [
    {
     "name": "stdout",
     "output_type": "stream",
     "text": [
      "Hello!\n",
      "Hello!\n",
      "Hello!\n",
      "Bego\n",
      "Marina\n",
      "Laura\n",
      "sdljihugfdgv\n"
     ]
    }
   ],
   "source": [
    "# Q: Javi\n",
    "# Try not to name things the same\n",
    "\n",
    "for name in list_of_names: # you're not refering to the \"i\", so _ does it.\n",
    "    print(\"Hello!\")\n",
    "    \n",
    "for name_2 in [\"Bego\", \"Marina\", \"Laura\"]:\n",
    "    print(name_2)\n",
    "\n",
    "# You can over write as many times\n",
    "hello = \"hi\"\n",
    "hello = \"how are you\"\n",
    "hello = \"sdljihugfdgv\"\n",
    "print(hello)"
   ]
  },
  {
   "cell_type": "code",
   "execution_count": null,
   "id": "22d1dde5",
   "metadata": {},
   "outputs": [],
   "source": [
    "# javascript:\n",
    "    # let i = 10, easier to change\n",
    "    # const i = 10, more difficult to change"
   ]
  },
  {
   "cell_type": "markdown",
   "id": "20061696",
   "metadata": {},
   "source": [
    "```\n",
    "-- naming conventions for variables\n",
    "CONSTANTS = 3.14\n",
    "variable = 56789\n",
    "variable_number_two = 56789\n",
    "my_car = Car() # classes\n",
    "```"
   ]
  },
  {
   "cell_type": "code",
   "execution_count": 79,
   "id": "5c060e93",
   "metadata": {},
   "outputs": [
    {
     "name": "stdout",
     "output_type": "stream",
     "text": [
      "Hello!\n",
      "Hello!\n",
      "Hello!\n"
     ]
    }
   ],
   "source": [
    "list_of_names = ['Clara', 'Albert', 'Laura']\n",
    "\n",
    "for _ in list_of_names:\n",
    "    print(\"Hello!\")"
   ]
  },
  {
   "cell_type": "markdown",
   "id": "a968f25d",
   "metadata": {
    "lang": "en"
   },
   "source": [
    "The for statement, in Python, iterates over collections. So if we need a counter that increments on each iteration, Python provides the range() function, which generates lists of integers. This function allows to generate sequences and is quite versatile and we can invoke it in different ways:"
   ]
  },
  {
   "cell_type": "markdown",
   "id": "5109ef4d",
   "metadata": {
    "lang": "en"
   },
   "source": [
    "- With a single argument: generates integers ranging from 0 to the previous one indicated as a parameter:\n",
    "\n",
    "`range(int)`"
   ]
  },
  {
   "cell_type": "code",
   "execution_count": 80,
   "id": "d60df029",
   "metadata": {},
   "outputs": [
    {
     "name": "stdout",
     "output_type": "stream",
     "text": [
      "0\n",
      "1\n",
      "2\n",
      "3\n",
      "4\n",
      "5\n",
      "6\n",
      "7\n",
      "8\n",
      "9\n"
     ]
    }
   ],
   "source": [
    "for i in range(10):\n",
    "    print(i)"
   ]
  },
  {
   "cell_type": "code",
   "execution_count": 82,
   "id": "6959e6d5",
   "metadata": {},
   "outputs": [
    {
     "name": "stdout",
     "output_type": "stream",
     "text": [
      "5\n",
      "6\n",
      "7\n",
      "8\n",
      "9\n",
      "10\n",
      "11\n",
      "12\n",
      "13\n",
      "14\n",
      "15\n"
     ]
    }
   ],
   "source": [
    "for i in range(5, 16):\n",
    "    print(i)"
   ]
  },
  {
   "cell_type": "code",
   "execution_count": 83,
   "id": "031fc9e4",
   "metadata": {},
   "outputs": [
    {
     "name": "stdout",
     "output_type": "stream",
     "text": [
      "0\n",
      "2\n",
      "4\n",
      "6\n",
      "8\n",
      "10\n",
      "12\n",
      "14\n",
      "16\n",
      "18\n",
      "20\n"
     ]
    }
   ],
   "source": [
    "# even numbers zero to 20\n",
    "\n",
    "for i in range(0, 21, 2):\n",
    "    print(i)"
   ]
  },
  {
   "cell_type": "code",
   "execution_count": 84,
   "id": "66454ac5",
   "metadata": {},
   "outputs": [
    {
     "name": "stdout",
     "output_type": "stream",
     "text": [
      "It is uneven\n"
     ]
    }
   ],
   "source": [
    "# check if number is even\n",
    "uneven = 13\n",
    "\n",
    "if uneven % 2 == 0:\n",
    "    print(\"It is even\")\n",
    "    \n",
    "elif uneven % 2 != 0:\n",
    "    print(\"It is uneven\")"
   ]
  },
  {
   "cell_type": "code",
   "execution_count": 86,
   "id": "a260a02e",
   "metadata": {},
   "outputs": [
    {
     "name": "stdout",
     "output_type": "stream",
     "text": [
      "[452, 2, 20, 90, 6]\n",
      "[27, 83, 489]\n"
     ]
    }
   ],
   "source": [
    "list_of_numbers = [27, 452, 2, 20, 90, 83, 489, 6]\n",
    "\n",
    "new_list_even = []\n",
    "new_list_uneven = []\n",
    "\n",
    "for i in list_of_numbers:\n",
    "    if i % 2 == 0:\n",
    "        new_list_even.append(i)\n",
    "    else:\n",
    "        new_list_uneven.append(i)\n",
    "        \n",
    "\n",
    "print(new_list_even)\n",
    "print(new_list_uneven)"
   ]
  },
  {
   "cell_type": "markdown",
   "id": "88f9f5a9",
   "metadata": {
    "lang": "en"
   },
   "source": [
    "- With two arguments. The first parameter is the initial value and the second the value below which the elements of the list must be:\n",
    "\n",
    "`range(int, int)` "
   ]
  },
  {
   "cell_type": "code",
   "execution_count": null,
   "id": "433ade74",
   "metadata": {},
   "outputs": [],
   "source": []
  },
  {
   "cell_type": "markdown",
   "id": "81739599",
   "metadata": {
    "lang": "en"
   },
   "source": [
    "- With three arguments. Same as above, but the third parameter indicates the increment that occurs from one element to the next: `range(int, int, increment)` "
   ]
  },
  {
   "cell_type": "code",
   "execution_count": null,
   "id": "9cfcda02",
   "metadata": {},
   "outputs": [],
   "source": []
  },
  {
   "cell_type": "markdown",
   "id": "closing-pound",
   "metadata": {
    "lang": "es"
   },
   "source": [
    "### Iterate through strings"
   ]
  },
  {
   "cell_type": "code",
   "execution_count": 88,
   "id": "87db5635",
   "metadata": {},
   "outputs": [
    {
     "data": {
      "text/plain": [
       "'TRDVBNMK'"
      ]
     },
     "execution_count": 88,
     "metadata": {},
     "output_type": "execute_result"
    }
   ],
   "source": [
    "upper_string = string.upper()\n",
    "upper_string"
   ]
  },
  {
   "cell_type": "code",
   "execution_count": 91,
   "id": "ba377dae",
   "metadata": {},
   "outputs": [
    {
     "name": "stdout",
     "output_type": "stream",
     "text": [
      "TRDVBNMK\n"
     ]
    }
   ],
   "source": [
    "string = \"trdvbnmk\"\n",
    "new_string = \"\"\n",
    "\n",
    "for i in string:\n",
    "    new_string += i.upper()\n",
    "print(new_string)"
   ]
  },
  {
   "cell_type": "code",
   "execution_count": 95,
   "id": "bce0b9eb",
   "metadata": {},
   "outputs": [
    {
     "name": "stdout",
     "output_type": "stream",
     "text": [
      "There is this amount of numbers: 16\n"
     ]
    }
   ],
   "source": [
    "string = \"trdvb90n895m92khgv000087654\"\n",
    "# how many digits in this string?\n",
    "\n",
    "counter = 0\n",
    "for i in string:\n",
    "    if i.isdigit():\n",
    "        counter += 1\n",
    "print(f\"There is this amount of numbers: {counter}\")"
   ]
  },
  {
   "cell_type": "code",
   "execution_count": 104,
   "id": "2b83f022",
   "metadata": {},
   "outputs": [
    {
     "name": "stdout",
     "output_type": "stream",
     "text": [
      "The i is 1\n",
      "The type of i is <class 'str'>\n",
      "The i is 9\n",
      "The type of i is <class 'str'>\n",
      "The i is 0\n",
      "The type of i is <class 'str'>\n",
      "The i is 0\n",
      "The type of i is <class 'str'>\n",
      "The i is 8\n",
      "The type of i is <class 'str'>\n",
      "The i is 9\n",
      "The type of i is <class 'str'>\n",
      "The i is 8\n",
      "The type of i is <class 'str'>\n",
      "The i is 7\n",
      "The type of i is <class 'str'>\n",
      "The i is 9\n",
      "The type of i is <class 'str'>\n",
      "The i is 9\n",
      "The type of i is <class 'str'>\n",
      "The i is 0\n",
      "The type of i is <class 'str'>\n",
      "The i is 0\n",
      "The type of i is <class 'str'>\n",
      "The i is 0\n",
      "The type of i is <class 'str'>\n",
      "The i is 7\n",
      "The type of i is <class 'str'>\n",
      "The i is 6\n",
      "The type of i is <class 'str'>\n",
      "The i is 5\n",
      "The type of i is <class 'str'>\n",
      "The i is 4\n",
      "The type of i is <class 'str'>\n",
      "5\n"
     ]
    }
   ],
   "source": [
    "nums = 19008987990007654\n",
    "# how many ZEROS in this INT?\n",
    "\n",
    "converted_into_string = str(nums)\n",
    "\n",
    "counter = 0\n",
    "for i in converted_into_string:\n",
    "    print(f\"The i is {i}\")\n",
    "    print(f\"The type of i is {type(i)}\")\n",
    "    if i == \"0\":\n",
    "        counter += 1\n",
    "print(counter)"
   ]
  },
  {
   "cell_type": "markdown",
   "id": "fef0c8a5",
   "metadata": {
    "lang": "en"
   },
   "source": [
    "### Iterate through a list"
   ]
  },
  {
   "cell_type": "code",
   "execution_count": 107,
   "id": "ef71cee6",
   "metadata": {},
   "outputs": [],
   "source": [
    "list_of_names = ['Clara', 'Albert', 'Laura']"
   ]
  },
  {
   "cell_type": "code",
   "execution_count": 108,
   "id": "9faf89ee",
   "metadata": {},
   "outputs": [
    {
     "name": "stdout",
     "output_type": "stream",
     "text": [
      "Clara\n",
      "Albert\n",
      "Laura\n"
     ]
    }
   ],
   "source": [
    "for i in list_of_names:\n",
    "    print(i)"
   ]
  },
  {
   "cell_type": "code",
   "execution_count": 111,
   "id": "2f9737d3",
   "metadata": {},
   "outputs": [
    {
     "name": "stdout",
     "output_type": "stream",
     "text": [
      "0: Clara\n",
      "1: Albert\n",
      "2: Laura\n"
     ]
    }
   ],
   "source": [
    "list_of_names = ['Clara', 'Albert', 'Laura']\n",
    "\n",
    "for i in list_of_names:\n",
    "    position = list_of_names.index(i)\n",
    "    print(f\"{position}: {i}\")"
   ]
  },
  {
   "cell_type": "code",
   "execution_count": 117,
   "id": "8143cf06",
   "metadata": {},
   "outputs": [
    {
     "name": "stdout",
     "output_type": "stream",
     "text": [
      "0: Clara\n",
      "1: Albert\n",
      "2: Laura\n"
     ]
    }
   ],
   "source": [
    "list_of_names = ['Clara', 'Albert', 'Laura']\n",
    "\n",
    "for position in range(len(list_of_names)):\n",
    "    name = list_of_names[position]\n",
    "    print(f\"{position}: {name}\")"
   ]
  },
  {
   "cell_type": "code",
   "execution_count": 115,
   "id": "e5f17902",
   "metadata": {},
   "outputs": [
    {
     "name": "stdout",
     "output_type": "stream",
     "text": [
      "0: Clara\n",
      "1: Albert\n",
      "2: Laura\n"
     ]
    }
   ],
   "source": [
    "list_of_names = ['Clara', 'Albert', 'Laura']\n",
    "\n",
    "for i in range(len(list_of_names)):\n",
    "    print(f\"{i}: {list_of_names[i]}\")"
   ]
  },
  {
   "cell_type": "markdown",
   "id": "e873ede0",
   "metadata": {
    "lang": "en"
   },
   "source": [
    "### We iterate through lists over their index\n",
    "- Built in functions --> https://docs.python.org/3/library/functions.html\n",
    "- Enumerate doc --> https://book.pythontips.com/en/latest/enumerate.html"
   ]
  },
  {
   "cell_type": "code",
   "execution_count": null,
   "id": "21aed269",
   "metadata": {},
   "outputs": [],
   "source": []
  },
  {
   "cell_type": "markdown",
   "id": "73b7e30f",
   "metadata": {
    "lang": "en"
   },
   "source": [
    "### Loop through two lists at the same time"
   ]
  },
  {
   "cell_type": "markdown",
   "id": "af465221",
   "metadata": {
    "lang": "en"
   },
   "source": [
    "I leave you the zip documentation, remember that it will not give an error if the lists are of different sizes but the last iteration will be that of the shortest list\n",
    "[DOC](https://docs.python.org/3/library/functions.html)"
   ]
  },
  {
   "cell_type": "code",
   "execution_count": 118,
   "id": "ddbf7c6b",
   "metadata": {},
   "outputs": [],
   "source": [
    "list_of_names = ['Clara', 'Albert', 'Laura']\n",
    "cities = [\"Barcelona\", \"Mataró\", \"Mataró\"]"
   ]
  },
  {
   "cell_type": "code",
   "execution_count": 123,
   "id": "2588ead2",
   "metadata": {},
   "outputs": [
    {
     "name": "stdout",
     "output_type": "stream",
     "text": [
      "Clara is from: Barcelona\n",
      "Albert is from: Mataró\n",
      "Laura is from: Mataró\n"
     ]
    }
   ],
   "source": [
    "# Clara: Barcelona\n",
    "# Albert: Mataró....\n",
    "\n",
    "list_of_names = ['Clara', 'Albert', 'Laura']\n",
    "cities = [\"Barcelona\", \"Mataró\", \"Mataró\"]\n",
    "\n",
    "\n",
    "for name, city in zip(list_of_names, cities):\n",
    "    print(f\"{name} is from: {city}\")"
   ]
  },
  {
   "cell_type": "code",
   "execution_count": 124,
   "id": "82f55a97",
   "metadata": {},
   "outputs": [
    {
     "name": "stdout",
     "output_type": "stream",
     "text": [
      "Clara is from: Barcelona\n",
      "Albert is from: Mataró\n"
     ]
    }
   ],
   "source": [
    "# Q: Uri, what if it doesn't have the same length?\n",
    "\n",
    "# Clara: Barcelona\n",
    "# Albert: Mataró....\n",
    "\n",
    "list_of_names = ['Clara', 'Albert', 'Laura']\n",
    "cities = [\"Barcelona\", \"Mataró\"] # Third_option\n",
    "\n",
    "\n",
    "for name, city in zip(list_of_names, cities):\n",
    "    print(f\"{name} is from: {city}\")"
   ]
  },
  {
   "cell_type": "code",
   "execution_count": 132,
   "id": "43d34359",
   "metadata": {},
   "outputs": [
    {
     "name": "stdout",
     "output_type": "stream",
     "text": [
      "Clara is from: Barcelona, age: 25\n",
      "Albert is from: Mataró, age: 30\n",
      "Laura is from: Mataró, age: 27\n"
     ]
    }
   ],
   "source": [
    "list_of_names = ('Clara', 'Albert', 'Laura') #tuple\n",
    "cities = [\"Barcelona\", \"Mataró\", \"Mataró\"]\n",
    "age = [25, 30, 27]\n",
    "\n",
    "\n",
    "for name, city, age in zip(list_of_names, cities, age):\n",
    "    print(f\"{name} is from: {city}, age: {age}\")"
   ]
  },
  {
   "cell_type": "code",
   "execution_count": 138,
   "id": "a9ad1d94",
   "metadata": {},
   "outputs": [
    {
     "name": "stdout",
     "output_type": "stream",
     "text": [
      "0: Clara\n",
      "1: Albert\n",
      "2: Laura\n"
     ]
    }
   ],
   "source": [
    "list_of_names = ['Clara', 'Albert', 'Laura'] #tuple\n",
    "\n",
    "for index, element in enumerate(list_of_names):\n",
    "    print(f\"{index}: {element}\")"
   ]
  },
  {
   "cell_type": "code",
   "execution_count": 139,
   "id": "9ace7879",
   "metadata": {},
   "outputs": [
    {
     "name": "stdout",
     "output_type": "stream",
     "text": [
      "0: Clara is from Barcelona, age: 25\n",
      "1: Albert is from Mataró, age: 30\n",
      "2: Laura is from Mataró, age: 27\n"
     ]
    }
   ],
   "source": [
    "list_of_names = ('Clara', 'Albert', 'Laura') #tuple\n",
    "cities = [\"Barcelona\", \"Mataró\", \"Mataró\"]\n",
    "age = [25, 30, 27]\n",
    "\n",
    "\n",
    "for position, (name, city, age) in enumerate(zip(list_of_names, cities, age)):\n",
    "    print(f\"{position}: {name} is from {city}, age: {age}\")"
   ]
  },
  {
   "cell_type": "code",
   "execution_count": 141,
   "id": "2f2c3173",
   "metadata": {},
   "outputs": [],
   "source": [
    "albert = {\n",
    "    \"name\": \"Albert\",\n",
    "    \"city\": \"Mataró\",\n",
    "    \"age\": 30\n",
    "}"
   ]
  },
  {
   "cell_type": "code",
   "execution_count": 143,
   "id": "d6a0b240",
   "metadata": {},
   "outputs": [
    {
     "name": "stdout",
     "output_type": "stream",
     "text": [
      "('name', 'Albert')\n",
      "('city', 'Mataró')\n",
      "('age', 30)\n"
     ]
    }
   ],
   "source": [
    "for i in albert.items():\n",
    "    print(i)"
   ]
  },
  {
   "cell_type": "code",
   "execution_count": 148,
   "id": "b6623a3d",
   "metadata": {},
   "outputs": [
    {
     "name": "stdout",
     "output_type": "stream",
     "text": [
      "name\n",
      "city\n",
      "age\n"
     ]
    }
   ],
   "source": [
    "for i in albert.keys():\n",
    "    print(i)"
   ]
  },
  {
   "cell_type": "code",
   "execution_count": 147,
   "id": "c19ca625",
   "metadata": {},
   "outputs": [
    {
     "name": "stdout",
     "output_type": "stream",
     "text": [
      "Albert\n",
      "Mataró\n",
      "30\n"
     ]
    }
   ],
   "source": [
    "for i in albert.values():\n",
    "    print(i)"
   ]
  },
  {
   "cell_type": "code",
   "execution_count": 150,
   "id": "367e0ac5",
   "metadata": {},
   "outputs": [
    {
     "name": "stdout",
     "output_type": "stream",
     "text": [
      "name Albert\n",
      "city Mataró\n",
      "age 30\n"
     ]
    }
   ],
   "source": [
    "for key, value in albert.items():\n",
    "    print(key, value)b"
   ]
  },
  {
   "cell_type": "code",
   "execution_count": 146,
   "id": "9cc82bd6",
   "metadata": {},
   "outputs": [
    {
     "name": "stdout",
     "output_type": "stream",
     "text": [
      "0\n",
      "1\n",
      "2\n"
     ]
    }
   ],
   "source": [
    "# error\n",
    "for i in range(len(albert)):\n",
    "    print(i)"
   ]
  },
  {
   "cell_type": "code",
   "execution_count": 152,
   "id": "dc0512cc",
   "metadata": {},
   "outputs": [
    {
     "name": "stdout",
     "output_type": "stream",
     "text": [
      "reading\n"
     ]
    }
   ],
   "source": [
    "dict_albert = {\n",
    "    \"name\": \"Albert\",\n",
    "    \"city\": \"Mataró\",\n",
    "    \"age\": 30,\n",
    "    \"holidays\": 20,\n",
    "    \"hobbies\": [\"padel\", \"reading\", \"beach\"]\n",
    "}\n",
    "\n",
    "# hobbies with the length > 5\n",
    "\n",
    "for i in dict_albert[\"hobbies\"]:\n",
    "    if len(i) > 5:\n",
    "        print(i)"
   ]
  },
  {
   "cell_type": "markdown",
   "id": "a7f5de97",
   "metadata": {},
   "source": [
    "`zip_longest`: what if I want to keep the longest list?"
   ]
  },
  {
   "cell_type": "markdown",
   "id": "cd740c33",
   "metadata": {
    "lang": "en"
   },
   "source": [
    "### Iterate over the elements of a dictionary"
   ]
  },
  {
   "cell_type": "code",
   "execution_count": 153,
   "id": "224b0bc5",
   "metadata": {},
   "outputs": [
    {
     "name": "stdout",
     "output_type": "stream",
     "text": [
      "Clara Barcelona\n",
      "Albert None\n",
      "Laura None\n"
     ]
    }
   ],
   "source": [
    "# len of the short\n",
    "# len of the longest\n",
    "\n",
    "# difference: append that many times \"None\"\n",
    "\n",
    "names = [\"Clara\", \"Albert\", \"Laura\"]\n",
    "city = [\"Barcelona\"]\n",
    "\n",
    "dif = len(names) - len(city)\n",
    "\n",
    "for i in range(dif):\n",
    "    city.append(None)\n",
    "\n",
    "for n, c in zip(names, city):\n",
    "    print(n, c)"
   ]
  },
  {
   "cell_type": "markdown",
   "id": "5f8559a8",
   "metadata": {
    "lang": "en"
   },
   "source": [
    "## Summary\n",
    "It's your turn, what have we learned today?\n"
   ]
  },
  {
   "cell_type": "code",
   "execution_count": null,
   "id": "8bb97f52",
   "metadata": {},
   "outputs": [],
   "source": []
  }
 ],
 "metadata": {
  "kernelspec": {
   "display_name": "Python 3 (ipykernel)",
   "language": "python",
   "name": "python3"
  },
  "language_info": {
   "codemirror_mode": {
    "name": "ipython",
    "version": 3
   },
   "file_extension": ".py",
   "mimetype": "text/x-python",
   "name": "python",
   "nbconvert_exporter": "python",
   "pygments_lexer": "ipython3",
   "version": "3.9.12"
  },
  "nbTranslate": {
   "displayLangs": [
    "en",
    "es"
   ],
   "hotkey": "alt-a",
   "langInMainMenu": true,
   "sourceLang": "es",
   "targetLang": "en",
   "useGoogleTranslate": true
  },
  "toc": {
   "base_numbering": 1,
   "nav_menu": {},
   "number_sections": true,
   "sideBar": true,
   "skip_h1_title": true,
   "title_cell": "Table of Contents",
   "title_sidebar": "Contents",
   "toc_cell": true,
   "toc_position": {
    "height": "calc(100% - 180px)",
    "left": "10px",
    "top": "150px",
    "width": "253.097px"
   },
   "toc_section_display": true,
   "toc_window_display": false
  }
 },
 "nbformat": 4,
 "nbformat_minor": 5
}
