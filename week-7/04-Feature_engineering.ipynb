{
 "cells": [
  {
   "cell_type": "markdown",
   "id": "dying-schema",
   "metadata": {},
   "source": [
    " # Hyperparameter Tuning - Feature engineering "
   ]
  },
  {
   "cell_type": "markdown",
   "id": "noticed-christian",
   "metadata": {},
   "source": [
    "![nohayjupytersingif](https://media.giphy.com/media/jeDM590qtCP9C/giphy.gif)"
   ]
  },
  {
   "cell_type": "markdown",
   "id": "excited-stack",
   "metadata": {
    "toc": true
   },
   "source": [
    "<h1>Table of Contents<span class=\"tocSkip\"></span></h1>\n",
    "<div class=\"toc\"><ul class=\"toc-item\"><li><span><a href=\"#Feature-engineering\" data-toc-modified-id=\"Feature-engineering-1\"><span class=\"toc-item-num\">1&nbsp;&nbsp;</span>Feature engineering</a></span></li><li><span><a href=\"#Small-exploration-of-the-data\" data-toc-modified-id=\"Small-exploration-of-the-data-2\"><span class=\"toc-item-num\">2&nbsp;&nbsp;</span>Small exploration of the data</a></span><ul class=\"toc-item\"><li><span><a href=\"#We-look-at-the-&quot;Cabin&quot;-feature\" data-toc-modified-id=\"We-look-at-the-&quot;Cabin&quot;-feature-2.1\"><span class=\"toc-item-num\">2.1&nbsp;&nbsp;</span>We look at the \"Cabin\" feature</a></span></li><li><span><a href=\"#We-analyze-the-names-of-the-passengers\" data-toc-modified-id=\"We-analyze-the-names-of-the-passengers-2.2\"><span class=\"toc-item-num\">2.2&nbsp;&nbsp;</span>We analyze the names of the passengers</a></span></li><li><span><a href=\"#In-order-not-to-have-many-categories-with-the-titles,-we-are-going-to-keep-those-that-have-more-than-40\" data-toc-modified-id=\"In-order-not-to-have-many-categories-with-the-titles,-we-are-going-to-keep-those-that-have-more-than-40-2.3\"><span class=\"toc-item-num\">2.3&nbsp;&nbsp;</span>In order not to have many categories with the titles, we are going to keep those that have more than 40</a></span></li></ul></li><li><span><a href=\"#Categorical-encoding\" data-toc-modified-id=\"Categorical-encoding-3\"><span class=\"toc-item-num\">3&nbsp;&nbsp;</span>Categorical encoding</a></span><ul class=\"toc-item\"><li><span><a href=\"#Label-Encoder:-same-column\" data-toc-modified-id=\"Label-Encoder:-same-column-3.1\"><span class=\"toc-item-num\">3.1&nbsp;&nbsp;</span>Label Encoder: same column</a></span></li><li><span><a href=\"#One-Hot-Encoder:-get-dummies-(many-columns)\" data-toc-modified-id=\"One-Hot-Encoder:-get-dummies-(many-columns)-3.2\"><span class=\"toc-item-num\">3.2&nbsp;&nbsp;</span>One Hot Encoder: get dummies (many columns)</a></span></li><li><span><a href=\"#By-hand-with-a-dictionary-💡\" data-toc-modified-id=\"By-hand-with-a-dictionary-💡-3.3\"><span class=\"toc-item-num\">3.3&nbsp;&nbsp;</span>By hand with a dictionary 💡</a></span></li></ul></li><li><span><a href=\"#Feature-Scaling\" data-toc-modified-id=\"Feature-Scaling-4\"><span class=\"toc-item-num\">4&nbsp;&nbsp;</span>Feature Scaling</a></span><ul class=\"toc-item\"><li><span><a href=\"#Standardization---StandardScaler()\" data-toc-modified-id=\"Standardization---StandardScaler()-4.1\"><span class=\"toc-item-num\">4.1&nbsp;&nbsp;</span>Standardization - StandardScaler()</a></span></li><li><span><a href=\"#Normalization-(min-max-scaler)\" data-toc-modified-id=\"Normalization-(min-max-scaler)-4.2\"><span class=\"toc-item-num\">4.2&nbsp;&nbsp;</span>Normalization (min-max scaler)</a></span></li><li><span><a href=\"#I-quote-Andriy-Burkov:\" data-toc-modified-id=\"I-quote-Andriy-Burkov:-4.3\"><span class=\"toc-item-num\">4.3&nbsp;&nbsp;</span>I quote Andriy Burkov:</a></span></li></ul></li><li><span><a href=\"#Let's-review:-Train-Test-Split\" data-toc-modified-id=\"Let's-review:-Train-Test-Split-5\"><span class=\"toc-item-num\">5&nbsp;&nbsp;</span>Let's review: Train-Test Split</a></span></li><li><span><a href=\"#Hyperparameter-Tuning\" data-toc-modified-id=\"Hyperparameter-Tuning-6\"><span class=\"toc-item-num\">6&nbsp;&nbsp;</span>Hyperparameter Tuning</a></span><ul class=\"toc-item\"><li><span><a href=\"#--Random-sampling\" data-toc-modified-id=\"--Random-sampling-6.1\"><span class=\"toc-item-num\">6.1&nbsp;&nbsp;</span>- Random sampling</a></span></li><li><span><a href=\"#--Grid-Sampling\" data-toc-modified-id=\"--Grid-Sampling-6.2\"><span class=\"toc-item-num\">6.2&nbsp;&nbsp;</span>- Grid Sampling</a></span></li><li><span><a href=\"#--Bayesian-sampling\" data-toc-modified-id=\"--Bayesian-sampling-6.3\"><span class=\"toc-item-num\">6.3&nbsp;&nbsp;</span>- Bayesian sampling</a></span></li><li><span><a href=\"#GridSearchCV-by-sklearn,-say-hello-to-your-new-friend!\" data-toc-modified-id=\"GridSearchCV-by-sklearn,-say-hello-to-your-new-friend!-6.4\"><span class=\"toc-item-num\">6.4&nbsp;&nbsp;</span>GridSearchCV by sklearn, say hello to your new friend!</a></span></li><li><span><a href=\"#We-would-train-the-model-with-the-best-parameters\" data-toc-modified-id=\"We-would-train-the-model-with-the-best-parameters-6.5\"><span class=\"toc-item-num\">6.5&nbsp;&nbsp;</span>We would train the model with the best parameters</a></span></li></ul></li><li><span><a href=\"#Save-/-Export-the-model\" data-toc-modified-id=\"Save-/-Export-the-model-7\"><span class=\"toc-item-num\">7&nbsp;&nbsp;</span>Save / Export the model</a></span></li></ul></div>"
   ]
  },
  {
   "cell_type": "markdown",
   "id": "0d6e4de2",
   "metadata": {
    "lang": "en"
   },
   "source": [
    "## Feature engineering\n",
    "It is the process of using domain knowledge to extract features from raw data. These features can be used to improve the performance of machine learning algorithms. Feature engineering can be thought of as applied machine learning itself"
   ]
  },
  {
   "cell_type": "code",
   "execution_count": 2,
   "id": "split-worry",
   "metadata": {},
   "outputs": [],
   "source": [
    "import pandas as pd"
   ]
  },
  {
   "cell_type": "code",
   "execution_count": 4,
   "id": "fbb48d08",
   "metadata": {},
   "outputs": [],
   "source": [
    "df = pd.read_csv(\"../datasets/titanic.csv\")"
   ]
  },
  {
   "cell_type": "code",
   "execution_count": null,
   "id": "1ae94d30",
   "metadata": {},
   "outputs": [],
   "source": [
    "# predictive model -> predict\n",
    "    # Survived (target)\n",
    "    # Features: ?"
   ]
  },
  {
   "cell_type": "code",
   "execution_count": null,
   "id": "b4c3b4b0",
   "metadata": {},
   "outputs": [],
   "source": [
    "\"\"\"\n",
    "What columns may be valuable for this?\n",
    "- class / fare -> look at corelation? \n",
    "    - maybe get rid of cagegorical?\n",
    "- age\n",
    "- sex\n",
    "\n",
    "- siblings?\n",
    "    - siblings correlation with fare?\n",
    "- Fare: histogram\n",
    "\n",
    "- French / irish people ? \n",
    "- Single vs. married women\n",
    "\n",
    "\n",
    "\"\"\""
   ]
  },
  {
   "cell_type": "code",
   "execution_count": 17,
   "id": "0cc5d128",
   "metadata": {},
   "outputs": [],
   "source": [
    "# Master, Rev, Dr, "
   ]
  },
  {
   "cell_type": "code",
   "execution_count": 15,
   "id": "b9578f81",
   "metadata": {},
   "outputs": [
    {
     "data": {
      "text/html": [
       "<div>\n",
       "<style scoped>\n",
       "    .dataframe tbody tr th:only-of-type {\n",
       "        vertical-align: middle;\n",
       "    }\n",
       "\n",
       "    .dataframe tbody tr th {\n",
       "        vertical-align: top;\n",
       "    }\n",
       "\n",
       "    .dataframe thead th {\n",
       "        text-align: right;\n",
       "    }\n",
       "</style>\n",
       "<table border=\"1\" class=\"dataframe\">\n",
       "  <thead>\n",
       "    <tr style=\"text-align: right;\">\n",
       "      <th></th>\n",
       "      <th>Survived</th>\n",
       "      <th>Pclass</th>\n",
       "      <th>Name</th>\n",
       "      <th>Sex</th>\n",
       "      <th>Age</th>\n",
       "      <th>SibSp</th>\n",
       "      <th>Parch</th>\n",
       "      <th>Ticket</th>\n",
       "      <th>Fare</th>\n",
       "      <th>Cabin</th>\n",
       "      <th>Embarked</th>\n",
       "    </tr>\n",
       "  </thead>\n",
       "  <tbody>\n",
       "    <tr>\n",
       "      <th>93</th>\n",
       "      <td>0</td>\n",
       "      <td>3</td>\n",
       "      <td>Dean, Mr. Bertram Frank</td>\n",
       "      <td>male</td>\n",
       "      <td>26.0</td>\n",
       "      <td>1</td>\n",
       "      <td>2</td>\n",
       "      <td>C.A. 2315</td>\n",
       "      <td>20.5750</td>\n",
       "      <td>NaN</td>\n",
       "      <td>S</td>\n",
       "    </tr>\n",
       "    <tr>\n",
       "      <th>222</th>\n",
       "      <td>0</td>\n",
       "      <td>3</td>\n",
       "      <td>Green, Mr. George Henry</td>\n",
       "      <td>male</td>\n",
       "      <td>51.0</td>\n",
       "      <td>0</td>\n",
       "      <td>0</td>\n",
       "      <td>21440</td>\n",
       "      <td>8.0500</td>\n",
       "      <td>NaN</td>\n",
       "      <td>S</td>\n",
       "    </tr>\n",
       "    <tr>\n",
       "      <th>638</th>\n",
       "      <td>0</td>\n",
       "      <td>3</td>\n",
       "      <td>Panula, Mrs. Juha (Maria Emilia Ojala)</td>\n",
       "      <td>female</td>\n",
       "      <td>41.0</td>\n",
       "      <td>0</td>\n",
       "      <td>5</td>\n",
       "      <td>3101295</td>\n",
       "      <td>39.6875</td>\n",
       "      <td>NaN</td>\n",
       "      <td>S</td>\n",
       "    </tr>\n",
       "    <tr>\n",
       "      <th>214</th>\n",
       "      <td>0</td>\n",
       "      <td>3</td>\n",
       "      <td>Kiernan, Mr. Philip</td>\n",
       "      <td>male</td>\n",
       "      <td>NaN</td>\n",
       "      <td>1</td>\n",
       "      <td>0</td>\n",
       "      <td>367229</td>\n",
       "      <td>7.7500</td>\n",
       "      <td>NaN</td>\n",
       "      <td>Q</td>\n",
       "    </tr>\n",
       "    <tr>\n",
       "      <th>95</th>\n",
       "      <td>0</td>\n",
       "      <td>3</td>\n",
       "      <td>Shorney, Mr. Charles Joseph</td>\n",
       "      <td>male</td>\n",
       "      <td>NaN</td>\n",
       "      <td>0</td>\n",
       "      <td>0</td>\n",
       "      <td>374910</td>\n",
       "      <td>8.0500</td>\n",
       "      <td>NaN</td>\n",
       "      <td>S</td>\n",
       "    </tr>\n",
       "    <tr>\n",
       "      <th>725</th>\n",
       "      <td>0</td>\n",
       "      <td>3</td>\n",
       "      <td>Oreskovic, Mr. Luka</td>\n",
       "      <td>male</td>\n",
       "      <td>20.0</td>\n",
       "      <td>0</td>\n",
       "      <td>0</td>\n",
       "      <td>315094</td>\n",
       "      <td>8.6625</td>\n",
       "      <td>NaN</td>\n",
       "      <td>S</td>\n",
       "    </tr>\n",
       "    <tr>\n",
       "      <th>471</th>\n",
       "      <td>0</td>\n",
       "      <td>3</td>\n",
       "      <td>Cacic, Mr. Luka</td>\n",
       "      <td>male</td>\n",
       "      <td>38.0</td>\n",
       "      <td>0</td>\n",
       "      <td>0</td>\n",
       "      <td>315089</td>\n",
       "      <td>8.6625</td>\n",
       "      <td>NaN</td>\n",
       "      <td>S</td>\n",
       "    </tr>\n",
       "    <tr>\n",
       "      <th>286</th>\n",
       "      <td>1</td>\n",
       "      <td>3</td>\n",
       "      <td>de Mulder, Mr. Theodore</td>\n",
       "      <td>male</td>\n",
       "      <td>30.0</td>\n",
       "      <td>0</td>\n",
       "      <td>0</td>\n",
       "      <td>345774</td>\n",
       "      <td>9.5000</td>\n",
       "      <td>NaN</td>\n",
       "      <td>S</td>\n",
       "    </tr>\n",
       "    <tr>\n",
       "      <th>20</th>\n",
       "      <td>0</td>\n",
       "      <td>2</td>\n",
       "      <td>Fynney, Mr. Joseph J</td>\n",
       "      <td>male</td>\n",
       "      <td>35.0</td>\n",
       "      <td>0</td>\n",
       "      <td>0</td>\n",
       "      <td>239865</td>\n",
       "      <td>26.0000</td>\n",
       "      <td>NaN</td>\n",
       "      <td>S</td>\n",
       "    </tr>\n",
       "    <tr>\n",
       "      <th>886</th>\n",
       "      <td>0</td>\n",
       "      <td>2</td>\n",
       "      <td>Montvila, Rev. Juozas</td>\n",
       "      <td>male</td>\n",
       "      <td>27.0</td>\n",
       "      <td>0</td>\n",
       "      <td>0</td>\n",
       "      <td>211536</td>\n",
       "      <td>13.0000</td>\n",
       "      <td>NaN</td>\n",
       "      <td>S</td>\n",
       "    </tr>\n",
       "  </tbody>\n",
       "</table>\n",
       "</div>"
      ],
      "text/plain": [
       "     Survived  Pclass                                    Name     Sex   Age   \n",
       "93          0       3                 Dean, Mr. Bertram Frank    male  26.0  \\\n",
       "222         0       3                 Green, Mr. George Henry    male  51.0   \n",
       "638         0       3  Panula, Mrs. Juha (Maria Emilia Ojala)  female  41.0   \n",
       "214         0       3                     Kiernan, Mr. Philip    male   NaN   \n",
       "95          0       3             Shorney, Mr. Charles Joseph    male   NaN   \n",
       "725         0       3                     Oreskovic, Mr. Luka    male  20.0   \n",
       "471         0       3                         Cacic, Mr. Luka    male  38.0   \n",
       "286         1       3                 de Mulder, Mr. Theodore    male  30.0   \n",
       "20          0       2                    Fynney, Mr. Joseph J    male  35.0   \n",
       "886         0       2                   Montvila, Rev. Juozas    male  27.0   \n",
       "\n",
       "     SibSp  Parch     Ticket     Fare Cabin Embarked  \n",
       "93       1      2  C.A. 2315  20.5750   NaN        S  \n",
       "222      0      0      21440   8.0500   NaN        S  \n",
       "638      0      5    3101295  39.6875   NaN        S  \n",
       "214      1      0     367229   7.7500   NaN        Q  \n",
       "95       0      0     374910   8.0500   NaN        S  \n",
       "725      0      0     315094   8.6625   NaN        S  \n",
       "471      0      0     315089   8.6625   NaN        S  \n",
       "286      0      0     345774   9.5000   NaN        S  \n",
       "20       0      0     239865  26.0000   NaN        S  \n",
       "886      0      0     211536  13.0000   NaN        S  "
      ]
     },
     "execution_count": 15,
     "metadata": {},
     "output_type": "execute_result"
    }
   ],
   "source": [
    "df.sample(10)"
   ]
  },
  {
   "cell_type": "code",
   "execution_count": 5,
   "id": "70db338a",
   "metadata": {},
   "outputs": [
    {
     "data": {
      "text/html": [
       "<div>\n",
       "<style scoped>\n",
       "    .dataframe tbody tr th:only-of-type {\n",
       "        vertical-align: middle;\n",
       "    }\n",
       "\n",
       "    .dataframe tbody tr th {\n",
       "        vertical-align: top;\n",
       "    }\n",
       "\n",
       "    .dataframe thead th {\n",
       "        text-align: right;\n",
       "    }\n",
       "</style>\n",
       "<table border=\"1\" class=\"dataframe\">\n",
       "  <thead>\n",
       "    <tr style=\"text-align: right;\">\n",
       "      <th></th>\n",
       "      <th>Survived</th>\n",
       "      <th>Pclass</th>\n",
       "      <th>Name</th>\n",
       "      <th>Sex</th>\n",
       "      <th>Age</th>\n",
       "      <th>SibSp</th>\n",
       "      <th>Parch</th>\n",
       "      <th>Ticket</th>\n",
       "      <th>Fare</th>\n",
       "      <th>Cabin</th>\n",
       "      <th>Embarked</th>\n",
       "    </tr>\n",
       "  </thead>\n",
       "  <tbody>\n",
       "    <tr>\n",
       "      <th>0</th>\n",
       "      <td>0</td>\n",
       "      <td>3</td>\n",
       "      <td>Braund, Mr. Owen Harris</td>\n",
       "      <td>male</td>\n",
       "      <td>22.0</td>\n",
       "      <td>1</td>\n",
       "      <td>0</td>\n",
       "      <td>A/5 21171</td>\n",
       "      <td>7.2500</td>\n",
       "      <td>NaN</td>\n",
       "      <td>S</td>\n",
       "    </tr>\n",
       "    <tr>\n",
       "      <th>1</th>\n",
       "      <td>1</td>\n",
       "      <td>1</td>\n",
       "      <td>Cumings, Mrs. John Bradley (Florence Briggs Th...</td>\n",
       "      <td>female</td>\n",
       "      <td>38.0</td>\n",
       "      <td>1</td>\n",
       "      <td>0</td>\n",
       "      <td>PC 17599</td>\n",
       "      <td>71.2833</td>\n",
       "      <td>C85</td>\n",
       "      <td>C</td>\n",
       "    </tr>\n",
       "    <tr>\n",
       "      <th>2</th>\n",
       "      <td>1</td>\n",
       "      <td>3</td>\n",
       "      <td>Heikkinen, Miss. Laina</td>\n",
       "      <td>female</td>\n",
       "      <td>26.0</td>\n",
       "      <td>0</td>\n",
       "      <td>0</td>\n",
       "      <td>STON/O2. 3101282</td>\n",
       "      <td>7.9250</td>\n",
       "      <td>NaN</td>\n",
       "      <td>S</td>\n",
       "    </tr>\n",
       "    <tr>\n",
       "      <th>3</th>\n",
       "      <td>1</td>\n",
       "      <td>1</td>\n",
       "      <td>Futrelle, Mrs. Jacques Heath (Lily May Peel)</td>\n",
       "      <td>female</td>\n",
       "      <td>35.0</td>\n",
       "      <td>1</td>\n",
       "      <td>0</td>\n",
       "      <td>113803</td>\n",
       "      <td>53.1000</td>\n",
       "      <td>C123</td>\n",
       "      <td>S</td>\n",
       "    </tr>\n",
       "    <tr>\n",
       "      <th>4</th>\n",
       "      <td>0</td>\n",
       "      <td>3</td>\n",
       "      <td>Allen, Mr. William Henry</td>\n",
       "      <td>male</td>\n",
       "      <td>35.0</td>\n",
       "      <td>0</td>\n",
       "      <td>0</td>\n",
       "      <td>373450</td>\n",
       "      <td>8.0500</td>\n",
       "      <td>NaN</td>\n",
       "      <td>S</td>\n",
       "    </tr>\n",
       "    <tr>\n",
       "      <th>...</th>\n",
       "      <td>...</td>\n",
       "      <td>...</td>\n",
       "      <td>...</td>\n",
       "      <td>...</td>\n",
       "      <td>...</td>\n",
       "      <td>...</td>\n",
       "      <td>...</td>\n",
       "      <td>...</td>\n",
       "      <td>...</td>\n",
       "      <td>...</td>\n",
       "      <td>...</td>\n",
       "    </tr>\n",
       "    <tr>\n",
       "      <th>886</th>\n",
       "      <td>0</td>\n",
       "      <td>2</td>\n",
       "      <td>Montvila, Rev. Juozas</td>\n",
       "      <td>male</td>\n",
       "      <td>27.0</td>\n",
       "      <td>0</td>\n",
       "      <td>0</td>\n",
       "      <td>211536</td>\n",
       "      <td>13.0000</td>\n",
       "      <td>NaN</td>\n",
       "      <td>S</td>\n",
       "    </tr>\n",
       "    <tr>\n",
       "      <th>887</th>\n",
       "      <td>1</td>\n",
       "      <td>1</td>\n",
       "      <td>Graham, Miss. Margaret Edith</td>\n",
       "      <td>female</td>\n",
       "      <td>19.0</td>\n",
       "      <td>0</td>\n",
       "      <td>0</td>\n",
       "      <td>112053</td>\n",
       "      <td>30.0000</td>\n",
       "      <td>B42</td>\n",
       "      <td>S</td>\n",
       "    </tr>\n",
       "    <tr>\n",
       "      <th>888</th>\n",
       "      <td>0</td>\n",
       "      <td>3</td>\n",
       "      <td>Johnston, Miss. Catherine Helen \"Carrie\"</td>\n",
       "      <td>female</td>\n",
       "      <td>NaN</td>\n",
       "      <td>1</td>\n",
       "      <td>2</td>\n",
       "      <td>W./C. 6607</td>\n",
       "      <td>23.4500</td>\n",
       "      <td>NaN</td>\n",
       "      <td>S</td>\n",
       "    </tr>\n",
       "    <tr>\n",
       "      <th>889</th>\n",
       "      <td>1</td>\n",
       "      <td>1</td>\n",
       "      <td>Behr, Mr. Karl Howell</td>\n",
       "      <td>male</td>\n",
       "      <td>26.0</td>\n",
       "      <td>0</td>\n",
       "      <td>0</td>\n",
       "      <td>111369</td>\n",
       "      <td>30.0000</td>\n",
       "      <td>C148</td>\n",
       "      <td>C</td>\n",
       "    </tr>\n",
       "    <tr>\n",
       "      <th>890</th>\n",
       "      <td>0</td>\n",
       "      <td>3</td>\n",
       "      <td>Dooley, Mr. Patrick</td>\n",
       "      <td>male</td>\n",
       "      <td>32.0</td>\n",
       "      <td>0</td>\n",
       "      <td>0</td>\n",
       "      <td>370376</td>\n",
       "      <td>7.7500</td>\n",
       "      <td>NaN</td>\n",
       "      <td>Q</td>\n",
       "    </tr>\n",
       "  </tbody>\n",
       "</table>\n",
       "<p>891 rows × 11 columns</p>\n",
       "</div>"
      ],
      "text/plain": [
       "     Survived  Pclass                                               Name   \n",
       "0           0       3                            Braund, Mr. Owen Harris  \\\n",
       "1           1       1  Cumings, Mrs. John Bradley (Florence Briggs Th...   \n",
       "2           1       3                             Heikkinen, Miss. Laina   \n",
       "3           1       1       Futrelle, Mrs. Jacques Heath (Lily May Peel)   \n",
       "4           0       3                           Allen, Mr. William Henry   \n",
       "..        ...     ...                                                ...   \n",
       "886         0       2                              Montvila, Rev. Juozas   \n",
       "887         1       1                       Graham, Miss. Margaret Edith   \n",
       "888         0       3           Johnston, Miss. Catherine Helen \"Carrie\"   \n",
       "889         1       1                              Behr, Mr. Karl Howell   \n",
       "890         0       3                                Dooley, Mr. Patrick   \n",
       "\n",
       "        Sex   Age  SibSp  Parch            Ticket     Fare Cabin Embarked  \n",
       "0      male  22.0      1      0         A/5 21171   7.2500   NaN        S  \n",
       "1    female  38.0      1      0          PC 17599  71.2833   C85        C  \n",
       "2    female  26.0      0      0  STON/O2. 3101282   7.9250   NaN        S  \n",
       "3    female  35.0      1      0            113803  53.1000  C123        S  \n",
       "4      male  35.0      0      0            373450   8.0500   NaN        S  \n",
       "..      ...   ...    ...    ...               ...      ...   ...      ...  \n",
       "886    male  27.0      0      0            211536  13.0000   NaN        S  \n",
       "887  female  19.0      0      0            112053  30.0000   B42        S  \n",
       "888  female   NaN      1      2        W./C. 6607  23.4500   NaN        S  \n",
       "889    male  26.0      0      0            111369  30.0000  C148        C  \n",
       "890    male  32.0      0      0            370376   7.7500   NaN        Q  \n",
       "\n",
       "[891 rows x 11 columns]"
      ]
     },
     "execution_count": 5,
     "metadata": {},
     "output_type": "execute_result"
    }
   ],
   "source": [
    "df"
   ]
  },
  {
   "cell_type": "code",
   "execution_count": 6,
   "id": "5b3d141b",
   "metadata": {},
   "outputs": [
    {
     "data": {
      "text/plain": [
       "Pclass\n",
       "3    491\n",
       "1    216\n",
       "2    184\n",
       "Name: count, dtype: int64"
      ]
     },
     "execution_count": 6,
     "metadata": {},
     "output_type": "execute_result"
    }
   ],
   "source": [
    "df[\"Pclass\"].value_counts()"
   ]
  },
  {
   "cell_type": "code",
   "execution_count": 8,
   "id": "a7eb9f8c",
   "metadata": {},
   "outputs": [
    {
     "data": {
      "text/plain": [
       "Sex\n",
       "male      577\n",
       "female    314\n",
       "Name: count, dtype: int64"
      ]
     },
     "execution_count": 8,
     "metadata": {},
     "output_type": "execute_result"
    }
   ],
   "source": [
    "df[\"Sex\"].value_counts()"
   ]
  },
  {
   "cell_type": "code",
   "execution_count": 9,
   "id": "ec46ff03",
   "metadata": {
    "scrolled": true
   },
   "outputs": [
    {
     "data": {
      "text/plain": [
       "SibSp\n",
       "0    608\n",
       "1    209\n",
       "2     28\n",
       "4     18\n",
       "3     16\n",
       "8      7\n",
       "5      5\n",
       "Name: count, dtype: int64"
      ]
     },
     "execution_count": 9,
     "metadata": {},
     "output_type": "execute_result"
    }
   ],
   "source": [
    "df[\"SibSp\"].value_counts() # Number of Sibilings / spouses onboard"
   ]
  },
  {
   "cell_type": "code",
   "execution_count": 10,
   "id": "28e63014",
   "metadata": {},
   "outputs": [
    {
     "data": {
      "text/plain": [
       "Embarked\n",
       "S    644\n",
       "C    168\n",
       "Q     77\n",
       "Name: count, dtype: int64"
      ]
     },
     "execution_count": 10,
     "metadata": {},
     "output_type": "execute_result"
    }
   ],
   "source": [
    "df[\"Embarked\"].value_counts()"
   ]
  },
  {
   "cell_type": "code",
   "execution_count": null,
   "id": "ebce341d",
   "metadata": {},
   "outputs": [],
   "source": [
    "# S: UK\n",
    "# C: France\n",
    "# Q: Ireland"
   ]
  },
  {
   "cell_type": "markdown",
   "id": "318a941a",
   "metadata": {
    "lang": "en"
   },
   "source": [
    "## Small exploration of the data"
   ]
  },
  {
   "cell_type": "code",
   "execution_count": null,
   "id": "1ee3a511",
   "metadata": {},
   "outputs": [],
   "source": []
  },
  {
   "cell_type": "markdown",
   "id": "d162b1c5",
   "metadata": {
    "lang": "en"
   },
   "source": [
    "### We look at the \"Cabin\" feature"
   ]
  },
  {
   "cell_type": "code",
   "execution_count": 18,
   "id": "c563ecc2",
   "metadata": {},
   "outputs": [
    {
     "data": {
      "text/plain": [
       "0       NaN\n",
       "1       C85\n",
       "2       NaN\n",
       "3      C123\n",
       "4       NaN\n",
       "       ... \n",
       "886     NaN\n",
       "887     B42\n",
       "888     NaN\n",
       "889    C148\n",
       "890     NaN\n",
       "Name: Cabin, Length: 891, dtype: object"
      ]
     },
     "execution_count": 18,
     "metadata": {},
     "output_type": "execute_result"
    }
   ],
   "source": [
    "df[\"Cabin\"]"
   ]
  },
  {
   "cell_type": "code",
   "execution_count": null,
   "id": "ecb7d242",
   "metadata": {},
   "outputs": [],
   "source": [
    "# C, A, B, .... nan -> other"
   ]
  },
  {
   "cell_type": "code",
   "execution_count": 22,
   "id": "3a9ae929",
   "metadata": {},
   "outputs": [],
   "source": [
    "import numpy as np"
   ]
  },
  {
   "cell_type": "code",
   "execution_count": 28,
   "id": "cb8d6037",
   "metadata": {},
   "outputs": [
    {
     "name": "stdout",
     "output_type": "stream",
     "text": [
      "nan\n"
     ]
    }
   ],
   "source": [
    "print(np.nan)"
   ]
  },
  {
   "cell_type": "code",
   "execution_count": 35,
   "id": "2822c053",
   "metadata": {},
   "outputs": [],
   "source": [
    "def get_cabin (x):\n",
    "    if type(x) == float:   # nan is float\n",
    "        return \"other\"\n",
    "    else:\n",
    "        return x[0]"
   ]
  },
  {
   "cell_type": "code",
   "execution_count": 36,
   "id": "930a1c4d",
   "metadata": {
    "scrolled": false
   },
   "outputs": [
    {
     "data": {
      "text/plain": [
       "'other'"
      ]
     },
     "execution_count": 36,
     "metadata": {},
     "output_type": "execute_result"
    }
   ],
   "source": [
    "get_cabin (np.nan)"
   ]
  },
  {
   "cell_type": "code",
   "execution_count": 37,
   "id": "385d29e5",
   "metadata": {},
   "outputs": [],
   "source": [
    "df[\"cabin_processed\"] = df[\"Cabin\"].apply(get_cabin)"
   ]
  },
  {
   "cell_type": "code",
   "execution_count": 38,
   "id": "33f7d327",
   "metadata": {},
   "outputs": [
    {
     "data": {
      "text/html": [
       "<div>\n",
       "<style scoped>\n",
       "    .dataframe tbody tr th:only-of-type {\n",
       "        vertical-align: middle;\n",
       "    }\n",
       "\n",
       "    .dataframe tbody tr th {\n",
       "        vertical-align: top;\n",
       "    }\n",
       "\n",
       "    .dataframe thead th {\n",
       "        text-align: right;\n",
       "    }\n",
       "</style>\n",
       "<table border=\"1\" class=\"dataframe\">\n",
       "  <thead>\n",
       "    <tr style=\"text-align: right;\">\n",
       "      <th></th>\n",
       "      <th>Survived</th>\n",
       "      <th>Pclass</th>\n",
       "      <th>Name</th>\n",
       "      <th>Sex</th>\n",
       "      <th>Age</th>\n",
       "      <th>SibSp</th>\n",
       "      <th>Parch</th>\n",
       "      <th>Ticket</th>\n",
       "      <th>Fare</th>\n",
       "      <th>Cabin</th>\n",
       "      <th>Embarked</th>\n",
       "      <th>cabin_processed</th>\n",
       "    </tr>\n",
       "  </thead>\n",
       "  <tbody>\n",
       "    <tr>\n",
       "      <th>0</th>\n",
       "      <td>0</td>\n",
       "      <td>3</td>\n",
       "      <td>Braund, Mr. Owen Harris</td>\n",
       "      <td>male</td>\n",
       "      <td>22.0</td>\n",
       "      <td>1</td>\n",
       "      <td>0</td>\n",
       "      <td>A/5 21171</td>\n",
       "      <td>7.2500</td>\n",
       "      <td>NaN</td>\n",
       "      <td>S</td>\n",
       "      <td>other</td>\n",
       "    </tr>\n",
       "    <tr>\n",
       "      <th>1</th>\n",
       "      <td>1</td>\n",
       "      <td>1</td>\n",
       "      <td>Cumings, Mrs. John Bradley (Florence Briggs Th...</td>\n",
       "      <td>female</td>\n",
       "      <td>38.0</td>\n",
       "      <td>1</td>\n",
       "      <td>0</td>\n",
       "      <td>PC 17599</td>\n",
       "      <td>71.2833</td>\n",
       "      <td>C85</td>\n",
       "      <td>C</td>\n",
       "      <td>C</td>\n",
       "    </tr>\n",
       "    <tr>\n",
       "      <th>2</th>\n",
       "      <td>1</td>\n",
       "      <td>3</td>\n",
       "      <td>Heikkinen, Miss. Laina</td>\n",
       "      <td>female</td>\n",
       "      <td>26.0</td>\n",
       "      <td>0</td>\n",
       "      <td>0</td>\n",
       "      <td>STON/O2. 3101282</td>\n",
       "      <td>7.9250</td>\n",
       "      <td>NaN</td>\n",
       "      <td>S</td>\n",
       "      <td>other</td>\n",
       "    </tr>\n",
       "    <tr>\n",
       "      <th>3</th>\n",
       "      <td>1</td>\n",
       "      <td>1</td>\n",
       "      <td>Futrelle, Mrs. Jacques Heath (Lily May Peel)</td>\n",
       "      <td>female</td>\n",
       "      <td>35.0</td>\n",
       "      <td>1</td>\n",
       "      <td>0</td>\n",
       "      <td>113803</td>\n",
       "      <td>53.1000</td>\n",
       "      <td>C123</td>\n",
       "      <td>S</td>\n",
       "      <td>C</td>\n",
       "    </tr>\n",
       "    <tr>\n",
       "      <th>4</th>\n",
       "      <td>0</td>\n",
       "      <td>3</td>\n",
       "      <td>Allen, Mr. William Henry</td>\n",
       "      <td>male</td>\n",
       "      <td>35.0</td>\n",
       "      <td>0</td>\n",
       "      <td>0</td>\n",
       "      <td>373450</td>\n",
       "      <td>8.0500</td>\n",
       "      <td>NaN</td>\n",
       "      <td>S</td>\n",
       "      <td>other</td>\n",
       "    </tr>\n",
       "    <tr>\n",
       "      <th>...</th>\n",
       "      <td>...</td>\n",
       "      <td>...</td>\n",
       "      <td>...</td>\n",
       "      <td>...</td>\n",
       "      <td>...</td>\n",
       "      <td>...</td>\n",
       "      <td>...</td>\n",
       "      <td>...</td>\n",
       "      <td>...</td>\n",
       "      <td>...</td>\n",
       "      <td>...</td>\n",
       "      <td>...</td>\n",
       "    </tr>\n",
       "    <tr>\n",
       "      <th>886</th>\n",
       "      <td>0</td>\n",
       "      <td>2</td>\n",
       "      <td>Montvila, Rev. Juozas</td>\n",
       "      <td>male</td>\n",
       "      <td>27.0</td>\n",
       "      <td>0</td>\n",
       "      <td>0</td>\n",
       "      <td>211536</td>\n",
       "      <td>13.0000</td>\n",
       "      <td>NaN</td>\n",
       "      <td>S</td>\n",
       "      <td>other</td>\n",
       "    </tr>\n",
       "    <tr>\n",
       "      <th>887</th>\n",
       "      <td>1</td>\n",
       "      <td>1</td>\n",
       "      <td>Graham, Miss. Margaret Edith</td>\n",
       "      <td>female</td>\n",
       "      <td>19.0</td>\n",
       "      <td>0</td>\n",
       "      <td>0</td>\n",
       "      <td>112053</td>\n",
       "      <td>30.0000</td>\n",
       "      <td>B42</td>\n",
       "      <td>S</td>\n",
       "      <td>B</td>\n",
       "    </tr>\n",
       "    <tr>\n",
       "      <th>888</th>\n",
       "      <td>0</td>\n",
       "      <td>3</td>\n",
       "      <td>Johnston, Miss. Catherine Helen \"Carrie\"</td>\n",
       "      <td>female</td>\n",
       "      <td>NaN</td>\n",
       "      <td>1</td>\n",
       "      <td>2</td>\n",
       "      <td>W./C. 6607</td>\n",
       "      <td>23.4500</td>\n",
       "      <td>NaN</td>\n",
       "      <td>S</td>\n",
       "      <td>other</td>\n",
       "    </tr>\n",
       "    <tr>\n",
       "      <th>889</th>\n",
       "      <td>1</td>\n",
       "      <td>1</td>\n",
       "      <td>Behr, Mr. Karl Howell</td>\n",
       "      <td>male</td>\n",
       "      <td>26.0</td>\n",
       "      <td>0</td>\n",
       "      <td>0</td>\n",
       "      <td>111369</td>\n",
       "      <td>30.0000</td>\n",
       "      <td>C148</td>\n",
       "      <td>C</td>\n",
       "      <td>C</td>\n",
       "    </tr>\n",
       "    <tr>\n",
       "      <th>890</th>\n",
       "      <td>0</td>\n",
       "      <td>3</td>\n",
       "      <td>Dooley, Mr. Patrick</td>\n",
       "      <td>male</td>\n",
       "      <td>32.0</td>\n",
       "      <td>0</td>\n",
       "      <td>0</td>\n",
       "      <td>370376</td>\n",
       "      <td>7.7500</td>\n",
       "      <td>NaN</td>\n",
       "      <td>Q</td>\n",
       "      <td>other</td>\n",
       "    </tr>\n",
       "  </tbody>\n",
       "</table>\n",
       "<p>891 rows × 12 columns</p>\n",
       "</div>"
      ],
      "text/plain": [
       "     Survived  Pclass                                               Name   \n",
       "0           0       3                            Braund, Mr. Owen Harris  \\\n",
       "1           1       1  Cumings, Mrs. John Bradley (Florence Briggs Th...   \n",
       "2           1       3                             Heikkinen, Miss. Laina   \n",
       "3           1       1       Futrelle, Mrs. Jacques Heath (Lily May Peel)   \n",
       "4           0       3                           Allen, Mr. William Henry   \n",
       "..        ...     ...                                                ...   \n",
       "886         0       2                              Montvila, Rev. Juozas   \n",
       "887         1       1                       Graham, Miss. Margaret Edith   \n",
       "888         0       3           Johnston, Miss. Catherine Helen \"Carrie\"   \n",
       "889         1       1                              Behr, Mr. Karl Howell   \n",
       "890         0       3                                Dooley, Mr. Patrick   \n",
       "\n",
       "        Sex   Age  SibSp  Parch            Ticket     Fare Cabin Embarked   \n",
       "0      male  22.0      1      0         A/5 21171   7.2500   NaN        S  \\\n",
       "1    female  38.0      1      0          PC 17599  71.2833   C85        C   \n",
       "2    female  26.0      0      0  STON/O2. 3101282   7.9250   NaN        S   \n",
       "3    female  35.0      1      0            113803  53.1000  C123        S   \n",
       "4      male  35.0      0      0            373450   8.0500   NaN        S   \n",
       "..      ...   ...    ...    ...               ...      ...   ...      ...   \n",
       "886    male  27.0      0      0            211536  13.0000   NaN        S   \n",
       "887  female  19.0      0      0            112053  30.0000   B42        S   \n",
       "888  female   NaN      1      2        W./C. 6607  23.4500   NaN        S   \n",
       "889    male  26.0      0      0            111369  30.0000  C148        C   \n",
       "890    male  32.0      0      0            370376   7.7500   NaN        Q   \n",
       "\n",
       "    cabin_processed  \n",
       "0             other  \n",
       "1                 C  \n",
       "2             other  \n",
       "3                 C  \n",
       "4             other  \n",
       "..              ...  \n",
       "886           other  \n",
       "887               B  \n",
       "888           other  \n",
       "889               C  \n",
       "890           other  \n",
       "\n",
       "[891 rows x 12 columns]"
      ]
     },
     "execution_count": 38,
     "metadata": {},
     "output_type": "execute_result"
    }
   ],
   "source": [
    "df"
   ]
  },
  {
   "cell_type": "code",
   "execution_count": 39,
   "id": "0e9990f3",
   "metadata": {},
   "outputs": [
    {
     "data": {
      "text/plain": [
       "cabin_processed\n",
       "other    687\n",
       "C         59\n",
       "B         47\n",
       "D         33\n",
       "E         32\n",
       "A         15\n",
       "F         13\n",
       "G          4\n",
       "T          1\n",
       "Name: count, dtype: int64"
      ]
     },
     "execution_count": 39,
     "metadata": {},
     "output_type": "execute_result"
    }
   ],
   "source": [
    "df[\"cabin_processed\"].value_counts()"
   ]
  },
  {
   "cell_type": "code",
   "execution_count": 44,
   "id": "b23d7706",
   "metadata": {},
   "outputs": [],
   "source": [
    "def process_titanic_dataset (df):\n",
    "    df[\"cabin_processed\"] = df[\"Cabin\"].apply(get_cabin)\n",
    "    df.drop(columns=[\"Cabin\"], inplace=True)\n",
    "    return df\n",
    "\n",
    "#process_titanic_dataset (df)"
   ]
  },
  {
   "cell_type": "markdown",
   "id": "8c2b3096",
   "metadata": {
    "lang": "en"
   },
   "source": [
    "There are many missing values, but we must use the stateroom variable because it can be an important predictor. As you can see in the picture below, first class had cabins on deck A, B, or C, a mix was on deck D or E, and third class was mostly on f or g. We can identify the cover by the first letter."
   ]
  },
  {
   "cell_type": "markdown",
   "id": "cognitive-consent",
   "metadata": {},
   "source": [
    "![laimagendelbarco](../images/barco.png)"
   ]
  },
  {
   "cell_type": "code",
   "execution_count": 71,
   "id": "ddf3e4df",
   "metadata": {},
   "outputs": [],
   "source": [
    "import pandas as pd\n",
    "import numpy as np\n",
    "\n",
    "df = pd.read_csv(\"../datasets/titanic.csv\")\n",
    "\n",
    "\n",
    "def get_cabin (x):\n",
    "    if type(x) == float:   # nan is float\n",
    "        return \"other\"\n",
    "    else:\n",
    "        return x[0]\n",
    "    \n",
    "def get_title (x):\n",
    "    if type(x) == float:\n",
    "        return \"other\"\n",
    "    \n",
    "    return x.split(\",\")[1].split(\".\")[0].strip()\n",
    "\n",
    "\n",
    "def process_titanic_dataset (df):\n",
    "    # 1. Cabin\n",
    "    df[\"cabin_processed\"] = df[\"Cabin\"].apply(get_cabin)\n",
    "    df.drop(columns=[\"Cabin\"], inplace=True)\n",
    "    \n",
    "    # 2. Title\n",
    "    df[\"title\"] = df[\"Name\"].apply(get_title)\n",
    "    df[\"title\"] = df[\"title\"].apply(lambda x: x.replace(\"Ms\", \"Miss\").replace(\"Mlle\", \"Miss\"))\n",
    "    df[\"title\"] = df.title.replace(df.title.value_counts().index[4:], \"other\")\n",
    "    df.drop(columns=\"Name\", inplace=True)\n",
    "    \n",
    "    # \n",
    "    \n",
    "    return df\n",
    "\n",
    "df = process_titanic_dataset (df)"
   ]
  },
  {
   "cell_type": "code",
   "execution_count": 50,
   "id": "94af9cf2",
   "metadata": {},
   "outputs": [
    {
     "data": {
      "text/plain": [
       "Index(['Survived', 'Pclass', 'Name', 'Sex', 'Age', 'SibSp', 'Parch', 'Ticket',\n",
       "       'Fare', 'Embarked', 'cabin_processed'],\n",
       "      dtype='object')"
      ]
     },
     "execution_count": 50,
     "metadata": {},
     "output_type": "execute_result"
    }
   ],
   "source": [
    "df.columns"
   ]
  },
  {
   "cell_type": "code",
   "execution_count": 60,
   "id": "7f63f835",
   "metadata": {},
   "outputs": [],
   "source": []
  },
  {
   "cell_type": "code",
   "execution_count": 54,
   "id": "5ed3db34",
   "metadata": {},
   "outputs": [
    {
     "data": {
      "text/plain": [
       "'Braund, Mr. Owen Harris'"
      ]
     },
     "execution_count": 54,
     "metadata": {},
     "output_type": "execute_result"
    }
   ],
   "source": [
    "first_name = df.iloc[0][\"Name\"]\n",
    "first_name"
   ]
  },
  {
   "cell_type": "code",
   "execution_count": 59,
   "id": "cd66bd74",
   "metadata": {},
   "outputs": [
    {
     "data": {
      "text/plain": [
       "'Mr'"
      ]
     },
     "execution_count": 59,
     "metadata": {},
     "output_type": "execute_result"
    }
   ],
   "source": [
    "first_name.split(\",\")[1].split(\".\")[0].strip()"
   ]
  },
  {
   "cell_type": "code",
   "execution_count": 61,
   "id": "84ce6fa0",
   "metadata": {},
   "outputs": [],
   "source": [
    "df[\"title\"] = df[\"Name\"].apply(get_title)"
   ]
  },
  {
   "cell_type": "code",
   "execution_count": 65,
   "id": "5967c40c",
   "metadata": {},
   "outputs": [
    {
     "data": {
      "text/plain": [
       "(891, 12)"
      ]
     },
     "execution_count": 65,
     "metadata": {},
     "output_type": "execute_result"
    }
   ],
   "source": [
    "df.shape"
   ]
  },
  {
   "cell_type": "code",
   "execution_count": null,
   "id": "858e4cce",
   "metadata": {},
   "outputs": [],
   "source": [
    "# group the low frequency values into \"other\"?\n",
    "   #  "
   ]
  },
  {
   "cell_type": "code",
   "execution_count": 66,
   "id": "fc03c9b8",
   "metadata": {},
   "outputs": [],
   "source": [
    "df[\"title\"] = df[\"title\"].apply(lambda x: x.replace(\"Ms\", \"Miss\").replace(\"Mlle\", \"Miss\"))"
   ]
  },
  {
   "cell_type": "code",
   "execution_count": 68,
   "id": "0f038ea2",
   "metadata": {},
   "outputs": [],
   "source": [
    "df[\"title\"] = df.title.replace(df.title.value_counts().index[4:], \"other\")"
   ]
  },
  {
   "cell_type": "code",
   "execution_count": 69,
   "id": "3b63c523",
   "metadata": {},
   "outputs": [
    {
     "data": {
      "text/plain": [
       "title\n",
       "Mr        517\n",
       "Miss      185\n",
       "Mrs       125\n",
       "Master     40\n",
       "other      24\n",
       "Name: count, dtype: int64"
      ]
     },
     "execution_count": 69,
     "metadata": {},
     "output_type": "execute_result"
    }
   ],
   "source": [
    "df.title.value_counts() # Ms == Miss"
   ]
  },
  {
   "cell_type": "code",
   "execution_count": 63,
   "id": "91aaa73a",
   "metadata": {},
   "outputs": [
    {
     "data": {
      "text/html": [
       "<div>\n",
       "<style scoped>\n",
       "    .dataframe tbody tr th:only-of-type {\n",
       "        vertical-align: middle;\n",
       "    }\n",
       "\n",
       "    .dataframe tbody tr th {\n",
       "        vertical-align: top;\n",
       "    }\n",
       "\n",
       "    .dataframe thead th {\n",
       "        text-align: right;\n",
       "    }\n",
       "</style>\n",
       "<table border=\"1\" class=\"dataframe\">\n",
       "  <thead>\n",
       "    <tr style=\"text-align: right;\">\n",
       "      <th></th>\n",
       "      <th>Survived</th>\n",
       "      <th>Pclass</th>\n",
       "      <th>Name</th>\n",
       "      <th>Sex</th>\n",
       "      <th>Age</th>\n",
       "      <th>SibSp</th>\n",
       "      <th>Parch</th>\n",
       "      <th>Ticket</th>\n",
       "      <th>Fare</th>\n",
       "      <th>Embarked</th>\n",
       "      <th>cabin_processed</th>\n",
       "      <th>title</th>\n",
       "    </tr>\n",
       "  </thead>\n",
       "  <tbody>\n",
       "    <tr>\n",
       "      <th>640</th>\n",
       "      <td>0</td>\n",
       "      <td>3</td>\n",
       "      <td>Jensen, Mr. Hans Peder</td>\n",
       "      <td>male</td>\n",
       "      <td>20.0</td>\n",
       "      <td>0</td>\n",
       "      <td>0</td>\n",
       "      <td>350050</td>\n",
       "      <td>7.8542</td>\n",
       "      <td>S</td>\n",
       "      <td>other</td>\n",
       "      <td>Mr</td>\n",
       "    </tr>\n",
       "    <tr>\n",
       "      <th>739</th>\n",
       "      <td>0</td>\n",
       "      <td>3</td>\n",
       "      <td>Nankoff, Mr. Minko</td>\n",
       "      <td>male</td>\n",
       "      <td>NaN</td>\n",
       "      <td>0</td>\n",
       "      <td>0</td>\n",
       "      <td>349218</td>\n",
       "      <td>7.8958</td>\n",
       "      <td>S</td>\n",
       "      <td>other</td>\n",
       "      <td>Mr</td>\n",
       "    </tr>\n",
       "    <tr>\n",
       "      <th>423</th>\n",
       "      <td>0</td>\n",
       "      <td>3</td>\n",
       "      <td>Danbom, Mrs. Ernst Gilbert (Anna Sigrid Maria ...</td>\n",
       "      <td>female</td>\n",
       "      <td>28.0</td>\n",
       "      <td>1</td>\n",
       "      <td>1</td>\n",
       "      <td>347080</td>\n",
       "      <td>14.4000</td>\n",
       "      <td>S</td>\n",
       "      <td>other</td>\n",
       "      <td>Mrs</td>\n",
       "    </tr>\n",
       "    <tr>\n",
       "      <th>124</th>\n",
       "      <td>0</td>\n",
       "      <td>1</td>\n",
       "      <td>White, Mr. Percival Wayland</td>\n",
       "      <td>male</td>\n",
       "      <td>54.0</td>\n",
       "      <td>0</td>\n",
       "      <td>1</td>\n",
       "      <td>35281</td>\n",
       "      <td>77.2875</td>\n",
       "      <td>S</td>\n",
       "      <td>D</td>\n",
       "      <td>Mr</td>\n",
       "    </tr>\n",
       "    <tr>\n",
       "      <th>165</th>\n",
       "      <td>1</td>\n",
       "      <td>3</td>\n",
       "      <td>Goldsmith, Master. Frank John William \"Frankie\"</td>\n",
       "      <td>male</td>\n",
       "      <td>9.0</td>\n",
       "      <td>0</td>\n",
       "      <td>2</td>\n",
       "      <td>363291</td>\n",
       "      <td>20.5250</td>\n",
       "      <td>S</td>\n",
       "      <td>other</td>\n",
       "      <td>Master</td>\n",
       "    </tr>\n",
       "    <tr>\n",
       "      <th>105</th>\n",
       "      <td>0</td>\n",
       "      <td>3</td>\n",
       "      <td>Mionoff, Mr. Stoytcho</td>\n",
       "      <td>male</td>\n",
       "      <td>28.0</td>\n",
       "      <td>0</td>\n",
       "      <td>0</td>\n",
       "      <td>349207</td>\n",
       "      <td>7.8958</td>\n",
       "      <td>S</td>\n",
       "      <td>other</td>\n",
       "      <td>Mr</td>\n",
       "    </tr>\n",
       "    <tr>\n",
       "      <th>3</th>\n",
       "      <td>1</td>\n",
       "      <td>1</td>\n",
       "      <td>Futrelle, Mrs. Jacques Heath (Lily May Peel)</td>\n",
       "      <td>female</td>\n",
       "      <td>35.0</td>\n",
       "      <td>1</td>\n",
       "      <td>0</td>\n",
       "      <td>113803</td>\n",
       "      <td>53.1000</td>\n",
       "      <td>S</td>\n",
       "      <td>C</td>\n",
       "      <td>Mrs</td>\n",
       "    </tr>\n",
       "    <tr>\n",
       "      <th>455</th>\n",
       "      <td>1</td>\n",
       "      <td>3</td>\n",
       "      <td>Jalsevac, Mr. Ivan</td>\n",
       "      <td>male</td>\n",
       "      <td>29.0</td>\n",
       "      <td>0</td>\n",
       "      <td>0</td>\n",
       "      <td>349240</td>\n",
       "      <td>7.8958</td>\n",
       "      <td>C</td>\n",
       "      <td>other</td>\n",
       "      <td>Mr</td>\n",
       "    </tr>\n",
       "    <tr>\n",
       "      <th>761</th>\n",
       "      <td>0</td>\n",
       "      <td>3</td>\n",
       "      <td>Nirva, Mr. Iisakki Antino Aijo</td>\n",
       "      <td>male</td>\n",
       "      <td>41.0</td>\n",
       "      <td>0</td>\n",
       "      <td>0</td>\n",
       "      <td>SOTON/O2 3101272</td>\n",
       "      <td>7.1250</td>\n",
       "      <td>S</td>\n",
       "      <td>other</td>\n",
       "      <td>Mr</td>\n",
       "    </tr>\n",
       "    <tr>\n",
       "      <th>334</th>\n",
       "      <td>1</td>\n",
       "      <td>1</td>\n",
       "      <td>Frauenthal, Mrs. Henry William (Clara Heinshei...</td>\n",
       "      <td>female</td>\n",
       "      <td>NaN</td>\n",
       "      <td>1</td>\n",
       "      <td>0</td>\n",
       "      <td>PC 17611</td>\n",
       "      <td>133.6500</td>\n",
       "      <td>S</td>\n",
       "      <td>other</td>\n",
       "      <td>Mrs</td>\n",
       "    </tr>\n",
       "  </tbody>\n",
       "</table>\n",
       "</div>"
      ],
      "text/plain": [
       "     Survived  Pclass                                               Name   \n",
       "640         0       3                             Jensen, Mr. Hans Peder  \\\n",
       "739         0       3                                 Nankoff, Mr. Minko   \n",
       "423         0       3  Danbom, Mrs. Ernst Gilbert (Anna Sigrid Maria ...   \n",
       "124         0       1                        White, Mr. Percival Wayland   \n",
       "165         1       3    Goldsmith, Master. Frank John William \"Frankie\"   \n",
       "105         0       3                              Mionoff, Mr. Stoytcho   \n",
       "3           1       1       Futrelle, Mrs. Jacques Heath (Lily May Peel)   \n",
       "455         1       3                                 Jalsevac, Mr. Ivan   \n",
       "761         0       3                     Nirva, Mr. Iisakki Antino Aijo   \n",
       "334         1       1  Frauenthal, Mrs. Henry William (Clara Heinshei...   \n",
       "\n",
       "        Sex   Age  SibSp  Parch            Ticket      Fare Embarked   \n",
       "640    male  20.0      0      0            350050    7.8542        S  \\\n",
       "739    male   NaN      0      0            349218    7.8958        S   \n",
       "423  female  28.0      1      1            347080   14.4000        S   \n",
       "124    male  54.0      0      1             35281   77.2875        S   \n",
       "165    male   9.0      0      2            363291   20.5250        S   \n",
       "105    male  28.0      0      0            349207    7.8958        S   \n",
       "3    female  35.0      1      0            113803   53.1000        S   \n",
       "455    male  29.0      0      0            349240    7.8958        C   \n",
       "761    male  41.0      0      0  SOTON/O2 3101272    7.1250        S   \n",
       "334  female   NaN      1      0          PC 17611  133.6500        S   \n",
       "\n",
       "    cabin_processed   title  \n",
       "640           other      Mr  \n",
       "739           other      Mr  \n",
       "423           other     Mrs  \n",
       "124               D      Mr  \n",
       "165           other  Master  \n",
       "105           other      Mr  \n",
       "3                 C     Mrs  \n",
       "455           other      Mr  \n",
       "761           other      Mr  \n",
       "334           other     Mrs  "
      ]
     },
     "execution_count": 63,
     "metadata": {},
     "output_type": "execute_result"
    }
   ],
   "source": [
    "df.sample(10)"
   ]
  },
  {
   "cell_type": "markdown",
   "id": "eb4aa383",
   "metadata": {
    "lang": "en"
   },
   "source": [
    "The name could give us important information about the socioeconomic status of a passenger. And depending on their socioeconomic status, they have been able to buy a more expensive or cheaper ticket, which indicates a cabin located in one place or another on the ship. We can answer the question of whether or not someone is married or has a formal title and extract that information to generate a new variable."
   ]
  },
  {
   "cell_type": "markdown",
   "id": "57595606",
   "metadata": {
    "lang": "en"
   },
   "source": [
    "### We analyze the names of the passengers"
   ]
  },
  {
   "cell_type": "code",
   "execution_count": null,
   "id": "344ca99b",
   "metadata": {},
   "outputs": [],
   "source": [
    "import pandas as pd\n",
    "import numpy as np\n",
    "\n",
    "df = pd.read_csv(\"../datasets/titanic.csv\")\n",
    "\n",
    "\n",
    "def get_cabin (x):\n",
    "    if type(x) == float:   # nan is float\n",
    "        return \"other\"\n",
    "    else:\n",
    "        return x[0]\n",
    "    \n",
    "def get_title (x):\n",
    "    if type(x) == float:\n",
    "        return \"other\"\n",
    "    \n",
    "    return x.split(\",\")[1].split(\".\")[0].strip()\n",
    "\n",
    "\n",
    "def process_titanic_dataset (df):\n",
    "    # 1. Cabin\n",
    "    df[\"cabin_processed\"] = df[\"Cabin\"].apply(get_cabin)\n",
    "    df.drop(columns=[\"Cabin\"], inplace=True)\n",
    "    \n",
    "    # 2. Title\n",
    "    df[\"title\"] = df[\"Name\"].apply(get_title)\n",
    "    df[\"title\"] = df[\"title\"].apply(lambda x: x.replace(\"Ms\", \"Miss\").replace(\"Mlle\", \"Miss\"))\n",
    "    df[\"title\"] = df.title.replace(df.title.value_counts().index[4:], \"other\")\n",
    "    df.drop(columns=\"Name\", inplace=True)\n",
    "    \n",
    "    # \n",
    "    \n",
    "    return df\n",
    "\n"
   ]
  },
  {
   "cell_type": "markdown",
   "id": "11e29484",
   "metadata": {
    "lang": "en"
   },
   "source": [
    "### In order not to have many categories with the titles, we are going to keep those that have more than 40"
   ]
  },
  {
   "cell_type": "code",
   "execution_count": null,
   "id": "7e8ea66e",
   "metadata": {},
   "outputs": [],
   "source": []
  },
  {
   "cell_type": "markdown",
   "id": "a36315b1",
   "metadata": {
    "lang": "en"
   },
   "source": [
    "We only have the Age column with nulls... Let's fill them in, but exploring the data... are men the same age on average as women?"
   ]
  },
  {
   "cell_type": "code",
   "execution_count": null,
   "id": "c5bed349",
   "metadata": {},
   "outputs": [],
   "source": []
  },
  {
   "cell_type": "markdown",
   "id": "15d4cf22",
   "metadata": {
    "lang": "en"
   },
   "source": [
    "To adjust a little more, we are going to fill the NaN of the age with the median but based on their gender and also based on the cover."
   ]
  },
  {
   "cell_type": "code",
   "execution_count": null,
   "id": "d979dcf2",
   "metadata": {},
   "outputs": [],
   "source": []
  },
  {
   "cell_type": "markdown",
   "id": "456e1464",
   "metadata": {
    "lang": "en"
   },
   "source": [
    "## Categorical encoding\n",
    "\n",
    "With an import line in our code, new possibilities are opened in options to how to model or manipulate our dataset.\n",
    "\n",
    "Previously we discussed in the dummies post the possibility of generating with the get_dummies() function and transforming each non-numeric data into a binary representation (expanding our dataset to the amount of different data that exists in a column)."
   ]
  },
  {
   "cell_type": "code",
   "execution_count": 35,
   "id": "0b99b7f1",
   "metadata": {},
   "outputs": [
    {
     "data": {
      "text/html": [
       "<div>\n",
       "<style scoped>\n",
       "    .dataframe tbody tr th:only-of-type {\n",
       "        vertical-align: middle;\n",
       "    }\n",
       "\n",
       "    .dataframe tbody tr th {\n",
       "        vertical-align: top;\n",
       "    }\n",
       "\n",
       "    .dataframe thead th {\n",
       "        text-align: right;\n",
       "    }\n",
       "</style>\n",
       "<table border=\"1\" class=\"dataframe\">\n",
       "  <thead>\n",
       "    <tr style=\"text-align: right;\">\n",
       "      <th></th>\n",
       "      <th>survived</th>\n",
       "      <th>pclass</th>\n",
       "      <th>sex</th>\n",
       "      <th>age</th>\n",
       "      <th>sibsp</th>\n",
       "      <th>parch</th>\n",
       "      <th>fare</th>\n",
       "      <th>cabin</th>\n",
       "      <th>embarked</th>\n",
       "      <th>title</th>\n",
       "    </tr>\n",
       "  </thead>\n",
       "  <tbody>\n",
       "    <tr>\n",
       "      <th>188</th>\n",
       "      <td>0</td>\n",
       "      <td>3</td>\n",
       "      <td>0</td>\n",
       "      <td>40.0</td>\n",
       "      <td>1</td>\n",
       "      <td>1</td>\n",
       "      <td>15.5</td>\n",
       "      <td>2</td>\n",
       "      <td>Q</td>\n",
       "      <td>Mr</td>\n",
       "    </tr>\n",
       "  </tbody>\n",
       "</table>\n",
       "</div>"
      ],
      "text/plain": [
       "     survived  pclass  sex   age  sibsp  parch  fare  cabin embarked title\n",
       "188         0       3    0  40.0      1      1  15.5      2        Q    Mr"
      ]
     },
     "execution_count": 35,
     "metadata": {},
     "output_type": "execute_result"
    }
   ],
   "source": [
    "import pandas as pd\n",
    "import numpy as np\n",
    "\n",
    "df = pd.read_csv(\"../datasets/titanic.csv\")\n",
    "\n",
    "\n",
    "def get_cabin (x):\n",
    "    if type(x) == float:   # nan is float\n",
    "        return \"other\"\n",
    "    else:\n",
    "        return x[0]\n",
    "    \n",
    "def get_title (x):\n",
    "    if type(x) == float:\n",
    "        return \"other\"\n",
    "    \n",
    "    return x.split(\",\")[1].split(\".\")[0].strip()\n",
    "\n",
    "\n",
    "def process_titanic_dataset (df):\n",
    "    \n",
    "    # 0. Names of columns & drops\n",
    "    df.columns = [x.lower().strip() for x in df.columns]\n",
    "    df.drop(columns=[\"ticket\"], inplace=True)\n",
    "    \n",
    "    \n",
    "    # ------ Cleaning: group\n",
    "    \n",
    "    # 1. Cabin\n",
    "    df[\"cabin\"] = df[\"cabin\"].apply(get_cabin)\n",
    "    #df.drop(columns=[\"cabin\"], inplace=True)\n",
    "    \n",
    "    # 2. Title\n",
    "    df[\"title\"] = df[\"name\"].apply(get_title)\n",
    "    df[\"title\"] = df[\"title\"].apply(lambda x: x.replace(\"Ms\", \"Miss\").replace(\"Mlle\", \"Miss\"))\n",
    "    df[\"title\"] = df.title.replace(df.title.value_counts().index[4:], \"other\")\n",
    "    df.drop(columns=\"name\", inplace=True)\n",
    "    \n",
    "    # ------ Transforming: numbers\n",
    "    \n",
    "    # 3. Sex\n",
    "    df[\"sex\"] = df[\"sex\"].apply(lambda x: 0 if x == \"male\" else 1)\n",
    "    \n",
    "    # 4. Cabin\n",
    "    \n",
    "    new_dict = {'other': 2,  # Misc, M\n",
    "            'C': 7, \n",
    "            'E': 5, \n",
    "            'G': 3, \n",
    "            'D': 6, \n",
    "            'A': 9, \n",
    "            'B': 8, \n",
    "            'F': 4, \n",
    "            'T': 1}\n",
    "    \n",
    "    df[\"cabin\"] = df.cabin.replace(new_dict)\n",
    "    \n",
    "    return df\n",
    "\n",
    "df = process_titanic_dataset (df)\n",
    "df.sample()"
   ]
  },
  {
   "cell_type": "code",
   "execution_count": 15,
   "id": "015da45b",
   "metadata": {},
   "outputs": [
    {
     "data": {
      "text/html": [
       "<div>\n",
       "<style scoped>\n",
       "    .dataframe tbody tr th:only-of-type {\n",
       "        vertical-align: middle;\n",
       "    }\n",
       "\n",
       "    .dataframe tbody tr th {\n",
       "        vertical-align: top;\n",
       "    }\n",
       "\n",
       "    .dataframe thead th {\n",
       "        text-align: right;\n",
       "    }\n",
       "</style>\n",
       "<table border=\"1\" class=\"dataframe\">\n",
       "  <thead>\n",
       "    <tr style=\"text-align: right;\">\n",
       "      <th></th>\n",
       "      <th>survived</th>\n",
       "      <th>pclass</th>\n",
       "      <th>sex</th>\n",
       "      <th>age</th>\n",
       "      <th>sibsp</th>\n",
       "      <th>parch</th>\n",
       "      <th>fare</th>\n",
       "      <th>cabin</th>\n",
       "      <th>embarked</th>\n",
       "      <th>title</th>\n",
       "    </tr>\n",
       "  </thead>\n",
       "  <tbody>\n",
       "    <tr>\n",
       "      <th>508</th>\n",
       "      <td>0</td>\n",
       "      <td>3</td>\n",
       "      <td>0</td>\n",
       "      <td>28.0</td>\n",
       "      <td>0</td>\n",
       "      <td>0</td>\n",
       "      <td>22.525</td>\n",
       "      <td>other</td>\n",
       "      <td>S</td>\n",
       "      <td>Mr</td>\n",
       "    </tr>\n",
       "  </tbody>\n",
       "</table>\n",
       "</div>"
      ],
      "text/plain": [
       "     survived  pclass  sex   age  sibsp  parch    fare  cabin embarked title\n",
       "508         0       3    0  28.0      0      0  22.525  other        S    Mr"
      ]
     },
     "execution_count": 15,
     "metadata": {},
     "output_type": "execute_result"
    }
   ],
   "source": [
    "df.sample()"
   ]
  },
  {
   "cell_type": "code",
   "execution_count": 17,
   "id": "651821c3",
   "metadata": {},
   "outputs": [
    {
     "data": {
      "text/plain": [
       "sex\n",
       "0    577\n",
       "1    314\n",
       "Name: count, dtype: int64"
      ]
     },
     "execution_count": 17,
     "metadata": {},
     "output_type": "execute_result"
    }
   ],
   "source": [
    "df[\"sex\"].value_counts()"
   ]
  },
  {
   "cell_type": "code",
   "execution_count": 18,
   "id": "aa0e25d7",
   "metadata": {},
   "outputs": [],
   "source": [
    "df[\"sex\"] = df[\"sex\"].apply(lambda x: 0 if x == \"male\" else 1)"
   ]
  },
  {
   "cell_type": "code",
   "execution_count": 19,
   "id": "c2d08312",
   "metadata": {},
   "outputs": [
    {
     "data": {
      "text/html": [
       "<div>\n",
       "<style scoped>\n",
       "    .dataframe tbody tr th:only-of-type {\n",
       "        vertical-align: middle;\n",
       "    }\n",
       "\n",
       "    .dataframe tbody tr th {\n",
       "        vertical-align: top;\n",
       "    }\n",
       "\n",
       "    .dataframe thead th {\n",
       "        text-align: right;\n",
       "    }\n",
       "</style>\n",
       "<table border=\"1\" class=\"dataframe\">\n",
       "  <thead>\n",
       "    <tr style=\"text-align: right;\">\n",
       "      <th></th>\n",
       "      <th>survived</th>\n",
       "      <th>pclass</th>\n",
       "      <th>sex</th>\n",
       "      <th>age</th>\n",
       "      <th>sibsp</th>\n",
       "      <th>parch</th>\n",
       "      <th>fare</th>\n",
       "      <th>cabin</th>\n",
       "      <th>embarked</th>\n",
       "      <th>title</th>\n",
       "    </tr>\n",
       "  </thead>\n",
       "  <tbody>\n",
       "    <tr>\n",
       "      <th>884</th>\n",
       "      <td>0</td>\n",
       "      <td>3</td>\n",
       "      <td>1</td>\n",
       "      <td>25.0</td>\n",
       "      <td>0</td>\n",
       "      <td>0</td>\n",
       "      <td>7.05</td>\n",
       "      <td>other</td>\n",
       "      <td>S</td>\n",
       "      <td>Mr</td>\n",
       "    </tr>\n",
       "  </tbody>\n",
       "</table>\n",
       "</div>"
      ],
      "text/plain": [
       "     survived  pclass  sex   age  sibsp  parch  fare  cabin embarked title\n",
       "884         0       3    1  25.0      0      0  7.05  other        S    Mr"
      ]
     },
     "execution_count": 19,
     "metadata": {},
     "output_type": "execute_result"
    }
   ],
   "source": [
    "df.sample()"
   ]
  },
  {
   "cell_type": "code",
   "execution_count": null,
   "id": "74106b09",
   "metadata": {},
   "outputs": [],
   "source": [
    "# cabin: A (highest one), B, C...\n",
    "# embarked: France, UK, Ireland\n",
    "# title: Mr, Miss, Mrs, "
   ]
  },
  {
   "cell_type": "code",
   "execution_count": 20,
   "id": "06a6077f",
   "metadata": {},
   "outputs": [
    {
     "data": {
      "text/plain": [
       "cabin\n",
       "other    687\n",
       "C         59\n",
       "B         47\n",
       "D         33\n",
       "E         32\n",
       "A         15\n",
       "F         13\n",
       "G          4\n",
       "T          1\n",
       "Name: count, dtype: int64"
      ]
     },
     "execution_count": 20,
     "metadata": {},
     "output_type": "execute_result"
    }
   ],
   "source": [
    "df[\"cabin\"].value_counts() # A > B > C > "
   ]
  },
  {
   "cell_type": "code",
   "execution_count": null,
   "id": "bb5ca7cf",
   "metadata": {},
   "outputs": [],
   "source": [
    "pd.get_dummies(df)"
   ]
  },
  {
   "cell_type": "markdown",
   "id": "1ed54885",
   "metadata": {
    "lang": "en"
   },
   "source": [
    "### Label Encoder: same column\n",
    "Pros and cons\n",
    "- If we have categories that have value in themselves, such as \"good, bad, regular\" the ideal would be not to let LabelEncoder do it automatically but to apply it manually, since the value we put can influence the weight that the algorithm gives those variables."
   ]
  },
  {
   "cell_type": "code",
   "execution_count": 23,
   "id": "8f01208f",
   "metadata": {},
   "outputs": [],
   "source": [
    "from sklearn.preprocessing import LabelEncoder"
   ]
  },
  {
   "cell_type": "code",
   "execution_count": null,
   "id": "f5720f5b",
   "metadata": {},
   "outputs": [],
   "source": [
    "# assing a label to each level of the variable within the same column"
   ]
  },
  {
   "cell_type": "code",
   "execution_count": 24,
   "id": "76bea11c",
   "metadata": {},
   "outputs": [],
   "source": [
    "le = LabelEncoder()"
   ]
  },
  {
   "cell_type": "code",
   "execution_count": 25,
   "id": "f74ac963",
   "metadata": {},
   "outputs": [],
   "source": [
    "df[\"transformed_cabin_with_encoder\"] = le.fit_transform(df[\"cabin\"])"
   ]
  },
  {
   "cell_type": "code",
   "execution_count": 36,
   "id": "a17fc5f0",
   "metadata": {},
   "outputs": [],
   "source": [
    "new_dict = {'other': 2,  # Misc, M\n",
    "            'C': 7, \n",
    "            'E': 5, \n",
    "            'G': 3, \n",
    "            'D': 6, \n",
    "            'A': 9, \n",
    "            'B': 8, \n",
    "            'F': 4, \n",
    "            'T': 1}"
   ]
  },
  {
   "cell_type": "code",
   "execution_count": 31,
   "id": "95d99f07",
   "metadata": {},
   "outputs": [
    {
     "data": {
      "text/html": [
       "<div>\n",
       "<style scoped>\n",
       "    .dataframe tbody tr th:only-of-type {\n",
       "        vertical-align: middle;\n",
       "    }\n",
       "\n",
       "    .dataframe tbody tr th {\n",
       "        vertical-align: top;\n",
       "    }\n",
       "\n",
       "    .dataframe thead th {\n",
       "        text-align: right;\n",
       "    }\n",
       "</style>\n",
       "<table border=\"1\" class=\"dataframe\">\n",
       "  <thead>\n",
       "    <tr style=\"text-align: right;\">\n",
       "      <th></th>\n",
       "      <th>survived</th>\n",
       "      <th>pclass</th>\n",
       "      <th>sex</th>\n",
       "      <th>age</th>\n",
       "      <th>sibsp</th>\n",
       "      <th>parch</th>\n",
       "      <th>fare</th>\n",
       "      <th>cabin</th>\n",
       "      <th>embarked</th>\n",
       "      <th>title</th>\n",
       "      <th>transformed_cabin_with_encoder</th>\n",
       "    </tr>\n",
       "  </thead>\n",
       "  <tbody>\n",
       "    <tr>\n",
       "      <th>333</th>\n",
       "      <td>0</td>\n",
       "      <td>3</td>\n",
       "      <td>1</td>\n",
       "      <td>16.0</td>\n",
       "      <td>2</td>\n",
       "      <td>0</td>\n",
       "      <td>18.0</td>\n",
       "      <td>other</td>\n",
       "      <td>S</td>\n",
       "      <td>Mr</td>\n",
       "      <td>8</td>\n",
       "    </tr>\n",
       "  </tbody>\n",
       "</table>\n",
       "</div>"
      ],
      "text/plain": [
       "     survived  pclass  sex   age  sibsp  parch  fare  cabin embarked title   \n",
       "333         0       3    1  16.0      2      0  18.0  other        S    Mr  \\\n",
       "\n",
       "     transformed_cabin_with_encoder  \n",
       "333                               8  "
      ]
     },
     "execution_count": 31,
     "metadata": {},
     "output_type": "execute_result"
    }
   ],
   "source": [
    "df.sample()"
   ]
  },
  {
   "cell_type": "code",
   "execution_count": 32,
   "id": "693905a4",
   "metadata": {},
   "outputs": [],
   "source": [
    "df[\"cabin\"] = df.cabin.replace(new_dict)"
   ]
  },
  {
   "cell_type": "code",
   "execution_count": 33,
   "id": "982c41fb",
   "metadata": {},
   "outputs": [
    {
     "data": {
      "text/html": [
       "<div>\n",
       "<style scoped>\n",
       "    .dataframe tbody tr th:only-of-type {\n",
       "        vertical-align: middle;\n",
       "    }\n",
       "\n",
       "    .dataframe tbody tr th {\n",
       "        vertical-align: top;\n",
       "    }\n",
       "\n",
       "    .dataframe thead th {\n",
       "        text-align: right;\n",
       "    }\n",
       "</style>\n",
       "<table border=\"1\" class=\"dataframe\">\n",
       "  <thead>\n",
       "    <tr style=\"text-align: right;\">\n",
       "      <th></th>\n",
       "      <th>survived</th>\n",
       "      <th>pclass</th>\n",
       "      <th>sex</th>\n",
       "      <th>age</th>\n",
       "      <th>sibsp</th>\n",
       "      <th>parch</th>\n",
       "      <th>fare</th>\n",
       "      <th>cabin</th>\n",
       "      <th>embarked</th>\n",
       "      <th>title</th>\n",
       "      <th>transformed_cabin_with_encoder</th>\n",
       "    </tr>\n",
       "  </thead>\n",
       "  <tbody>\n",
       "    <tr>\n",
       "      <th>490</th>\n",
       "      <td>0</td>\n",
       "      <td>3</td>\n",
       "      <td>1</td>\n",
       "      <td>NaN</td>\n",
       "      <td>1</td>\n",
       "      <td>0</td>\n",
       "      <td>19.9667</td>\n",
       "      <td>2</td>\n",
       "      <td>S</td>\n",
       "      <td>Mr</td>\n",
       "      <td>8</td>\n",
       "    </tr>\n",
       "  </tbody>\n",
       "</table>\n",
       "</div>"
      ],
      "text/plain": [
       "     survived  pclass  sex  age  sibsp  parch     fare  cabin embarked title   \n",
       "490         0       3    1  NaN      1      0  19.9667      2        S    Mr  \\\n",
       "\n",
       "     transformed_cabin_with_encoder  \n",
       "490                               8  "
      ]
     },
     "execution_count": 33,
     "metadata": {},
     "output_type": "execute_result"
    }
   ],
   "source": [
    "df.sample()"
   ]
  },
  {
   "cell_type": "code",
   "execution_count": 28,
   "id": "f152abc4",
   "metadata": {},
   "outputs": [
    {
     "data": {
      "text/html": [
       "<div>\n",
       "<style scoped>\n",
       "    .dataframe tbody tr th:only-of-type {\n",
       "        vertical-align: middle;\n",
       "    }\n",
       "\n",
       "    .dataframe tbody tr th {\n",
       "        vertical-align: top;\n",
       "    }\n",
       "\n",
       "    .dataframe thead th {\n",
       "        text-align: right;\n",
       "    }\n",
       "</style>\n",
       "<table border=\"1\" class=\"dataframe\">\n",
       "  <thead>\n",
       "    <tr style=\"text-align: right;\">\n",
       "      <th></th>\n",
       "      <th>cabin</th>\n",
       "      <th>transformed_cabin_with_encoder</th>\n",
       "    </tr>\n",
       "  </thead>\n",
       "  <tbody>\n",
       "    <tr>\n",
       "      <th>15</th>\n",
       "      <td>other</td>\n",
       "      <td>8</td>\n",
       "    </tr>\n",
       "    <tr>\n",
       "      <th>797</th>\n",
       "      <td>other</td>\n",
       "      <td>8</td>\n",
       "    </tr>\n",
       "    <tr>\n",
       "      <th>617</th>\n",
       "      <td>other</td>\n",
       "      <td>8</td>\n",
       "    </tr>\n",
       "    <tr>\n",
       "      <th>796</th>\n",
       "      <td>D</td>\n",
       "      <td>3</td>\n",
       "    </tr>\n",
       "    <tr>\n",
       "      <th>262</th>\n",
       "      <td>E</td>\n",
       "      <td>4</td>\n",
       "    </tr>\n",
       "    <tr>\n",
       "      <th>153</th>\n",
       "      <td>other</td>\n",
       "      <td>8</td>\n",
       "    </tr>\n",
       "    <tr>\n",
       "      <th>540</th>\n",
       "      <td>B</td>\n",
       "      <td>1</td>\n",
       "    </tr>\n",
       "    <tr>\n",
       "      <th>489</th>\n",
       "      <td>other</td>\n",
       "      <td>8</td>\n",
       "    </tr>\n",
       "    <tr>\n",
       "      <th>336</th>\n",
       "      <td>C</td>\n",
       "      <td>2</td>\n",
       "    </tr>\n",
       "    <tr>\n",
       "      <th>195</th>\n",
       "      <td>B</td>\n",
       "      <td>1</td>\n",
       "    </tr>\n",
       "    <tr>\n",
       "      <th>193</th>\n",
       "      <td>F</td>\n",
       "      <td>5</td>\n",
       "    </tr>\n",
       "    <tr>\n",
       "      <th>294</th>\n",
       "      <td>other</td>\n",
       "      <td>8</td>\n",
       "    </tr>\n",
       "    <tr>\n",
       "      <th>243</th>\n",
       "      <td>other</td>\n",
       "      <td>8</td>\n",
       "    </tr>\n",
       "    <tr>\n",
       "      <th>551</th>\n",
       "      <td>other</td>\n",
       "      <td>8</td>\n",
       "    </tr>\n",
       "    <tr>\n",
       "      <th>667</th>\n",
       "      <td>other</td>\n",
       "      <td>8</td>\n",
       "    </tr>\n",
       "    <tr>\n",
       "      <th>735</th>\n",
       "      <td>other</td>\n",
       "      <td>8</td>\n",
       "    </tr>\n",
       "    <tr>\n",
       "      <th>481</th>\n",
       "      <td>other</td>\n",
       "      <td>8</td>\n",
       "    </tr>\n",
       "    <tr>\n",
       "      <th>151</th>\n",
       "      <td>C</td>\n",
       "      <td>2</td>\n",
       "    </tr>\n",
       "    <tr>\n",
       "      <th>196</th>\n",
       "      <td>other</td>\n",
       "      <td>8</td>\n",
       "    </tr>\n",
       "    <tr>\n",
       "      <th>572</th>\n",
       "      <td>E</td>\n",
       "      <td>4</td>\n",
       "    </tr>\n",
       "  </tbody>\n",
       "</table>\n",
       "</div>"
      ],
      "text/plain": [
       "     cabin  transformed_cabin_with_encoder\n",
       "15   other                               8\n",
       "797  other                               8\n",
       "617  other                               8\n",
       "796      D                               3\n",
       "262      E                               4\n",
       "153  other                               8\n",
       "540      B                               1\n",
       "489  other                               8\n",
       "336      C                               2\n",
       "195      B                               1\n",
       "193      F                               5\n",
       "294  other                               8\n",
       "243  other                               8\n",
       "551  other                               8\n",
       "667  other                               8\n",
       "735  other                               8\n",
       "481  other                               8\n",
       "151      C                               2\n",
       "196  other                               8\n",
       "572      E                               4"
      ]
     },
     "execution_count": 28,
     "metadata": {},
     "output_type": "execute_result"
    }
   ],
   "source": [
    "df[[\"cabin\", \"transformed_cabin_with_encoder\"]].sample(20) \n",
    "# A: 0\n",
    "# B: 1\n",
    "# C: 2\n",
    "# ...\n",
    "# LabelEncoder"
   ]
  },
  {
   "cell_type": "code",
   "execution_count": 57,
   "id": "672fba62",
   "metadata": {},
   "outputs": [
    {
     "data": {
      "text/html": [
       "<div>\n",
       "<style scoped>\n",
       "    .dataframe tbody tr th:only-of-type {\n",
       "        vertical-align: middle;\n",
       "    }\n",
       "\n",
       "    .dataframe tbody tr th {\n",
       "        vertical-align: top;\n",
       "    }\n",
       "\n",
       "    .dataframe thead th {\n",
       "        text-align: right;\n",
       "    }\n",
       "</style>\n",
       "<table border=\"1\" class=\"dataframe\">\n",
       "  <thead>\n",
       "    <tr style=\"text-align: right;\">\n",
       "      <th></th>\n",
       "      <th>survived</th>\n",
       "      <th>pclass</th>\n",
       "      <th>age</th>\n",
       "      <th>sibsp</th>\n",
       "      <th>parch</th>\n",
       "      <th>fare</th>\n",
       "      <th>cabin</th>\n",
       "      <th>men</th>\n",
       "      <th>women</th>\n",
       "      <th>Q</th>\n",
       "      <th>C</th>\n",
       "      <th>S</th>\n",
       "      <th>Mr</th>\n",
       "      <th>Miss</th>\n",
       "      <th>Mrs</th>\n",
       "      <th>Master</th>\n",
       "      <th>other</th>\n",
       "    </tr>\n",
       "  </thead>\n",
       "  <tbody>\n",
       "    <tr>\n",
       "      <th>202</th>\n",
       "      <td>0</td>\n",
       "      <td>3</td>\n",
       "      <td>34.0</td>\n",
       "      <td>0</td>\n",
       "      <td>0</td>\n",
       "      <td>6.4958</td>\n",
       "      <td>2</td>\n",
       "      <td>0.0</td>\n",
       "      <td>1.0</td>\n",
       "      <td>0.0</td>\n",
       "      <td>0.0</td>\n",
       "      <td>1.0</td>\n",
       "      <td>0.0</td>\n",
       "      <td>0.0</td>\n",
       "      <td>1.0</td>\n",
       "      <td>0.0</td>\n",
       "      <td>0.0</td>\n",
       "    </tr>\n",
       "    <tr>\n",
       "      <th>422</th>\n",
       "      <td>0</td>\n",
       "      <td>3</td>\n",
       "      <td>29.0</td>\n",
       "      <td>0</td>\n",
       "      <td>0</td>\n",
       "      <td>7.8750</td>\n",
       "      <td>2</td>\n",
       "      <td>0.0</td>\n",
       "      <td>1.0</td>\n",
       "      <td>0.0</td>\n",
       "      <td>0.0</td>\n",
       "      <td>1.0</td>\n",
       "      <td>0.0</td>\n",
       "      <td>0.0</td>\n",
       "      <td>1.0</td>\n",
       "      <td>0.0</td>\n",
       "      <td>0.0</td>\n",
       "    </tr>\n",
       "    <tr>\n",
       "      <th>253</th>\n",
       "      <td>0</td>\n",
       "      <td>3</td>\n",
       "      <td>30.0</td>\n",
       "      <td>1</td>\n",
       "      <td>0</td>\n",
       "      <td>16.1000</td>\n",
       "      <td>2</td>\n",
       "      <td>0.0</td>\n",
       "      <td>1.0</td>\n",
       "      <td>0.0</td>\n",
       "      <td>0.0</td>\n",
       "      <td>1.0</td>\n",
       "      <td>0.0</td>\n",
       "      <td>0.0</td>\n",
       "      <td>1.0</td>\n",
       "      <td>0.0</td>\n",
       "      <td>0.0</td>\n",
       "    </tr>\n",
       "    <tr>\n",
       "      <th>295</th>\n",
       "      <td>0</td>\n",
       "      <td>1</td>\n",
       "      <td>NaN</td>\n",
       "      <td>0</td>\n",
       "      <td>0</td>\n",
       "      <td>27.7208</td>\n",
       "      <td>2</td>\n",
       "      <td>0.0</td>\n",
       "      <td>1.0</td>\n",
       "      <td>1.0</td>\n",
       "      <td>0.0</td>\n",
       "      <td>0.0</td>\n",
       "      <td>0.0</td>\n",
       "      <td>0.0</td>\n",
       "      <td>1.0</td>\n",
       "      <td>0.0</td>\n",
       "      <td>0.0</td>\n",
       "    </tr>\n",
       "    <tr>\n",
       "      <th>551</th>\n",
       "      <td>0</td>\n",
       "      <td>2</td>\n",
       "      <td>27.0</td>\n",
       "      <td>0</td>\n",
       "      <td>0</td>\n",
       "      <td>26.0000</td>\n",
       "      <td>2</td>\n",
       "      <td>0.0</td>\n",
       "      <td>1.0</td>\n",
       "      <td>0.0</td>\n",
       "      <td>0.0</td>\n",
       "      <td>1.0</td>\n",
       "      <td>0.0</td>\n",
       "      <td>0.0</td>\n",
       "      <td>1.0</td>\n",
       "      <td>0.0</td>\n",
       "      <td>0.0</td>\n",
       "    </tr>\n",
       "  </tbody>\n",
       "</table>\n",
       "</div>"
      ],
      "text/plain": [
       "     survived  pclass   age  sibsp  parch     fare  cabin  men  women    Q   \n",
       "202         0       3  34.0      0      0   6.4958      2  0.0    1.0  0.0  \\\n",
       "422         0       3  29.0      0      0   7.8750      2  0.0    1.0  0.0   \n",
       "253         0       3  30.0      1      0  16.1000      2  0.0    1.0  0.0   \n",
       "295         0       1   NaN      0      0  27.7208      2  0.0    1.0  1.0   \n",
       "551         0       2  27.0      0      0  26.0000      2  0.0    1.0  0.0   \n",
       "\n",
       "       C    S   Mr  Miss  Mrs  Master  other  \n",
       "202  0.0  1.0  0.0   0.0  1.0     0.0    0.0  \n",
       "422  0.0  1.0  0.0   0.0  1.0     0.0    0.0  \n",
       "253  0.0  1.0  0.0   0.0  1.0     0.0    0.0  \n",
       "295  0.0  0.0  0.0   0.0  1.0     0.0    0.0  \n",
       "551  0.0  1.0  0.0   0.0  1.0     0.0    0.0  "
      ]
     },
     "execution_count": 57,
     "metadata": {},
     "output_type": "execute_result"
    }
   ],
   "source": [
    "import pandas as pd\n",
    "import numpy as np\n",
    "\n",
    "df = pd.read_csv(\"../datasets/titanic.csv\")\n",
    "\n",
    "\n",
    "def get_cabin (x):\n",
    "    if type(x) == float:   # nan is float\n",
    "        return \"other\"\n",
    "    else:\n",
    "        return x[0]\n",
    "    \n",
    "def get_title (x):\n",
    "    if type(x) == float:\n",
    "        return \"other\"\n",
    "    \n",
    "    return x.split(\",\")[1].split(\".\")[0].strip()\n",
    "\n",
    "\n",
    "def process_titanic_dataset (df):\n",
    "    \n",
    "    # 0. Names of columns & drops\n",
    "    df.columns = [x.lower().strip() for x in df.columns]\n",
    "    df.drop(columns=[\"ticket\"], inplace=True)\n",
    "    df.dropna(subset=[\"embarked\"], inplace=True)\n",
    "    \n",
    "    \n",
    "    # ------ Cleaning: group\n",
    "    \n",
    "    # 1. Cabin\n",
    "    df[\"cabin\"] = df[\"cabin\"].apply(get_cabin)\n",
    "    #df.drop(columns=[\"cabin\"], inplace=True)\n",
    "    \n",
    "    # 2. Title\n",
    "    df[\"title\"] = df[\"name\"].apply(get_title)\n",
    "    df[\"title\"] = df[\"title\"].apply(lambda x: x.replace(\"Ms\", \"Miss\").replace(\"Mlle\", \"Miss\"))\n",
    "    df[\"title\"] = df.title.replace(df.title.value_counts().index[4:], \"other\")\n",
    "    df.drop(columns=\"name\", inplace=True)\n",
    "    \n",
    "    # ------ Transforming: numbers\n",
    "    \n",
    "    # 3. Sex\n",
    "    df[[\"men\", \"women\"]] = oneonehotencoder.fit_transform(df[\"sex\"].values.reshape(-1, 1)).toarray()\n",
    "    df.drop(columns=\"sex\", inplace=True)\n",
    "    \n",
    "    \n",
    "    # 4. Cabin\n",
    "    new_dict = {'other': 2,  # Misc, M\n",
    "            'C': 7, \n",
    "            'E': 5, \n",
    "            'G': 3, \n",
    "            'D': 6, \n",
    "            'A': 9, \n",
    "            'B': 8, \n",
    "            'F': 4, \n",
    "            'T': 1}\n",
    "    \n",
    "    df[\"cabin\"] = df.cabin.replace(new_dict)\n",
    "    \n",
    "    # 5. Embarked\n",
    "    df[[\"Q\", \"C\", \"S\"]] = oneonehotencoder.fit_transform(df[\"embarked\"].values.reshape(-1, 1)).toarray()\n",
    "    df.drop(columns = [\"embarked\"], inplace=True)\n",
    "    \n",
    "    # 6. Title\n",
    "    df[[\"Mr\", \"Miss\", \"Mrs\", \"Master\", \"other\"]] = oneonehotencoder.fit_transform(df[\"title\"].values.reshape(-1, 1)).toarray()\n",
    "    df.drop(columns=\"title\", inplace=True)\n",
    "    \n",
    "    \n",
    "    return df\n",
    "\n",
    "df = process_titanic_dataset (df)\n",
    "df.sample(5)"
   ]
  },
  {
   "cell_type": "markdown",
   "id": "scheduled-serial",
   "metadata": {},
   "source": [
    "### One Hot Encoder: get dummies (many columns)"
   ]
  },
  {
   "cell_type": "markdown",
   "id": "c7fa7b29",
   "metadata": {
    "lang": "en"
   },
   "source": [
    "Now, as we have already mentioned, depending on the data we have, we could find situations in which, after encoding the labels, we could confuse our model by making it believe that a column has data with some kind of order or hierarchy, when clearly we don't have it. To avoid this, we \"OneHotEncode\" that column.\n",
    "What a hot encoding does is it takes a column that has categorical data, which has been encoded with labels, and then splits the column into multiple columns. The numbers are replaced by 1s and 0s, depending on which column has which value."
   ]
  },
  {
   "cell_type": "code",
   "execution_count": null,
   "id": "1c57efc6",
   "metadata": {},
   "outputs": [],
   "source": [
    "# either, or\n",
    "# embarked: Q, C, S\n",
    "    # Q, C, S\n",
    "    # 0, 0, 1\n",
    "    # 1, 0 , 0"
   ]
  },
  {
   "cell_type": "code",
   "execution_count": 38,
   "id": "75cfddb6",
   "metadata": {},
   "outputs": [],
   "source": [
    "oneonehotencoder = preprocessing.OneHotEncoder()"
   ]
  },
  {
   "cell_type": "code",
   "execution_count": null,
   "id": "4bcac5c3",
   "metadata": {},
   "outputs": [],
   "source": [
    "# LabelEncoder\n",
    "    # 0, 1\n",
    "    # 1, 2, 3, 4, 5, 6, 7, 8, 9\n",
    "    # The model can assume a progression (just like with the cabin)"
   ]
  },
  {
   "cell_type": "code",
   "execution_count": 45,
   "id": "871df1dc",
   "metadata": {},
   "outputs": [
    {
     "data": {
      "text/plain": [
       "survived      0\n",
       "pclass        0\n",
       "sex           0\n",
       "age         177\n",
       "sibsp         0\n",
       "parch         0\n",
       "fare          0\n",
       "cabin         0\n",
       "embarked      2\n",
       "title         0\n",
       "men           0\n",
       "women         0\n",
       "dtype: int64"
      ]
     },
     "execution_count": 45,
     "metadata": {},
     "output_type": "execute_result"
    }
   ],
   "source": [
    "df.isna().sum()"
   ]
  },
  {
   "cell_type": "code",
   "execution_count": 46,
   "id": "a771f714",
   "metadata": {},
   "outputs": [],
   "source": [
    "df.dropna(subset=[\"embarked\"], inplace=True)"
   ]
  },
  {
   "cell_type": "code",
   "execution_count": 42,
   "id": "88cf5217",
   "metadata": {},
   "outputs": [
    {
     "data": {
      "text/plain": [
       "embarked\n",
       "S    644\n",
       "C    168\n",
       "Q     77\n",
       "Name: count, dtype: int64"
      ]
     },
     "execution_count": 42,
     "metadata": {},
     "output_type": "execute_result"
    }
   ],
   "source": [
    "df[\"embarked\"].value_counts()"
   ]
  },
  {
   "cell_type": "code",
   "execution_count": 48,
   "id": "65545d37",
   "metadata": {},
   "outputs": [],
   "source": [
    "#df[[\"Q\", \"C\", \"S\"]] = oneonehotencoder.fit_transform(df[\"embarked\"])"
   ]
  },
  {
   "cell_type": "code",
   "execution_count": null,
   "id": "1a0aaa4d",
   "metadata": {},
   "outputs": [],
   "source": [
    "df[]"
   ]
  },
  {
   "cell_type": "code",
   "execution_count": null,
   "id": "29d8c474",
   "metadata": {},
   "outputs": [],
   "source": [
    "df[[\"men\", \"women\"]] = oneonehotencoder.fit_transform(df[\"sex\"].values.reshape(-1, 1)).toarray()"
   ]
  },
  {
   "cell_type": "markdown",
   "id": "49865bb6",
   "metadata": {},
   "source": [
    "label encoder: 0, 1, 2, 3, 4, 5, 6\n",
    "one hot encoder or get dummies: 0, 1, 0, 0 , 0 for each -> one column\n",
    "hierachy: A > B > C > D"
   ]
  },
  {
   "cell_type": "code",
   "execution_count": 54,
   "id": "5a2a6d76",
   "metadata": {},
   "outputs": [
    {
     "data": {
      "text/plain": [
       "title\n",
       "Mr        517\n",
       "Miss      184\n",
       "Mrs       124\n",
       "Master     40\n",
       "other      24\n",
       "Name: count, dtype: int64"
      ]
     },
     "execution_count": 54,
     "metadata": {},
     "output_type": "execute_result"
    }
   ],
   "source": [
    "df[\"title\"].value_counts()"
   ]
  },
  {
   "cell_type": "code",
   "execution_count": 55,
   "id": "c3d39877",
   "metadata": {},
   "outputs": [],
   "source": [
    "df[[\"Mr\", \"Miss\", \"Mrs\", \"Master\", \"other\"]] = oneonehotencoder.fit_transform(df[\"title\"].values.reshape(-1, 1)).toarray()"
   ]
  },
  {
   "cell_type": "markdown",
   "id": "43ce680b",
   "metadata": {
    "lang": "en"
   },
   "source": [
    "### By hand with a dictionary 💡\n",
    "We can give a numerical value to each category and decide its importance"
   ]
  },
  {
   "cell_type": "code",
   "execution_count": null,
   "id": "90e21565",
   "metadata": {},
   "outputs": [],
   "source": []
  },
  {
   "cell_type": "code",
   "execution_count": 72,
   "id": "d8f9a0b9",
   "metadata": {
    "scrolled": false
   },
   "outputs": [
    {
     "data": {
      "image/png": "[encoded data removed]",
      "text/plain": [
       "<Figure size 1008x432 with 2 Axes>"
      ]
     },
     "metadata": {
      "needs_background": "light"
     },
     "output_type": "display_data"
    }
   ],
   "source": [
    "import pandas as pd\n",
    "import numpy as np\n",
    "import seaborn as sns\n",
    "import matplotlib.pyplot as plt\n",
    "\n",
    "df = pd.read_csv(\"../datasets/titanic.csv\")\n",
    "\n",
    "\n",
    "def get_cabin (x):\n",
    "    if type(x) == float:   # nan is float\n",
    "        return \"other\"\n",
    "    else:\n",
    "        return x[0]\n",
    "    \n",
    "def get_title (x):\n",
    "    if type(x) == float:\n",
    "        return \"other\"\n",
    "    \n",
    "    return x.split(\",\")[1].split(\".\")[0].strip()\n",
    "\n",
    "\n",
    "def process_titanic_dataset (df):\n",
    "    \n",
    "    # 0. Names of columns & drops\n",
    "    df.columns = [x.lower().strip() for x in df.columns]\n",
    "    df.drop(columns=[\"ticket\"], inplace=True)\n",
    "    df.dropna(subset=[\"embarked\"], inplace=True)\n",
    "    \n",
    "    \n",
    "    # ------ Cleaning: group\n",
    "    \n",
    "    # 1. Cabin\n",
    "    df[\"cabin\"] = df[\"cabin\"].apply(get_cabin)\n",
    "    #df.drop(columns=[\"cabin\"], inplace=True)\n",
    "    \n",
    "    # 2. Title\n",
    "    df[\"title\"] = df[\"name\"].apply(get_title)\n",
    "    df[\"title\"] = df[\"title\"].apply(lambda x: x.replace(\"Ms\", \"Miss\").replace(\"Mlle\", \"Miss\"))\n",
    "    df[\"title\"] = df.title.replace(df.title.value_counts().index[4:], \"other\")\n",
    "    df.drop(columns=\"name\", inplace=True)\n",
    "    \n",
    "    # ------ Transforming: cateogrical into numbers\n",
    "    \n",
    "    # 3. Sex\n",
    "    df[[\"men\", \"women\"]] = oneonehotencoder.fit_transform(df[\"sex\"].values.reshape(-1, 1)).toarray()\n",
    "    df.drop(columns=\"sex\", inplace=True)\n",
    "    \n",
    "    \n",
    "    # 4. Cabin\n",
    "    new_dict = {'other': 2,  # Misc, M\n",
    "            'C': 7, \n",
    "            'E': 5, \n",
    "            'G': 3, \n",
    "            'D': 6, \n",
    "            'A': 9, \n",
    "            'B': 8, \n",
    "            'F': 4, \n",
    "            'T': 1}\n",
    "    \n",
    "    df[\"cabin\"] = df.cabin.replace(new_dict)\n",
    "    \n",
    "    # 5. Embarked\n",
    "    df[[\"Q\", \"C\", \"S\"]] = oneonehotencoder.fit_transform(df[\"embarked\"].values.reshape(-1, 1)).toarray()\n",
    "    df.drop(columns = [\"embarked\"], inplace=True)\n",
    "    \n",
    "    # 6. Title\n",
    "    df[[\"Mr\", \"Miss\", \"Mrs\", \"Master\", \"other\"]] = oneonehotencoder.fit_transform(df[\"title\"].values.reshape(-1, 1)).toarray()\n",
    "    df.drop(columns=\"title\", inplace=True)\n",
    "    \n",
    "    \n",
    "    # ------ Transforming: numericals into numericals: but scaling\n",
    "    \n",
    "    # 7. Age\n",
    "    \n",
    "    # 8. Fare\n",
    "\n",
    "    \n",
    "    return df\n",
    "\n",
    "df = process_titanic_dataset (df)\n",
    "\n",
    "def heatmap_titanic ():\n",
    "    plt.figure(figsize=(14, 6))\n",
    "    mask = np.triu(np.ones_like(df.corr()), k=0)\n",
    "    sns.heatmap(df.corr(), annot=True, cmap='crest', linewidths=0.5, mask=mask)\n",
    "    plt.title(\"Correlation Website variables\")\n",
    "    \n",
    "heatmap_titanic()\n"
   ]
  },
  {
   "cell_type": "code",
   "execution_count": 71,
   "id": "f457eb93",
   "metadata": {
    "scrolled": false
   },
   "outputs": [
    {
     "data": {
      "image/png": "[encoded data removed]",
      "text/plain": [
       "<Figure size 1008x432 with 2 Axes>"
      ]
     },
     "metadata": {
      "needs_background": "light"
     },
     "output_type": "display_data"
    }
   ],
   "source": [
    "import seaborn as sns\n",
    "import matplotlib.pyplot as plt\n",
    "\n",
    "def heatmap_titanic ():\n",
    "    plt.figure(figsize=(14, 6))\n",
    "    mask = np.triu(np.ones_like(df.corr()), k=0)\n",
    "    sns.heatmap(df.corr(), annot=True, cmap='crest', linewidths=0.5, mask=mask)\n",
    "    plt.title(\"Correlation Website variables\")\n",
    "    \n",
    "heatmap_titanic()"
   ]
  },
  {
   "cell_type": "code",
   "execution_count": 77,
   "id": "83379e00",
   "metadata": {},
   "outputs": [
    {
     "data": {
      "text/html": [
       "<div>\n",
       "<style scoped>\n",
       "    .dataframe tbody tr th:only-of-type {\n",
       "        vertical-align: middle;\n",
       "    }\n",
       "\n",
       "    .dataframe tbody tr th {\n",
       "        vertical-align: top;\n",
       "    }\n",
       "\n",
       "    .dataframe thead th {\n",
       "        text-align: right;\n",
       "    }\n",
       "</style>\n",
       "<table border=\"1\" class=\"dataframe\">\n",
       "  <thead>\n",
       "    <tr style=\"text-align: right;\">\n",
       "      <th></th>\n",
       "      <th>survived</th>\n",
       "      <th>pclass</th>\n",
       "      <th>age</th>\n",
       "      <th>sibsp</th>\n",
       "      <th>parch</th>\n",
       "      <th>fare</th>\n",
       "      <th>cabin</th>\n",
       "      <th>men</th>\n",
       "      <th>women</th>\n",
       "      <th>Q</th>\n",
       "      <th>C</th>\n",
       "      <th>S</th>\n",
       "      <th>Mr</th>\n",
       "      <th>Miss</th>\n",
       "      <th>Mrs</th>\n",
       "      <th>Master</th>\n",
       "      <th>other</th>\n",
       "    </tr>\n",
       "  </thead>\n",
       "  <tbody>\n",
       "    <tr>\n",
       "      <th>127</th>\n",
       "      <td>1</td>\n",
       "      <td>3</td>\n",
       "      <td>24.0</td>\n",
       "      <td>0</td>\n",
       "      <td>0</td>\n",
       "      <td>7.1417</td>\n",
       "      <td>2</td>\n",
       "      <td>0.0</td>\n",
       "      <td>1.0</td>\n",
       "      <td>0.0</td>\n",
       "      <td>0.0</td>\n",
       "      <td>1.0</td>\n",
       "      <td>0.0</td>\n",
       "      <td>0.0</td>\n",
       "      <td>1.0</td>\n",
       "      <td>0.0</td>\n",
       "      <td>0.0</td>\n",
       "    </tr>\n",
       "  </tbody>\n",
       "</table>\n",
       "</div>"
      ],
      "text/plain": [
       "     survived  pclass   age  sibsp  parch    fare  cabin  men  women    Q   \n",
       "127         1       3  24.0      0      0  7.1417      2  0.0    1.0  0.0  \\\n",
       "\n",
       "       C    S   Mr  Miss  Mrs  Master  other  \n",
       "127  0.0  1.0  0.0   0.0  1.0     0.0    0.0  "
      ]
     },
     "execution_count": 77,
     "metadata": {},
     "output_type": "execute_result"
    }
   ],
   "source": [
    "df.sample()"
   ]
  },
  {
   "cell_type": "code",
   "execution_count": null,
   "id": "e06ae32f",
   "metadata": {},
   "outputs": [],
   "source": [
    "# categorical\n",
    "# numerical variables?"
   ]
  },
  {
   "cell_type": "code",
   "execution_count": 79,
   "id": "3efea2ea",
   "metadata": {},
   "outputs": [
    {
     "data": {
      "image/png": "[encoded data removed]",
      "text/plain": [
       "<Figure size 432x288 with 1 Axes>"
      ]
     },
     "metadata": {
      "needs_background": "light"
     },
     "output_type": "display_data"
    }
   ],
   "source": [
    "sns.histplot(x=df.age);"
   ]
  },
  {
   "cell_type": "code",
   "execution_count": 80,
   "id": "4a7ae599",
   "metadata": {},
   "outputs": [
    {
     "data": {
      "image/png": "[encoded data removed]",
      "text/plain": [
       "<Figure size 432x288 with 1 Axes>"
      ]
     },
     "metadata": {
      "needs_background": "light"
     },
     "output_type": "display_data"
    }
   ],
   "source": [
    "sns.histplot(x=df.fare); # we'll change the scale of fare, but not the distribution"
   ]
  },
  {
   "cell_type": "code",
   "execution_count": 76,
   "id": "abd9a584",
   "metadata": {},
   "outputs": [
    {
     "data": {
      "image/png": "[encoded data removed]",
      "text/plain": [
       "<Figure size 432x288 with 1 Axes>"
      ]
     },
     "metadata": {
      "needs_background": "light"
     },
     "output_type": "display_data"
    }
   ],
   "source": [
    "sns.boxplot(y=df.age, x=df.pclass);\n",
    "\n",
    "\"\"\"\n",
    "More older people in higher class\n",
    "The higher the age, the \"higher class (1)\", negative correlation?\n",
    "\"\"\""
   ]
  },
  {
   "cell_type": "markdown",
   "id": "cathedral-mattress",
   "metadata": {},
   "source": [
    "## Feature Scaling"
   ]
  },
  {
   "cell_type": "markdown",
   "id": "98a10db0",
   "metadata": {
    "lang": "en"
   },
   "source": [
    "Some algorithms, especially those based on distance calculations, will give more weight to features that show large changes in value, interpreting these features as artificially more important. For these algorithms, it is important that we scale our features, or that we scale features with naturally different scales, so that the features are used by the algorithm without artificial overweighting, and allow two features with different scales to be compared.\n",
    "\n",
    "Algorithms that do not require normalization/scaling are rule-based. They would not be affected by any monotonic transformation of the variables. Scaling is a monotonic transformation.\n",
    "Examples of algorithms in this category are all tree-based algorithms:\n",
    "- CART\n",
    "-Random Forests\n",
    "-Gradient Boosted Decision Trees\n",
    "These algorithms use rules (series of inequalities) and do not require normalization.\n",
    "\n",
    "There are two different types of feature scaling that we are going to explore:"
   ]
  },
  {
   "cell_type": "markdown",
   "id": "260cd15c",
   "metadata": {
    "lang": "en"
   },
   "source": [
    "Still, I leave you literature:\n",
    "    - https://towardsdatascience.com/all-about-feature-scaling-bcc0ad75cb35"
   ]
  },
  {
   "cell_type": "markdown",
   "id": "b2118fec",
   "metadata": {
    "lang": "en"
   },
   "source": [
    "### Standardization - StandardScaler()\n",
    "\n",
    "`mean of 0 and a standard deviation of 1`\n",
    "\n",
    "In standardization, we impose several statistical properties on the variable: the mean value is set to 0, and the standard deviation is set to 1. This is achieved by subtracting the mean from each feature value and dividing by the standard deviation. This is also sometimes called \"z-score normalization.\"\n",
    "\n",
    "So what does this mean, in practice, about standardized data? As we can see below, we now have the distributions of both variables centered around the zero mean, with a standard deviation of 1. Since we are enforcing this standard deviation, normalization reduces the effects of outliers on the feature. In addition, it allows comparing two characteristics with different scales or units. The different scales of the characteristics would be statistically reflected in differences in both the mean and the standard deviation. Standardizing these two numbers between features removes the influence of these scale differences.\n",
    "\n",
    "Standardization is especially important in situations where we use algorithms that assume features in our data are distributed along a 'bell curve' or Gaussian distribution, such as linear and logistic regression."
   ]
  },
  {
   "cell_type": "code",
   "execution_count": 4,
   "id": "98a9d0f9",
   "metadata": {},
   "outputs": [
    {
     "name": "stdout",
     "output_type": "stream",
     "text": [
      "Original Data:\n",
      " [[1. 2.]\n",
      " [2. 3.]\n",
      " [3. 4.]]\n",
      "\n",
      "Standardized Data:\n",
      " [[-1.22474487 -1.22474487]\n",
      " [ 0.          0.        ]\n",
      " [ 1.22474487  1.22474487]]\n"
     ]
    }
   ],
   "source": [
    "from sklearn.preprocessing import StandardScaler\n",
    "import numpy as np\n",
    "\n",
    "# Sample data\n",
    "data = np.array([[1.0, 2.0],\n",
    "                 [2.0, 3.0],\n",
    "                 [3.0, 4.0]])\n",
    "\n",
    "# Create a StandardScaler object\n",
    "scaler = StandardScaler()\n",
    "\n",
    "# Fit the scaler to the data and transform the data\n",
    "data_standardized = scaler.fit_transform(data)\n",
    "\n",
    "print(\"Original Data:\\n\", data)\n",
    "print(\"\\nStandardized Data:\\n\", data_standardized)\n"
   ]
  },
  {
   "cell_type": "code",
   "execution_count": 81,
   "id": "b7d505d2",
   "metadata": {
    "lang": "en"
   },
   "outputs": [],
   "source": [
    "from sklearn.preprocessing import StandardScaler"
   ]
  },
  {
   "cell_type": "code",
   "execution_count": 82,
   "id": "23408169",
   "metadata": {},
   "outputs": [],
   "source": [
    "scaler = StandardScaler()"
   ]
  },
  {
   "cell_type": "code",
   "execution_count": 83,
   "id": "c853651b",
   "metadata": {},
   "outputs": [
    {
     "data": {
      "image/png": "[encoded data removed]",
      "text/plain": [
       "<Figure size 432x288 with 1 Axes>"
      ]
     },
     "metadata": {
      "needs_background": "light"
     },
     "output_type": "display_data"
    }
   ],
   "source": [
    "sns.histplot(df.fare);"
   ]
  },
  {
   "cell_type": "code",
   "execution_count": 86,
   "id": "383a5ac9",
   "metadata": {},
   "outputs": [],
   "source": [
    "df[\"fare_scaled\"] = scaler.fit_transform(df[\"fare\"].values.reshape(-1, 1))\n",
    "# Reshape your data either using array.reshape(-1, 1)"
   ]
  },
  {
   "cell_type": "code",
   "execution_count": 89,
   "id": "230bec3a",
   "metadata": {},
   "outputs": [
    {
     "data": {
      "text/plain": [
       "32.09668087739032"
      ]
     },
     "execution_count": 89,
     "metadata": {},
     "output_type": "execute_result"
    }
   ],
   "source": [
    "df[\"fare\"].mean() # ~0"
   ]
  },
  {
   "cell_type": "code",
   "execution_count": 92,
   "id": "5b30b0f2",
   "metadata": {},
   "outputs": [
    {
     "data": {
      "text/plain": [
       "49.697504316707956"
      ]
     },
     "execution_count": 92,
     "metadata": {},
     "output_type": "execute_result"
    }
   ],
   "source": [
    "df[\"fare\"].std() # ~1"
   ]
  },
  {
   "cell_type": "code",
   "execution_count": 88,
   "id": "7cbdd6e5",
   "metadata": {},
   "outputs": [
    {
     "data": {
      "text/plain": [
       "1.3987061727561027e-16"
      ]
     },
     "execution_count": 88,
     "metadata": {},
     "output_type": "execute_result"
    }
   ],
   "source": [
    "df[\"fare_scaled\"].mean() # ~0"
   ]
  },
  {
   "cell_type": "code",
   "execution_count": 91,
   "id": "dbce66ed",
   "metadata": {},
   "outputs": [
    {
     "data": {
      "text/plain": [
       "1.0005629046322506"
      ]
     },
     "execution_count": 91,
     "metadata": {},
     "output_type": "execute_result"
    }
   ],
   "source": [
    "df[\"fare_scaled\"].std() # ~1"
   ]
  },
  {
   "cell_type": "code",
   "execution_count": 87,
   "id": "97977464",
   "metadata": {},
   "outputs": [
    {
     "data": {
      "image/png": "[encoded data removed]",
      "text/plain": [
       "<Figure size 432x288 with 1 Axes>"
      ]
     },
     "metadata": {
      "needs_background": "light"
     },
     "output_type": "display_data"
    }
   ],
   "source": [
    "sns.histplot(df[\"fare_scaled\"]); \n",
    "# distribution is the same, the range of the value changed"
   ]
  },
  {
   "cell_type": "markdown",
   "id": "5739ed12",
   "metadata": {
    "lang": "en"
   },
   "source": [
    "### Normalization (min-max scaler)\n",
    "\n",
    "` range [0, 1]`\n",
    "\n",
    "In the other form of feature scaling, called normalization, the feature is rescaled to a range between 0 and 1, without any change to its original distribution within that range. Mathematically, this is achieved by subtracting the minimum feature value from each feature value, and dividing by the difference between the largest value and the smallest value.\n",
    "\n",
    "Since we compute the normalized value using the maximum and minimum values ​​of the feature, this technique is sometimes called \"min-max normalization.\"\n",
    "Normalization is most useful in cases where your data has few outliers but highly variable ranges, you don't know how your data is distributed, or you know that it is not distributed on a bell (Gaussian) curve. It is generally applied with algorithms that make no assumptions about the distributions of the features."
   ]
  },
  {
   "cell_type": "code",
   "execution_count": 93,
   "id": "14ff6386",
   "metadata": {},
   "outputs": [
    {
     "name": "stdout",
     "output_type": "stream",
     "text": [
      "Original Data:\n",
      " [[1. 2.]\n",
      " [2. 3.]\n",
      " [3. 4.]]\n",
      "\n",
      "Normalized Data:\n",
      " [[0.  0. ]\n",
      " [0.5 0.5]\n",
      " [1.  1. ]]\n"
     ]
    }
   ],
   "source": [
    "from sklearn.preprocessing import MinMaxScaler\n",
    "import numpy as np\n",
    "\n",
    "# Sample data\n",
    "data = np.array([[1.0, 2.0],\n",
    "                 [2.0, 3.0],\n",
    "                 [3.0, 4.0]])\n",
    "\n",
    "# Create a MinMaxScaler object\n",
    "scaler = MinMaxScaler()\n",
    "\n",
    "# Fit the scaler to the data and transform the data\n",
    "data_normalized = scaler.fit_transform(data)\n",
    "\n",
    "print(\"Original Data:\\n\", data)\n",
    "print(\"\\nNormalized Data:\\n\", data_normalized)"
   ]
  },
  {
   "cell_type": "code",
   "execution_count": null,
   "id": "771e3195",
   "metadata": {},
   "outputs": [],
   "source": [
    "# standarization: normality is assumed\n",
    "# normalization: when it is not assumed"
   ]
  },
  {
   "cell_type": "code",
   "execution_count": null,
   "id": "3b3e222a",
   "metadata": {},
   "outputs": [],
   "source": [
    "# This one we would normalize"
   ]
  },
  {
   "attachments": {
    "image-2.png": {
     "image/png": "[encoded data removed]"
    }
   },
   "cell_type": "markdown",
   "id": "98f0df03",
   "metadata": {},
   "source": [
    "![image-2.png](attachment:image-2.png)"
   ]
  },
  {
   "cell_type": "code",
   "execution_count": null,
   "id": "4e9d4ee8",
   "metadata": {},
   "outputs": [],
   "source": [
    "# this one we wouldnt have to"
   ]
  },
  {
   "attachments": {
    "image.png": {
     "image/png": "[encoded data removed]"
    }
   },
   "cell_type": "markdown",
   "id": "4dfeaedf",
   "metadata": {},
   "source": [
    "![image.png](attachment:image.png)"
   ]
  },
  {
   "cell_type": "code",
   "execution_count": null,
   "id": "ideal-questionnaire",
   "metadata": {},
   "outputs": [],
   "source": [
    "from sklearn.preprocessing import MinMaxScaler"
   ]
  },
  {
   "cell_type": "code",
   "execution_count": 96,
   "id": "433d4689",
   "metadata": {},
   "outputs": [],
   "source": [
    "min_max_scaler = MinMaxScaler()"
   ]
  },
  {
   "cell_type": "code",
   "execution_count": 97,
   "id": "bc7e22de",
   "metadata": {},
   "outputs": [],
   "source": [
    "df[\"age_scaled\"] = min_max_scaler.fit_transform(df[\"age\"].values.reshape(-1, 1))\n",
    "# Reshape your data either using array.reshape(-1, 1)"
   ]
  },
  {
   "cell_type": "code",
   "execution_count": 100,
   "id": "a9c6b0a5",
   "metadata": {},
   "outputs": [
    {
     "data": {
      "image/png": "[encoded data removed]",
      "text/plain": [
       "<Figure size 432x288 with 1 Axes>"
      ]
     },
     "metadata": {
      "needs_background": "light"
     },
     "output_type": "display_data"
    }
   ],
   "source": [
    "sns.histplot(df[\"age\"]);"
   ]
  },
  {
   "cell_type": "code",
   "execution_count": 101,
   "id": "693b00f8",
   "metadata": {},
   "outputs": [
    {
     "data": {
      "image/png": "[encoded data removed]",
      "text/plain": [
       "<Figure size 432x288 with 1 Axes>"
      ]
     },
     "metadata": {
      "needs_background": "light"
     },
     "output_type": "display_data"
    }
   ],
   "source": [
    "sns.histplot(df[\"age_scaled\"]);"
   ]
  },
  {
   "cell_type": "code",
   "execution_count": 102,
   "id": "03a316b5",
   "metadata": {},
   "outputs": [
    {
     "data": {
      "text/html": [
       "<div>\n",
       "<style scoped>\n",
       "    .dataframe tbody tr th:only-of-type {\n",
       "        vertical-align: middle;\n",
       "    }\n",
       "\n",
       "    .dataframe tbody tr th {\n",
       "        vertical-align: top;\n",
       "    }\n",
       "\n",
       "    .dataframe thead th {\n",
       "        text-align: right;\n",
       "    }\n",
       "</style>\n",
       "<table border=\"1\" class=\"dataframe\">\n",
       "  <thead>\n",
       "    <tr style=\"text-align: right;\">\n",
       "      <th></th>\n",
       "      <th>survived</th>\n",
       "      <th>pclass</th>\n",
       "      <th>age</th>\n",
       "      <th>sibsp</th>\n",
       "      <th>parch</th>\n",
       "      <th>fare</th>\n",
       "      <th>cabin</th>\n",
       "      <th>men</th>\n",
       "      <th>women</th>\n",
       "      <th>Q</th>\n",
       "      <th>C</th>\n",
       "      <th>S</th>\n",
       "      <th>Mr</th>\n",
       "      <th>Miss</th>\n",
       "      <th>Mrs</th>\n",
       "      <th>Master</th>\n",
       "      <th>other</th>\n",
       "      <th>fare_scaled</th>\n",
       "      <th>age_scaled</th>\n",
       "    </tr>\n",
       "  </thead>\n",
       "  <tbody>\n",
       "    <tr>\n",
       "      <th>187</th>\n",
       "      <td>1</td>\n",
       "      <td>1</td>\n",
       "      <td>45.0</td>\n",
       "      <td>0</td>\n",
       "      <td>0</td>\n",
       "      <td>26.55</td>\n",
       "      <td>2</td>\n",
       "      <td>0.0</td>\n",
       "      <td>1.0</td>\n",
       "      <td>0.0</td>\n",
       "      <td>0.0</td>\n",
       "      <td>1.0</td>\n",
       "      <td>0.0</td>\n",
       "      <td>0.0</td>\n",
       "      <td>1.0</td>\n",
       "      <td>0.0</td>\n",
       "      <td>0.0</td>\n",
       "      <td>-0.111672</td>\n",
       "      <td>0.560191</td>\n",
       "    </tr>\n",
       "  </tbody>\n",
       "</table>\n",
       "</div>"
      ],
      "text/plain": [
       "     survived  pclass   age  sibsp  parch   fare  cabin  men  women    Q    C   \n",
       "187         1       1  45.0      0      0  26.55      2  0.0    1.0  0.0  0.0  \\\n",
       "\n",
       "       S   Mr  Miss  Mrs  Master  other  fare_scaled  age_scaled  \n",
       "187  1.0  0.0   0.0  1.0     0.0    0.0    -0.111672    0.560191  "
      ]
     },
     "execution_count": 102,
     "metadata": {},
     "output_type": "execute_result"
    }
   ],
   "source": [
    "df.sample()"
   ]
  },
  {
   "attachments": {
    "Screenshot%202023-11-24%20at%2013.46.32.png": {
     "image/png": "[encoded data removed]"
    }
   },
   "cell_type": "markdown",
   "id": "55a13355",
   "metadata": {},
   "source": [
    "![Screenshot%202023-11-24%20at%2013.46.32.png](attachment:Screenshot%202023-11-24%20at%2013.46.32.png)"
   ]
  },
  {
   "cell_type": "code",
   "execution_count": 120,
   "id": "dbcb0682",
   "metadata": {},
   "outputs": [],
   "source": []
  },
  {
   "cell_type": "code",
   "execution_count": 121,
   "id": "4c78d8da",
   "metadata": {},
   "outputs": [],
   "source": [
    "#df.groupby([\"pclass\", \"sex\", \"title\"]).agg({\"age\":\"mean\"})[\"age\"]"
   ]
  },
  {
   "cell_type": "code",
   "execution_count": 122,
   "id": "edbde345",
   "metadata": {},
   "outputs": [
    {
     "data": {
      "text/html": [
       "<div>\n",
       "<style scoped>\n",
       "    .dataframe tbody tr th:only-of-type {\n",
       "        vertical-align: middle;\n",
       "    }\n",
       "\n",
       "    .dataframe tbody tr th {\n",
       "        vertical-align: top;\n",
       "    }\n",
       "\n",
       "    .dataframe thead th {\n",
       "        text-align: right;\n",
       "    }\n",
       "</style>\n",
       "<table border=\"1\" class=\"dataframe\">\n",
       "  <thead>\n",
       "    <tr style=\"text-align: right;\">\n",
       "      <th></th>\n",
       "      <th>survived</th>\n",
       "      <th>pclass</th>\n",
       "      <th>age</th>\n",
       "      <th>sibsp</th>\n",
       "      <th>parch</th>\n",
       "      <th>fare</th>\n",
       "      <th>cabin</th>\n",
       "      <th>men</th>\n",
       "      <th>women</th>\n",
       "      <th>Q</th>\n",
       "      <th>C</th>\n",
       "      <th>S</th>\n",
       "      <th>Mr</th>\n",
       "      <th>Miss</th>\n",
       "      <th>Mrs</th>\n",
       "      <th>Master</th>\n",
       "      <th>other</th>\n",
       "    </tr>\n",
       "  </thead>\n",
       "  <tbody>\n",
       "    <tr>\n",
       "      <th>0</th>\n",
       "      <td>0</td>\n",
       "      <td>3</td>\n",
       "      <td>22.0</td>\n",
       "      <td>1</td>\n",
       "      <td>0</td>\n",
       "      <td>7.2500</td>\n",
       "      <td>2</td>\n",
       "      <td>0.0</td>\n",
       "      <td>1.0</td>\n",
       "      <td>0.0</td>\n",
       "      <td>0.0</td>\n",
       "      <td>1.0</td>\n",
       "      <td>0.0</td>\n",
       "      <td>0.0</td>\n",
       "      <td>1.0</td>\n",
       "      <td>0.0</td>\n",
       "      <td>0.0</td>\n",
       "    </tr>\n",
       "    <tr>\n",
       "      <th>1</th>\n",
       "      <td>1</td>\n",
       "      <td>1</td>\n",
       "      <td>38.0</td>\n",
       "      <td>1</td>\n",
       "      <td>0</td>\n",
       "      <td>71.2833</td>\n",
       "      <td>7</td>\n",
       "      <td>1.0</td>\n",
       "      <td>0.0</td>\n",
       "      <td>1.0</td>\n",
       "      <td>0.0</td>\n",
       "      <td>0.0</td>\n",
       "      <td>0.0</td>\n",
       "      <td>0.0</td>\n",
       "      <td>0.0</td>\n",
       "      <td>1.0</td>\n",
       "      <td>0.0</td>\n",
       "    </tr>\n",
       "    <tr>\n",
       "      <th>2</th>\n",
       "      <td>1</td>\n",
       "      <td>3</td>\n",
       "      <td>26.0</td>\n",
       "      <td>0</td>\n",
       "      <td>0</td>\n",
       "      <td>7.9250</td>\n",
       "      <td>2</td>\n",
       "      <td>1.0</td>\n",
       "      <td>0.0</td>\n",
       "      <td>0.0</td>\n",
       "      <td>0.0</td>\n",
       "      <td>1.0</td>\n",
       "      <td>0.0</td>\n",
       "      <td>1.0</td>\n",
       "      <td>0.0</td>\n",
       "      <td>0.0</td>\n",
       "      <td>0.0</td>\n",
       "    </tr>\n",
       "    <tr>\n",
       "      <th>3</th>\n",
       "      <td>1</td>\n",
       "      <td>1</td>\n",
       "      <td>35.0</td>\n",
       "      <td>1</td>\n",
       "      <td>0</td>\n",
       "      <td>53.1000</td>\n",
       "      <td>7</td>\n",
       "      <td>1.0</td>\n",
       "      <td>0.0</td>\n",
       "      <td>0.0</td>\n",
       "      <td>0.0</td>\n",
       "      <td>1.0</td>\n",
       "      <td>0.0</td>\n",
       "      <td>0.0</td>\n",
       "      <td>0.0</td>\n",
       "      <td>1.0</td>\n",
       "      <td>0.0</td>\n",
       "    </tr>\n",
       "    <tr>\n",
       "      <th>4</th>\n",
       "      <td>0</td>\n",
       "      <td>3</td>\n",
       "      <td>35.0</td>\n",
       "      <td>0</td>\n",
       "      <td>0</td>\n",
       "      <td>8.0500</td>\n",
       "      <td>2</td>\n",
       "      <td>0.0</td>\n",
       "      <td>1.0</td>\n",
       "      <td>0.0</td>\n",
       "      <td>0.0</td>\n",
       "      <td>1.0</td>\n",
       "      <td>0.0</td>\n",
       "      <td>0.0</td>\n",
       "      <td>1.0</td>\n",
       "      <td>0.0</td>\n",
       "      <td>0.0</td>\n",
       "    </tr>\n",
       "    <tr>\n",
       "      <th>...</th>\n",
       "      <td>...</td>\n",
       "      <td>...</td>\n",
       "      <td>...</td>\n",
       "      <td>...</td>\n",
       "      <td>...</td>\n",
       "      <td>...</td>\n",
       "      <td>...</td>\n",
       "      <td>...</td>\n",
       "      <td>...</td>\n",
       "      <td>...</td>\n",
       "      <td>...</td>\n",
       "      <td>...</td>\n",
       "      <td>...</td>\n",
       "      <td>...</td>\n",
       "      <td>...</td>\n",
       "      <td>...</td>\n",
       "      <td>...</td>\n",
       "    </tr>\n",
       "    <tr>\n",
       "      <th>885</th>\n",
       "      <td>0</td>\n",
       "      <td>3</td>\n",
       "      <td>39.0</td>\n",
       "      <td>0</td>\n",
       "      <td>5</td>\n",
       "      <td>29.1250</td>\n",
       "      <td>2</td>\n",
       "      <td>1.0</td>\n",
       "      <td>0.0</td>\n",
       "      <td>0.0</td>\n",
       "      <td>1.0</td>\n",
       "      <td>0.0</td>\n",
       "      <td>0.0</td>\n",
       "      <td>0.0</td>\n",
       "      <td>0.0</td>\n",
       "      <td>1.0</td>\n",
       "      <td>0.0</td>\n",
       "    </tr>\n",
       "    <tr>\n",
       "      <th>886</th>\n",
       "      <td>0</td>\n",
       "      <td>2</td>\n",
       "      <td>27.0</td>\n",
       "      <td>0</td>\n",
       "      <td>0</td>\n",
       "      <td>13.0000</td>\n",
       "      <td>2</td>\n",
       "      <td>0.0</td>\n",
       "      <td>1.0</td>\n",
       "      <td>0.0</td>\n",
       "      <td>0.0</td>\n",
       "      <td>1.0</td>\n",
       "      <td>0.0</td>\n",
       "      <td>0.0</td>\n",
       "      <td>0.0</td>\n",
       "      <td>0.0</td>\n",
       "      <td>1.0</td>\n",
       "    </tr>\n",
       "    <tr>\n",
       "      <th>887</th>\n",
       "      <td>1</td>\n",
       "      <td>1</td>\n",
       "      <td>19.0</td>\n",
       "      <td>0</td>\n",
       "      <td>0</td>\n",
       "      <td>30.0000</td>\n",
       "      <td>8</td>\n",
       "      <td>1.0</td>\n",
       "      <td>0.0</td>\n",
       "      <td>0.0</td>\n",
       "      <td>0.0</td>\n",
       "      <td>1.0</td>\n",
       "      <td>0.0</td>\n",
       "      <td>1.0</td>\n",
       "      <td>0.0</td>\n",
       "      <td>0.0</td>\n",
       "      <td>0.0</td>\n",
       "    </tr>\n",
       "    <tr>\n",
       "      <th>889</th>\n",
       "      <td>1</td>\n",
       "      <td>1</td>\n",
       "      <td>26.0</td>\n",
       "      <td>0</td>\n",
       "      <td>0</td>\n",
       "      <td>30.0000</td>\n",
       "      <td>7</td>\n",
       "      <td>0.0</td>\n",
       "      <td>1.0</td>\n",
       "      <td>1.0</td>\n",
       "      <td>0.0</td>\n",
       "      <td>0.0</td>\n",
       "      <td>0.0</td>\n",
       "      <td>0.0</td>\n",
       "      <td>1.0</td>\n",
       "      <td>0.0</td>\n",
       "      <td>0.0</td>\n",
       "    </tr>\n",
       "    <tr>\n",
       "      <th>890</th>\n",
       "      <td>0</td>\n",
       "      <td>3</td>\n",
       "      <td>32.0</td>\n",
       "      <td>0</td>\n",
       "      <td>0</td>\n",
       "      <td>7.7500</td>\n",
       "      <td>2</td>\n",
       "      <td>0.0</td>\n",
       "      <td>1.0</td>\n",
       "      <td>0.0</td>\n",
       "      <td>1.0</td>\n",
       "      <td>0.0</td>\n",
       "      <td>0.0</td>\n",
       "      <td>0.0</td>\n",
       "      <td>1.0</td>\n",
       "      <td>0.0</td>\n",
       "      <td>0.0</td>\n",
       "    </tr>\n",
       "  </tbody>\n",
       "</table>\n",
       "<p>712 rows × 17 columns</p>\n",
       "</div>"
      ],
      "text/plain": [
       "     survived  pclass   age  sibsp  parch     fare  cabin  men  women    Q   \n",
       "0           0       3  22.0      1      0   7.2500      2  0.0    1.0  0.0  \\\n",
       "1           1       1  38.0      1      0  71.2833      7  1.0    0.0  1.0   \n",
       "2           1       3  26.0      0      0   7.9250      2  1.0    0.0  0.0   \n",
       "3           1       1  35.0      1      0  53.1000      7  1.0    0.0  0.0   \n",
       "4           0       3  35.0      0      0   8.0500      2  0.0    1.0  0.0   \n",
       "..        ...     ...   ...    ...    ...      ...    ...  ...    ...  ...   \n",
       "885         0       3  39.0      0      5  29.1250      2  1.0    0.0  0.0   \n",
       "886         0       2  27.0      0      0  13.0000      2  0.0    1.0  0.0   \n",
       "887         1       1  19.0      0      0  30.0000      8  1.0    0.0  0.0   \n",
       "889         1       1  26.0      0      0  30.0000      7  0.0    1.0  1.0   \n",
       "890         0       3  32.0      0      0   7.7500      2  0.0    1.0  0.0   \n",
       "\n",
       "       C    S   Mr  Miss  Mrs  Master  other  \n",
       "0    0.0  1.0  0.0   0.0  1.0     0.0    0.0  \n",
       "1    0.0  0.0  0.0   0.0  0.0     1.0    0.0  \n",
       "2    0.0  1.0  0.0   1.0  0.0     0.0    0.0  \n",
       "3    0.0  1.0  0.0   0.0  0.0     1.0    0.0  \n",
       "4    0.0  1.0  0.0   0.0  1.0     0.0    0.0  \n",
       "..   ...  ...  ...   ...  ...     ...    ...  \n",
       "885  1.0  0.0  0.0   0.0  0.0     1.0    0.0  \n",
       "886  0.0  1.0  0.0   0.0  0.0     0.0    1.0  \n",
       "887  0.0  1.0  0.0   1.0  0.0     0.0    0.0  \n",
       "889  0.0  0.0  0.0   0.0  1.0     0.0    0.0  \n",
       "890  1.0  0.0  0.0   0.0  1.0     0.0    0.0  \n",
       "\n",
       "[712 rows x 17 columns]"
      ]
     },
     "execution_count": 122,
     "metadata": {},
     "output_type": "execute_result"
    }
   ],
   "source": [
    "import pandas as pd\n",
    "import numpy as np\n",
    "import seaborn as sns\n",
    "import matplotlib.pyplot as plt\n",
    "\n",
    "df = pd.read_csv(\"../datasets/titanic.csv\")\n",
    "\n",
    "\n",
    "def get_cabin (x):\n",
    "    if type(x) == float:   # nan is float\n",
    "        return \"other\"\n",
    "    else:\n",
    "        return x[0]\n",
    "    \n",
    "def get_title (x):\n",
    "    if type(x) == float:\n",
    "        return \"other\"\n",
    "    \n",
    "    return x.split(\",\")[1].split(\".\")[0].strip()\n",
    "\n",
    "\n",
    "def process_titanic_dataset (df):\n",
    "    \n",
    "    # 0. Names of columns & drops\n",
    "    df.columns = [x.lower().strip() for x in df.columns]\n",
    "    df.drop(columns=[\"ticket\"], inplace=True)\n",
    "    df.dropna(subset=[\"embarked\"], inplace=True)\n",
    "    \n",
    "    \n",
    "    # ------ Cleaning: group\n",
    "    \n",
    "    # 1. Cabin\n",
    "    df[\"cabin\"] = df[\"cabin\"].apply(get_cabin)\n",
    "    #df.drop(columns=[\"cabin\"], inplace=True)\n",
    "    \n",
    "    # 2. Title\n",
    "    df[\"title\"] = df[\"name\"].apply(get_title)\n",
    "    df[\"title\"] = df[\"title\"].apply(lambda x: x.replace(\"Ms\", \"Miss\").replace(\"Mlle\", \"Miss\"))\n",
    "    df[\"title\"] = df.title.replace(df.title.value_counts().index[4:], \"other\")\n",
    "    df.drop(columns=\"name\", inplace=True)\n",
    "    \n",
    "    # ------ Transforming: cateogrical into numbers\n",
    "    \n",
    "    # 3. Sex\n",
    "    df[[\"men\", \"women\"]] = oneonehotencoder.fit_transform(df[\"sex\"].values.reshape(-1, 1)).toarray()\n",
    "    df.drop(columns=\"sex\", inplace=True)\n",
    "    \n",
    "    \n",
    "    # 4. Cabin\n",
    "    new_dict = {'other': 2,  # Misc, M\n",
    "            'C': 7, \n",
    "            'E': 5, \n",
    "            'G': 3, \n",
    "            'D': 6, \n",
    "            'A': 9, \n",
    "            'B': 8, \n",
    "            'F': 4, \n",
    "            'T': 1}\n",
    "    \n",
    "    df[\"cabin\"] = df.cabin.replace(new_dict)\n",
    "    \n",
    "    # 5. Embarked\n",
    "    df[[\"Q\", \"C\", \"S\"]] = oneonehotencoder.fit_transform(df[\"embarked\"].values.reshape(-1, 1)).toarray()\n",
    "    df.drop(columns = [\"embarked\"], inplace=True)\n",
    "    \n",
    "    # 6. Title\n",
    "    df[[\"Mr\", \"Miss\", \"Mrs\", \"Master\", \"other\"]] = oneonehotencoder.fit_transform(df[\"title\"].values.reshape(-1, 1)).toarray()\n",
    "    df.drop(columns=\"title\", inplace=True)\n",
    "    \n",
    "    \n",
    "    # ------ Transforming: numericals into numericals: but scaling\n",
    "    \n",
    "    # 7. Age\n",
    "    df.dropna(subset=[\"age\"],inplace=True) # :(\n",
    "\n",
    "    #df[\"age_scaled\"] = min_max_scaler.fit_transform(df[\"age\"].values.reshape(-1, 1))\n",
    "    #df.drop(columns=\"age\", inplace=True)\n",
    "    \n",
    "    # 8. Fare\n",
    "    #df[\"fare_scaled\"] = scaler.fit_transform(df[\"fare\"].values.reshape(-1, 1))\n",
    "    #df.drop(columns=\"fare\", inplace=True)\n",
    "    \n",
    "    \n",
    "    return df\n",
    "\n",
    "df = process_titanic_dataset (df)\n",
    "\n",
    "def heatmap_titanic ():\n",
    "    plt.figure(figsize=(14, 6))\n",
    "    mask = np.triu(np.ones_like(df.corr()), k=0)\n",
    "    sns.heatmap(df.corr(), annot=True, cmap='crest', linewidths=0.5, mask=mask)\n",
    "    plt.title(\"Correlation Website variables\")\n",
    "    \n",
    "#heatmap_titanic()\n",
    "df\n",
    "\n",
    "# 1. Model: fit\n",
    "# 2. Predict\n",
    "    # if predict\n",
    "       # row:  keep the original mean & dev (and max/min)\n",
    "        # pass original data: we don't transform the numerical variables\n",
    "        # if we do: keep in mind, that data needs transformed before predicting\n",
    "        \n",
    "        \n",
    "        # 30  -> 0.271174 ?"
   ]
  },
  {
   "cell_type": "markdown",
   "id": "cfa74cd3",
   "metadata": {},
   "source": [
    "CATEGORICAL\n",
    "    Encoding: \n",
    "        - OneHotEncoder / get_dummies\n",
    "        - LabelEncoder \n",
    "        - Dictionaries \n",
    "        \n",
    "NUMERICAL\n",
    "    - Standarize: \n",
    "        mean = 0, std = 1\n",
    "    - Normalize: \n",
    "        range 0-1"
   ]
  },
  {
   "cell_type": "markdown",
   "id": "2b771a96",
   "metadata": {
    "lang": "en"
   },
   "source": [
    "### I quote Andriy Burkov:\n",
    "You may be wondering when normalization should be used and when standardization. There is no definitive answer to this question. Usually, if your dataset isn't too big and you have time, you can try both and see which one suits your task better.\n",
    "If you don't have time to run multiple experiments, as a general rule:\n",
    "\n",
    "- Unsupervised learning algorithms, in practice, benefit more from standardization than normalization.\n",
    "- Standardization is also preferable for a characteristic if the values ​​it takes are distributed close to a normal distribution (the so-called bell curve).\n",
    "- Again, normalization is preferable for a feature if it can sometimes have extremely high or low values ​​(outliers); this is because the normalization will \"squeeze\" the normal values ​​into a very small range.\n",
    "- In all other cases, normalization is preferable.\n",
    "\n",
    "Feature rescaling is usually beneficial for most learning algorithms. However, modern implementations of learning algorithms, which can be found in popular libraries, are robust to features found in different ranges."
   ]
  },
  {
   "cell_type": "markdown",
   "id": "c1c8cec2",
   "metadata": {},
   "source": [
    "QUANTITAITVE\n",
    "    - Standardize\n",
    "    - Normalize\n"
   ]
  },
  {
   "cell_type": "code",
   "execution_count": null,
   "id": "2200b2d4",
   "metadata": {},
   "outputs": [],
   "source": []
  },
  {
   "cell_type": "markdown",
   "id": "784f876b",
   "metadata": {
    "lang": "en"
   },
   "source": [
    "## Let's review: Train-Test Split"
   ]
  },
  {
   "cell_type": "code",
   "execution_count": 106,
   "id": "467dcac5",
   "metadata": {},
   "outputs": [
    {
     "data": {
      "text/html": [
       "<div>\n",
       "<style scoped>\n",
       "    .dataframe tbody tr th:only-of-type {\n",
       "        vertical-align: middle;\n",
       "    }\n",
       "\n",
       "    .dataframe tbody tr th {\n",
       "        vertical-align: top;\n",
       "    }\n",
       "\n",
       "    .dataframe thead th {\n",
       "        text-align: right;\n",
       "    }\n",
       "</style>\n",
       "<table border=\"1\" class=\"dataframe\">\n",
       "  <thead>\n",
       "    <tr style=\"text-align: right;\">\n",
       "      <th></th>\n",
       "      <th>survived</th>\n",
       "      <th>pclass</th>\n",
       "      <th>age</th>\n",
       "      <th>sibsp</th>\n",
       "      <th>parch</th>\n",
       "      <th>fare</th>\n",
       "      <th>cabin</th>\n",
       "      <th>men</th>\n",
       "      <th>women</th>\n",
       "      <th>Q</th>\n",
       "      <th>C</th>\n",
       "      <th>S</th>\n",
       "      <th>Mr</th>\n",
       "      <th>Miss</th>\n",
       "      <th>Mrs</th>\n",
       "      <th>Master</th>\n",
       "      <th>other</th>\n",
       "    </tr>\n",
       "  </thead>\n",
       "  <tbody>\n",
       "    <tr>\n",
       "      <th>745</th>\n",
       "      <td>0</td>\n",
       "      <td>1</td>\n",
       "      <td>70.0</td>\n",
       "      <td>1</td>\n",
       "      <td>1</td>\n",
       "      <td>71.0</td>\n",
       "      <td>8</td>\n",
       "      <td>0.0</td>\n",
       "      <td>1.0</td>\n",
       "      <td>0.0</td>\n",
       "      <td>0.0</td>\n",
       "      <td>1.0</td>\n",
       "      <td>0.0</td>\n",
       "      <td>0.0</td>\n",
       "      <td>0.0</td>\n",
       "      <td>0.0</td>\n",
       "      <td>1.0</td>\n",
       "    </tr>\n",
       "  </tbody>\n",
       "</table>\n",
       "</div>"
      ],
      "text/plain": [
       "     survived  pclass   age  sibsp  parch  fare  cabin  men  women    Q    C   \n",
       "745         0       1  70.0      1      1  71.0      8  0.0    1.0  0.0  0.0  \\\n",
       "\n",
       "       S   Mr  Miss  Mrs  Master  other  \n",
       "745  1.0  0.0   0.0  0.0     0.0    1.0  "
      ]
     },
     "execution_count": 106,
     "metadata": {},
     "output_type": "execute_result"
    }
   ],
   "source": [
    "df.sample()"
   ]
  },
  {
   "cell_type": "code",
   "execution_count": 123,
   "id": "0c9a058f",
   "metadata": {},
   "outputs": [],
   "source": [
    "from sklearn.model_selection import train_test_split"
   ]
  },
  {
   "cell_type": "code",
   "execution_count": 124,
   "id": "4b921327",
   "metadata": {},
   "outputs": [],
   "source": [
    "X = df.drop(columns=\"survived\")\n",
    "y = df.survived"
   ]
  },
  {
   "cell_type": "code",
   "execution_count": 125,
   "id": "321edf15",
   "metadata": {},
   "outputs": [],
   "source": [
    "X_train, X_test, y_train, y_test = train_test_split(X, y, test_size=0.2)"
   ]
  },
  {
   "cell_type": "code",
   "execution_count": 126,
   "id": "c7e5d3bd",
   "metadata": {},
   "outputs": [],
   "source": [
    "# Classification: logistic regression"
   ]
  },
  {
   "cell_type": "code",
   "execution_count": 132,
   "id": "dda69bdc",
   "metadata": {},
   "outputs": [],
   "source": [
    "from sklearn.ensemble import RandomForestClassifier\n",
    "from sklearn.metrics import f1_score, accuracy_score, precision_score, recall_score\n"
   ]
  },
  {
   "cell_type": "code",
   "execution_count": 128,
   "id": "5fa170ee",
   "metadata": {},
   "outputs": [],
   "source": [
    "rfc = RandomForestClassifier()"
   ]
  },
  {
   "cell_type": "code",
   "execution_count": 129,
   "id": "9971e43f",
   "metadata": {},
   "outputs": [
    {
     "data": {
      "text/html": [
       "<style>#sk-container-id-1 {color: black;background-color: white;}#sk-container-id-1 pre{padding: 0;}#sk-container-id-1 div.sk-toggleable {background-color: white;}#sk-container-id-1 label.sk-toggleable__label {cursor: pointer;display: block;width: 100%;margin-bottom: 0;padding: 0.3em;box-sizing: border-box;text-align: center;}#sk-container-id-1 label.sk-toggleable__label-arrow:before {content: \"▸\";float: left;margin-right: 0.25em;color: #696969;}#sk-container-id-1 label.sk-toggleable__label-arrow:hover:before {color: black;}#sk-container-id-1 div.sk-estimator:hover label.sk-toggleable__label-arrow:before {color: black;}#sk-container-id-1 div.sk-toggleable__content {max-height: 0;max-width: 0;overflow: hidden;text-align: left;background-color: #f0f8ff;}#sk-container-id-1 div.sk-toggleable__content pre {margin: 0.2em;color: black;border-radius: 0.25em;background-color: #f0f8ff;}#sk-container-id-1 input.sk-toggleable__control:checked~div.sk-toggleable__content {max-height: 200px;max-width: 100%;overflow: auto;}#sk-container-id-1 input.sk-toggleable__control:checked~label.sk-toggleable__label-arrow:before {content: \"▾\";}#sk-container-id-1 div.sk-estimator input.sk-toggleable__control:checked~label.sk-toggleable__label {background-color: #d4ebff;}#sk-container-id-1 div.sk-label input.sk-toggleable__control:checked~label.sk-toggleable__label {background-color: #d4ebff;}#sk-container-id-1 input.sk-hidden--visually {border: 0;clip: rect(1px 1px 1px 1px);clip: rect(1px, 1px, 1px, 1px);height: 1px;margin: -1px;overflow: hidden;padding: 0;position: absolute;width: 1px;}#sk-container-id-1 div.sk-estimator {font-family: monospace;background-color: #f0f8ff;border: 1px dotted black;border-radius: 0.25em;box-sizing: border-box;margin-bottom: 0.5em;}#sk-container-id-1 div.sk-estimator:hover {background-color: #d4ebff;}#sk-container-id-1 div.sk-parallel-item::after {content: \"\";width: 100%;border-bottom: 1px solid gray;flex-grow: 1;}#sk-container-id-1 div.sk-label:hover label.sk-toggleable__label {background-color: #d4ebff;}#sk-container-id-1 div.sk-serial::before {content: \"\";position: absolute;border-left: 1px solid gray;box-sizing: border-box;top: 0;bottom: 0;left: 50%;z-index: 0;}#sk-container-id-1 div.sk-serial {display: flex;flex-direction: column;align-items: center;background-color: white;padding-right: 0.2em;padding-left: 0.2em;position: relative;}#sk-container-id-1 div.sk-item {position: relative;z-index: 1;}#sk-container-id-1 div.sk-parallel {display: flex;align-items: stretch;justify-content: center;background-color: white;position: relative;}#sk-container-id-1 div.sk-item::before, #sk-container-id-1 div.sk-parallel-item::before {content: \"\";position: absolute;border-left: 1px solid gray;box-sizing: border-box;top: 0;bottom: 0;left: 50%;z-index: -1;}#sk-container-id-1 div.sk-parallel-item {display: flex;flex-direction: column;z-index: 1;position: relative;background-color: white;}#sk-container-id-1 div.sk-parallel-item:first-child::after {align-self: flex-end;width: 50%;}#sk-container-id-1 div.sk-parallel-item:last-child::after {align-self: flex-start;width: 50%;}#sk-container-id-1 div.sk-parallel-item:only-child::after {width: 0;}#sk-container-id-1 div.sk-dashed-wrapped {border: 1px dashed gray;margin: 0 0.4em 0.5em 0.4em;box-sizing: border-box;padding-bottom: 0.4em;background-color: white;}#sk-container-id-1 div.sk-label label {font-family: monospace;font-weight: bold;display: inline-block;line-height: 1.2em;}#sk-container-id-1 div.sk-label-container {text-align: center;}#sk-container-id-1 div.sk-container {/* jupyter's `normalize.less` sets `[hidden] { display: none; }` but bootstrap.min.css set `[hidden] { display: none !important; }` so we also need the `!important` here to be able to override the default hidden behavior on the sphinx rendered scikit-learn.org. See: https://github.com/scikit-learn/scikit-learn/issues/21755 */display: inline-block !important;position: relative;}#sk-container-id-1 div.sk-text-repr-fallback {display: none;}</style><div id=\"sk-container-id-1\" class=\"sk-top-container\"><div class=\"sk-text-repr-fallback\"><pre>RandomForestClassifier()</pre><b>In a Jupyter environment, please rerun this cell to show the HTML representation or trust the notebook. <br />On GitHub, the HTML representation is unable to render, please try loading this page with nbviewer.org.</b></div><div class=\"sk-container\" hidden><div class=\"sk-item\"><div class=\"sk-estimator sk-toggleable\"><input class=\"sk-toggleable__control sk-hidden--visually\" id=\"sk-estimator-id-1\" type=\"checkbox\" checked><label for=\"sk-estimator-id-1\" class=\"sk-toggleable__label sk-toggleable__label-arrow\">RandomForestClassifier</label><div class=\"sk-toggleable__content\"><pre>RandomForestClassifier()</pre></div></div></div></div></div>"
      ],
      "text/plain": [
       "RandomForestClassifier()"
      ]
     },
     "execution_count": 129,
     "metadata": {},
     "output_type": "execute_result"
    }
   ],
   "source": [
    "rfc.fit(X_train, y_train)"
   ]
  },
  {
   "cell_type": "code",
   "execution_count": 130,
   "id": "123e3fc8",
   "metadata": {},
   "outputs": [],
   "source": [
    "y_pred = rfc.predict(X_test)"
   ]
  },
  {
   "cell_type": "code",
   "execution_count": 133,
   "id": "1132caef",
   "metadata": {},
   "outputs": [
    {
     "name": "stdout",
     "output_type": "stream",
     "text": [
      "Accuracy: 0.8321678321678322\n",
      "Precision: 0.765625\n",
      "Recall: 0.8448275862068966\n",
      "-------------\n",
      "F1 score: 0.8032786885245901\n"
     ]
    }
   ],
   "source": [
    "print(f\"Accuracy: {accuracy_score(y_test, y_pred)}\")\n",
    "print(f\"Precision: {precision_score(y_test, y_pred)}\")\n",
    "print(f\"Recall: {recall_score(y_test, y_pred)}\")\n",
    "print(\"-------------\")\n",
    "print(f\"F1 score: {f1_score(y_test, y_pred)}\")"
   ]
  },
  {
   "cell_type": "code",
   "execution_count": 134,
   "id": "b9dd5352",
   "metadata": {},
   "outputs": [
    {
     "data": {
      "image/png": "[encoded data removed]",
      "text/plain": [
       "<Figure size 720x432 with 1 Axes>"
      ]
     },
     "metadata": {
      "needs_background": "light"
     },
     "output_type": "display_data"
    }
   ],
   "source": [
    "feature_names = list(X_train.columns)\n",
    "importances = rfc.feature_importances_\n",
    "indices = np.argsort(importances)[::-1]\n",
    "\n",
    "plt.figure(figsize=(10, 6))\n",
    "plt.title(\"Feature Importances\")\n",
    "plt.bar(range(X.shape[1]), importances[indices], align=\"center\")\n",
    "plt.xticks(range(X.shape[1]), [feature_names[i] for i in indices], rotation=90)\n",
    "plt.xlabel(\"Features\")\n",
    "plt.ylabel(\"Importance\")\n",
    "plt.tight_layout()\n",
    "plt.show()"
   ]
  },
  {
   "cell_type": "markdown",
   "id": "e795ee82",
   "metadata": {
    "lang": "en"
   },
   "source": [
    "## Hyperparameter Tuning"
   ]
  },
  {
   "cell_type": "markdown",
   "id": "e45cb7fd",
   "metadata": {
    "lang": "en"
   },
   "source": [
    "What is hyperparameter tuning?\n",
    "Hyperparameters are tunable parameters that allow you to control the process of training a model. For example, with neural networks, you can decide the number of hidden layers and the number of nodes in each layer. The performance of a model depends heavily on hyperparameters.\n",
    "Hyperparameter tuning, also called hyperparameter optimization, is the process of finding the hyperparameter configuration that produces the best performance. Typically, the process is manual and computationally expensive.\n",
    "\n",
    "There are different techniques to choose this hyperparameter tuning:\n",
    "    \n",
    "### - Random sampling\n",
    "Random sampling supports discrete and continuous hyperparameters. Supports early termination of underperforming strings. Some users perform an initial search with random sampling and then narrow the search space to improve results.\n",
    "In random sampling, hyperparameter values ​​are randomly selected from the defined search space.\n",
    "\n",
    "### - Grid Sampling\n",
    "Grid sampling supports discrete hyperparameters. Use grid sampling if your budget allows you to search the search space exhaustively. Supports early termination of underperforming strings.\n",
    "\n",
    "### - Bayesian sampling\n",
    "Bayesian sampling is based on the Bayesian optimization algorithm. Pick the samples based on how the previous ones did, so that the new samples improve the main metric.\n",
    " For best results, it is recommended that the maximum number of runs be greater than or equal to 20 times the number of hyperparameters being optimized.\n",
    "The number of simultaneous series affects the efficiency of the adjustment process. Fewer concurrent runs can lead to better sampling convergence, since the lower degree of parallelism increases the number of runs that benefit from previously completed runs.\n",
    "\n",
    "We are going to look at grid hyperparameter tuning with GridSearchCV but I leave you to investigate Bayesian sampling with [HyperOpt](https://towardsdatascience.com/hyperopt-hyperparameter-tuning-based-on-bayesian-optimization-7fa32dffaf29)"
   ]
  },
  {
   "cell_type": "markdown",
   "id": "198ec044",
   "metadata": {
    "lang": "en"
   },
   "source": [
    "### GridSearchCV by sklearn, say hello to your new friend!\n",
    "And read the [documentation](https://scikit-learn.org/stable/modules/generated/sklearn.model_selection.GridSearchCV.html)"
   ]
  },
  {
   "cell_type": "markdown",
   "id": "756d0650",
   "metadata": {},
   "source": [
    "![](https://najeesmith.github.io/images/Classifiers/RF/header.png)"
   ]
  },
  {
   "cell_type": "code",
   "execution_count": 136,
   "id": "b56d01a5",
   "metadata": {},
   "outputs": [],
   "source": [
    "from sklearn.model_selection import GridSearchCV\n",
    "from sklearn.ensemble import RandomForestClassifier"
   ]
  },
  {
   "cell_type": "code",
   "execution_count": 137,
   "id": "9a8a1a8d",
   "metadata": {},
   "outputs": [
    {
     "name": "stdout",
     "output_type": "stream",
     "text": [
      "Accuracy: 0.8111888111888111\n",
      "Precision: 0.7384615384615385\n",
      "Recall: 0.8275862068965517\n",
      "-------------\n",
      "F1 score: 0.7804878048780489\n"
     ]
    }
   ],
   "source": [
    "# Second model\n",
    "\n",
    "rfc = RandomForestClassifier(n_estimators=200)\n",
    "rfc.fit(X_train, y_train)\n",
    "y_pred = rfc.predict(X_test)\n",
    "\n",
    "\n",
    "print(f\"Accuracy: {accuracy_score(y_test, y_pred)}\")\n",
    "print(f\"Precision: {precision_score(y_test, y_pred)}\")\n",
    "print(f\"Recall: {recall_score(y_test, y_pred)}\")\n",
    "print(\"-------------\")\n",
    "print(f\"F1 score: {f1_score(y_test, y_pred)}\")"
   ]
  },
  {
   "cell_type": "code",
   "execution_count": 138,
   "id": "fc817251",
   "metadata": {},
   "outputs": [
    {
     "name": "stdout",
     "output_type": "stream",
     "text": [
      "Accuracy: 0.8321678321678322\n",
      "Precision: 0.7741935483870968\n",
      "Recall: 0.8275862068965517\n",
      "-------------\n",
      "F1 score: 0.7999999999999999\n"
     ]
    }
   ],
   "source": [
    "# Third model\n",
    "\n",
    "rfc = RandomForestClassifier(n_estimators=200, max_depth=10)\n",
    "rfc.fit(X_train, y_train)\n",
    "y_pred = rfc.predict(X_test)\n",
    "\n",
    "\n",
    "print(f\"Accuracy: {accuracy_score(y_test, y_pred)}\")\n",
    "print(f\"Precision: {precision_score(y_test, y_pred)}\")\n",
    "print(f\"Recall: {recall_score(y_test, y_pred)}\")\n",
    "print(\"-------------\")\n",
    "print(f\"F1 score: {f1_score(y_test, y_pred)}\")"
   ]
  },
  {
   "cell_type": "code",
   "execution_count": 139,
   "id": "abdd4b50",
   "metadata": {},
   "outputs": [],
   "source": [
    "parameters = {'bootstrap': [True, False],\n",
    "     'max_depth': [10, 20, 30, 40, 50, 60, 70, 80, 90, 100, None],\n",
    "     'max_features': ['auto', 'sqrt'],\n",
    "     'min_samples_leaf': [1, 2, 4],\n",
    "     'min_samples_split': [2, 5, 10],\n",
    "     'n_estimators': [200, 400, 600, 800, 1000, 1200, 1400, 1600, 1800, 2000]}"
   ]
  },
  {
   "cell_type": "code",
   "execution_count": null,
   "id": "c49018ca",
   "metadata": {},
   "outputs": [],
   "source": [
    "gs = GridSearchCV(rfc, parameters)\n",
    "gs.fit(X_train, y_train)"
   ]
  },
  {
   "cell_type": "markdown",
   "id": "7df4a15f",
   "metadata": {
    "lang": "en"
   },
   "source": [
    "### We would train the model with the best parameters"
   ]
  },
  {
   "cell_type": "markdown",
   "id": "40cef7c2",
   "metadata": {
    "lang": "en"
   },
   "source": [
    "If GridSearchCV() is set to refit=True, after identifying the best hyperparameters, the model is retrained with them and stored in .best_estimator_."
   ]
  },
  {
   "cell_type": "code",
   "execution_count": null,
   "id": "meaningful-mouse",
   "metadata": {},
   "outputs": [],
   "source": [
    "from sklearn.metrics import accuracy_score, precision_score, f1_score, recall_score"
   ]
  },
  {
   "cell_type": "code",
   "execution_count": null,
   "id": "1f6ca3e8",
   "metadata": {},
   "outputs": [],
   "source": []
  },
  {
   "cell_type": "markdown",
   "id": "b3df9df5",
   "metadata": {},
   "source": [
    "https://www.analyticsvidhya.com/blog/2015/06/tuning-random-forest-model/"
   ]
  },
  {
   "cell_type": "markdown",
   "id": "a8977427",
   "metadata": {
    "lang": "en"
   },
   "source": [
    "## Save / Export the model\n",
    "https://machinelearningmastery.com/save-load-machine-learning-models-python-scikit-learn/"
   ]
  },
  {
   "cell_type": "code",
   "execution_count": null,
   "id": "766c2856",
   "metadata": {},
   "outputs": [],
   "source": [
    "import pickle\n",
    "pickle.dump(gs, open(\"my_model\", \"wb\"))"
   ]
  },
  {
   "cell_type": "code",
   "execution_count": null,
   "id": "d21b5a2c",
   "metadata": {},
   "outputs": [],
   "source": [
    "loaded_model = pickle.load(open(\"my_model\", \"rb\")\n",
    "loaded_model.predict(row_df)"
   ]
  },
  {
   "cell_type": "code",
   "execution_count": null,
   "id": "b909f148",
   "metadata": {},
   "outputs": [],
   "source": [
    "# 1. Explore the data (understand it)\n",
    "# 2. Clean: handling missing values\n",
    "# 3. Transform cateogrical into numbers\n",
    "# 4. (optional) Scale numerical variables\n",
    "\n",
    "# 5. Different models\n",
    "# 6. Different parameters\n",
    "# 7. Fit\n",
    "\n",
    "# 8. Export & import our model\n",
    "# 9. Predict on new values\n",
    "    # 9.1. Keep in mind to normalize your input (you'll need the original column: mean, stdev, min, max)\n",
    "    "
   ]
  },
  {
   "cell_type": "code",
   "execution_count": 140,
   "id": "3c2dea74",
   "metadata": {},
   "outputs": [],
   "source": [
    "def normalize_variable (x, series):\n",
    "     return (x - min(series))/(max(series) - min(series))"
   ]
  },
  {
   "cell_type": "code",
   "execution_count": null,
   "id": "b0e5fd22",
   "metadata": {},
   "outputs": [],
   "source": [
    "# a lot of trial and error\n",
    "# a lot of combinations\n",
    "# a lot of understanding the data\n",
    "# making decisions\n",
    "    # keeping whatever works best\n",
    "    \n",
    "# https://medium.com/@brijesh_soni/feature-engineering-101-7cb68d293551"
   ]
  },
  {
   "cell_type": "code",
   "execution_count": null,
   "id": "df4153d2",
   "metadata": {},
   "outputs": [],
   "source": [
    "# Neural networks \n",
    "# Workarounds (solutions)"
   ]
  }
 ],
 "metadata": {
  "kernelspec": {
   "display_name": "ironhack",
   "language": "python",
   "name": "ironhack"
  },
  "language_info": {
   "codemirror_mode": {
    "name": "ipython",
    "version": 3
   },
   "file_extension": ".py",
   "mimetype": "text/x-python",
   "name": "python",
   "nbconvert_exporter": "python",
   "pygments_lexer": "ipython3",
   "version": "3.9.12"
  },
  "nbTranslate": {
   "displayLangs": [
    "en",
    "es"
   ],
   "hotkey": "alt-a",
   "langInMainMenu": true,
   "sourceLang": "es",
   "targetLang": "en",
   "useGoogleTranslate": true
  },
  "toc": {
   "base_numbering": 1,
   "nav_menu": {},
   "number_sections": true,
   "sideBar": true,
   "skip_h1_title": true,
   "title_cell": "Table of Contents",
   "title_sidebar": "Contents",
   "toc_cell": true,
   "toc_position": {
    "height": "calc(100% - 180px)",
    "left": "10px",
    "top": "150px",
    "width": "165px"
   },
   "toc_section_display": true,
   "toc_window_display": false
  }
 },
 "nbformat": 4,
 "nbformat_minor": 5
}
