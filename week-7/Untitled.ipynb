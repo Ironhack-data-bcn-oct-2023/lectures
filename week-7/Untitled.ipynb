{
 "cells": [
  {
   "cell_type": "code",
   "execution_count": 15,
   "id": "fa51d50b",
   "metadata": {},
   "outputs": [
    {
     "name": "stdout",
     "output_type": "stream",
     "text": [
      "       *\n",
      "      ***\n",
      "     *****\n",
      "    *******\n",
      "   *********\n",
      "  ***********\n",
      " *************\n",
      "***************\n",
      " *************\n",
      "  ***********\n",
      "   *********\n",
      "    *******\n",
      "     *****\n",
      "      ***\n",
      "       *\n",
      "\n"
     ]
    }
   ],
   "source": [
    "def diamond(n):\n",
    "    \n",
    "    string = \"\"\n",
    "    i = 1\n",
    "    spaces = n//2\n",
    " \n",
    "    if n%2 == 0 or n<0:\n",
    "        return None\n",
    "    \n",
    "    else:\n",
    "        while i < n:\n",
    "            string += spaces * \" \" + i * \"*\" + \"\\n\"\n",
    "            i += 2\n",
    "            spaces -=1\n",
    "\n",
    "        while i > 0:            \n",
    "            string += spaces * \" \" + i * \"*\" + \"\\n\"\n",
    "            i -= 2\n",
    "            spaces += 1\n",
    "    return string"
   ]
  }
 ],
 "metadata": {
  "kernelspec": {
   "display_name": "Python 3 (ipykernel)",
   "language": "python",
   "name": "python3"
  },
  "language_info": {
   "codemirror_mode": {
    "name": "ipython",
    "version": 3
   },
   "file_extension": ".py",
   "mimetype": "text/x-python",
   "name": "python",
   "nbconvert_exporter": "python",
   "pygments_lexer": "ipython3",
   "version": "3.9.12"
  },
  "nbTranslate": {
   "displayLangs": [
    "en",
    "es"
   ],
   "hotkey": "alt-a",
   "langInMainMenu": true,
   "sourceLang": "es",
   "targetLang": "en",
   "useGoogleTranslate": true
  },
  "toc": {
   "base_numbering": 1,
   "nav_menu": {},
   "number_sections": true,
   "sideBar": true,
   "skip_h1_title": false,
   "title_cell": "Table of Contents",
   "title_sidebar": "Contents",
   "toc_cell": false,
   "toc_position": {},
   "toc_section_display": true,
   "toc_window_display": false
  }
 },
 "nbformat": 4,
 "nbformat_minor": 5
}
