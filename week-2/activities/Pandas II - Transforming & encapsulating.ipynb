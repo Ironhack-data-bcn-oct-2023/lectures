{
 "cells": [
  {
   "cell_type": "markdown",
   "id": "b1dad2ca",
   "metadata": {},
   "source": [
    "# EXERCISE 📝: Loading, transforming, exporting & encapsulating"
   ]
  },
  {
   "cell_type": "markdown",
   "id": "57c03683",
   "metadata": {},
   "source": [
    "1. **READ** the sperstore.csv dataset from the datasets folder (beware of absolute and relative paths!). Know where you are. \n",
    "\n",
    "- How can I know where did I open this notebook? Remember bash syntax can be used through jupyter"
   ]
  },
  {
   "cell_type": "code",
   "execution_count": 284,
   "id": "c031a95b",
   "metadata": {},
   "outputs": [],
   "source": [
    "# your code here\n"
   ]
  },
  {
   "cell_type": "markdown",
   "id": "3026ac09",
   "metadata": {},
   "source": [
    "2. **RENAME** the columns: make them all into lower case AND substitute spaces for inderscores. Eg.: `Order ID` -> `order_id`"
   ]
  },
  {
   "cell_type": "code",
   "execution_count": 291,
   "id": "b6545678",
   "metadata": {},
   "outputs": [],
   "source": [
    "# your code here\n"
   ]
  },
  {
   "cell_type": "markdown",
   "id": "af268022",
   "metadata": {},
   "source": [
    "3. **DROP** the `Row ID` column"
   ]
  },
  {
   "cell_type": "code",
   "execution_count": 286,
   "id": "1a743c79",
   "metadata": {},
   "outputs": [],
   "source": [
    "# your code here\n"
   ]
  },
  {
   "cell_type": "markdown",
   "id": "0959c076",
   "metadata": {},
   "source": [
    "4. **FILTER** the dataset where the customer is: `Roy Französisch`"
   ]
  },
  {
   "cell_type": "code",
   "execution_count": 287,
   "id": "1e4b1c28",
   "metadata": {},
   "outputs": [],
   "source": [
    "# your code here\n"
   ]
  },
  {
   "cell_type": "markdown",
   "id": "2bcca9fb",
   "metadata": {},
   "source": [
    "5. **CREATE a SUBSET** of the dataframe with the columns: `Ship Mode`, `Segment`, `Country`, `Category`, `Profit`"
   ]
  },
  {
   "cell_type": "code",
   "execution_count": 288,
   "id": "8ac21898",
   "metadata": {},
   "outputs": [],
   "source": [
    "# your code here\n"
   ]
  },
  {
   "cell_type": "markdown",
   "id": "09a63670",
   "metadata": {},
   "source": [
    "6. **CALCULATE** the SUM of the profit: it should be a formatted print() the says `Roy Französisch amounted a total profit of X $`\n"
   ]
  },
  {
   "cell_type": "code",
   "execution_count": 289,
   "id": "53543bac",
   "metadata": {},
   "outputs": [],
   "source": [
    "# your code here\n"
   ]
  },
  {
   "cell_type": "markdown",
   "id": "62878063",
   "metadata": {},
   "source": [
    "7. **EXPORT** the csv with the name: `customer_example.csv`"
   ]
  },
  {
   "cell_type": "code",
   "execution_count": 290,
   "id": "3d7f410b",
   "metadata": {},
   "outputs": [],
   "source": [
    "# your code here\n"
   ]
  },
  {
   "cell_type": "markdown",
   "id": "403be397",
   "metadata": {},
   "source": [
    "8. **DEFINE** (ENCAPSULATE) into a FUNCTION\n",
    "    - Function name: profit_per_customer\n",
    "    - Function args: name, string. the name of the customer to filter by\n",
    "        - to do this, you will have to change the line where you filter to change the literal \"Roy Französisch\" for name\n",
    "        - also change it in the formatted print\n",
    "    - Function should do steps: 1-8\n",
    "    - include the line: `df_imported = pd.read_csv(\"customer_example.csv\")`\n",
    "    - Function return: it should return the `df_imported`"
   ]
  },
  {
   "cell_type": "code",
   "execution_count": null,
   "id": "ee2f0f54",
   "metadata": {},
   "outputs": [],
   "source": [
    "# your code here\n"
   ]
  },
  {
   "cell_type": "markdown",
   "id": "dcc55ffe",
   "metadata": {},
   "source": [
    "9. **CALL**: `df_claire = profit_per_customer(\"Roy Französisch\")`"
   ]
  },
  {
   "cell_type": "code",
   "execution_count": null,
   "id": "e1d419ce",
   "metadata": {},
   "outputs": [],
   "source": [
    "# your code here\n"
   ]
  },
  {
   "cell_type": "markdown",
   "id": "77ceffd9",
   "metadata": {},
   "source": [
    "10. **Run**: `df_claire`"
   ]
  },
  {
   "cell_type": "code",
   "execution_count": null,
   "id": "f6f3d8fc",
   "metadata": {},
   "outputs": [],
   "source": [
    "# your code here\n"
   ]
  },
  {
   "cell_type": "markdown",
   "id": "61876a76",
   "metadata": {},
   "source": [
    "11. **Re-use your own function**: how much did `Erica Smith` amounted in profit? Make sure you save it into a variable named `df_erica_smith`"
   ]
  },
  {
   "cell_type": "code",
   "execution_count": null,
   "id": "501c077f",
   "metadata": {},
   "outputs": [],
   "source": []
  },
  {
   "cell_type": "markdown",
   "id": "b9ec89ff",
   "metadata": {},
   "source": [
    "## BONUS I"
   ]
  },
  {
   "cell_type": "markdown",
   "id": "40f814a7",
   "metadata": {},
   "source": [
    "11. Create, on the same location as this notebook, a python file named `filtering.py`."
   ]
  },
  {
   "cell_type": "markdown",
   "id": "d8804733",
   "metadata": {},
   "source": [
    "12. Copy and paste your function into it"
   ]
  },
  {
   "cell_type": "markdown",
   "id": "78f798df",
   "metadata": {},
   "source": [
    "13. At the top of the file, make sure you have the necessary imports"
   ]
  },
  {
   "cell_type": "markdown",
   "id": "0abc99e1",
   "metadata": {},
   "source": [
    "14. Save your file. Close it. Go to Terminal and navigate to the location where the pythn file is. Run `python filtering.py`. \n",
    "\n",
    "- Module not found: pandas ? Make sure you're in the correct environment before executing the previous command."
   ]
  },
  {
   "cell_type": "markdown",
   "id": "51f216dd",
   "metadata": {},
   "source": [
    "## BONUS II"
   ]
  },
  {
   "cell_type": "markdown",
   "id": "04798143",
   "metadata": {},
   "source": [
    "15. Import os. Inside of the python function, run bash code through python to open the exporte .csv file and run the python file again. You should expect the transformed csv file to open on your computer once it has been transformed."
   ]
  }
 ],
 "metadata": {
  "kernelspec": {
   "display_name": "ironhack",
   "language": "python",
   "name": "ironhack"
  },
  "language_info": {
   "codemirror_mode": {
    "name": "ipython",
    "version": 3
   },
   "file_extension": ".py",
   "mimetype": "text/x-python",
   "name": "python",
   "nbconvert_exporter": "python",
   "pygments_lexer": "ipython3",
   "version": "3.9.12"
  },
  "nbTranslate": {
   "displayLangs": [
    "en",
    "es"
   ],
   "hotkey": "alt-a",
   "langInMainMenu": true,
   "sourceLang": "es",
   "targetLang": "en",
   "useGoogleTranslate": true
  },
  "toc": {
   "base_numbering": 1,
   "nav_menu": {},
   "number_sections": true,
   "sideBar": true,
   "skip_h1_title": false,
   "title_cell": "Table of Contents",
   "title_sidebar": "Contents",
   "toc_cell": false,
   "toc_position": {},
   "toc_section_display": true,
   "toc_window_display": false
  }
 },
 "nbformat": 4,
 "nbformat_minor": 5
}
