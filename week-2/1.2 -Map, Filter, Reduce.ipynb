{
 "cells": [
  {
   "cell_type": "markdown",
   "id": "bottom-commerce",
   "metadata": {},
   "source": [
    "# Map, Filter, Reduce"
   ]
  },
  {
   "cell_type": "markdown",
   "id": "rising-buyer",
   "metadata": {
    "toc": true
   },
   "source": [
    "<h1>Table of Contents<span class=\"tocSkip\"></span></h1>\n",
    "<div class=\"toc\"><ul class=\"toc-item\"><li><ul class=\"toc-item\"><li><span><a href=\"#Each-student-is-randomly-assigned-a-topic\" data-toc-modified-id=\"Each-student-is-randomly-assigned-a-topic-0.1\"><span class=\"toc-item-num\">0.1&nbsp;&nbsp;</span>Each student is randomly assigned a topic</a></span></li></ul></li><li><span><a href=\"#Let's-start\" data-toc-modified-id=\"Let's-start-1\"><span class=\"toc-item-num\">1&nbsp;&nbsp;</span>Let's start</a></span><ul class=\"toc-item\"><li><span><a href=\"#Create-groups-with-other-people-who-have-studied-the-same-function\" data-toc-modified-id=\"Create-groups-with-other-people-who-have-studied-the-same-function-1.1\"><span class=\"toc-item-num\">1.1&nbsp;&nbsp;</span>Create groups with other people who have studied the same function</a></span></li></ul></li><li><span><a href=\"#Map,-Filter,-Reduce\" data-toc-modified-id=\"Map,-Filter,-Reduce-2\"><span class=\"toc-item-num\">2&nbsp;&nbsp;</span>Map, Filter, Reduce</a></span><ul class=\"toc-item\"><li><span><a href=\"#Map\" data-toc-modified-id=\"Map-2.1\"><span class=\"toc-item-num\">2.1&nbsp;&nbsp;</span>Map</a></span><ul class=\"toc-item\"><li><span><a href=\"#First-we-do-it-with-functions\" data-toc-modified-id=\"First-we-do-it-with-functions-2.1.1\"><span class=\"toc-item-num\">2.1.1&nbsp;&nbsp;</span>First we do it with functions</a></span></li><li><span><a href=\"#Extra:-Do-it-with-lambda!\" data-toc-modified-id=\"Extra:-Do-it-with-lambda!-2.1.2\"><span class=\"toc-item-num\">2.1.2&nbsp;&nbsp;</span>Extra: Do it with lambda!</a></span></li></ul></li><li><span><a href=\"#Filter\" data-toc-modified-id=\"Filter-2.2\"><span class=\"toc-item-num\">2.2&nbsp;&nbsp;</span>Filter</a></span><ul class=\"toc-item\"><li><span><a href=\"#First-we-do-it-with-functions\" data-toc-modified-id=\"First-we-do-it-with-functions-2.2.1\"><span class=\"toc-item-num\">2.2.1&nbsp;&nbsp;</span>First we do it with functions</a></span></li><li><span><a href=\"#Extra:-Do-it-with-lambda!\" data-toc-modified-id=\"Extra:-Do-it-with-lambda!-2.2.2\"><span class=\"toc-item-num\">2.2.2&nbsp;&nbsp;</span>Extra: Do it with lambda!</a></span></li></ul></li><li><span><a href=\"#Reduce\" data-toc-modified-id=\"Reduce-2.3\"><span class=\"toc-item-num\">2.3&nbsp;&nbsp;</span>Reduce</a></span><ul class=\"toc-item\"><li><span><a href=\"#What-happened?\" data-toc-modified-id=\"What-happened?-2.3.1\"><span class=\"toc-item-num\">2.3.1&nbsp;&nbsp;</span>What happened?</a></span></li></ul></li><li><span><a href=\"#First-we-do-it-with-functions\" data-toc-modified-id=\"First-we-do-it-with-functions-2.4\"><span class=\"toc-item-num\">2.4&nbsp;&nbsp;</span>First we do it with functions</a></span></li><li><span><a href=\"#Bonus:-Do-it-with-lambda!\" data-toc-modified-id=\"Bonus:-Do-it-with-lambda!-2.5\"><span class=\"toc-item-num\">2.5&nbsp;&nbsp;</span>Bonus: Do it with lambda!</a></span></li></ul></li><li><span><a href=\"#Summary\" data-toc-modified-id=\"Summary-3\"><span class=\"toc-item-num\">3&nbsp;&nbsp;</span>Summary</a></span></li><li><span><a href=\"#Further-materials\" data-toc-modified-id=\"Further-materials-4\"><span class=\"toc-item-num\">4&nbsp;&nbsp;</span>Further materials</a></span></li></ul></div>"
   ]
  },
  {
   "cell_type": "markdown",
   "id": "07c5496e",
   "metadata": {
    "lang": "en"
   },
   "source": [
    "### Each student is randomly assigned a topic"
   ]
  },
  {
   "cell_type": "code",
   "execution_count": 10,
   "id": "e3f79416",
   "metadata": {},
   "outputs": [],
   "source": [
    "students = [\n",
    "    \"Javier\", \"Ricardo\", \"Edu\", \"Marco\", \"Marc\", \"Noe\", \"Ana\", \"Maira\", \"Martina\", \"Marta\",\n",
    "    \"Lucia\", \"Clàudia\", \"Esther\", \"Félix\", \"Pati.Z\", \"Pere\", \"Amir\", \"Patricia.S\",\n",
    "    \"Emma\", \"Víctor\", \"Micky\", \"León\", \"Junior\", \"Oriol\", \"Aída\", \"Sara\"\n",
    "]"
   ]
  },
  {
   "cell_type": "code",
   "execution_count": 11,
   "id": "c900d2bf",
   "metadata": {},
   "outputs": [],
   "source": [
    "# Group 1: [(\"Andres\", \"map\"), (\"dani\", \"filter\"), (\"David\", \"reduce\")]\n",
    "# Group 2: [(\"Andres\", \"map\"), (\"dani\", \"filter\"), (\"David\", \"reduce\")]"
   ]
  },
  {
   "cell_type": "code",
   "execution_count": 12,
   "id": "7411baa9",
   "metadata": {},
   "outputs": [],
   "source": [
    "topics = [\"map\"] * 9 +  [\"filter\"] * 9 + [\"reduce\"] * 9"
   ]
  },
  {
   "cell_type": "code",
   "execution_count": null,
   "id": "a10329b5",
   "metadata": {},
   "outputs": [],
   "source": [
    "# python: map, filter, reduce\n",
    "    # not specific to a dat type\n",
    "    # functions we call AND we pass the arguemnts: built-in"
   ]
  },
  {
   "cell_type": "code",
   "execution_count": 14,
   "id": "fc58eb3a",
   "metadata": {},
   "outputs": [
    {
     "data": {
      "text/plain": [
       "[('Micky', 'map'),\n",
       " ('Lucia', 'map'),\n",
       " ('León', 'map'),\n",
       " ('Ricardo', 'map'),\n",
       " ('Martina', 'map'),\n",
       " ('Junior', 'map'),\n",
       " ('Amir', 'map'),\n",
       " ('Ana', 'map'),\n",
       " ('Patricia.S', 'map'),\n",
       " ('Clàudia', 'filter'),\n",
       " ('Aída', 'filter'),\n",
       " ('Marco', 'filter'),\n",
       " ('Pere', 'filter'),\n",
       " ('Sara', 'filter'),\n",
       " ('Emma', 'filter'),\n",
       " ('Oriol', 'filter'),\n",
       " ('Víctor', 'filter'),\n",
       " ('Edu', 'filter'),\n",
       " ('Javier', 'reduce'),\n",
       " ('Noe', 'reduce'),\n",
       " ('Maira', 'reduce'),\n",
       " ('Marc', 'reduce'),\n",
       " ('Esther', 'reduce'),\n",
       " ('Félix', 'reduce'),\n",
       " ('Pati.Z', 'reduce'),\n",
       " ('Marta', 'reduce')]"
      ]
     },
     "execution_count": 14,
     "metadata": {},
     "output_type": "execute_result"
    }
   ],
   "source": [
    "import random\n",
    "random.shuffle(students) #this returns None, modifies in place\n",
    "alltogether = list(zip(students, topics))\n",
    "alltogether"
   ]
  },
  {
   "cell_type": "code",
   "execution_count": 18,
   "id": "156c95ef",
   "metadata": {},
   "outputs": [],
   "source": [
    "map_experts = list(filter(lambda x: x[1] == \"map\", alltogether))\n",
    "filter_experts = list(filter(lambda x: x[1] == \"filter\", alltogether))\n",
    "reduce_experts = list(filter(lambda x: x[1] == \"reduce\", alltogether))"
   ]
  },
  {
   "cell_type": "code",
   "execution_count": 20,
   "id": "d861ec24",
   "metadata": {},
   "outputs": [
    {
     "name": "stdout",
     "output_type": "stream",
     "text": [
      "Group 1: [('Micky', 'map'), ('Clàudia', 'filter'), ('Javier', 'reduce')]\n",
      "Group 2: [('Lucia', 'map'), ('Aída', 'filter'), ('Noe', 'reduce')]\n",
      "Group 3: [('León', 'map'), ('Marco', 'filter'), ('Maira', 'reduce')]\n",
      "Group 4: [('Ricardo', 'map'), ('Pere', 'filter'), ('Marc', 'reduce')]\n",
      "Group 5: [('Martina', 'map'), ('Sara', 'filter'), ('Esther', 'reduce')]\n",
      "Group 6: [('Junior', 'map'), ('Emma', 'filter'), ('Félix', 'reduce')]\n",
      "Group 7: [('Amir', 'map'), ('Oriol', 'filter'), ('Pati.Z', 'reduce')]\n",
      "Group 8: [('Ana', 'map'), ('Víctor', 'filter'), ('Marta', 'reduce')]\n"
     ]
    }
   ],
   "source": [
    "counter = 1\n",
    "for everyone in zip(map_experts, filter_experts, reduce_experts):\n",
    "    print(f\"Group {counter}: {[[i][0] for i in everyone]}\")\n",
    "    counter += 1\n"
   ]
  },
  {
   "cell_type": "markdown",
   "id": "67ba83fd",
   "metadata": {
    "lang": "en"
   },
   "source": [
    "## Let's start"
   ]
  },
  {
   "cell_type": "markdown",
   "id": "2044e738",
   "metadata": {
    "lang": "en"
   },
   "source": [
    "You have 10 minutes to explore and understand the role you have been assigned on your own. You may find these links useful:\n",
    "\n",
    "- [map, filter, reduce - I](https://medium.com/swlh/higher-order-functions-in-python-map-filter-and-reduce-34299fee1b21)\n",
    "- [map, filter, reduce - II](https://www.learnpython.org/en/Map,_Filter,_Reduce)\n",
    "- [map, filter, reduce - III](https://stackabuse.com/map-filter-and-reduce-in-python-with-examples)"
   ]
  },
  {
   "cell_type": "markdown",
   "id": "1494059b",
   "metadata": {},
   "source": [
    "### Create groups with other people who have studied the same function"
   ]
  },
  {
   "cell_type": "markdown",
   "id": "closing-referral",
   "metadata": {},
   "source": [
    "![otrogif](https://media.giphy.com/media/UatRnEUNX8iCQ/giphy.gif)"
   ]
  },
  {
   "cell_type": "markdown",
   "id": "ad055efd",
   "metadata": {
    "lang": "en"
   },
   "source": [
    "In this part of the game you are assigned to a group in which you are the expert in your role.\n",
    "Each group member has 5 minutes to explain their role to the other team members."
   ]
  },
  {
   "cell_type": "markdown",
   "id": "8fd5c1b9",
   "metadata": {
    "lang": "en"
   },
   "source": [
    "## Map, Filter, Reduce"
   ]
  },
  {
   "cell_type": "markdown",
   "id": "55e1da7a",
   "metadata": {
    "lang": "en"
   },
   "source": [
    "There are three functions that will come in very handy when working with iterators. These functions facilitate certain basic and common operations on iterable collections of data, such as removing elements that do not meet a certain condition, calculating a result from the contained data, or applying a transformation to each element. Let's see them with examples of use:"
   ]
  },
  {
   "cell_type": "markdown",
   "id": "distinct-translator",
   "metadata": {},
   "source": [
    "### Map"
   ]
  },
  {
   "cell_type": "markdown",
   "id": "3bbb0048",
   "metadata": {
    "lang": "en"
   },
   "source": [
    "The map() function takes a function and a list and applies that function to each element in that list, producing a new list.\n",
    "```python\n",
    "map(function_to_apply, list_of_inputs)\n",
    "```"
   ]
  },
  {
   "cell_type": "code",
   "execution_count": 21,
   "id": "61ab8100",
   "metadata": {},
   "outputs": [
    {
     "data": {
      "text/plain": [
       "[('Micky', 'map'),\n",
       " ('Lucia', 'map'),\n",
       " ('León', 'map'),\n",
       " ('Ricardo', 'map'),\n",
       " ('Martina', 'map'),\n",
       " ('Junior', 'map'),\n",
       " ('Amir', 'map'),\n",
       " ('Ana', 'map'),\n",
       " ('Patricia.S', 'map')]"
      ]
     },
     "execution_count": 21,
     "metadata": {},
     "output_type": "execute_result"
    }
   ],
   "source": [
    "map_experts"
   ]
  },
  {
   "cell_type": "code",
   "execution_count": 22,
   "id": "faf045a6",
   "metadata": {},
   "outputs": [
    {
     "data": {
      "text/plain": [
       "('Lucia', 'map')"
      ]
     },
     "execution_count": 22,
     "metadata": {},
     "output_type": "execute_result"
    }
   ],
   "source": [
    "random.choice(map_experts)"
   ]
  },
  {
   "cell_type": "code",
   "execution_count": null,
   "id": "a432ea68",
   "metadata": {},
   "outputs": [],
   "source": [
    "# map\n",
    "\n",
    "# call a function\n",
    "# defined or not defined\n",
    "    # functions\n",
    "    # lambda too\n",
    "# instead of using for\n",
    "# map(name_of_the_function, iterables)"
   ]
  },
  {
   "cell_type": "code",
   "execution_count": null,
   "id": "c474c788",
   "metadata": {},
   "outputs": [],
   "source": [
    "def name_of_the_function (arg1, arg2):\n",
    "    pass"
   ]
  },
  {
   "cell_type": "code",
   "execution_count": null,
   "id": "fad319eb",
   "metadata": {},
   "outputs": [],
   "source": [
    "map(name_of_the_function, iterable1, iterable2)"
   ]
  },
  {
   "cell_type": "code",
   "execution_count": null,
   "id": "4f353b07",
   "metadata": {},
   "outputs": [],
   "source": [
    "# what if different length? -> gets the shortest one (No error)"
   ]
  },
  {
   "cell_type": "markdown",
   "id": "3a2fc244",
   "metadata": {},
   "source": [
    "`goal: square of numbers`"
   ]
  },
  {
   "cell_type": "markdown",
   "id": "848ef234",
   "metadata": {
    "lang": "en"
   },
   "source": [
    "#### First we do it with functions"
   ]
  },
  {
   "cell_type": "code",
   "execution_count": null,
   "id": "49b89885",
   "metadata": {},
   "outputs": [],
   "source": [
    "# [4, \"w4\"]\n",
    "\n",
    "def whole_thing (LIST_):\n",
    "    return LIST_\n",
    "\n",
    "\n",
    "#2. Def: ONE THING ELEMENT / ONE THING AT A TIME\n",
    "    # 2.1. Scale things up: putting them in a loop\n",
    "\n",
    "def simple_function (one_element):\n",
    "    return one_element_modified\n",
    "\n",
    "# loop -> loop / map\n",
    "\n"
   ]
  },
  {
   "cell_type": "code",
   "execution_count": 23,
   "id": "faca82e0",
   "metadata": {},
   "outputs": [],
   "source": [
    "def square_of_numbers (x):\n",
    "    return x ** 2"
   ]
  },
  {
   "cell_type": "code",
   "execution_count": 24,
   "id": "2333dc7b",
   "metadata": {},
   "outputs": [],
   "source": [
    "nums = [567, 45 ,45 ,56 , 4]"
   ]
  },
  {
   "cell_type": "code",
   "execution_count": 25,
   "id": "2c013062",
   "metadata": {},
   "outputs": [
    {
     "name": "stdout",
     "output_type": "stream",
     "text": [
      "321489\n",
      "2025\n",
      "2025\n",
      "3136\n",
      "16\n"
     ]
    }
   ],
   "source": [
    "for i in nums:\n",
    "    print(square_of_numbers (i))"
   ]
  },
  {
   "cell_type": "code",
   "execution_count": 27,
   "id": "fbcdc7c1",
   "metadata": {},
   "outputs": [
    {
     "data": {
      "text/plain": [
       "[321489, 2025, 2025, 3136, 16]"
      ]
     },
     "execution_count": 27,
     "metadata": {},
     "output_type": "execute_result"
    }
   ],
   "source": [
    "list(map(square_of_numbers, nums))"
   ]
  },
  {
   "cell_type": "markdown",
   "id": "209cfe9b",
   "metadata": {
    "lang": "en"
   },
   "source": [
    "The map function returns an iterator, so we have to use `list(map_iterator)`"
   ]
  },
  {
   "cell_type": "code",
   "execution_count": null,
   "id": "c438a51a",
   "metadata": {
    "scrolled": true
   },
   "outputs": [],
   "source": []
  },
  {
   "cell_type": "markdown",
   "id": "7ac78fc9",
   "metadata": {
    "lang": "en"
   },
   "source": [
    "#### Extra: Do it with lambda!"
   ]
  },
  {
   "cell_type": "code",
   "execution_count": 28,
   "id": "445874f9",
   "metadata": {},
   "outputs": [
    {
     "data": {
      "text/plain": [
       "[321489, 2025, 2025, 3136, 16]"
      ]
     },
     "execution_count": 28,
     "metadata": {},
     "output_type": "execute_result"
    }
   ],
   "source": [
    "list(map(lambda x: x**2, nums))"
   ]
  },
  {
   "cell_type": "code",
   "execution_count": null,
   "id": "ef2ec858",
   "metadata": {},
   "outputs": [],
   "source": [
    "# another way to do loops and pass functions\n",
    "    # no need to append to a new list"
   ]
  },
  {
   "cell_type": "code",
   "execution_count": 39,
   "id": "73c53243",
   "metadata": {},
   "outputs": [],
   "source": [
    "list_1 = [1, 2, 3, 4, 5, 6, 7, 7, 8]\n",
    "list_2 = [10, 20, 30, 40, 50]"
   ]
  },
  {
   "cell_type": "code",
   "execution_count": 40,
   "id": "bb2dea7d",
   "metadata": {},
   "outputs": [],
   "source": [
    "def takes_two (a, b):\n",
    "    return a + b"
   ]
  },
  {
   "cell_type": "code",
   "execution_count": 42,
   "id": "8d45eefc",
   "metadata": {},
   "outputs": [
    {
     "data": {
      "text/plain": [
       "[11, 22, 33, 44, 55]"
      ]
     },
     "execution_count": 42,
     "metadata": {},
     "output_type": "execute_result"
    }
   ],
   "source": [
    "new_list = list(map(takes_two, list_1, list_2))\n",
    "new_list"
   ]
  },
  {
   "cell_type": "code",
   "execution_count": null,
   "id": "7200e37e",
   "metadata": {},
   "outputs": [],
   "source": [
    "# skip the zip\n",
    "# skip the loop\n",
    "# skip the append"
   ]
  },
  {
   "cell_type": "markdown",
   "id": "connected-found",
   "metadata": {},
   "source": [
    "### Filter"
   ]
  },
  {
   "cell_type": "markdown",
   "id": "b0fd2478",
   "metadata": {
    "lang": "en"
   },
   "source": [
    "The filter() function filters a list of items for which a function returns True.\n",
    "```python\n",
    "filter(a_function, a_list)\n",
    "```"
   ]
  },
  {
   "cell_type": "markdown",
   "id": "3ac537c7",
   "metadata": {
    "lang": "en"
   },
   "source": [
    "Imagine you want to filter a list of numbers to get only even values."
   ]
  },
  {
   "cell_type": "code",
   "execution_count": 43,
   "id": "3d3129d4",
   "metadata": {},
   "outputs": [
    {
     "data": {
      "text/plain": [
       "[('Clàudia', 'filter'),\n",
       " ('Aída', 'filter'),\n",
       " ('Marco', 'filter'),\n",
       " ('Pere', 'filter'),\n",
       " ('Sara', 'filter'),\n",
       " ('Emma', 'filter'),\n",
       " ('Oriol', 'filter'),\n",
       " ('Víctor', 'filter'),\n",
       " ('Edu', 'filter')]"
      ]
     },
     "execution_count": 43,
     "metadata": {},
     "output_type": "execute_result"
    }
   ],
   "source": [
    "filter_experts"
   ]
  },
  {
   "cell_type": "code",
   "execution_count": 44,
   "id": "c60abfe4",
   "metadata": {},
   "outputs": [
    {
     "data": {
      "text/plain": [
       "('Víctor', 'filter')"
      ]
     },
     "execution_count": 44,
     "metadata": {},
     "output_type": "execute_result"
    }
   ],
   "source": [
    "random.choice(filter_experts)"
   ]
  },
  {
   "cell_type": "code",
   "execution_count": null,
   "id": "91804b4d",
   "metadata": {},
   "outputs": [],
   "source": [
    "# Filter function\n",
    "     # - applies a function\n",
    "    # - to an interable (list)\n",
    "    # - only returns elements that satisfy a condition\n",
    "    # - returns a boolean -> values\n",
    "    # list? bool? list()"
   ]
  },
  {
   "cell_type": "markdown",
   "id": "1df16233",
   "metadata": {
    "lang": "en"
   },
   "source": [
    "#### First we do it with functions"
   ]
  },
  {
   "cell_type": "code",
   "execution_count": 50,
   "id": "31964478",
   "metadata": {},
   "outputs": [],
   "source": [
    "grades = [50, 60 , 100, 40, 30, 0, 2, 10]"
   ]
  },
  {
   "cell_type": "code",
   "execution_count": 51,
   "id": "6515cc4c",
   "metadata": {},
   "outputs": [],
   "source": [
    "def passed_grades (x):\n",
    "    return x >= 50"
   ]
  },
  {
   "cell_type": "code",
   "execution_count": 52,
   "id": "630ee78a",
   "metadata": {},
   "outputs": [
    {
     "data": {
      "text/plain": [
       "[50, 60, 100]"
      ]
     },
     "execution_count": 52,
     "metadata": {},
     "output_type": "execute_result"
    }
   ],
   "source": [
    "new_list = list(filter(passed_grades, grades))\n",
    "new_list"
   ]
  },
  {
   "cell_type": "code",
   "execution_count": 53,
   "id": "be5d18b1",
   "metadata": {},
   "outputs": [
    {
     "data": {
      "text/plain": [
       "<filter at 0x7f7a028a5c70>"
      ]
     },
     "execution_count": 53,
     "metadata": {},
     "output_type": "execute_result"
    }
   ],
   "source": [
    "filter(passed_grades, grades)"
   ]
  },
  {
   "cell_type": "markdown",
   "id": "24d5f21b",
   "metadata": {
    "lang": "en"
   },
   "source": [
    "Imagine that you want to filter a list and keep only the groups that start with the letter R"
   ]
  },
  {
   "cell_type": "code",
   "execution_count": null,
   "id": "7ce695c1",
   "metadata": {},
   "outputs": [],
   "source": []
  },
  {
   "cell_type": "markdown",
   "id": "498aae32",
   "metadata": {
    "lang": "en"
   },
   "source": [
    "#### Extra: Do it with lambda!"
   ]
  },
  {
   "cell_type": "code",
   "execution_count": 54,
   "id": "1b9871e6",
   "metadata": {},
   "outputs": [
    {
     "data": {
      "text/plain": [
       "[50, 60, 100]"
      ]
     },
     "execution_count": 54,
     "metadata": {},
     "output_type": "execute_result"
    }
   ],
   "source": [
    "new_list = list(filter(lambda x: x >= 50, grades))\n",
    "new_list"
   ]
  },
  {
   "cell_type": "markdown",
   "id": "9b923a35",
   "metadata": {
    "lang": "en"
   },
   "source": [
    "### Reduce"
   ]
  },
  {
   "cell_type": "markdown",
   "id": "5e2eb96a",
   "metadata": {
    "lang": "en"
   },
   "source": [
    "This function is not a built-in function, which means you must first import the functools library for use. The reduce() function cumulatively applies the f() function to the elements of the iterable. The accumulator can be initialized with an optional third argument. The result is the final value of the accumulator.\n",
    "\n",
    "```python\n",
    "reduce(function, iterable[, initial])\n",
    "```"
   ]
  },
  {
   "cell_type": "code",
   "execution_count": 56,
   "id": "c731b8db",
   "metadata": {},
   "outputs": [
    {
     "data": {
      "text/plain": [
       "('Pati.Z', 'reduce')"
      ]
     },
     "execution_count": 56,
     "metadata": {},
     "output_type": "execute_result"
    }
   ],
   "source": [
    "random.choice(reduce_experts)"
   ]
  },
  {
   "cell_type": "code",
   "execution_count": 55,
   "id": "408b7fe6",
   "metadata": {},
   "outputs": [],
   "source": [
    "from functools import reduce "
   ]
  },
  {
   "cell_type": "code",
   "execution_count": null,
   "id": "5600b022",
   "metadata": {},
   "outputs": [],
   "source": [
    "# reduce\n",
    "    # it needs to be imported\n",
    "    # won't give a list: RETURNS A NUMBER\n",
    "    # DOES\n",
    "        # like filter -> \n",
    "        # first two number -> cumjulatively it'll add the third"
   ]
  },
  {
   "cell_type": "markdown",
   "id": "be41def2",
   "metadata": {
    "lang": "en"
   },
   "source": [
    "⚠️ Reduce is a bit more complicated to understand than map() and filter() so let's walk through the following example ⚠️"
   ]
  },
  {
   "cell_type": "code",
   "execution_count": 62,
   "id": "52fcf783",
   "metadata": {},
   "outputs": [],
   "source": [
    "from functools import reduce \n",
    "def paty_function (first_arg, second_arg):\n",
    "    \"\"\"It's gonna add numbers of a list in pairs of two\n",
    "    :first_arg: int\n",
    "    :second_arg: int\n",
    "    \"\"\"\n",
    "    result =  first_arg + second_arg\n",
    "    print(f\"{first_arg} + {second_arg}, resulting in: {result}\")\n",
    "    return result"
   ]
  },
  {
   "cell_type": "code",
   "execution_count": 65,
   "id": "d1017075",
   "metadata": {},
   "outputs": [],
   "source": [
    "my_list = [2, 4, 6, 2, 7, 10]"
   ]
  },
  {
   "cell_type": "code",
   "execution_count": 66,
   "id": "1d9af432",
   "metadata": {
    "scrolled": true
   },
   "outputs": [
    {
     "name": "stdout",
     "output_type": "stream",
     "text": [
      "2 + 4, resulting in: 6\n",
      "6 + 6, resulting in: 12\n",
      "12 + 2, resulting in: 14\n",
      "14 + 7, resulting in: 21\n",
      "21 + 10, resulting in: 31\n"
     ]
    },
    {
     "data": {
      "text/plain": [
       "31"
      ]
     },
     "execution_count": 66,
     "metadata": {},
     "output_type": "execute_result"
    }
   ],
   "source": [
    "reduce(paty_function, my_list) #"
   ]
  },
  {
   "cell_type": "code",
   "execution_count": 68,
   "id": "321495c6",
   "metadata": {},
   "outputs": [
    {
     "name": "stdout",
     "output_type": "stream",
     "text": [
      "10 + 2, resulting in: 12\n",
      "12 + 4, resulting in: 16\n",
      "16 + 6, resulting in: 22\n",
      "22 + 2, resulting in: 24\n",
      "24 + 7, resulting in: 31\n",
      "31 + 10, resulting in: 41\n"
     ]
    },
    {
     "data": {
      "text/plain": [
       "41"
      ]
     },
     "execution_count": 68,
     "metadata": {},
     "output_type": "execute_result"
    }
   ],
   "source": [
    "reduce(paty_function, my_list, 10) # if 10, first number it'll be 16"
   ]
  },
  {
   "cell_type": "code",
   "execution_count": null,
   "id": "7b0e64f7",
   "metadata": {},
   "outputs": [],
   "source": [
    "# function \n",
    "# needs to be imported\n",
    "# takes a function & iterables\n",
    "    # initial\n",
    "# doesnt return an object or a weird looking thing: <filter at 0x7f7a028a5c70>\n",
    "# gives you a number"
   ]
  },
  {
   "cell_type": "markdown",
   "id": "9bcc559e",
   "metadata": {
    "lang": "en"
   },
   "source": [
    "#### What happened?\n",
    "- We start with a list [2, 4, 7, 3] and pass the function add (x, y) to reduce ( ) along with this list, without an initial value\n",
    "\n",
    "- reduce() calls add(2, 4), and add() returns 6\n",
    "\n",
    "- reduce() calls sum(6, 7) (result of the previous call to sum() and the next element in the list as parameters), and sum() returns 13\n",
    "\n",
    "- reduce() calls sum(13, 3), and sum() returns 16\n",
    "\n",
    "Since there are no more elements left in the sequence, reduce() returns 16"
   ]
  },
  {
   "cell_type": "markdown",
   "id": "04ecdfe8",
   "metadata": {
    "lang": "en"
   },
   "source": [
    "Factorial:\n",
    "Amount that results from the multiplication of a certain natural number by all the natural numbers that precede it, excluding zero; is represented by n!"
   ]
  },
  {
   "cell_type": "code",
   "execution_count": 70,
   "id": "415434e3",
   "metadata": {},
   "outputs": [
    {
     "name": "stdout",
     "output_type": "stream",
     "text": [
      "a + b, resulting in: ab\n",
      "ab + c, resulting in: abc\n",
      "abc + d, resulting in: abcd\n"
     ]
    }
   ],
   "source": [
    "a_list_of_strings = [\"a\", \"b\", \"c\", \"d\"]\n",
    "\n",
    "word = reduce(paty_function, a_list_of_strings)"
   ]
  },
  {
   "cell_type": "markdown",
   "id": "0334080d",
   "metadata": {
    "lang": "en"
   },
   "source": [
    "### First we do it with functions"
   ]
  },
  {
   "cell_type": "code",
   "execution_count": null,
   "id": "electrical-knitting",
   "metadata": {},
   "outputs": [],
   "source": []
  },
  {
   "cell_type": "markdown",
   "id": "d678c6ca",
   "metadata": {
    "lang": "en"
   },
   "source": [
    "### Bonus: Do it with lambda!"
   ]
  },
  {
   "cell_type": "code",
   "execution_count": 76,
   "id": "72c750b8",
   "metadata": {},
   "outputs": [
    {
     "data": {
      "text/plain": [
       "'ALPHABET:  A B C D'"
      ]
     },
     "execution_count": 76,
     "metadata": {},
     "output_type": "execute_result"
    }
   ],
   "source": [
    "a_list_of_strings = [\"a\", \"b\", \"c\", \"d\"]\n",
    "\n",
    "word = reduce(lambda a, b: a.upper() + \" \" + b.upper(), a_list_of_strings, \"ALPHABET: \")\n",
    "word"
   ]
  },
  {
   "cell_type": "markdown",
   "id": "69ae8c39",
   "metadata": {
    "lang": "en"
   },
   "source": [
    "## Summary"
   ]
  },
  {
   "cell_type": "code",
   "execution_count": null,
   "id": "73bd382a",
   "metadata": {},
   "outputs": [],
   "source": [
    "# map, filter, reduce\n",
    "# function\n",
    "\n",
    "# 1. Don't try to tackle everything at once\n",
    "# 2. Write the function that targets data types instead of data structures\n",
    "# 3. Later on:\n",
    "    # Loop through the data structures passing the defined functions\n",
    "    # Actually loop OR use map, filter, reduce"
   ]
  },
  {
   "cell_type": "code",
   "execution_count": 78,
   "id": "62b15655",
   "metadata": {},
   "outputs": [
    {
     "data": {
      "text/plain": [
       "[1, 4, 9, 25]"
      ]
     },
     "execution_count": 78,
     "metadata": {},
     "output_type": "execute_result"
    }
   ],
   "source": [
    "def square (list_): # okay\n",
    "    new_list = []\n",
    "    for i in list_:\n",
    "        new_list.append(i**2)\n",
    "        \n",
    "    return new_list\n",
    "square ([1, 2, 3, 5])"
   ]
  },
  {
   "cell_type": "code",
   "execution_count": 79,
   "id": "ff3dc78f",
   "metadata": {},
   "outputs": [
    {
     "data": {
      "text/plain": [
       "[1, 4, 9, 16, 25]"
      ]
     },
     "execution_count": 79,
     "metadata": {},
     "output_type": "execute_result"
    }
   ],
   "source": [
    "def square (one_number): # better\n",
    "    return one_number ** 2\n",
    "\n",
    "list(map(square, [1, 2, 3, 4, 5]))"
   ]
  },
  {
   "cell_type": "markdown",
   "id": "jewish-configuration",
   "metadata": {},
   "source": [
    "## Further materials\n",
    "http://web.mit.edu/6.005/www/sp16/classes/25-map-filter-reduce/    \n"
   ]
  }
 ],
 "metadata": {
  "kernelspec": {
   "display_name": "ironhack",
   "language": "python",
   "name": "ironhack"
  },
  "language_info": {
   "codemirror_mode": {
    "name": "ipython",
    "version": 3
   },
   "file_extension": ".py",
   "mimetype": "text/x-python",
   "name": "python",
   "nbconvert_exporter": "python",
   "pygments_lexer": "ipython3",
   "version": "3.9.12"
  },
  "nbTranslate": {
   "displayLangs": [
    "en",
    "es"
   ],
   "hotkey": "alt-a",
   "langInMainMenu": true,
   "sourceLang": "es",
   "targetLang": "en",
   "useGoogleTranslate": true
  },
  "toc": {
   "base_numbering": 1,
   "nav_menu": {},
   "number_sections": true,
   "sideBar": true,
   "skip_h1_title": true,
   "title_cell": "Table of Contents",
   "title_sidebar": "Contents",
   "toc_cell": true,
   "toc_position": {
    "height": "calc(100% - 180px)",
    "left": "10px",
    "top": "150px",
    "width": "266px"
   },
   "toc_section_display": true,
   "toc_window_display": false
  }
 },
 "nbformat": 4,
 "nbformat_minor": 5
}
