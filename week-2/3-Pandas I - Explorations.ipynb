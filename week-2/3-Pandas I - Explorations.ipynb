{
 "cells": [
  {
   "cell_type": "markdown",
   "id": "1ba831e5",
   "metadata": {},
   "source": [
    "# Worries / Not sure / expectations\n",
    "\n",
    "- Classes: going fast\n",
    "- worried about the labs \n",
    "- labs I dont feel like im learning\n",
    "- datasets? projects...\n",
    "\n",
    "CONTENT\n",
    "- Fast-paced: catch up / concatenated\n",
    "- More intense than expected\n",
    "- No time\n",
    "- Too fast -> can't REMEMBER\n",
    "- Moving forward: things built on top of each oterh (previous)\n",
    "- Python? SQL?\n",
    "\n",
    "\n",
    "LABS\n",
    "- Katas: good for reviewm, buuuuut\n",
    "- too much time for labs\n",
    "- unfinished labs\n",
    "- 100%, 100%: \n",
    "    - 100% of yourself\n",
    "\n",
    "PROJECTS\n",
    "    - project: EDA: exploratory data analysis\n",
    "    - .csv file -> table, \"dirty\" data is not clean\n",
    "    - 4 categories -> \n",
    "        - \"furniture\"\n",
    "        - \"furnitures\"\n",
    "        - \"chairs and stuff\"\n",
    "        - What's the percentage of furnitre sold in this region?\n",
    "\n",
    "LEARNING IN GENERAL - Roller coaster\n",
    "TIME\n",
    "   - checking the feedback\n",
    "   - feedack: projects\n",
    "   \n",
    "- lab vs recap: time? \n",
    "\n",
    "- FAST\n",
    "    - Don't worry about rememering things\n",
    "    - Feeling: \"I feel like I'm not retaining\" \"not learning\"\n",
    "    - Overtime: \"click\" moment\n",
    "    \n",
    "- Best practices\n",
    "- No positive feedback? "
   ]
  },
  {
   "cell_type": "markdown",
   "id": "adaptive-irrigation",
   "metadata": {
    "toc": true
   },
   "source": [
    "<h1>Table of Contents<span class=\"tocSkip\"></span></h1>\n",
    "<div class=\"toc\"><ul class=\"toc-item\"><li><span><a href=\"#Introduction\" data-toc-modified-id=\"Introduction-1\"><span class=\"toc-item-num\">1&nbsp;&nbsp;</span>Introduction</a></span></li><li><span><a href=\"#Installation\" data-toc-modified-id=\"Installation-2\"><span class=\"toc-item-num\">2&nbsp;&nbsp;</span>Installation</a></span></li><li><span><a href=\"#Introduction-to-pandas-data-structures\" data-toc-modified-id=\"Introduction-to-pandas-data-structures-3\"><span class=\"toc-item-num\">3&nbsp;&nbsp;</span>Introduction to pandas data structures</a></span><ul class=\"toc-item\"><li><span><a href=\"#Series\" data-toc-modified-id=\"Series-3.1\"><span class=\"toc-item-num\">3.1&nbsp;&nbsp;</span>Series</a></span></li><li><span><a href=\"#Dataframes\" data-toc-modified-id=\"Dataframes-3.2\"><span class=\"toc-item-num\">3.2&nbsp;&nbsp;</span>Dataframes</a></span><ul class=\"toc-item\"><li><span><a href=\"#From-data-types\" data-toc-modified-id=\"From-data-types-3.2.1\"><span class=\"toc-item-num\">3.2.1&nbsp;&nbsp;</span>From data types</a></span></li><li><span><a href=\"#From-path\" data-toc-modified-id=\"From-path-3.2.2\"><span class=\"toc-item-num\">3.2.2&nbsp;&nbsp;</span>From path</a></span></li><li><span><a href=\"#From-databases\" data-toc-modified-id=\"From-databases-3.2.3\"><span class=\"toc-item-num\">3.2.3&nbsp;&nbsp;</span>From databases</a></span></li></ul></li></ul></li><li><span><a href=\"#Exploratory-analysis-of-a-dataframe\" data-toc-modified-id=\"Exploratory-analysis-of-a-dataframe-4\"><span class=\"toc-item-num\">4&nbsp;&nbsp;</span>Exploratory analysis of a dataframe</a></span><ul class=\"toc-item\"><li><span><a href=\"#Meta-information\" data-toc-modified-id=\"Meta-information-4.1\"><span class=\"toc-item-num\">4.1&nbsp;&nbsp;</span>Meta information</a></span></li><li><span><a href=\"#Previsualization\" data-toc-modified-id=\"Previsualization-4.2\"><span class=\"toc-item-num\">4.2&nbsp;&nbsp;</span>Previsualization</a></span></li><li><span><a href=\"#Order-a-dataframe\" data-toc-modified-id=\"Order-a-dataframe-4.3\"><span class=\"toc-item-num\">4.3&nbsp;&nbsp;</span>Order a dataframe</a></span></li><li><span><a href=\"#NaN-values\" data-toc-modified-id=\"NaN-values-4.4\"><span class=\"toc-item-num\">4.4&nbsp;&nbsp;</span>NaN values</a></span></li><li><span><a href=\"#Basic-descriptive-statistics\" data-toc-modified-id=\"Basic-descriptive-statistics-4.5\"><span class=\"toc-item-num\">4.5&nbsp;&nbsp;</span>Basic descriptive statistics</a></span></li></ul></li><li><span><a href=\"#Pandas-usual-methods\" data-toc-modified-id=\"Pandas-usual-methods-5\"><span class=\"toc-item-num\">5&nbsp;&nbsp;</span>Pandas usual methods</a></span></li><li><span><a href=\"#Further-materials\" data-toc-modified-id=\"Further-materials-6\"><span class=\"toc-item-num\">6&nbsp;&nbsp;</span>Further materials</a></span></li></ul></div>"
   ]
  },
  {
   "cell_type": "markdown",
   "id": "anonymous-academy",
   "metadata": {},
   "source": [
    "# Pandas"
   ]
  },
  {
   "cell_type": "markdown",
   "id": "residential-needle",
   "metadata": {},
   "source": [
    "![pandas](https://media.giphy.com/media/nVsLCrW5iHf6E/giphy.gif)"
   ]
  },
  {
   "cell_type": "markdown",
   "id": "751721df",
   "metadata": {
    "lang": "en"
   },
   "source": [
    "## Introduction\n",
    "Pandas is undoubtedly the most widely used library in the Python ecosystem for data manipulation and analysis. It's fast, powerful, flexible, easy to use and open source.\n",
    "\n",
    "\n",
    "Among its main features:\n",
    "\n",
    "- A fast and efficient **DataFrame** object for data manipulation with built-in indexing* \n",
    "\n",
    "- **Reading and writing** of data in many formats: Microsoft Excel, CSV, SQL databases, etc;\n",
    "\n",
    "- Integrated and efficient methods for all types of data manipulation: missing data, subset, union, merge, etc;\n",
    "\n",
    "- Ease of working with temporary data (in fact, Pandas is named after \"PANnel DAta\")\n",
    "\n",
    "- Good **integration with other data analysis or Machine learning libraries**: scikit-learn, scipy, seaborn, plotly, etc;\n",
    "\n",
    "- It is **widely used** in both the private and academic sectors\n",
    "\n",
    "\n",
    "Pandas provides high-level data structures and functions designed to make working with structured or tabular data fast, easy, and expressive. Since its introduction in 2010, it has helped make Python a powerful and productive data analysis environment. The main pandas objects that will be used in this book are the DataFrame, a column-oriented tabular data structure with row and column labels, and the Series, a labeled one-dimensional array object.\n",
    "\n",
    "Pandas combines the high performance ideas of NumPy with the flexible data manipulation capabilities of spreadsheets and relational databases (such as SQL). It provides sophisticated indexing functionality to make it easy to reshape, slice and dice, perform aggregations, and select subsets of data."
   ]
  },
  {
   "cell_type": "markdown",
   "id": "hourly-nutrition",
   "metadata": {},
   "source": [
    "![image](https://thumbor.forbes.com/thumbor/960x0/https%3A%2F%2Fblogs-images.forbes.com%2Fgilpress%2Ffiles%2F2016%2F03%2FTime-1200x511.jpg)\n",
    "\n",
    "\n",
    "\n",
    "Source: [Forbes](https://www.forbes.com/sites/gilpress/2016/03/23/data-preparation-most-time-consuming-least-enjoyable-data-science-task-survey-says/#1ba071616f63)"
   ]
  },
  {
   "cell_type": "markdown",
   "id": "b6680d33",
   "metadata": {
    "lang": "en"
   },
   "source": [
    "## Installation"
   ]
  },
  {
   "cell_type": "markdown",
   "id": "58d0e351",
   "metadata": {
    "lang": "en"
   },
   "source": [
    "The first thing you should do will always be\n",
    "`pip install pandas`, `conda install pandas`"
   ]
  },
  {
   "cell_type": "code",
   "execution_count": 1,
   "id": "2a586373",
   "metadata": {},
   "outputs": [],
   "source": [
    "# anaconda\n",
    "    # enviroments: ironhack\n",
    "    #pandas\n",
    "    \n",
    "# miniconda\n",
    "    # conda activate ironhack\n",
    "    #pip install pandas"
   ]
  },
  {
   "cell_type": "code",
   "execution_count": 4,
   "id": "psychological-theorem",
   "metadata": {},
   "outputs": [],
   "source": [
    "import pandas as pd\n",
    "import numpy as np"
   ]
  },
  {
   "cell_type": "markdown",
   "id": "960d4f4b",
   "metadata": {
    "lang": "en"
   },
   "source": [
    "## Introduction to pandas data structures\n",
    "To get started with pandas, you'll need to get comfortable with its two working data structures: Series and DataFrame. Although they are not a universal solution to all problems, they provide a solid and easy-to-use foundation for most applications."
   ]
  },
  {
   "cell_type": "code",
   "execution_count": null,
   "id": "be49301d",
   "metadata": {},
   "outputs": [],
   "source": [
    "# pd\n",
    "# DataFrame: tables\n",
    "    # Series: column / row"
   ]
  },
  {
   "cell_type": "markdown",
   "id": "d636439c",
   "metadata": {
    "lang": "en"
   },
   "source": [
    "### Series\n",
    "A Serie is a one-dimensional array object containing a sequence of values ​​(of NumPy-like types) and an associated array of data labels, called its index. The simplest Series is formed from a single array of data:"
   ]
  },
  {
   "cell_type": "code",
   "execution_count": 28,
   "id": "12258656",
   "metadata": {},
   "outputs": [],
   "source": [
    "series_ = pd.Series([1, 2, 3, \"sdsd\", 34534])"
   ]
  },
  {
   "cell_type": "code",
   "execution_count": 29,
   "id": "996b26b9",
   "metadata": {},
   "outputs": [
    {
     "data": {
      "text/plain": [
       "0        1\n",
       "1        2\n",
       "2        3\n",
       "3     sdsd\n",
       "4    34534\n",
       "dtype: object"
      ]
     },
     "execution_count": 29,
     "metadata": {},
     "output_type": "execute_result"
    }
   ],
   "source": [
    "series_ \n",
    "\n",
    "#dtype: object, umbrella term for type of object\n",
    "#dtype: str"
   ]
  },
  {
   "cell_type": "code",
   "execution_count": 31,
   "id": "96f1339e",
   "metadata": {},
   "outputs": [
    {
     "name": "stdout",
     "output_type": "stream",
     "text": [
      "0\n",
      "1\n",
      "2\n",
      "3\n",
      "4\n"
     ]
    }
   ],
   "source": [
    "series_.index\n",
    "\n",
    "for i in series_.index:\n",
    "    print(i)"
   ]
  },
  {
   "cell_type": "code",
   "execution_count": null,
   "id": "4c3e3dc2",
   "metadata": {},
   "outputs": [],
   "source": [
    "# T\n",
    "# transpose\n",
    "# similar methods to numpy"
   ]
  },
  {
   "cell_type": "code",
   "execution_count": null,
   "id": "edd6a8df",
   "metadata": {},
   "outputs": [],
   "source": [
    "# Index that is not just numbers: \n",
    "    # List of IDs may be index\n",
    "    # Dates\n",
    "    "
   ]
  },
  {
   "cell_type": "code",
   "execution_count": 11,
   "id": "d76f40fa",
   "metadata": {},
   "outputs": [
    {
     "data": {
      "text/plain": [
       "RangeIndex(start=0, stop=5, step=1)"
      ]
     },
     "execution_count": 11,
     "metadata": {},
     "output_type": "execute_result"
    }
   ],
   "source": [
    "series_.index"
   ]
  },
  {
   "cell_type": "code",
   "execution_count": 32,
   "id": "12067d53",
   "metadata": {},
   "outputs": [],
   "source": [
    "#[i for i in dir(series_) if \"_\" not in i]"
   ]
  },
  {
   "cell_type": "markdown",
   "id": "a8006ecb",
   "metadata": {
    "lang": "en"
   },
   "source": [
    "The string representation of a Series displayed interactively shows the index on the left and the values ​​on the right. Since we didn't specify an index for the data, a default one consisting of the integers 0 to N - 1 (where N is the length of the data) is created. You can get the array representation and the index object of the Series through its values ​​and index attributes, respectively:"
   ]
  },
  {
   "cell_type": "markdown",
   "id": "24f739f4",
   "metadata": {
    "lang": "en"
   },
   "source": [
    "Another way to think of a Series is as a fixed-length ordered dict, since it is a mapping of index values ​​to data values. It can be used in many contexts where a dictionary could be used.\n",
    "If you have data contained in a Python dict, you can create a Series from it by passing the dict:"
   ]
  },
  {
   "cell_type": "code",
   "execution_count": 12,
   "id": "5cf42dba",
   "metadata": {},
   "outputs": [],
   "source": [
    "some_data = {\n",
    "    \"Ohio\": 87654,\n",
    "    \"Texas\": 678,\n",
    "    \"Oregon\": 6789,\n",
    "    \"Utah\": 5678,\n",
    "    \"something_else\": 567\n",
    "}"
   ]
  },
  {
   "cell_type": "code",
   "execution_count": 13,
   "id": "d75a8b7d",
   "metadata": {},
   "outputs": [
    {
     "data": {
      "text/plain": [
       "Ohio              87654\n",
       "Texas               678\n",
       "Oregon             6789\n",
       "Utah               5678\n",
       "something_else      567\n",
       "dtype: int64"
      ]
     },
     "execution_count": 13,
     "metadata": {},
     "output_type": "execute_result"
    }
   ],
   "source": [
    "my_series = pd.Series(some_data) #class Series(something: dict)\n",
    "my_series"
   ]
  },
  {
   "cell_type": "code",
   "execution_count": null,
   "id": "86022f54",
   "metadata": {},
   "outputs": [],
   "source": [
    "# Keys of the dict: became the index\n",
    "# Values: values"
   ]
  },
  {
   "cell_type": "code",
   "execution_count": 14,
   "id": "c0240532",
   "metadata": {},
   "outputs": [
    {
     "data": {
      "text/plain": [
       "Index(['Ohio', 'Texas', 'Oregon', 'Utah', 'something_else'], dtype='object')"
      ]
     },
     "execution_count": 14,
     "metadata": {},
     "output_type": "execute_result"
    }
   ],
   "source": [
    "my_series.index"
   ]
  },
  {
   "cell_type": "code",
   "execution_count": 15,
   "id": "9297e87b",
   "metadata": {
    "scrolled": true
   },
   "outputs": [
    {
     "data": {
      "text/plain": [
       "array([87654,   678,  6789,  5678,   567])"
      ]
     },
     "execution_count": 15,
     "metadata": {},
     "output_type": "execute_result"
    }
   ],
   "source": [
    "my_series.values"
   ]
  },
  {
   "cell_type": "code",
   "execution_count": null,
   "id": "be27ea1a",
   "metadata": {},
   "outputs": [],
   "source": [
    "# can two methods have the same name?\n",
    "# a: no"
   ]
  },
  {
   "cell_type": "markdown",
   "id": "eb3ede87",
   "metadata": {
    "lang": "en"
   },
   "source": [
    "When only one dict is passed, the resulting String index will have the keys of the dict in order. You can override this by passing the keys of the dict in the order you want them to appear in the resulting String:"
   ]
  },
  {
   "cell_type": "code",
   "execution_count": 25,
   "id": "ad014eae",
   "metadata": {},
   "outputs": [],
   "source": [
    "# class Series ():\n",
    "    #def __init__(self, data, index):\n",
    "    \n",
    "# 1. The data    \n",
    "some_data = {\n",
    "    \"Ohio\": 87654,\n",
    "    \"Texas\": 678,\n",
    "    \"Oregon\": 6789,\n",
    "    \"Utah\": 5678,\n",
    "    \"something_else\": 567\n",
    "}\n",
    "\n",
    "\n",
    "# 2. Overwriting the index\n",
    "states = [\"Ohio\", \"Texas\", \"oregón\", \"Utah\", \"California\"]\n",
    "\n",
    "# 3. Instantiating the series: Index will become the states list\n",
    "\n",
    "my_series = pd.Series(data = some_data, index = states)"
   ]
  },
  {
   "cell_type": "code",
   "execution_count": 27,
   "id": "1bfcac3d",
   "metadata": {},
   "outputs": [
    {
     "data": {
      "text/plain": [
       "Index(['Ohio', 'Texas', 'oregón', 'Utah', 'California'], dtype='object')"
      ]
     },
     "execution_count": 27,
     "metadata": {},
     "output_type": "execute_result"
    }
   ],
   "source": [
    "my_series.index"
   ]
  },
  {
   "cell_type": "code",
   "execution_count": 26,
   "id": "332514cd",
   "metadata": {},
   "outputs": [
    {
     "data": {
      "text/plain": [
       "Ohio          87654.0\n",
       "Texas           678.0\n",
       "oregón            NaN\n",
       "Utah           5678.0\n",
       "California        NaN\n",
       "dtype: float64"
      ]
     },
     "execution_count": 26,
     "metadata": {},
     "output_type": "execute_result"
    }
   ],
   "source": [
    "my_series # In the index corresponding to California, no value -> NaN\n",
    "\n",
    "# NaN: Not a Number, missing value, empty / null"
   ]
  },
  {
   "cell_type": "code",
   "execution_count": null,
   "id": "080dbe5f",
   "metadata": {},
   "outputs": [],
   "source": [
    "# Pandas\n",
    "    # 1. Series\n",
    "        # 1.1. Index: can be overwritten\n",
    "        # 1.2. Values: values\n",
    "        \n",
    "    # 2. Dataframes\n",
    "       # Vertical series\n",
    "        # horizontal series"
   ]
  },
  {
   "cell_type": "markdown",
   "id": "73a97ba9",
   "metadata": {
    "lang": "en"
   },
   "source": [
    "Here, the three values ​​found in sdata were placed in the appropriate places, but since no value was found for 'California', it appears as NaN (not a number), which is considered in pandas to mark missing values ​​or NA. Since \"Utah\" was not included in the states, it is excluded from the resulting object."
   ]
  },
  {
   "cell_type": "code",
   "execution_count": null,
   "id": "df1d3cac",
   "metadata": {},
   "outputs": [],
   "source": []
  },
  {
   "cell_type": "markdown",
   "id": "6686773c",
   "metadata": {
    "lang": "en"
   },
   "source": [
    "### Dataframes\n",
    "Pandas can read and write data from a wide variety of formats. [Read the documentation](https://pandas.pydata.org/pandas-docs/stable/user_guide/io.html)\n",
    "Although one of the most common is from a dict of lists of equal length or NumPy arrays:"
   ]
  },
  {
   "cell_type": "markdown",
   "id": "06ca0560",
   "metadata": {},
   "source": [
    "#### From data types"
   ]
  },
  {
   "cell_type": "markdown",
   "id": "12bcad45",
   "metadata": {},
   "source": [
    "`from dictionaries with lists as values`"
   ]
  },
  {
   "cell_type": "code",
   "execution_count": 35,
   "id": "c8586d92",
   "metadata": {},
   "outputs": [],
   "source": [
    "dictionary_with_lists_as_values = {\n",
    "    \"state\": [\"California\", \"New york\", \"Utah\", \"Oregon\"],\n",
    "    \"year\": [2023, 1809, 2008, 1900],\n",
    "    \"something_else\": [\"Great\", \"Crowded\", \"?\", \"??\"]\n",
    "}"
   ]
  },
  {
   "cell_type": "code",
   "execution_count": 36,
   "id": "cb75a3ff",
   "metadata": {},
   "outputs": [
    {
     "data": {
      "text/html": [
       "<div>\n",
       "<style scoped>\n",
       "    .dataframe tbody tr th:only-of-type {\n",
       "        vertical-align: middle;\n",
       "    }\n",
       "\n",
       "    .dataframe tbody tr th {\n",
       "        vertical-align: top;\n",
       "    }\n",
       "\n",
       "    .dataframe thead th {\n",
       "        text-align: right;\n",
       "    }\n",
       "</style>\n",
       "<table border=\"1\" class=\"dataframe\">\n",
       "  <thead>\n",
       "    <tr style=\"text-align: right;\">\n",
       "      <th></th>\n",
       "      <th>state</th>\n",
       "      <th>year</th>\n",
       "      <th>something_else</th>\n",
       "    </tr>\n",
       "  </thead>\n",
       "  <tbody>\n",
       "    <tr>\n",
       "      <th>0</th>\n",
       "      <td>California</td>\n",
       "      <td>2023</td>\n",
       "      <td>Great</td>\n",
       "    </tr>\n",
       "    <tr>\n",
       "      <th>1</th>\n",
       "      <td>New york</td>\n",
       "      <td>1809</td>\n",
       "      <td>Crowded</td>\n",
       "    </tr>\n",
       "    <tr>\n",
       "      <th>2</th>\n",
       "      <td>Utah</td>\n",
       "      <td>2008</td>\n",
       "      <td>?</td>\n",
       "    </tr>\n",
       "    <tr>\n",
       "      <th>3</th>\n",
       "      <td>Oregon</td>\n",
       "      <td>1900</td>\n",
       "      <td>??</td>\n",
       "    </tr>\n",
       "  </tbody>\n",
       "</table>\n",
       "</div>"
      ],
      "text/plain": [
       "        state  year something_else\n",
       "0  California  2023          Great\n",
       "1    New york  1809        Crowded\n",
       "2        Utah  2008              ?\n",
       "3      Oregon  1900             ??"
      ]
     },
     "execution_count": 36,
     "metadata": {},
     "output_type": "execute_result"
    }
   ],
   "source": [
    "df = pd.DataFrame(dictionary_with_lists_as_values)\n",
    "df"
   ]
  },
  {
   "cell_type": "code",
   "execution_count": 41,
   "id": "18bd0210",
   "metadata": {},
   "outputs": [
    {
     "data": {
      "text/html": [
       "<div>\n",
       "<style scoped>\n",
       "    .dataframe tbody tr th:only-of-type {\n",
       "        vertical-align: middle;\n",
       "    }\n",
       "\n",
       "    .dataframe tbody tr th {\n",
       "        vertical-align: top;\n",
       "    }\n",
       "\n",
       "    .dataframe thead th {\n",
       "        text-align: right;\n",
       "    }\n",
       "</style>\n",
       "<table border=\"1\" class=\"dataframe\">\n",
       "  <thead>\n",
       "    <tr style=\"text-align: right;\">\n",
       "      <th></th>\n",
       "      <th>state</th>\n",
       "      <th>year</th>\n",
       "      <th>something_else</th>\n",
       "    </tr>\n",
       "  </thead>\n",
       "  <tbody>\n",
       "    <tr>\n",
       "      <th>0</th>\n",
       "      <td>California</td>\n",
       "      <td>2023</td>\n",
       "      <td>Great</td>\n",
       "    </tr>\n",
       "    <tr>\n",
       "      <th>1</th>\n",
       "      <td>New york</td>\n",
       "      <td>1809</td>\n",
       "      <td>Crowded</td>\n",
       "    </tr>\n",
       "    <tr>\n",
       "      <th>2</th>\n",
       "      <td>Utah</td>\n",
       "      <td>2008</td>\n",
       "      <td>?</td>\n",
       "    </tr>\n",
       "    <tr>\n",
       "      <th>3</th>\n",
       "      <td>NaN</td>\n",
       "      <td>1900</td>\n",
       "      <td>??</td>\n",
       "    </tr>\n",
       "  </tbody>\n",
       "</table>\n",
       "</div>"
      ],
      "text/plain": [
       "        state  year something_else\n",
       "0  California  2023          Great\n",
       "1    New york  1809        Crowded\n",
       "2        Utah  2008              ?\n",
       "3         NaN  1900             ??"
      ]
     },
     "execution_count": 41,
     "metadata": {},
     "output_type": "execute_result"
    }
   ],
   "source": [
    "import numpy as np\n",
    "\n",
    "dictionary_with_lists_as_values = {\n",
    "    \"state\": [\"California\", \"New york\", \"Utah\", np.NaN], # one less element\n",
    "    \"year\": [2023, 1809, 2008, 1900],\n",
    "    \"something_else\": [\"Great\", \"Crowded\", \"?\", \"??\"]\n",
    "}\n",
    "\n",
    "# Error \n",
    "# NaN in Oregon\n",
    "# One less row\n",
    "\n",
    "\n",
    "# ValueError: All arrays must be of the same length\n",
    "pd.DataFrame(dictionary_with_lists_as_values)"
   ]
  },
  {
   "cell_type": "code",
   "execution_count": 39,
   "id": "0adf6bef",
   "metadata": {},
   "outputs": [],
   "source": [
    "dictionary_with_lists_as_values = {\n",
    "    \"state\": [\"California\", \"New york\", \"Utah\"], # one less element\n",
    "    \"year\": [2023, 1809, 2008, 1900],\n",
    "    \"something_else\": [\"Great\", \"Crowded\", \"?\", \"??\"]\n",
    "}\n",
    "\n",
    "# Error \n",
    "# NaN in Oregon\n",
    "# One less row\n",
    "\n",
    "\n",
    "# ValueError: All arrays must be of the same length\n",
    "# df = pd.DataFrame(dictionary_with_lists_as_values)"
   ]
  },
  {
   "cell_type": "markdown",
   "id": "52162b19",
   "metadata": {
    "lang": "en"
   },
   "source": [
    "Since we are using Jupyter Notebook, pandas DataFrame objects will be displayed as a more browser-friendly HTML table. [More info on this](https://pandas.pydata.org/pandas-docs/stable/user_guide/options.html)"
   ]
  },
  {
   "cell_type": "code",
   "execution_count": null,
   "id": "3d3af879",
   "metadata": {},
   "outputs": [],
   "source": []
  },
  {
   "cell_type": "markdown",
   "id": "d396870e",
   "metadata": {},
   "source": [
    "`from list of dictionaries`"
   ]
  },
  {
   "cell_type": "markdown",
   "id": "9ef077da",
   "metadata": {
    "lang": "en"
   },
   "source": [
    "If I create a dataframe through a list of dictionaries:\n",
    "- Each dictionary will be a row\n",
    "- The keys will be the names of the columns\n",
    "- They have to have the same structure"
   ]
  },
  {
   "cell_type": "code",
   "execution_count": 50,
   "id": "db2f7670",
   "metadata": {},
   "outputs": [
    {
     "data": {
      "text/html": [
       "<div>\n",
       "<style scoped>\n",
       "    .dataframe tbody tr th:only-of-type {\n",
       "        vertical-align: middle;\n",
       "    }\n",
       "\n",
       "    .dataframe tbody tr th {\n",
       "        vertical-align: top;\n",
       "    }\n",
       "\n",
       "    .dataframe thead th {\n",
       "        text-align: right;\n",
       "    }\n",
       "</style>\n",
       "<table border=\"1\" class=\"dataframe\">\n",
       "  <thead>\n",
       "    <tr style=\"text-align: right;\">\n",
       "      <th></th>\n",
       "      <th>state</th>\n",
       "      <th>year</th>\n",
       "      <th>something_else</th>\n",
       "      <th>states</th>\n",
       "    </tr>\n",
       "  </thead>\n",
       "  <tbody>\n",
       "    <tr>\n",
       "      <th>0</th>\n",
       "      <td>CA</td>\n",
       "      <td>2023</td>\n",
       "      <td>question mark</td>\n",
       "      <td>NaN</td>\n",
       "    </tr>\n",
       "    <tr>\n",
       "      <th>1</th>\n",
       "      <td>NY</td>\n",
       "      <td>1900</td>\n",
       "      <td>😀</td>\n",
       "      <td>NaN</td>\n",
       "    </tr>\n",
       "    <tr>\n",
       "      <th>2</th>\n",
       "      <td>OR</td>\n",
       "      <td>2008</td>\n",
       "      <td>Random word</td>\n",
       "      <td>NaN</td>\n",
       "    </tr>\n",
       "    <tr>\n",
       "      <th>3</th>\n",
       "      <td>NaN</td>\n",
       "      <td>1901</td>\n",
       "      <td>Building my first df</td>\n",
       "      <td>UT</td>\n",
       "    </tr>\n",
       "    <tr>\n",
       "      <th>4</th>\n",
       "      <td>NaN</td>\n",
       "      <td>1901</td>\n",
       "      <td>Building my first df</td>\n",
       "      <td>UT</td>\n",
       "    </tr>\n",
       "    <tr>\n",
       "      <th>5</th>\n",
       "      <td>NaN</td>\n",
       "      <td>1901</td>\n",
       "      <td>Building my first df</td>\n",
       "      <td>UT</td>\n",
       "    </tr>\n",
       "  </tbody>\n",
       "</table>\n",
       "</div>"
      ],
      "text/plain": [
       "  state  year        something_else states\n",
       "0    CA  2023         question mark    NaN\n",
       "1    NY  1900                     😀    NaN\n",
       "2    OR  2008           Random word    NaN\n",
       "3   NaN  1901  Building my first df     UT\n",
       "4   NaN  1901  Building my first df     UT\n",
       "5   NaN  1901  Building my first df     UT"
      ]
     },
     "execution_count": 50,
     "metadata": {},
     "output_type": "execute_result"
    }
   ],
   "source": [
    "# state\n",
    "# year\n",
    "# something else\n",
    "\n",
    "list_of_dictionaries = [  # total # of keys: 3 for all\n",
    "    {\"state\": \"CA\", \"year\": 2023, \"something_else\": \"question mark\"},\n",
    "    {\"state\": \"NY\", \"year\": 1900, \"something_else\": \"😀\"},\n",
    "    {\"state\": \"OR\", \"year\": 2008, \"something_else\": \"Random word\"},\n",
    "    {\"states\": \"UT\", \"year\": 1901, \"something_else\": \"Building my first df\"},\n",
    "    {\"states\": \"UT\", \"year\": 1901, \"something_else\": \"Building my first df\"},\n",
    "    {\"states\": \"UT\", \"year\": 1901, \"something_else\": \"Building my first df\"}\n",
    "\n",
    "]\n",
    "\n",
    "df = pd.DataFrame(list_of_dictionaries)\n",
    "df"
   ]
  },
  {
   "cell_type": "code",
   "execution_count": 52,
   "id": "0ce6a5b4",
   "metadata": {},
   "outputs": [],
   "source": [
    "#[i for i in dir(df) if \"_\" not in i]"
   ]
  },
  {
   "cell_type": "code",
   "execution_count": 55,
   "id": "a6ffe89d",
   "metadata": {},
   "outputs": [],
   "source": [
    "# q: Make the idnex start at 1\n",
    "\n",
    "# Class DataFrame ()\n",
    "    # Naming conventions: class are capitalized\n",
    "# Methods\n",
    "# Attribues\n",
    "    # Index: attribute\n",
    "\n",
    "df.index = range(1,7,1)\n",
    "\n",
    "# Attributes of instances can be overwritten"
   ]
  },
  {
   "cell_type": "code",
   "execution_count": null,
   "id": "800908bb",
   "metadata": {},
   "outputs": [],
   "source": [
    "class DataFrame(): \n",
    "    def __init__(data, index=None):\n",
    "        self.data = data\n",
    "        self.index = index\n",
    "        \n",
    "    def drop_columns ():\n",
    "        pass\n",
    "    \n",
    "df = pd.DataFrame(dictionary_with_lists)\n",
    "df.index # range(0, 6)\n",
    "df.index = range(10, 17)\n",
    "\n",
    "# overwriting the attribute of an instance I created\n",
    "# from the class DataFrame\n",
    "\n",
    "# saxon.health -= 30\n",
    "# overwriting the atribute of the instance im working with\n",
    "\n",
    "[i for i in dir(df) if \"_\" not in i] # attributes and methods"
   ]
  },
  {
   "cell_type": "code",
   "execution_count": 56,
   "id": "334b9bdf",
   "metadata": {},
   "outputs": [
    {
     "data": {
      "text/html": [
       "<div>\n",
       "<style scoped>\n",
       "    .dataframe tbody tr th:only-of-type {\n",
       "        vertical-align: middle;\n",
       "    }\n",
       "\n",
       "    .dataframe tbody tr th {\n",
       "        vertical-align: top;\n",
       "    }\n",
       "\n",
       "    .dataframe thead th {\n",
       "        text-align: right;\n",
       "    }\n",
       "</style>\n",
       "<table border=\"1\" class=\"dataframe\">\n",
       "  <thead>\n",
       "    <tr style=\"text-align: right;\">\n",
       "      <th></th>\n",
       "      <th>state</th>\n",
       "      <th>year</th>\n",
       "      <th>something_else</th>\n",
       "      <th>states</th>\n",
       "    </tr>\n",
       "  </thead>\n",
       "  <tbody>\n",
       "    <tr>\n",
       "      <th>1</th>\n",
       "      <td>CA</td>\n",
       "      <td>2023</td>\n",
       "      <td>question mark</td>\n",
       "      <td>NaN</td>\n",
       "    </tr>\n",
       "    <tr>\n",
       "      <th>2</th>\n",
       "      <td>NY</td>\n",
       "      <td>1900</td>\n",
       "      <td>😀</td>\n",
       "      <td>NaN</td>\n",
       "    </tr>\n",
       "    <tr>\n",
       "      <th>3</th>\n",
       "      <td>OR</td>\n",
       "      <td>2008</td>\n",
       "      <td>Random word</td>\n",
       "      <td>NaN</td>\n",
       "    </tr>\n",
       "    <tr>\n",
       "      <th>4</th>\n",
       "      <td>NaN</td>\n",
       "      <td>1901</td>\n",
       "      <td>Building my first df</td>\n",
       "      <td>UT</td>\n",
       "    </tr>\n",
       "    <tr>\n",
       "      <th>5</th>\n",
       "      <td>NaN</td>\n",
       "      <td>1901</td>\n",
       "      <td>Building my first df</td>\n",
       "      <td>UT</td>\n",
       "    </tr>\n",
       "    <tr>\n",
       "      <th>6</th>\n",
       "      <td>NaN</td>\n",
       "      <td>1901</td>\n",
       "      <td>Building my first df</td>\n",
       "      <td>UT</td>\n",
       "    </tr>\n",
       "  </tbody>\n",
       "</table>\n",
       "</div>"
      ],
      "text/plain": [
       "  state  year        something_else states\n",
       "1    CA  2023         question mark    NaN\n",
       "2    NY  1900                     😀    NaN\n",
       "3    OR  2008           Random word    NaN\n",
       "4   NaN  1901  Building my first df     UT\n",
       "5   NaN  1901  Building my first df     UT\n",
       "6   NaN  1901  Building my first df     UT"
      ]
     },
     "execution_count": 56,
     "metadata": {},
     "output_type": "execute_result"
    }
   ],
   "source": [
    "df"
   ]
  },
  {
   "cell_type": "markdown",
   "id": "a7c63fee",
   "metadata": {},
   "source": [
    "[pandas from dict](https://pandas.pydata.org/docs/reference/api/pandas.DataFrame.from_dict.html)"
   ]
  },
  {
   "cell_type": "markdown",
   "id": "3fbaae69",
   "metadata": {
    "lang": "en"
   },
   "source": [
    "#### From path"
   ]
  },
  {
   "cell_type": "markdown",
   "id": "8818e830",
   "metadata": {},
   "source": [
    "`.csv`"
   ]
  },
  {
   "cell_type": "code",
   "execution_count": null,
   "id": "0226f9b0",
   "metadata": {},
   "outputs": [],
   "source": [
    "# sep\n",
    "# csv stands for: comma separated values"
   ]
  },
  {
   "cell_type": "code",
   "execution_count": 65,
   "id": "f6a7928d",
   "metadata": {},
   "outputs": [
    {
     "data": {
      "text/html": [
       "<div>\n",
       "<style scoped>\n",
       "    .dataframe tbody tr th:only-of-type {\n",
       "        vertical-align: middle;\n",
       "    }\n",
       "\n",
       "    .dataframe tbody tr th {\n",
       "        vertical-align: top;\n",
       "    }\n",
       "\n",
       "    .dataframe thead th {\n",
       "        text-align: right;\n",
       "    }\n",
       "</style>\n",
       "<table border=\"1\" class=\"dataframe\">\n",
       "  <thead>\n",
       "    <tr style=\"text-align: right;\">\n",
       "      <th></th>\n",
       "      <th>Unnamed: 0</th>\n",
       "      <th>Date</th>\n",
       "      <th>AveragePrice</th>\n",
       "      <th>Total Volume</th>\n",
       "      <th>4046</th>\n",
       "      <th>4225</th>\n",
       "      <th>4770</th>\n",
       "      <th>Total Bags</th>\n",
       "      <th>Small Bags</th>\n",
       "      <th>Large Bags</th>\n",
       "      <th>XLarge Bags</th>\n",
       "      <th>type</th>\n",
       "      <th>year</th>\n",
       "      <th>region</th>\n",
       "    </tr>\n",
       "  </thead>\n",
       "  <tbody>\n",
       "    <tr>\n",
       "      <th>0</th>\n",
       "      <td>0</td>\n",
       "      <td>2015-12-27</td>\n",
       "      <td>1.33</td>\n",
       "      <td>64236.62</td>\n",
       "      <td>1036.74</td>\n",
       "      <td>54454.85</td>\n",
       "      <td>48.16</td>\n",
       "      <td>8696.87</td>\n",
       "      <td>8603.62</td>\n",
       "      <td>93.25</td>\n",
       "      <td>0.0</td>\n",
       "      <td>conventional</td>\n",
       "      <td>2015</td>\n",
       "      <td>Albany</td>\n",
       "    </tr>\n",
       "    <tr>\n",
       "      <th>1</th>\n",
       "      <td>1</td>\n",
       "      <td>2015-12-20</td>\n",
       "      <td>1.35</td>\n",
       "      <td>54876.98</td>\n",
       "      <td>674.28</td>\n",
       "      <td>44638.81</td>\n",
       "      <td>58.33</td>\n",
       "      <td>9505.56</td>\n",
       "      <td>9408.07</td>\n",
       "      <td>97.49</td>\n",
       "      <td>0.0</td>\n",
       "      <td>conventional</td>\n",
       "      <td>2015</td>\n",
       "      <td>Albany</td>\n",
       "    </tr>\n",
       "    <tr>\n",
       "      <th>2</th>\n",
       "      <td>2</td>\n",
       "      <td>2015-12-13</td>\n",
       "      <td>0.93</td>\n",
       "      <td>118220.22</td>\n",
       "      <td>794.70</td>\n",
       "      <td>109149.67</td>\n",
       "      <td>130.50</td>\n",
       "      <td>8145.35</td>\n",
       "      <td>8042.21</td>\n",
       "      <td>103.14</td>\n",
       "      <td>0.0</td>\n",
       "      <td>conventional</td>\n",
       "      <td>2015</td>\n",
       "      <td>Albany</td>\n",
       "    </tr>\n",
       "    <tr>\n",
       "      <th>3</th>\n",
       "      <td>3</td>\n",
       "      <td>2015-12-06</td>\n",
       "      <td>1.08</td>\n",
       "      <td>78992.15</td>\n",
       "      <td>1132.00</td>\n",
       "      <td>71976.41</td>\n",
       "      <td>72.58</td>\n",
       "      <td>5811.16</td>\n",
       "      <td>5677.40</td>\n",
       "      <td>133.76</td>\n",
       "      <td>0.0</td>\n",
       "      <td>conventional</td>\n",
       "      <td>2015</td>\n",
       "      <td>Albany</td>\n",
       "    </tr>\n",
       "    <tr>\n",
       "      <th>4</th>\n",
       "      <td>4</td>\n",
       "      <td>2015-11-29</td>\n",
       "      <td>1.28</td>\n",
       "      <td>51039.60</td>\n",
       "      <td>941.48</td>\n",
       "      <td>43838.39</td>\n",
       "      <td>75.78</td>\n",
       "      <td>6183.95</td>\n",
       "      <td>5986.26</td>\n",
       "      <td>197.69</td>\n",
       "      <td>0.0</td>\n",
       "      <td>conventional</td>\n",
       "      <td>2015</td>\n",
       "      <td>Albany</td>\n",
       "    </tr>\n",
       "    <tr>\n",
       "      <th>...</th>\n",
       "      <td>...</td>\n",
       "      <td>...</td>\n",
       "      <td>...</td>\n",
       "      <td>...</td>\n",
       "      <td>...</td>\n",
       "      <td>...</td>\n",
       "      <td>...</td>\n",
       "      <td>...</td>\n",
       "      <td>...</td>\n",
       "      <td>...</td>\n",
       "      <td>...</td>\n",
       "      <td>...</td>\n",
       "      <td>...</td>\n",
       "      <td>...</td>\n",
       "    </tr>\n",
       "    <tr>\n",
       "      <th>18244</th>\n",
       "      <td>7</td>\n",
       "      <td>2018-02-04</td>\n",
       "      <td>1.63</td>\n",
       "      <td>17074.83</td>\n",
       "      <td>2046.96</td>\n",
       "      <td>1529.20</td>\n",
       "      <td>0.00</td>\n",
       "      <td>13498.67</td>\n",
       "      <td>13066.82</td>\n",
       "      <td>431.85</td>\n",
       "      <td>0.0</td>\n",
       "      <td>organic</td>\n",
       "      <td>2018</td>\n",
       "      <td>WestTexNewMexico</td>\n",
       "    </tr>\n",
       "    <tr>\n",
       "      <th>18245</th>\n",
       "      <td>8</td>\n",
       "      <td>2018-01-28</td>\n",
       "      <td>1.71</td>\n",
       "      <td>13888.04</td>\n",
       "      <td>1191.70</td>\n",
       "      <td>3431.50</td>\n",
       "      <td>0.00</td>\n",
       "      <td>9264.84</td>\n",
       "      <td>8940.04</td>\n",
       "      <td>324.80</td>\n",
       "      <td>0.0</td>\n",
       "      <td>organic</td>\n",
       "      <td>2018</td>\n",
       "      <td>WestTexNewMexico</td>\n",
       "    </tr>\n",
       "    <tr>\n",
       "      <th>18246</th>\n",
       "      <td>9</td>\n",
       "      <td>2018-01-21</td>\n",
       "      <td>1.87</td>\n",
       "      <td>13766.76</td>\n",
       "      <td>1191.92</td>\n",
       "      <td>2452.79</td>\n",
       "      <td>727.94</td>\n",
       "      <td>9394.11</td>\n",
       "      <td>9351.80</td>\n",
       "      <td>42.31</td>\n",
       "      <td>0.0</td>\n",
       "      <td>organic</td>\n",
       "      <td>2018</td>\n",
       "      <td>WestTexNewMexico</td>\n",
       "    </tr>\n",
       "    <tr>\n",
       "      <th>18247</th>\n",
       "      <td>10</td>\n",
       "      <td>2018-01-14</td>\n",
       "      <td>1.93</td>\n",
       "      <td>16205.22</td>\n",
       "      <td>1527.63</td>\n",
       "      <td>2981.04</td>\n",
       "      <td>727.01</td>\n",
       "      <td>10969.54</td>\n",
       "      <td>10919.54</td>\n",
       "      <td>50.00</td>\n",
       "      <td>0.0</td>\n",
       "      <td>organic</td>\n",
       "      <td>2018</td>\n",
       "      <td>WestTexNewMexico</td>\n",
       "    </tr>\n",
       "    <tr>\n",
       "      <th>18248</th>\n",
       "      <td>11</td>\n",
       "      <td>2018-01-07</td>\n",
       "      <td>1.62</td>\n",
       "      <td>17489.58</td>\n",
       "      <td>2894.77</td>\n",
       "      <td>2356.13</td>\n",
       "      <td>224.53</td>\n",
       "      <td>12014.15</td>\n",
       "      <td>11988.14</td>\n",
       "      <td>26.01</td>\n",
       "      <td>0.0</td>\n",
       "      <td>organic</td>\n",
       "      <td>2018</td>\n",
       "      <td>WestTexNewMexico</td>\n",
       "    </tr>\n",
       "  </tbody>\n",
       "</table>\n",
       "<p>18249 rows × 14 columns</p>\n",
       "</div>"
      ],
      "text/plain": [
       "       Unnamed: 0        Date  AveragePrice  Total Volume     4046       4225   \n",
       "0               0  2015-12-27          1.33      64236.62  1036.74   54454.85  \\\n",
       "1               1  2015-12-20          1.35      54876.98   674.28   44638.81   \n",
       "2               2  2015-12-13          0.93     118220.22   794.70  109149.67   \n",
       "3               3  2015-12-06          1.08      78992.15  1132.00   71976.41   \n",
       "4               4  2015-11-29          1.28      51039.60   941.48   43838.39   \n",
       "...           ...         ...           ...           ...      ...        ...   \n",
       "18244           7  2018-02-04          1.63      17074.83  2046.96    1529.20   \n",
       "18245           8  2018-01-28          1.71      13888.04  1191.70    3431.50   \n",
       "18246           9  2018-01-21          1.87      13766.76  1191.92    2452.79   \n",
       "18247          10  2018-01-14          1.93      16205.22  1527.63    2981.04   \n",
       "18248          11  2018-01-07          1.62      17489.58  2894.77    2356.13   \n",
       "\n",
       "         4770  Total Bags  Small Bags  Large Bags  XLarge Bags          type   \n",
       "0       48.16     8696.87     8603.62       93.25          0.0  conventional  \\\n",
       "1       58.33     9505.56     9408.07       97.49          0.0  conventional   \n",
       "2      130.50     8145.35     8042.21      103.14          0.0  conventional   \n",
       "3       72.58     5811.16     5677.40      133.76          0.0  conventional   \n",
       "4       75.78     6183.95     5986.26      197.69          0.0  conventional   \n",
       "...       ...         ...         ...         ...          ...           ...   \n",
       "18244    0.00    13498.67    13066.82      431.85          0.0       organic   \n",
       "18245    0.00     9264.84     8940.04      324.80          0.0       organic   \n",
       "18246  727.94     9394.11     9351.80       42.31          0.0       organic   \n",
       "18247  727.01    10969.54    10919.54       50.00          0.0       organic   \n",
       "18248  224.53    12014.15    11988.14       26.01          0.0       organic   \n",
       "\n",
       "       year            region  \n",
       "0      2015            Albany  \n",
       "1      2015            Albany  \n",
       "2      2015            Albany  \n",
       "3      2015            Albany  \n",
       "4      2015            Albany  \n",
       "...     ...               ...  \n",
       "18244  2018  WestTexNewMexico  \n",
       "18245  2018  WestTexNewMexico  \n",
       "18246  2018  WestTexNewMexico  \n",
       "18247  2018  WestTexNewMexico  \n",
       "18248  2018  WestTexNewMexico  \n",
       "\n",
       "[18249 rows x 14 columns]"
      ]
     },
     "execution_count": 65,
     "metadata": {},
     "output_type": "execute_result"
    }
   ],
   "source": [
    "df = pd.read_csv(\"../datasets/avocado_kaggle.csv\") # encoding\n",
    "df"
   ]
  },
  {
   "cell_type": "markdown",
   "id": "985db2a6",
   "metadata": {},
   "source": [
    "`.xlsx`, `xls`, `xlsm`, `xlsb`, `odf`, `ods`, `odt`"
   ]
  },
  {
   "cell_type": "code",
   "execution_count": 37,
   "id": "317e070f",
   "metadata": {
    "scrolled": true
   },
   "outputs": [],
   "source": [
    "#df_from_excel = pd.read_excel(\"../datasets/Online Retail.xlsx\", engine=\"openpyxl\", nrows=5)\n",
    "#df_from_excel.head()"
   ]
  },
  {
   "cell_type": "markdown",
   "id": "0f9178b7",
   "metadata": {},
   "source": [
    "`Reading different sheeets`"
   ]
  },
  {
   "cell_type": "code",
   "execution_count": 38,
   "id": "0407b54f",
   "metadata": {},
   "outputs": [],
   "source": [
    "# Default tab (first one)\n",
    "\n",
    "#df_from_excel_new_tab = pd.read_excel(\"../datasets/Online Retail.xlsx\", engine=\"openpyxl\", nrows=5)\n",
    "#df_from_excel_new_tab.head()"
   ]
  },
  {
   "cell_type": "code",
   "execution_count": 39,
   "id": "bfeb8fef",
   "metadata": {},
   "outputs": [],
   "source": [
    "# Other tab: (new_tab)\n",
    "#df_from_excel_new_tab = pd.read_excel(\"../datasets/Online Retail.xlsx\", engine=\"openpyxl\", \"new_tab\", nrows=5)\n",
    "#df_from_excel_new_tab.head()"
   ]
  },
  {
   "cell_type": "markdown",
   "id": "8ef0b2ac",
   "metadata": {},
   "source": [
    "`web`: https://raw.githubusercontent.com/datapackage-examples/sample-csv/master/sample.csv"
   ]
  },
  {
   "cell_type": "code",
   "execution_count": 67,
   "id": "900acafb",
   "metadata": {},
   "outputs": [
    {
     "data": {
      "text/html": [
       "<div>\n",
       "<style scoped>\n",
       "    .dataframe tbody tr th:only-of-type {\n",
       "        vertical-align: middle;\n",
       "    }\n",
       "\n",
       "    .dataframe tbody tr th {\n",
       "        vertical-align: top;\n",
       "    }\n",
       "\n",
       "    .dataframe thead th {\n",
       "        text-align: right;\n",
       "    }\n",
       "</style>\n",
       "<table border=\"1\" class=\"dataframe\">\n",
       "  <thead>\n",
       "    <tr style=\"text-align: right;\">\n",
       "      <th></th>\n",
       "      <th>header 0</th>\n",
       "      <th>header 1</th>\n",
       "      <th>header 2</th>\n",
       "      <th>header 3</th>\n",
       "      <th>header 4</th>\n",
       "      <th>header 5</th>\n",
       "      <th>header 6</th>\n",
       "      <th>header 7</th>\n",
       "      <th>header 8</th>\n",
       "      <th>header 9</th>\n",
       "    </tr>\n",
       "  </thead>\n",
       "  <tbody>\n",
       "    <tr>\n",
       "      <th>0</th>\n",
       "      <td>row 1 col 0</td>\n",
       "      <td>row 1 col 1</td>\n",
       "      <td>row 1 col 2</td>\n",
       "      <td>row 1 col 3</td>\n",
       "      <td>row 1 col 4</td>\n",
       "      <td>row 1 col 5</td>\n",
       "      <td>row 1 col 6</td>\n",
       "      <td>row 1 col 7</td>\n",
       "      <td>row 1 col 8</td>\n",
       "      <td>row 1 col 9</td>\n",
       "    </tr>\n",
       "    <tr>\n",
       "      <th>1</th>\n",
       "      <td>row 2 col 0</td>\n",
       "      <td>row 2 col 1</td>\n",
       "      <td>row 2 col 2</td>\n",
       "      <td>row 2 col 3</td>\n",
       "      <td>row 2 col 4</td>\n",
       "      <td>row 2 col 5</td>\n",
       "      <td>row 2 col 6</td>\n",
       "      <td>row 2 col 7</td>\n",
       "      <td>row 2 col 8</td>\n",
       "      <td>row 2 col 9</td>\n",
       "    </tr>\n",
       "    <tr>\n",
       "      <th>2</th>\n",
       "      <td>row 3 col 0</td>\n",
       "      <td>row 3 col 1</td>\n",
       "      <td>row 3 col 2</td>\n",
       "      <td>row 3 col 3</td>\n",
       "      <td>row 3 col 4</td>\n",
       "      <td>row 3 col 5</td>\n",
       "      <td>row 3 col 6</td>\n",
       "      <td>row 3 col 7</td>\n",
       "      <td>row 3 col 8</td>\n",
       "      <td>row 3 col 9</td>\n",
       "    </tr>\n",
       "    <tr>\n",
       "      <th>3</th>\n",
       "      <td>row 4 col 0</td>\n",
       "      <td>row 4 col 1</td>\n",
       "      <td>row 4 col 2</td>\n",
       "      <td>row 4 col 3</td>\n",
       "      <td>row 4 col 4</td>\n",
       "      <td>row 4 col 5</td>\n",
       "      <td>row 4 col 6</td>\n",
       "      <td>row 4 col 7</td>\n",
       "      <td>row 4 col 8</td>\n",
       "      <td>row 4 col 9</td>\n",
       "    </tr>\n",
       "    <tr>\n",
       "      <th>4</th>\n",
       "      <td>row 5 col 0</td>\n",
       "      <td>row 5 col 1</td>\n",
       "      <td>row 5 col 2</td>\n",
       "      <td>row 5 col 3</td>\n",
       "      <td>row 5 col 4</td>\n",
       "      <td>row 5 col 5</td>\n",
       "      <td>row 5 col 6</td>\n",
       "      <td>row 5 col 7</td>\n",
       "      <td>row 5 col 8</td>\n",
       "      <td>row 5 col 9</td>\n",
       "    </tr>\n",
       "    <tr>\n",
       "      <th>5</th>\n",
       "      <td>row 6 col 0</td>\n",
       "      <td>row 6 col 1</td>\n",
       "      <td>row 6 col 2</td>\n",
       "      <td>row 6 col 3</td>\n",
       "      <td>row 6 col 4</td>\n",
       "      <td>row 6 col 5</td>\n",
       "      <td>row 6 col 6</td>\n",
       "      <td>row 6 col 7</td>\n",
       "      <td>row 6 col 8</td>\n",
       "      <td>row 6 col 9</td>\n",
       "    </tr>\n",
       "    <tr>\n",
       "      <th>6</th>\n",
       "      <td>row 7 col 0</td>\n",
       "      <td>row 7 col 1</td>\n",
       "      <td>row 7 col 2</td>\n",
       "      <td>row 7 col 3</td>\n",
       "      <td>row 7 col 4</td>\n",
       "      <td>row 7 col 5</td>\n",
       "      <td>row 7 col 6</td>\n",
       "      <td>row 7 col 7</td>\n",
       "      <td>row 7 col 8</td>\n",
       "      <td>row 7 col 9</td>\n",
       "    </tr>\n",
       "    <tr>\n",
       "      <th>7</th>\n",
       "      <td>row 8 col 0</td>\n",
       "      <td>row 8 col 1</td>\n",
       "      <td>row 8 col 2</td>\n",
       "      <td>row 8 col 3</td>\n",
       "      <td>row 8 col 4</td>\n",
       "      <td>row 8 col 5</td>\n",
       "      <td>row 8 col 6</td>\n",
       "      <td>row 8 col 7</td>\n",
       "      <td>row 8 col 8</td>\n",
       "      <td>row 8 col 9</td>\n",
       "    </tr>\n",
       "    <tr>\n",
       "      <th>8</th>\n",
       "      <td>row 9 col 0</td>\n",
       "      <td>row 9 col 1</td>\n",
       "      <td>row 9 col 2</td>\n",
       "      <td>row 9 col 3</td>\n",
       "      <td>row 9 col 4</td>\n",
       "      <td>row 9 col 5</td>\n",
       "      <td>row 9 col 6</td>\n",
       "      <td>row 9 col 7</td>\n",
       "      <td>row 9 col 8</td>\n",
       "      <td>row 9 col 9</td>\n",
       "    </tr>\n",
       "    <tr>\n",
       "      <th>9</th>\n",
       "      <td>row 10 col 0</td>\n",
       "      <td>row 10 col 1</td>\n",
       "      <td>row 10 col 2</td>\n",
       "      <td>row 10 col 3</td>\n",
       "      <td>row 10 col 4</td>\n",
       "      <td>row 10 col 5</td>\n",
       "      <td>row 10 col 6</td>\n",
       "      <td>row 10 col 7</td>\n",
       "      <td>row 10 col 8</td>\n",
       "      <td>row 10 col 9</td>\n",
       "    </tr>\n",
       "  </tbody>\n",
       "</table>\n",
       "</div>"
      ],
      "text/plain": [
       "       header 0      header 1      header 2      header 3      header 4   \n",
       "0   row 1 col 0   row 1 col 1   row 1 col 2   row 1 col 3   row 1 col 4  \\\n",
       "1   row 2 col 0   row 2 col 1   row 2 col 2   row 2 col 3   row 2 col 4   \n",
       "2   row 3 col 0   row 3 col 1   row 3 col 2   row 3 col 3   row 3 col 4   \n",
       "3   row 4 col 0   row 4 col 1   row 4 col 2   row 4 col 3   row 4 col 4   \n",
       "4   row 5 col 0   row 5 col 1   row 5 col 2   row 5 col 3   row 5 col 4   \n",
       "5   row 6 col 0   row 6 col 1   row 6 col 2   row 6 col 3   row 6 col 4   \n",
       "6   row 7 col 0   row 7 col 1   row 7 col 2   row 7 col 3   row 7 col 4   \n",
       "7   row 8 col 0   row 8 col 1   row 8 col 2   row 8 col 3   row 8 col 4   \n",
       "8   row 9 col 0   row 9 col 1   row 9 col 2   row 9 col 3   row 9 col 4   \n",
       "9  row 10 col 0  row 10 col 1  row 10 col 2  row 10 col 3  row 10 col 4   \n",
       "\n",
       "       header 5      header 6      header 7      header 8      header 9  \n",
       "0   row 1 col 5   row 1 col 6   row 1 col 7   row 1 col 8   row 1 col 9  \n",
       "1   row 2 col 5   row 2 col 6   row 2 col 7   row 2 col 8   row 2 col 9  \n",
       "2   row 3 col 5   row 3 col 6   row 3 col 7   row 3 col 8   row 3 col 9  \n",
       "3   row 4 col 5   row 4 col 6   row 4 col 7   row 4 col 8   row 4 col 9  \n",
       "4   row 5 col 5   row 5 col 6   row 5 col 7   row 5 col 8   row 5 col 9  \n",
       "5   row 6 col 5   row 6 col 6   row 6 col 7   row 6 col 8   row 6 col 9  \n",
       "6   row 7 col 5   row 7 col 6   row 7 col 7   row 7 col 8   row 7 col 9  \n",
       "7   row 8 col 5   row 8 col 6   row 8 col 7   row 8 col 8   row 8 col 9  \n",
       "8   row 9 col 5   row 9 col 6   row 9 col 7   row 9 col 8   row 9 col 9  \n",
       "9  row 10 col 5  row 10 col 6  row 10 col 7  row 10 col 8  row 10 col 9  "
      ]
     },
     "execution_count": 67,
     "metadata": {},
     "output_type": "execute_result"
    }
   ],
   "source": [
    "df = pd.read_csv(\"https://raw.githubusercontent.com/datapackage-examples/sample-csv/master/sample.csv\")\n",
    "df"
   ]
  },
  {
   "cell_type": "code",
   "execution_count": 68,
   "id": "d9b4e18e",
   "metadata": {},
   "outputs": [
    {
     "name": "stdout",
     "output_type": "stream",
     "text": [
      "  % Total    % Received % Xferd  Average Speed   Time    Time     Time  Current\n",
      "                                 Dload  Upload   Total   Spent    Left  Speed\n",
      "100 1942k  100 1942k    0     0  1095k      0  0:00:01  0:00:01 --:--:-- 1101k\n"
     ]
    }
   ],
   "source": [
    "!curl \"https://raw.githubusercontent.com/Ironhack-data-bcn-oct-2023/lectures/main/datasets/avocado_kaggle.csv\" > example.csv"
   ]
  },
  {
   "cell_type": "code",
   "execution_count": 69,
   "id": "d78f537f",
   "metadata": {},
   "outputs": [],
   "source": [
    "! open example.csv"
   ]
  },
  {
   "cell_type": "markdown",
   "id": "13a9ea58",
   "metadata": {},
   "source": [
    "#### From databases"
   ]
  },
  {
   "cell_type": "markdown",
   "id": "0ffcaa3c",
   "metadata": {},
   "source": [
    "`sql`: [docs](https://pandas.pydata.org/docs/reference/api/pandas.read_sql.html) "
   ]
  },
  {
   "cell_type": "markdown",
   "id": "f2380f09",
   "metadata": {},
   "source": [
    "```python\n",
    "from sqlite3 import connect\n",
    "\n",
    "conn = connect(':memory:')\n",
    "df = pd.read_sql('SELECT column_1, column_2 FROM sample_data', conn)\n",
    "\n",
    "df.to_sql('test_data', conn)\n",
    "```"
   ]
  },
  {
   "cell_type": "markdown",
   "id": "8c92c595",
   "metadata": {},
   "source": [
    "`mongodb`"
   ]
  },
  {
   "cell_type": "markdown",
   "id": "431cee4b",
   "metadata": {},
   "source": [
    "```python\n",
    "import pymongo\n",
    "from pymongo import MongoClient\n",
    "\n",
    "client = MongoClient()\n",
    "db = client.database_name\n",
    "collection = db.collection_name\n",
    "data = pd.DataFrame(list(collection.find()))\n",
    "```"
   ]
  },
  {
   "cell_type": "markdown",
   "id": "adf7fbf8",
   "metadata": {
    "lang": "en"
   },
   "source": [
    "## Exploratory analysis of a dataframe"
   ]
  },
  {
   "cell_type": "code",
   "execution_count": null,
   "id": "cec6f905",
   "metadata": {},
   "outputs": [],
   "source": []
  },
  {
   "cell_type": "markdown",
   "id": "0b9482a5",
   "metadata": {},
   "source": [
    "### Meta information"
   ]
  },
  {
   "cell_type": "markdown",
   "id": "f9974075",
   "metadata": {},
   "source": [
    "`shape, columns, dtypes, info, describe`"
   ]
  },
  {
   "cell_type": "code",
   "execution_count": null,
   "id": "f52ef65b",
   "metadata": {},
   "outputs": [],
   "source": []
  },
  {
   "cell_type": "markdown",
   "id": "df76790c",
   "metadata": {},
   "source": [
    "[How dtypes work](https://numpy.org/doc/stable/reference/arrays.dtypes.html)"
   ]
  },
  {
   "cell_type": "markdown",
   "id": "e7886577",
   "metadata": {
    "lang": "en"
   },
   "source": [
    "### Previsualization"
   ]
  },
  {
   "cell_type": "markdown",
   "id": "9209b64c",
   "metadata": {},
   "source": [
    "`head`"
   ]
  },
  {
   "cell_type": "code",
   "execution_count": null,
   "id": "94fbfac8",
   "metadata": {},
   "outputs": [],
   "source": []
  },
  {
   "cell_type": "markdown",
   "id": "d5c6520b",
   "metadata": {
    "lang": "en"
   },
   "source": [
    "By default head shows me the first 5 rows, I can see some more or less by passing a number as a parameter"
   ]
  },
  {
   "cell_type": "code",
   "execution_count": null,
   "id": "c86cdf80",
   "metadata": {},
   "outputs": [],
   "source": []
  },
  {
   "cell_type": "markdown",
   "id": "c9283b27",
   "metadata": {},
   "source": [
    "`tail`"
   ]
  },
  {
   "cell_type": "code",
   "execution_count": null,
   "id": "e348bb25",
   "metadata": {},
   "outputs": [],
   "source": []
  },
  {
   "cell_type": "markdown",
   "id": "71547174",
   "metadata": {
    "lang": "en"
   },
   "source": [
    "### Order a dataframe"
   ]
  },
  {
   "cell_type": "code",
   "execution_count": null,
   "id": "7fd313a6",
   "metadata": {},
   "outputs": [],
   "source": []
  },
  {
   "cell_type": "markdown",
   "id": "ec024b5f",
   "metadata": {
    "lang": "en"
   },
   "source": [
    "Same operation, but give me only concrete columns"
   ]
  },
  {
   "cell_type": "code",
   "execution_count": null,
   "id": "33fd9e8c",
   "metadata": {},
   "outputs": [],
   "source": []
  },
  {
   "cell_type": "markdown",
   "id": "44fd2f0d",
   "metadata": {},
   "source": [
    "`sample`"
   ]
  },
  {
   "cell_type": "code",
   "execution_count": null,
   "id": "50cff754",
   "metadata": {},
   "outputs": [],
   "source": []
  },
  {
   "cell_type": "markdown",
   "id": "cfc4bc9c",
   "metadata": {},
   "source": [
    "`display`"
   ]
  },
  {
   "cell_type": "code",
   "execution_count": null,
   "id": "0246d337",
   "metadata": {},
   "outputs": [],
   "source": []
  },
  {
   "cell_type": "markdown",
   "id": "8ee7446f",
   "metadata": {
    "lang": "en"
   },
   "source": [
    "### NaN values\n",
    "NaN stands for Not A Number and is one of the common ways to represent the missing value in the data. It is a special floating point value and cannot be converted to a type other than float.\n",
    "The NaN value is one of the main problems in data analysis. It is very essential to deal with NaN to get the desired results."
   ]
  },
  {
   "cell_type": "code",
   "execution_count": null,
   "id": "dbb44abd",
   "metadata": {},
   "outputs": [],
   "source": []
  },
  {
   "cell_type": "markdown",
   "id": "3c75ab18",
   "metadata": {},
   "source": [
    "###  Basic descriptive statistics"
   ]
  },
  {
   "cell_type": "code",
   "execution_count": null,
   "id": "465ad530",
   "metadata": {},
   "outputs": [],
   "source": []
  },
  {
   "cell_type": "markdown",
   "id": "4f340806",
   "metadata": {
    "lang": "en"
   },
   "source": [
    "## Pandas usual methods\n",
    "```python\n",
    "df.head() # prints the head, default 5 rows\n",
    "df.tail() # set the tail, default 5 rows\n",
    "df.describe() # statistical description\n",
    "df.info() # df information\n",
    "df.columns # show column\n",
    "df.index # show index\n",
    "df.dtypes # show column data types\n",
    "df.plot() # make a plot\n",
    "df.hist() # make a histogram\n",
    "df.col.value_counts() # counts the unique values ​​of a column\n",
    "df.col.unique() # returns unique values ​​from a column\n",
    "df.copy() # copies the df\n",
    "df.drop() # remove columns or rows (axis=0,1)\n",
    "df.dropna() # remove nulls\n",
    "df.fillna() # fills nulls\n",
    "df.shape # dimensions of the df\n",
    "df._get_numeric_data() # select numeric columns\n",
    "df.rename() # rename columns\n",
    "df.str.replace() # replace columns of strings\n",
    "df.astype(dtype='float32') # change the data type\n",
    "df.iloc[] # locate by index\n",
    "df.loc[] # locate by element\n",
    "df.transpose() # transposes the df\n",
    "df.T\n",
    "df.sample(n, frac) # sample from df\n",
    "df.col.sum() # sum of a column\n",
    "df.col.max() # maximum of a column\n",
    "df.col.min() # minimum of one column\n",
    "df[col] # select column\n",
    "df.col\n",
    "df.isnull() # null values\n",
    "df.isna()\n",
    "df.notna() # not null values\n",
    "df.drop_duplicates() # remove duplicates\n",
    "df.reset_index(inplace=True) # reset the index and overwrite\n",
    "```"
   ]
  },
  {
   "cell_type": "markdown",
   "id": "stylish-jefferson",
   "metadata": {},
   "source": [
    "## Further materials\n",
    "\n",
    "* [Read the docs!](https://pandas.pydata.org/pandas-docs/stable/index.html)\n",
    "* [Cheatsheet](https://pandas.pydata.org/Pandas_Cheat_Sheet.pdf)\n",
    "* [Exercises to practice](https://github.com/guipsamora/pandas_exercises)\n",
    "* [More on merge, concat, and join](https://realpython.com/pandas-merge-join-and-concat/#pandas-join-combining-data-on-a-column-or-index). And [even more!](https://pandas.pydata.org/pandas-docs/stable/user_guide/merging.html)\n",
    " "
   ]
  }
 ],
 "metadata": {
  "kernelspec": {
   "display_name": "Python 3 (ipykernel)",
   "language": "python",
   "name": "python3"
  },
  "language_info": {
   "codemirror_mode": {
    "name": "ipython",
    "version": 3
   },
   "file_extension": ".py",
   "mimetype": "text/x-python",
   "name": "python",
   "nbconvert_exporter": "python",
   "pygments_lexer": "ipython3",
   "version": "3.9.12"
  },
  "nbTranslate": {
   "displayLangs": [
    "en",
    "es"
   ],
   "hotkey": "alt-a",
   "langInMainMenu": true,
   "sourceLang": "es",
   "targetLang": "en",
   "useGoogleTranslate": true
  },
  "toc": {
   "base_numbering": 1,
   "nav_menu": {},
   "number_sections": true,
   "sideBar": true,
   "skip_h1_title": true,
   "title_cell": "Table of Contents",
   "title_sidebar": "Contents",
   "toc_cell": true,
   "toc_position": {
    "height": "calc(100% - 180px)",
    "left": "10px",
    "top": "150px",
    "width": "269.766px"
   },
   "toc_section_display": true,
   "toc_window_display": false
  },
  "varInspector": {
   "cols": {
    "lenName": 16,
    "lenType": 16,
    "lenVar": 40
   },
   "kernels_config": {
    "python": {
     "delete_cmd_postfix": "",
     "delete_cmd_prefix": "del ",
     "library": "var_list.py",
     "varRefreshCmd": "print(var_dic_list())"
    },
    "r": {
     "delete_cmd_postfix": ") ",
     "delete_cmd_prefix": "rm(",
     "library": "var_list.r",
     "varRefreshCmd": "cat(var_dic_list()) "
    }
   },
   "types_to_exclude": [
    "module",
    "function",
    "builtin_function_or_method",
    "instance",
    "_Feature"
   ],
   "window_display": false
  }
 },
 "nbformat": 4,
 "nbformat_minor": 5
}
