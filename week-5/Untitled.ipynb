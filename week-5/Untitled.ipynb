{
 "cells": [
  {
   "cell_type": "code",
   "execution_count": 6,
   "id": "65f64ce4",
   "metadata": {},
   "outputs": [
    {
     "name": "stdout",
     "output_type": "stream",
     "text": [
      "0.07775999999999998 : First five apples\n",
      "8.349416423424006e-08 : first_five_apples_last_fifteen_oranges\n"
     ]
    }
   ],
   "source": [
    "#lab-discrete-probability-distributions\n",
    "\n",
    "\n",
    "p=60/100\n",
    "q=40/100\n",
    "\n",
    "first_five_apples = (p**5)\n",
    "first_five_apples_last_fifteen_oranges =(p**5)*(q**15)\n",
    "\n",
    "print(first_five_apples, \": First five apples\")\n",
    "print(first_five_apples_last_fifteen_oranges, \": first_five_apples_last_fifteen_oranges\")"
   ]
  },
  {
   "cell_type": "code",
   "execution_count": 11,
   "id": "5f58aaf4",
   "metadata": {},
   "outputs": [
    {
     "data": {
      "text/plain": [
       "0.00031703112116863004"
      ]
     },
     "execution_count": 11,
     "metadata": {},
     "output_type": "execute_result"
    }
   ],
   "source": [
    "from scipy.stats import binom\n",
    "N=20\n",
    "p=0.6\n",
    "q=0.4\n",
    "my_binom = binom(20, 0.6)\n",
    "my_binom.cdf(4)"
   ]
  },
  {
   "cell_type": "code",
   "execution_count": null,
   "id": "7f584f12",
   "metadata": {},
   "outputs": [],
   "source": []
  }
 ],
 "metadata": {
  "kernelspec": {
   "display_name": "Python 3 (ipykernel)",
   "language": "python",
   "name": "python3"
  },
  "language_info": {
   "codemirror_mode": {
    "name": "ipython",
    "version": 3
   },
   "file_extension": ".py",
   "mimetype": "text/x-python",
   "name": "python",
   "nbconvert_exporter": "python",
   "pygments_lexer": "ipython3",
   "version": "3.9.12"
  },
  "nbTranslate": {
   "displayLangs": [
    "en",
    "es"
   ],
   "hotkey": "alt-a",
   "langInMainMenu": true,
   "sourceLang": "es",
   "targetLang": "en",
   "useGoogleTranslate": true
  },
  "toc": {
   "base_numbering": 1,
   "nav_menu": {},
   "number_sections": true,
   "sideBar": true,
   "skip_h1_title": false,
   "title_cell": "Table of Contents",
   "title_sidebar": "Contents",
   "toc_cell": false,
   "toc_position": {},
   "toc_section_display": true,
   "toc_window_display": false
  }
 },
 "nbformat": 4,
 "nbformat_minor": 5
}
