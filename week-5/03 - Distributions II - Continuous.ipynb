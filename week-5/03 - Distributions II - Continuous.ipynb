{
 "cells": [
  {
   "cell_type": "markdown",
   "metadata": {
    "lang": "en"
   },
   "source": [
    "# Continuous probability distributions"
   ]
  },
  {
   "cell_type": "markdown",
   "metadata": {},
   "source": [
    "![ungif](https://media.giphy.com/media/RhHHTsjhLvfWw/giphy.gif)"
   ]
  },
  {
   "cell_type": "markdown",
   "metadata": {
    "toc": true
   },
   "source": [
    "<h1>Table of Contents<span class=\"tocSkip\"></span></h1>\n",
    "<div class=\"toc\"><ul class=\"toc-item\"><li><span><a href=\"#Continuous-probability-distributions\" data-toc-modified-id=\"Continuous-probability-distributions-1\"><span class=\"toc-item-num\">1&nbsp;&nbsp;</span>Continuous probability distributions</a></span><ul class=\"toc-item\"><li><span><a href=\"#Distributions\" data-toc-modified-id=\"Distributions-1.1\"><span class=\"toc-item-num\">1.1&nbsp;&nbsp;</span>Distributions</a></span></li><li><span><a href=\"#Functions\" data-toc-modified-id=\"Functions-1.2\"><span class=\"toc-item-num\">1.2&nbsp;&nbsp;</span>Functions</a></span></li></ul></li><li><span><a href=\"#Uniform-distribution\" data-toc-modified-id=\"Uniform-distribution-2\"><span class=\"toc-item-num\">2&nbsp;&nbsp;</span>Uniform distribution</a></span><ul class=\"toc-item\"><li><span><a href=\"#Uniform-distribution-on-the-interval-[0,-1]\" data-toc-modified-id=\"Uniform-distribution-on-the-interval-[0,-1]-2.1\"><span class=\"toc-item-num\">2.1&nbsp;&nbsp;</span>Uniform distribution on the interval [0, 1]</a></span></li><li><span><a href=\"#Cumulative-distribution-function---Uniform-distribution\" data-toc-modified-id=\"Cumulative-distribution-function---Uniform-distribution-2.2\"><span class=\"toc-item-num\">2.2&nbsp;&nbsp;</span>Cumulative distribution function - Uniform distribution</a></span></li><li><span><a href=\"#Uniform-distribution-on-the-interval-[a,-b]\" data-toc-modified-id=\"Uniform-distribution-on-the-interval-[a,-b]-2.3\"><span class=\"toc-item-num\">2.3&nbsp;&nbsp;</span>Uniform distribution on the interval [a, b]</a></span></li><li><span><a href=\"#Plot-the-CDF---Uniform-distribution\" data-toc-modified-id=\"Plot-the-CDF---Uniform-distribution-2.4\"><span class=\"toc-item-num\">2.4&nbsp;&nbsp;</span>Plot the CDF - Uniform distribution</a></span></li></ul></li><li><span><a href=\"#Exponential-distribution\" data-toc-modified-id=\"Exponential-distribution-3\"><span class=\"toc-item-num\">3&nbsp;&nbsp;</span>Exponential distribution</a></span><ul class=\"toc-item\"><li><span><a href=\"#Not-to-be-confused-with-Poisson...-Be-careful!\" data-toc-modified-id=\"Not-to-be-confused-with-Poisson...-Be-careful!-3.1\"><span class=\"toc-item-num\">3.1&nbsp;&nbsp;</span>Not to be confused with Poisson... Be careful!</a></span></li><li><span><a href=\"#Probability-Distribution-Function-(PDF)---Exponential-distribution\" data-toc-modified-id=\"Probability-Distribution-Function-(PDF)---Exponential-distribution-3.2\"><span class=\"toc-item-num\">3.2&nbsp;&nbsp;</span>Probability Distribution Function (PDF) - Exponential distribution</a></span></li></ul></li><li><span><a href=\"#Normal-distribution\" data-toc-modified-id=\"Normal-distribution-4\"><span class=\"toc-item-num\">4&nbsp;&nbsp;</span>Normal distribution</a></span><ul class=\"toc-item\"><li><ul class=\"toc-item\"><li><span><a href=\"#Intro\" data-toc-modified-id=\"Intro-4.0.1\"><span class=\"toc-item-num\">4.0.1&nbsp;&nbsp;</span>Intro</a></span></li><li><span><a href=\"#scipy's-norm\" data-toc-modified-id=\"scipy's-norm-4.0.2\"><span class=\"toc-item-num\">4.0.2&nbsp;&nbsp;</span>scipy's <code>norm</code></a></span></li><li><span><a href=\"#We-sample-with-normal\" data-toc-modified-id=\"We-sample-with-normal-4.0.3\"><span class=\"toc-item-num\">4.0.3&nbsp;&nbsp;</span>We sample with normal</a></span></li><li><span><a href=\"#Probability-density-function\" data-toc-modified-id=\"Probability-density-function-4.0.4\"><span class=\"toc-item-num\">4.0.4&nbsp;&nbsp;</span>Probability density function</a></span></li><li><span><a href=\"#Percent-point-function-(PPF)\" data-toc-modified-id=\"Percent-point-function-(PPF)-4.0.5\"><span class=\"toc-item-num\">4.0.5&nbsp;&nbsp;</span>Percent point function (PPF)</a></span></li></ul></li><li><span><a href=\"#Other-continuous-probability-distributions\" data-toc-modified-id=\"Other-continuous-probability-distributions-4.1\"><span class=\"toc-item-num\">4.1&nbsp;&nbsp;</span>Other continuous probability distributions</a></span></li></ul></li><li><span><a href=\"#Summary\" data-toc-modified-id=\"Summary-5\"><span class=\"toc-item-num\">5&nbsp;&nbsp;</span>Summary</a></span></li></ul></div>"
   ]
  },
  {
   "cell_type": "code",
   "execution_count": 1,
   "metadata": {},
   "outputs": [],
   "source": [
    "# Viz mantra\n",
    "from matplotlib import pyplot as plt\n",
    "%matplotlib inline\n",
    "%config Inlinebackend.figure_format = 'retina'\n",
    "\n",
    "import seaborn as sns\n",
    "sns.set_context('poster')\n",
    "sns.set(rc={'figure.figsize': (16., 9.)})\n",
    "sns.set_style('whitegrid')\n",
    "\n",
    "import pylab as p\n",
    "import numpy as np\n",
    "import pandas as pd"
   ]
  },
  {
   "cell_type": "code",
   "execution_count": 2,
   "metadata": {},
   "outputs": [],
   "source": [
    "# uniform: random numbers\n",
    "# normal \n",
    "# exponential"
   ]
  },
  {
   "cell_type": "markdown",
   "metadata": {
    "lang": "en"
   },
   "source": [
    "## Continuous probability distributions"
   ]
  },
  {
   "cell_type": "markdown",
   "metadata": {
    "lang": "en"
   },
   "source": [
    "**Continuous probability distributions** are those that can take any value in a given range. In particular, they can take infinitely many different values.\n",
    "\n",
    "X is a continuous random variable.\n",
    "\n",
    "X follows a continuous probability distribution."
   ]
  },
  {
   "cell_type": "markdown",
   "metadata": {},
   "source": [
    "### Distributions\n",
    "\n",
    "- Uniform, `uniform`\n",
    "- Exponential, `expon`\n",
    "- Normal, `norm`\n",
    "\n",
    "### Functions\n",
    "\n",
    "- `pdf`\n",
    "- `cdf`\n",
    "- `ppf` \n"
   ]
  },
  {
   "cell_type": "markdown",
   "metadata": {
    "lang": "en"
   },
   "source": [
    "## Uniform distribution"
   ]
  },
  {
   "cell_type": "markdown",
   "metadata": {
    "lang": "en"
   },
   "source": [
    "### Uniform distribution on the interval [0, 1]\n",
    "All numbers in the integer [0, 1] are equally likely\n",
    "In a continuous probability distribution, it only makes sense to talk about the probability of an interval, not a particular number."
   ]
  },
  {
   "cell_type": "markdown",
   "metadata": {},
   "source": [
    "<img src=\"https://upload.wikimedia.org/wikipedia/commons/thumb/2/28/Unit-interval.svg/1200px-Unit-interval.svg.png\" width=500>"
   ]
  },
  {
   "cell_type": "markdown",
   "metadata": {},
   "source": [
    "$P(x \\leq 0.4)=0.4$"
   ]
  },
  {
   "cell_type": "markdown",
   "metadata": {},
   "source": [
    "$P(x \\geq 0.7)=0.3$"
   ]
  },
  {
   "cell_type": "markdown",
   "metadata": {},
   "source": [
    "$P(x \\leq 1)= 1$"
   ]
  },
  {
   "cell_type": "markdown",
   "metadata": {},
   "source": [
    "$P(x \\geq 0)=1$"
   ]
  },
  {
   "cell_type": "markdown",
   "metadata": {},
   "source": [
    "$P(0.1 \\leq x \\leq 0.4)=0.4 - 0.1=0.3$"
   ]
  },
  {
   "cell_type": "markdown",
   "metadata": {
    "lang": "en"
   },
   "source": [
    "For every number $c, d \\in [0, 1]$ we have"
   ]
  },
  {
   "cell_type": "markdown",
   "metadata": {
    "colab_type": "text",
    "id": "5dn6JLn8GhnC"
   },
   "source": [
    "$$P(c < x <= d) = d-c$$"
   ]
  },
  {
   "cell_type": "markdown",
   "metadata": {
    "lang": "en"
   },
   "source": [
    "Let's use distribution instantiation in Python to generate samples from a $U(0, 1)$ distribution."
   ]
  },
  {
   "cell_type": "code",
   "execution_count": 3,
   "metadata": {},
   "outputs": [],
   "source": [
    "from scipy.stats import uniform"
   ]
  },
  {
   "cell_type": "code",
   "execution_count": 5,
   "metadata": {},
   "outputs": [
    {
     "data": {
      "text/plain": [
       "<scipy.stats._distn_infrastructure.rv_continuous_frozen at 0x7fb45965e970>"
      ]
     },
     "execution_count": 5,
     "metadata": {},
     "output_type": "execute_result"
    }
   ],
   "source": [
    "my_uniform = uniform(0, 1) # params\n",
    "my_uniform"
   ]
  },
  {
   "cell_type": "code",
   "execution_count": 7,
   "metadata": {},
   "outputs": [
    {
     "data": {
      "text/plain": [
       "array([0.01662023, 0.39195251, 0.83609112, 0.54350723, 0.57879048,\n",
       "       0.66367938, 0.1052516 , 0.96252542, 0.7958681 , 0.09478963])"
      ]
     },
     "execution_count": 7,
     "metadata": {},
     "output_type": "execute_result"
    }
   ],
   "source": [
    "my_uniform.rvs(10)"
   ]
  },
  {
   "cell_type": "code",
   "execution_count": 18,
   "metadata": {},
   "outputs": [
    {
     "data": {
      "text/plain": [
       "array([2.09769613, 2.18302029, 2.81367471, 2.86486595, 2.82350741,\n",
       "       2.15855647, 2.96804601, 2.18324062, 2.13702292, 2.33618546])"
      ]
     },
     "execution_count": 18,
     "metadata": {},
     "output_type": "execute_result"
    }
   ],
   "source": [
    "my_uniform = uniform(2, 1) # params\n",
    "my_uniform.rvs(10)"
   ]
  },
  {
   "cell_type": "code",
   "execution_count": 28,
   "metadata": {},
   "outputs": [
    {
     "data": {
      "text/plain": [
       "array([ 5.98532992,  9.81093682,  7.12083636,  7.21766833,  6.98050806,\n",
       "       10.43352675,  2.63061907,  5.33035934,  3.52458469,  3.72485926])"
      ]
     },
     "execution_count": 28,
     "metadata": {},
     "output_type": "execute_result"
    }
   ],
   "source": [
    "my_uniform = uniform(2, 12) # range 2, 14\n",
    "my_uniform.rvs(10)"
   ]
  },
  {
   "cell_type": "code",
   "execution_count": 45,
   "metadata": {},
   "outputs": [],
   "source": [
    "my_uniform = uniform(100, 12) # 100, 112\n",
    "ex = my_uniform.rvs(10)"
   ]
  },
  {
   "cell_type": "code",
   "execution_count": 43,
   "metadata": {},
   "outputs": [],
   "source": [
    "import seaborn as sns"
   ]
  },
  {
   "cell_type": "code",
   "execution_count": 65,
   "metadata": {},
   "outputs": [
    {
     "name": "stderr",
     "output_type": "stream",
     "text": [
      "/var/folders/pz/11hk3xjx34z9gw2tjzmjl4lm0000gn/T/ipykernel_44765/1557361740.py:3: UserWarning: Ignoring `palette` because no `hue` variable has been assigned.\n",
      "  sns.histplot(ex, palette=\"Blues\");\n"
     ]
    },
    {
     "data": {
      "image/png": "[encoded data removed]",
      "text/plain": [
       "<Figure size 1152x648 with 1 Axes>"
      ]
     },
     "metadata": {},
     "output_type": "display_data"
    }
   ],
   "source": [
    "my_uniform = uniform(0, 1)\n",
    "ex = my_uniform.rvs(10000)\n",
    "sns.histplot(ex, palette=\"Blues\");"
   ]
  },
  {
   "cell_type": "markdown",
   "metadata": {
    "lang": "en"
   },
   "source": [
    "### Cumulative distribution function - Uniform distribution"
   ]
  },
  {
   "cell_type": "markdown",
   "metadata": {
    "lang": "en"
   },
   "source": [
    "The PMF is a way to describe the distribution of a discrete random variable... but the PMF cannot be defined for continuous random variables. The cumulative distribution function (CDF) of a random variable is another method of describing the distribution of random variables. The advantage of the CDF is that it can be defined for any type of random variable (as we have already seen in the case of discrete variables)."
   ]
  },
  {
   "cell_type": "markdown",
   "metadata": {
    "lang": "en"
   },
   "source": [
    "`.cdf(x)` tells us the probability of $X<x$"
   ]
  },
  {
   "cell_type": "markdown",
   "metadata": {
    "lang": "en"
   },
   "source": [
    "So, **what is the probability that a number less than or equal than 1 will come up?**"
   ]
  },
  {
   "cell_type": "code",
   "execution_count": 66,
   "metadata": {},
   "outputs": [
    {
     "data": {
      "text/plain": [
       "<scipy.stats._distn_infrastructure.rv_continuous_frozen at 0x7fb44f37ffa0>"
      ]
     },
     "execution_count": 66,
     "metadata": {},
     "output_type": "execute_result"
    }
   ],
   "source": [
    "my_uniform"
   ]
  },
  {
   "cell_type": "code",
   "execution_count": 68,
   "metadata": {},
   "outputs": [
    {
     "data": {
      "text/plain": [
       "1.0"
      ]
     },
     "execution_count": 68,
     "metadata": {},
     "output_type": "execute_result"
    }
   ],
   "source": [
    "my_uniform.cdf(1) # highest value, cummulative"
   ]
  },
  {
   "cell_type": "markdown",
   "metadata": {
    "lang": "en"
   },
   "source": [
    "What if a number less than 0 comes out?"
   ]
  },
  {
   "cell_type": "code",
   "execution_count": 69,
   "metadata": {},
   "outputs": [
    {
     "data": {
      "text/plain": [
       "0.0"
      ]
     },
     "execution_count": 69,
     "metadata": {},
     "output_type": "execute_result"
    }
   ],
   "source": [
    "my_uniform.cdf(-1)"
   ]
  },
  {
   "cell_type": "code",
   "execution_count": 70,
   "metadata": {},
   "outputs": [
    {
     "data": {
      "text/plain": [
       "0.5"
      ]
     },
     "execution_count": 70,
     "metadata": {},
     "output_type": "execute_result"
    }
   ],
   "source": [
    "# less than 0.5?\n",
    "\n",
    "my_uniform.cdf(0.5)"
   ]
  },
  {
   "cell_type": "code",
   "execution_count": 71,
   "metadata": {},
   "outputs": [],
   "source": [
    "from scipy.stats import uniform"
   ]
  },
  {
   "cell_type": "code",
   "execution_count": null,
   "metadata": {},
   "outputs": [],
   "source": []
  },
  {
   "cell_type": "code",
   "execution_count": 76,
   "metadata": {},
   "outputs": [
    {
     "data": {
      "image/png": "[encoded data removed]",
      "text/plain": [
       "<Figure size 1152x648 with 1 Axes>"
      ]
     },
     "metadata": {},
     "output_type": "display_data"
    }
   ],
   "source": [
    "x = np.linspace(-0.5, 1.5, 100)\n",
    "y = my_uniform.cdf(x)\n",
    "plt.plot(x, y);"
   ]
  },
  {
   "cell_type": "code",
   "execution_count": null,
   "metadata": {},
   "outputs": [],
   "source": [
    "# experiments\n",
    "# theoretical\n",
    "    # pmf: party up to 21 people in the axis\n",
    "    # cdf: diagonal (cumulative)"
   ]
  },
  {
   "cell_type": "markdown",
   "metadata": {
    "lang": "en"
   },
   "source": [
    "It happens that... What is the probability that I get a number between 0.2 and 0.7? Well, then the probability is that I get a number less than 0.7 and subtract the probability that I get a number less than 0.2....\n",
    "$P(0.2 < X < 0.7) = P(X < 0.7) - P(X < 0.2)$"
   ]
  },
  {
   "cell_type": "markdown",
   "metadata": {
    "lang": "en"
   },
   "source": [
    "Then\n",
    "$P(X < 0.2) + P(0.2 < X < 0.7) = P(X < 0.7)$"
   ]
  },
  {
   "cell_type": "markdown",
   "metadata": {
    "lang": "en"
   },
   "source": [
    "### Uniform distribution on the interval [a, b]"
   ]
  },
  {
   "cell_type": "markdown",
   "metadata": {
    "lang": "en"
   },
   "source": [
    "All numbers in the interval [a, b] are equiprobable"
   ]
  },
  {
   "cell_type": "markdown",
   "metadata": {},
   "source": [
    "$X \\sim U(a, b)$"
   ]
  },
  {
   "cell_type": "markdown",
   "metadata": {},
   "source": [
    "$P(x \\leq b)=1$"
   ]
  },
  {
   "cell_type": "markdown",
   "metadata": {},
   "source": [
    "$P(x \\geq a)=1$"
   ]
  },
  {
   "cell_type": "markdown",
   "metadata": {
    "lang": "en"
   },
   "source": [
    "$\\frac{a+b}{2}$ is the mean between $a$ and $b$"
   ]
  },
  {
   "cell_type": "markdown",
   "metadata": {},
   "source": [
    "$P(x \\leq \\frac{a+b}{2})=0.5$"
   ]
  },
  {
   "cell_type": "markdown",
   "metadata": {
    "lang": "en"
   },
   "source": [
    "Let's use distribution instantiation in Python to generate samples from a $U(a, b)$ distribution."
   ]
  },
  {
   "cell_type": "code",
   "execution_count": 36,
   "metadata": {},
   "outputs": [],
   "source": [
    "from scipy.stats import uniform"
   ]
  },
  {
   "cell_type": "code",
   "execution_count": null,
   "metadata": {},
   "outputs": [],
   "source": []
  },
  {
   "cell_type": "markdown",
   "metadata": {},
   "source": [
    "`uniform` receives `a` y `h`"
   ]
  },
  {
   "cell_type": "code",
   "execution_count": null,
   "metadata": {},
   "outputs": [],
   "source": [
    "#interval_uniform = uniform(0, 1)"
   ]
  },
  {
   "cell_type": "code",
   "execution_count": null,
   "metadata": {},
   "outputs": [],
   "source": []
  },
  {
   "cell_type": "markdown",
   "metadata": {},
   "source": [
    "`.rvs` generates a sample drawn from the distribution"
   ]
  },
  {
   "cell_type": "code",
   "execution_count": null,
   "metadata": {},
   "outputs": [],
   "source": []
  },
  {
   "cell_type": "markdown",
   "metadata": {
    "lang": "en"
   },
   "source": [
    "What will the mean be?"
   ]
  },
  {
   "cell_type": "code",
   "execution_count": null,
   "metadata": {},
   "outputs": [],
   "source": []
  },
  {
   "cell_type": "markdown",
   "metadata": {
    "lang": "en"
   },
   "source": [
    "`.cdf` Come on, cdf is easy!\n",
    "`.cdf(x)` Remember, it gives us the probability that a number is $X<x$"
   ]
  },
  {
   "cell_type": "code",
   "execution_count": null,
   "metadata": {
    "lang": "en"
   },
   "outputs": [],
   "source": []
  },
  {
   "cell_type": "markdown",
   "metadata": {
    "lang": "en"
   },
   "source": [
    "### Plot the CDF - Uniform distribution\n",
    "X --> I choose a series of points\n",
    "\n",
    "Y --> I get the cdf of those points taking into account my uniform distribution that we remember that we have initialized between 4 and 10"
   ]
  },
  {
   "cell_type": "code",
   "execution_count": null,
   "metadata": {},
   "outputs": [],
   "source": [
    "from scipy.stats import uniform\n",
    "my_uniform = uniform (5, 10)"
   ]
  },
  {
   "cell_type": "markdown",
   "metadata": {
    "lang": "en"
   },
   "source": [
    "- One thing that we observe in this simple function but that is common to all of them is that the distribution is always increasing.\n",
    "- Takes the value 1 on the right (tends to 1)\n",
    "- The CDF takes the value 0 on the left (and accumulates probability up to 1)"
   ]
  },
  {
   "cell_type": "markdown",
   "metadata": {
    "lang": "en"
   },
   "source": [
    "## Exponential distribution"
   ]
  },
  {
   "cell_type": "markdown",
   "metadata": {
    "lang": "en"
   },
   "source": [
    "Model the time it takes for a random event to occur:\n",
    " * Time for the next person to appear in a queue\n",
    " * Time for the next call to occur in the call center\n",
    " * Time until the next earthquake occurs\n",
    " * Next customer walking in the store\n",
    " * Time for the next radioactive particle to decay\n",
    " * Time for the next DNA element to mutate"
   ]
  },
  {
   "cell_type": "markdown",
   "metadata": {
    "lang": "en"
   },
   "source": [
    "\"The average time of appearance of a new patient is 5 minutes\"\n",
    "\n",
    "\"The time of appearance of a new patient follows an exponential distribution with mean 5\""
   ]
  },
  {
   "cell_type": "markdown",
   "metadata": {
    "lang": "en"
   },
   "source": [
    "### Not to be confused with Poisson... Be careful!\n",
    "The Poisson gave us the number of occurrences in a period of time. I fix the time and the events happen once, or twice, or 7.....\n",
    "The exponential isn't like that though...it's more like I close my eyes, then open them and count the time until the next occurrence happens.\n",
    "The Poisson is a distribution of DISCRETE variables and the exponential is CONTINUOUS."
   ]
  },
  {
   "cell_type": "markdown",
   "metadata": {
    "lang": "en"
   },
   "source": [
    "The exponential is the reciprocal distribution of the Poisson distribution"
   ]
  },
  {
   "cell_type": "markdown",
   "metadata": {
    "lang": "en"
   },
   "source": [
    "⚠️ Curiosity: he exponential distribution has the characteristic of being without memory... I'll let you investigate it on google...."
   ]
  },
  {
   "cell_type": "code",
   "execution_count": 77,
   "metadata": {},
   "outputs": [],
   "source": [
    "from scipy.stats import expon"
   ]
  },
  {
   "cell_type": "markdown",
   "metadata": {
    "lang": "en"
   },
   "source": [
    "The exponential, like the Poisson, is a 1-parameter distribution function.\n",
    "Monoparametric: the time it takes for people to arrive"
   ]
  },
  {
   "cell_type": "markdown",
   "metadata": {},
   "source": [
    "$X \\sim Exp(\\mu)$"
   ]
  },
  {
   "cell_type": "markdown",
   "metadata": {
    "lang": "en"
   },
   "source": [
    "This parameter is the mean, called `mu`, $\\mu$\n",
    "The `scipy` library calls it `scale`"
   ]
  },
  {
   "cell_type": "markdown",
   "metadata": {
    "lang": "en"
   },
   "source": [
    "**EXAMPLE**\n",
    "Let's model the customers who arrive every 30 seconds on average at the supermarket queue"
   ]
  },
  {
   "cell_type": "code",
   "execution_count": null,
   "metadata": {},
   "outputs": [],
   "source": [
    "#POISSON: LAM: AVG OF 6 PEOPLE # how many\n",
    "#EXPONENTIAL: MU: SOMEONE APPEARS EVERY 30s # how long until the next one"
   ]
  },
  {
   "cell_type": "code",
   "execution_count": 104,
   "metadata": {},
   "outputs": [
    {
     "data": {
      "text/plain": [
       "<scipy.stats._distn_infrastructure.rv_continuous_frozen at 0x7fb4606b8d90>"
      ]
     },
     "execution_count": 104,
     "metadata": {},
     "output_type": "execute_result"
    }
   ],
   "source": [
    "scale = 30 #min\n",
    "my_expon = expon(scale=30)\n",
    "my_expon"
   ]
  },
  {
   "cell_type": "code",
   "execution_count": 105,
   "metadata": {},
   "outputs": [
    {
     "data": {
      "text/plain": [
       "array([44.048674])"
      ]
     },
     "execution_count": 105,
     "metadata": {},
     "output_type": "execute_result"
    }
   ],
   "source": [
    "my_expon.rvs(1)"
   ]
  },
  {
   "cell_type": "code",
   "execution_count": 106,
   "metadata": {},
   "outputs": [
    {
     "data": {
      "text/plain": [
       "array([ 5.69202016, 57.16548521,  6.07357852, 40.19245354,  8.46880448])"
      ]
     },
     "execution_count": 106,
     "metadata": {},
     "output_type": "execute_result"
    }
   ],
   "source": [
    "my_expon.rvs(5)"
   ]
  },
  {
   "cell_type": "code",
   "execution_count": 107,
   "metadata": {},
   "outputs": [
    {
     "data": {
      "text/plain": [
       "array([ 32.26769544,  25.91698223,   3.0428825 ,   3.95777145,\n",
       "       109.07846256,  15.44227707,  58.01574269,  37.53718927,\n",
       "        94.75334769,  15.12415652])"
      ]
     },
     "execution_count": 107,
     "metadata": {},
     "output_type": "execute_result"
    }
   ],
   "source": [
    "my_expon.rvs(10) # 17min until the next one"
   ]
  },
  {
   "cell_type": "code",
   "execution_count": 108,
   "metadata": {},
   "outputs": [
    {
     "data": {
      "text/plain": [
       "array([56.30929974, 19.78934207,  2.46932067, 52.23126845,  6.97739008,\n",
       "        2.28343533, 12.16857079, 38.49261519,  6.35718334, 48.98101958])"
      ]
     },
     "execution_count": 108,
     "metadata": {},
     "output_type": "execute_result"
    }
   ],
   "source": [
    "my_expon.rvs(10) # how long will I have to wait until the net things happens"
   ]
  },
  {
   "cell_type": "code",
   "execution_count": 166,
   "metadata": {},
   "outputs": [],
   "source": [
    "# my_expon.rvs(1000) "
   ]
  },
  {
   "cell_type": "code",
   "execution_count": 110,
   "metadata": {},
   "outputs": [
    {
     "data": {
      "text/plain": [
       "30.0"
      ]
     },
     "execution_count": 110,
     "metadata": {},
     "output_type": "execute_result"
    }
   ],
   "source": [
    "my_expon.mean()"
   ]
  },
  {
   "cell_type": "code",
   "execution_count": 111,
   "metadata": {},
   "outputs": [
    {
     "data": {
      "image/png": "[encoded data removed]",
      "text/plain": [
       "<Figure size 1152x648 with 1 Axes>"
      ]
     },
     "metadata": {},
     "output_type": "display_data"
    }
   ],
   "source": [
    "sns.histplot(my_expon.rvs(1000)) # average is 30\n",
    "plt.axvline(30, c=\"r\");"
   ]
  },
  {
   "cell_type": "code",
   "execution_count": 103,
   "metadata": {},
   "outputs": [
    {
     "data": {
      "text/plain": [
       "3.1056637294156025e-52"
      ]
     },
     "execution_count": 103,
     "metadata": {},
     "output_type": "execute_result"
    }
   ],
   "source": [
    "my_expon.pdf(3456)"
   ]
  },
  {
   "cell_type": "markdown",
   "metadata": {
    "lang": "en"
   },
   "source": [
    "Let's generate a random sample `.rvs` ... what will we get?"
   ]
  },
  {
   "cell_type": "code",
   "execution_count": 116,
   "metadata": {
    "scrolled": false
   },
   "outputs": [
    {
     "data": {
      "image/png": "[encoded data removed]",
      "text/plain": [
       "<Figure size 1152x648 with 1 Axes>"
      ]
     },
     "metadata": {},
     "output_type": "display_data"
    }
   ],
   "source": [
    "x = np.linspace(0, 35, 50)\n",
    "y = expon.cdf(x)\n",
    "plt.plot(x, y);"
   ]
  },
  {
   "cell_type": "code",
   "execution_count": 167,
   "metadata": {},
   "outputs": [],
   "source": [
    "# Re-imagine this plot with the ife of a regular lightbulb, which is 1000 hours 💡"
   ]
  },
  {
   "cell_type": "markdown",
   "metadata": {
    "lang": "en"
   },
   "source": [
    "What did the CDF do? returns the probability that the next one takes LESS than 30 seconds"
   ]
  },
  {
   "cell_type": "code",
   "execution_count": null,
   "metadata": {},
   "outputs": [],
   "source": []
  },
  {
   "cell_type": "markdown",
   "metadata": {},
   "source": [
    "### Probability Distribution Function (PDF) - Exponential distribution"
   ]
  },
  {
   "cell_type": "markdown",
   "metadata": {
    "lang": "en"
   },
   "source": [
    "PDF is the probability density function, the analog of the PMF in discrete ones."
   ]
  },
  {
   "cell_type": "code",
   "execution_count": null,
   "metadata": {},
   "outputs": [],
   "source": []
  },
  {
   "cell_type": "markdown",
   "metadata": {
    "lang": "en"
   },
   "source": [
    "The area under the curve is the probability of times in the given interval, so...\n",
    "\n",
    "The high zones are more probable and the low zones less probable, the pdf is not really giving me the probability of each point, what it does is the integral of the function to see how much area there is under the curve.\n",
    "\n",
    "Entire zone is 1 (100%)"
   ]
  },
  {
   "cell_type": "markdown",
   "metadata": {
    "lang": "en"
   },
   "source": [
    "`.cdf` is the cumulative distribution function\n",
    "\n",
    "`.cdf(x)` tells us the probability of $X<x$"
   ]
  },
  {
   "cell_type": "code",
   "execution_count": null,
   "metadata": {},
   "outputs": [],
   "source": []
  },
  {
   "cell_type": "markdown",
   "metadata": {
    "lang": "en"
   },
   "source": [
    "The CDF of an exponential distribution:\n",
    "- Start at 0\n",
    "- Ends in 1\n",
    "- It accumulates less and less\n",
    "- It is the integral of the pdf"
   ]
  },
  {
   "cell_type": "markdown",
   "metadata": {
    "lang": "en"
   },
   "source": [
    "We recover examples from the beginning:\n",
    "- When will I receive the next call in the call center?\n",
    "\n",
    "I can't know, I know that calls take an average of 11 seconds, and I can more or less calculate the probability that it happens in less or more seconds..."
   ]
  },
  {
   "cell_type": "markdown",
   "metadata": {
    "lang": "en"
   },
   "source": [
    "It is the reciprocal probability to the Poisson... Let's say that if I say that if at the bus stop I have an exponential probability with a mean of 2 minutes, if I fix an hour of time, I could also say that then we have a Poisson with a mean of 30.\n",
    "Poisson measures discrete occurrences, the exponential counts the time until the next occurrence"
   ]
  },
  {
   "cell_type": "code",
   "execution_count": null,
   "metadata": {},
   "outputs": [],
   "source": []
  },
  {
   "cell_type": "markdown",
   "metadata": {
    "lang": "en"
   },
   "source": [
    "## Normal distribution"
   ]
  },
  {
   "cell_type": "markdown",
   "metadata": {},
   "source": [
    "#### Intro"
   ]
  },
  {
   "cell_type": "markdown",
   "metadata": {
    "lang": "en"
   },
   "source": [
    "The normal distribution is the most important probability distribution in statistics, as it fits many natural and social phenomena:\n",
    " * the heights\n",
    " * blood pressure\n",
    " * IQ scores\n",
    " * ...\n",
    "\n",
    "It is also known as the Gaussian distribution or the bell curve."
   ]
  },
  {
   "cell_type": "markdown",
   "metadata": {},
   "source": [
    "#### scipy's `norm`"
   ]
  },
  {
   "cell_type": "code",
   "execution_count": 117,
   "metadata": {},
   "outputs": [],
   "source": [
    "from scipy.stats import norm"
   ]
  },
  {
   "cell_type": "code",
   "execution_count": null,
   "metadata": {},
   "outputs": [],
   "source": [
    "# bernoulli: p\n",
    "# binomial: N, p\n",
    "# poisson: lambda\n",
    "# uniform: starting point, size\n",
    "# exponential: mu\n",
    "# normal: mean, stdev\n",
    "\n",
    "# 𝑋 ∼ 𝑁(𝜇,𝜎)"
   ]
  },
  {
   "cell_type": "markdown",
   "metadata": {
    "lang": "en"
   },
   "source": [
    "The normal, is a 2-parameter distribution function\n",
    "$X \\sim N(\\mu, \\sigma)$\n",
    "\n",
    "These parameters are:\n",
    " * the mean, called $\\mu$\n",
    " * the standard deviation, $\\sigma$"
   ]
  },
  {
   "cell_type": "markdown",
   "metadata": {},
   "source": [
    "<img src=\"https://upload.wikimedia.org/wikipedia/commons/thumb/7/74/Normal_Distribution_PDF.svg/2560px-Normal_Distribution_PDF.svg.png\" width=700>"
   ]
  },
  {
   "cell_type": "markdown",
   "metadata": {},
   "source": [
    "<img src=\"https://miro.medium.com/max/700/1*IZ2II2HYKeoMrdLU5jW6Dw.png\" width=800>"
   ]
  },
  {
   "cell_type": "markdown",
   "metadata": {
    "lang": "en"
   },
   "source": [
    "`scipy` calls them `loc` and `scale`"
   ]
  },
  {
   "cell_type": "markdown",
   "metadata": {
    "lang": "en"
   },
   "source": [
    "Let us model a country in which heights have:\n",
    " * an average of 170cm\n",
    " * a deviation of 10cm"
   ]
  },
  {
   "cell_type": "code",
   "execution_count": 119,
   "metadata": {},
   "outputs": [
    {
     "data": {
      "text/plain": [
       "<scipy.stats._distn_infrastructure.rv_continuous_frozen at 0x7fb44f6944c0>"
      ]
     },
     "execution_count": 119,
     "metadata": {},
     "output_type": "execute_result"
    }
   ],
   "source": [
    "from scipy.stats import norm\n",
    "country = norm(170, 10)\n",
    "country"
   ]
  },
  {
   "cell_type": "code",
   "execution_count": 121,
   "metadata": {},
   "outputs": [],
   "source": [
    "#country.rvs(1000)"
   ]
  },
  {
   "cell_type": "code",
   "execution_count": 123,
   "metadata": {},
   "outputs": [
    {
     "data": {
      "text/plain": [
       "array([173.95398309, 168.92111712, 162.85118955, 143.40171876,\n",
       "       160.38657318, 169.78790022, 169.38795154, 177.28758522,\n",
       "       168.47254775, 186.33172886, 175.41568744, 172.57141727,\n",
       "       170.41486904, 174.50523549, 174.86950653, 171.66592759,\n",
       "       191.20513435, 170.75928391, 162.96378901, 169.1261474 ,\n",
       "       162.69086921, 172.8646538 , 159.12532709, 178.31676529,\n",
       "       180.84719277, 177.52883456, 170.49753119, 172.0996222 ,\n",
       "       177.15110167, 178.03585871, 179.70666195, 158.39260228,\n",
       "       171.9436158 , 159.15333687, 159.38738536, 185.34576674,\n",
       "       172.51305156, 165.47027758, 179.05921862, 169.20367896,\n",
       "       169.96338324, 158.72198178, 193.50094069, 174.09529083,\n",
       "       172.26413912, 173.68885321, 187.876594  , 167.8837521 ,\n",
       "       168.7673168 , 161.92466938, 160.69698176, 163.4516316 ,\n",
       "       161.50368835, 159.45595987, 172.72301895, 165.3113833 ,\n",
       "       171.35730845, 171.30942887, 172.21425691, 175.49786742,\n",
       "       158.30231507, 168.16225765, 161.43899081, 177.31953926,\n",
       "       170.39785065, 177.34725331, 169.69834853, 159.71831322,\n",
       "       165.47185588, 168.64955476, 177.33802026, 178.28079452,\n",
       "       169.30915455, 149.43505909, 189.92668819, 172.01592749,\n",
       "       159.12532507, 169.67665923, 171.87433039, 178.81593129,\n",
       "       173.51596631, 162.42856678, 176.32661764, 167.73836255,\n",
       "       170.06324371, 193.98334184, 170.48901823, 170.88715617,\n",
       "       169.1593551 , 166.04665939, 159.22055681, 153.52155678,\n",
       "       169.47571607, 168.12025683, 180.39077751, 179.90107107,\n",
       "       159.62013328, 171.27562506, 188.84721536, 170.80680448,\n",
       "       182.58337802, 158.50370715, 168.6008511 , 167.70917666,\n",
       "       153.83616095, 181.2321039 , 172.54124878, 190.30701783,\n",
       "       172.53818025, 159.3473968 , 149.1444653 , 171.2255662 ,\n",
       "       165.40246116, 166.51940902, 181.84538042, 164.25784967,\n",
       "       168.34052911, 177.62066825, 161.69445233, 162.78935616,\n",
       "       168.59939864, 155.92920476, 187.07653891, 166.98415157,\n",
       "       182.15804168, 169.84022492, 150.78333332, 176.64447721,\n",
       "       178.00283566, 171.92937123, 180.10803014, 159.45169627,\n",
       "       167.26104299, 168.07197761, 141.21063749, 185.31391792,\n",
       "       179.59635896, 163.1117021 , 164.8446183 , 159.18687223,\n",
       "       172.87709248, 156.83198805, 162.62696273, 155.3605052 ,\n",
       "       162.19603203, 164.00097426, 183.68545496, 190.28166956,\n",
       "       158.04993624, 188.57506732, 171.61136842, 170.51962106,\n",
       "       163.44799492, 171.1541368 , 162.65156408, 166.08908093,\n",
       "       161.36862346, 170.57128654, 177.32018349, 170.35437271,\n",
       "       172.83664751, 168.63561924, 159.23361398, 162.22241711,\n",
       "       164.20708706, 170.1612036 , 175.11963268, 168.2800443 ,\n",
       "       160.41461852, 167.35605082, 169.00085385, 163.41000184,\n",
       "       157.66731043, 168.92769093, 188.90535028, 171.11694551,\n",
       "       164.53204959, 175.13392978, 171.98275732, 183.3013478 ,\n",
       "       167.13595137, 162.10257931, 161.75412763, 167.0119082 ,\n",
       "       182.47347632, 178.35066707, 168.0509384 , 174.05619558,\n",
       "       159.43026755, 160.04384191, 160.52866902, 186.40793408,\n",
       "       163.93699362, 171.06468221, 170.70729083, 155.32404973,\n",
       "       176.69550636, 159.8766162 , 172.79713261, 192.01287083,\n",
       "       158.48713611, 181.56856694, 159.39567747, 161.51709868,\n",
       "       163.52569329, 168.75506129, 169.01699827, 179.66434854,\n",
       "       162.36265072, 166.31866181, 177.06399384, 177.34425414,\n",
       "       169.05832236, 160.07078266, 176.67393266, 159.38115011,\n",
       "       157.1743212 , 165.95659811, 164.20835018, 178.00640788,\n",
       "       171.01861122, 155.48265112, 174.23250236, 179.14326903,\n",
       "       166.69682933, 170.14371712, 176.7019871 , 149.75187607,\n",
       "       150.65111043, 152.96439269, 153.02097029, 165.36466758,\n",
       "       165.51894629, 174.52263559, 170.2024969 , 153.18330957,\n",
       "       178.26971547, 165.18557572, 173.30080119, 169.93007679,\n",
       "       170.6951007 , 155.27248372, 152.94967857, 170.46222247,\n",
       "       163.11656243, 179.71182673, 159.02200108, 172.00062868,\n",
       "       177.03426399, 161.82591357, 170.91339346, 186.9867657 ,\n",
       "       158.36432532, 199.36275823, 162.46704542, 170.21831692,\n",
       "       166.34582209, 177.25588805, 178.91130851, 162.11606058,\n",
       "       175.12332825, 164.55753136, 157.27618312, 157.05391753,\n",
       "       173.59428787, 164.18316049, 155.89947542, 165.62438408,\n",
       "       196.91821554, 171.5778077 , 172.7454709 , 151.94441115,\n",
       "       164.36139443, 170.28631414, 175.33964112, 169.25329851,\n",
       "       190.34011525, 176.16854181, 176.12449765, 162.32906871,\n",
       "       179.10678936, 163.18010264, 184.87588384, 166.23055397,\n",
       "       169.73783291, 170.46378386, 179.46732664, 168.81685781,\n",
       "       154.00850771, 183.71475025, 179.86880006, 151.63998416,\n",
       "       179.30050204, 172.39954455, 166.08627322, 177.53900722,\n",
       "       180.2317283 , 174.84423827, 174.23770526, 163.956755  ,\n",
       "       180.84079543, 173.77807911, 145.63177087, 156.82112919,\n",
       "       170.11225413, 169.70706966, 171.7893094 , 189.84019276,\n",
       "       169.78119659, 158.98051039, 160.91166118, 166.4110097 ,\n",
       "       173.78704717, 181.46118017, 188.94646486, 173.15334527,\n",
       "       179.34985913, 176.39133577, 167.08773339, 150.83919304,\n",
       "       173.86156444, 160.99848161, 163.67419415, 179.55041105,\n",
       "       175.69689863, 201.89915818, 191.45558643, 161.44876552,\n",
       "       166.41436107, 153.3575137 , 185.75641166, 173.37532142,\n",
       "       167.85620305, 170.41342865, 178.38076308, 161.28440257,\n",
       "       150.03185762, 182.83996921, 167.21648686, 167.40222809,\n",
       "       159.1920336 , 171.692535  , 169.77524295, 164.89829653,\n",
       "       171.91589897, 190.37519861, 161.83920308, 152.55235641,\n",
       "       161.05851619, 169.88889767, 185.36820978, 168.01865219,\n",
       "       173.53469975, 174.33475594, 169.00684913, 175.4659618 ,\n",
       "       175.74174591, 158.77580259, 163.74279058, 170.8720844 ,\n",
       "       172.19649883, 184.4341353 , 154.64066512, 169.44588598,\n",
       "       189.8279082 , 193.90816514, 184.72011498, 168.61455704,\n",
       "       171.72467905, 167.81291353, 168.6848712 , 168.82125794,\n",
       "       138.882258  , 166.66090068, 158.20700529, 174.17695505,\n",
       "       153.01123443, 169.76881442, 149.91535969, 174.30445009,\n",
       "       167.27511694, 182.15710088, 154.49766541, 159.09383622,\n",
       "       170.20240752, 184.49055733, 163.70337262, 162.26697499,\n",
       "       179.48166718, 177.53915852, 164.50480677, 176.97114465,\n",
       "       177.90412816, 161.53739657, 183.65929902, 171.35469242,\n",
       "       181.74267973, 178.91643752, 168.63096667, 180.21158549,\n",
       "       164.12694276, 166.74780386, 159.36423966, 174.2989394 ,\n",
       "       178.65568302, 171.97558014, 173.39785272, 163.72428443,\n",
       "       158.52946621, 157.18496575, 154.62063849, 166.75895385,\n",
       "       160.14511968, 177.57313462, 174.71522102, 173.31190232,\n",
       "       177.60854346, 160.635722  , 175.23647552, 173.02087996,\n",
       "       177.76380465, 165.27143946, 175.75530704, 181.48270855,\n",
       "       175.2015398 , 172.10600234, 152.89214919, 194.34035269,\n",
       "       169.24230134, 177.79624009, 166.96565575, 181.69621623,\n",
       "       169.12116953, 169.32797012, 152.09942248, 176.60850803,\n",
       "       164.3214133 , 170.26092468, 169.93205406, 149.05710464,\n",
       "       165.63518074, 165.58165751, 150.82291712, 150.68186576,\n",
       "       155.98194958, 156.15613507, 176.07815975, 144.98643007,\n",
       "       165.61785975, 161.73037692, 170.25137764, 152.88270464,\n",
       "       179.79529129, 164.77841445, 173.19425433, 161.44982503,\n",
       "       156.48976536, 170.49671442, 172.5569291 , 176.81231121,\n",
       "       182.12250277, 181.81069927, 193.14476945, 175.6932889 ,\n",
       "       179.89431828, 158.84981617, 176.9484647 , 182.71374223,\n",
       "       169.06869273, 166.66105573, 163.69781324, 159.71832409,\n",
       "       185.09935804, 164.64520862, 171.18392242, 165.31682772,\n",
       "       168.68417068, 173.93379094, 183.50830067, 174.29194557,\n",
       "       159.53609706, 154.24893543, 176.22820542, 156.68496576,\n",
       "       172.39245191, 177.21007253, 167.58343138, 157.66933861,\n",
       "       170.92541872, 168.72361142, 153.23663368, 184.63850471,\n",
       "       156.3208641 , 179.15709543, 167.58152316, 185.45521545,\n",
       "       157.02580494, 172.12548328, 175.73326748, 164.86412989,\n",
       "       175.2881916 , 168.64238065, 177.78011541, 167.1990088 ,\n",
       "       162.02522973, 185.71564448, 159.93047611, 188.55012321,\n",
       "       186.27754778, 180.42053562, 165.61278121, 144.85419654,\n",
       "       191.49104428, 160.61401973, 150.7063907 , 163.83438474,\n",
       "       170.35966615, 179.91536015, 171.21571743, 183.8557272 ,\n",
       "       165.84015499, 169.5956418 , 185.23734541, 162.80872099,\n",
       "       169.09766763, 185.8401358 , 182.175204  , 173.30508164,\n",
       "       177.52528023, 158.34224628, 166.39212297, 192.79537508,\n",
       "       168.48145869, 179.34384755, 195.03841096, 176.87836353,\n",
       "       178.67103879, 177.17578162, 154.13460522, 152.36679079,\n",
       "       167.97369198, 169.58520672, 159.83454627, 165.03928757,\n",
       "       159.46933063, 179.66956921, 178.04309254, 178.88350008,\n",
       "       156.21432337, 173.19034178, 177.67369772, 174.54488092,\n",
       "       175.42672078, 168.02003062, 176.65675836, 185.8564847 ,\n",
       "       166.66877671, 162.44544252, 176.05521961, 176.45157135,\n",
       "       165.63714082, 168.27585942, 186.38033482, 163.0229395 ,\n",
       "       164.30488472, 176.01815247, 142.33807856, 179.10619232,\n",
       "       192.94861933, 156.12597593, 186.86429498, 177.02672601,\n",
       "       155.90729335, 173.76943578, 176.72583347, 157.90217577,\n",
       "       175.22408709, 167.57765174, 172.2757841 , 176.32485841,\n",
       "       180.79594767, 170.23843436, 183.12723571, 161.09455341,\n",
       "       170.48331132, 154.16502828, 162.08226801, 183.88359941,\n",
       "       153.86537476, 162.94635697, 166.60667378, 162.6426397 ,\n",
       "       174.67024589, 179.26579622, 159.09101556, 174.83426371,\n",
       "       171.32818582, 176.41088766, 189.95578674, 164.87701058,\n",
       "       166.17593378, 162.33133903, 187.18659742, 157.26466576,\n",
       "       159.14885265, 181.96525798, 170.9334025 , 175.01042229,\n",
       "       170.67322842, 173.690098  , 172.17243601, 171.54821743,\n",
       "       158.77657367, 167.68234687, 167.95252795, 148.20646411,\n",
       "       168.90925916, 167.26592724, 165.13351473, 162.03820936,\n",
       "       171.58627261, 158.9932828 , 168.02334038, 165.48769046,\n",
       "       156.74012881, 175.49244609, 168.17264435, 157.94027737,\n",
       "       161.79945716, 168.79622404, 152.85970431, 145.97878622,\n",
       "       147.86827417, 158.46699908, 160.21053331, 171.8786443 ,\n",
       "       158.35189173, 170.88160347, 155.45611222, 182.75378825,\n",
       "       170.8233576 , 169.91983275, 173.04457346, 160.0153703 ,\n",
       "       165.36803272, 162.11640213, 173.40613375, 150.54611478,\n",
       "       171.86764883, 166.13054135, 167.89460144, 178.37822518,\n",
       "       182.12201529, 163.63073286, 183.99091465, 169.3726031 ,\n",
       "       166.55412804, 164.23391161, 170.41426272, 163.58631812,\n",
       "       178.65768437, 181.6919019 , 164.98510401, 186.78378708,\n",
       "       162.08039324, 160.98738129, 163.45947506, 154.89311146,\n",
       "       167.58284428, 177.19729299, 167.82486722, 159.56379115,\n",
       "       173.86525724, 167.69774739, 179.97673578, 164.58517841,\n",
       "       180.75177195, 176.57224582, 159.96614232, 147.1332343 ,\n",
       "       174.23040914, 161.38900338, 162.58033975, 180.564457  ,\n",
       "       155.15233614, 172.07039205, 165.41561321, 164.43960868,\n",
       "       163.66197687, 161.55145465, 170.26798207, 183.19620929,\n",
       "       176.75506803, 165.34789754, 186.97041411, 173.01600354,\n",
       "       174.81740448, 176.46177277, 170.8405928 , 164.269688  ,\n",
       "       172.57314608, 161.62704127, 162.97220756, 166.45574596,\n",
       "       170.94704015, 169.90127174, 174.3033303 , 176.97614108,\n",
       "       174.04440435, 178.96247764, 193.43575921, 162.10078602,\n",
       "       181.09516844, 173.51467628, 165.00890685, 155.08074999,\n",
       "       167.07051533, 163.10479913, 170.80717763, 171.72904634,\n",
       "       174.39494462, 164.46041293, 178.92442493, 162.02121002,\n",
       "       176.85029647, 171.79628163, 167.90319385, 153.81850366,\n",
       "       168.21509926, 152.68460491, 167.4346163 , 156.00515094,\n",
       "       155.90030738, 169.34847465, 162.55850559, 183.28253092,\n",
       "       177.00903566, 154.31626903, 165.45269401, 169.49329307,\n",
       "       161.40092596, 176.59841934, 184.57743645, 153.68083148,\n",
       "       173.68274958, 166.43698079, 163.31117277, 168.36230982,\n",
       "       177.58935446, 160.89791433, 175.50398343, 168.22016814,\n",
       "       171.09614533, 180.73742679, 171.24623674, 187.57889012,\n",
       "       152.62755264, 173.45761341, 168.68852163, 179.54521846,\n",
       "       167.15994705, 174.24861153, 174.17563286, 168.57090695,\n",
       "       180.30111809, 158.19213115, 180.03801171, 177.81767562,\n",
       "       171.77204179, 155.22845471, 155.39702002, 170.26733817,\n",
       "       152.36792317, 164.26865507, 165.44771113, 164.88877488,\n",
       "       169.49649711, 173.51296858, 180.60676923, 163.44500302,\n",
       "       171.81819186, 169.56323895, 184.94946259, 161.4618715 ,\n",
       "       183.08055272, 185.18619218, 175.56907816, 167.44760304,\n",
       "       159.70963528, 161.81363863, 147.13308937, 175.73606206,\n",
       "       164.10369006, 182.42837383, 185.246075  , 150.30318515,\n",
       "       166.42266811, 180.69494188, 191.86791826, 158.75842786,\n",
       "       172.21819032, 162.7023538 , 155.79523311, 159.57551736,\n",
       "       180.0202175 , 161.01721904, 164.18524045, 171.84014972,\n",
       "       180.76904191, 186.75630555, 166.86855449, 176.70803534,\n",
       "       180.03824067, 184.50306956, 179.56302097, 168.04414113,\n",
       "       170.08524282, 172.87008373, 192.71833942, 160.84033488,\n",
       "       175.99497205, 169.8363451 , 182.89636851, 165.55649171,\n",
       "       155.77740901, 187.10040983, 157.50240141, 192.6417181 ,\n",
       "       166.43030844, 159.2886195 , 188.65456847, 165.46103882,\n",
       "       176.4725588 , 167.83113836, 184.68476876, 172.16430531,\n",
       "       162.70605197, 167.71013815, 172.92925863, 156.38767148,\n",
       "       157.9883184 , 172.13833447, 174.88412856, 177.55538754,\n",
       "       158.66103164, 169.09992744, 179.78136023, 156.07236306,\n",
       "       157.7038075 , 157.61671023, 157.95621566, 186.56124888,\n",
       "       164.80204848, 172.20598574, 153.03135034, 155.34101179,\n",
       "       169.92850895, 173.5805406 , 166.06193516, 157.70058015,\n",
       "       172.36855655, 167.61335282, 171.91528139, 168.65225563,\n",
       "       185.14249675, 184.31652225, 179.30785584, 160.67962701,\n",
       "       186.7522276 , 151.42830773, 178.41666745, 176.18375477,\n",
       "       184.3452131 , 143.63640632, 181.3722128 , 193.62650281,\n",
       "       180.52181519, 160.41339666, 168.51963432, 166.91808162,\n",
       "       164.85851974, 158.31010765, 180.56565048, 170.34421506,\n",
       "       150.41032389, 173.89784955, 183.96075996, 163.67282645,\n",
       "       161.08020919, 162.9602075 , 171.58482689, 160.2856434 ,\n",
       "       178.68968423, 163.30837896, 155.19967155, 178.31830624,\n",
       "       188.56197605, 169.78212866, 184.50083624, 164.59139449,\n",
       "       171.69271155, 172.31678496, 153.83160343, 151.28973714,\n",
       "       177.18820505, 183.93732902, 166.45478608, 188.13254368,\n",
       "       166.47998701, 174.77745212, 173.99827987, 158.00705833,\n",
       "       186.17078052, 156.70853901, 177.3339147 , 160.02542748,\n",
       "       183.80472659, 163.88752335, 171.65675634, 170.7455398 ,\n",
       "       182.86319549, 176.50160219, 169.18711906, 165.37443742,\n",
       "       151.10130878, 163.63679944, 168.09658381, 173.48889878,\n",
       "       173.81916263, 172.83149466, 187.79559575, 157.62912383,\n",
       "       158.18971403, 156.44599861, 159.92078219, 160.57293333,\n",
       "       167.80080638, 177.12770772, 162.61495847, 155.18715392,\n",
       "       149.93437726, 169.25955962, 172.94986478, 159.83086645,\n",
       "       172.09490069, 164.2727931 , 169.8771713 , 161.58514185,\n",
       "       177.52037812, 177.83855569, 163.78646034, 171.82747168,\n",
       "       183.26083767, 165.02741803, 175.13721656, 172.76604223,\n",
       "       188.21212694, 176.42596684, 185.12556037, 187.09548337,\n",
       "       179.11581688, 156.11053126, 161.44779955, 166.21951432,\n",
       "       158.90292693, 154.19557327, 162.48299503, 136.54686334,\n",
       "       162.26950301, 168.03484227, 173.97571869, 186.75099371,\n",
       "       149.10787688, 162.68424558, 164.02174867, 162.09571212,\n",
       "       157.7367359 , 187.99696957, 170.25052668, 181.14260732,\n",
       "       166.51630865, 181.41028272, 152.99077848, 175.07046168,\n",
       "       174.96576485, 166.65258719, 168.11446606, 160.56260964,\n",
       "       176.00280038, 178.75149279, 170.23170442, 175.3330371 ,\n",
       "       165.13974252, 194.6282644 , 175.20139267, 174.93823399,\n",
       "       157.67734373, 165.55349141, 169.7077615 , 168.26222668])"
      ]
     },
     "execution_count": 123,
     "metadata": {},
     "output_type": "execute_result"
    }
   ],
   "source": [
    "sample_of_thousand = country.rvs(1000)\n",
    "sample_of_thousand"
   ]
  },
  {
   "cell_type": "code",
   "execution_count": 134,
   "metadata": {
    "scrolled": false
   },
   "outputs": [
    {
     "data": {
      "image/png": "[encoded data removed]",
      "text/plain": [
       "<Figure size 1152x648 with 1 Axes>"
      ]
     },
     "metadata": {},
     "output_type": "display_data"
    }
   ],
   "source": [
    "pais = country.rvs(1000000)\n",
    "sns.histplot(pais)\n",
    "plt.axvline(x=170, c=\"r\");\n",
    "plt.axvline(x=180, c=\"g\", linestyle=\"--\");"
   ]
  },
  {
   "cell_type": "code",
   "execution_count": 136,
   "metadata": {},
   "outputs": [
    {
     "data": {
      "text/plain": [
       "0.024197072451914336"
      ]
     },
     "execution_count": 136,
     "metadata": {},
     "output_type": "execute_result"
    }
   ],
   "source": [
    "# how likely is it to find someone less than 180?\n",
    "country.pdf(180) # pdf: probability density function"
   ]
  },
  {
   "cell_type": "code",
   "execution_count": 137,
   "metadata": {},
   "outputs": [
    {
     "data": {
      "text/plain": [
       "0.8413447460685429"
      ]
     },
     "execution_count": 137,
     "metadata": {},
     "output_type": "execute_result"
    }
   ],
   "source": [
    "country.cdf(180) # cumulative: how likely to find someone less than 180"
   ]
  },
  {
   "cell_type": "code",
   "execution_count": 139,
   "metadata": {},
   "outputs": [
    {
     "data": {
      "image/png": "[encoded data removed]",
      "text/plain": [
       "<Figure size 1152x648 with 1 Axes>"
      ]
     },
     "metadata": {},
     "output_type": "display_data"
    }
   ],
   "source": [
    "x = np.linspace(120, 220, 100)\n",
    "y = country.pdf(x)\n",
    "plt.plot(x, y);"
   ]
  },
  {
   "cell_type": "code",
   "execution_count": 158,
   "metadata": {},
   "outputs": [
    {
     "name": "stdout",
     "output_type": "stream",
     "text": [
      "Oposite probability:  0.159 %\n"
     ]
    },
    {
     "data": {
      "image/png": "[encoded data removed]",
      "text/plain": [
       "<Figure size 1152x648 with 1 Axes>"
      ]
     },
     "metadata": {},
     "output_type": "display_data"
    }
   ],
   "source": [
    "def drawing_normal (value):\n",
    "    x = np.linspace(120, 220, 100)\n",
    "    y = country.pdf(x)\n",
    "    \n",
    "    fill_x = np.linspace(135, value, 100)\n",
    "    plt.fill_between(fill_x, country.pdf(fill_x), color=\"r\")\n",
    "    \n",
    "    fill_x_right = np.linspace(value, 220, 100)\n",
    "    plt.fill_between(fill_x_right, country.pdf(fill_x_right), color=\"b\")\n",
    "    plt.text(153, 0.005, str(country.cdf(value))[:4] + \"%\", size=15)\n",
    "    plt.plot(x, y)\n",
    "    print(f\"Oposite probability:  {round(1 - country.cdf(value), 3)} %\")\n",
    "    \n",
    "drawing_normal (180)"
   ]
  },
  {
   "cell_type": "code",
   "execution_count": 163,
   "metadata": {},
   "outputs": [
    {
     "data": {
      "image/png": "[encoded data removed]",
      "text/plain": [
       "<Figure size 1152x648 with 1 Axes>"
      ]
     },
     "metadata": {},
     "output_type": "display_data"
    }
   ],
   "source": [
    "text = \"p=\" + str(country.cdf(180)-country.cdf(160))[:4]\n",
    "\n",
    "x = np.linspace(120, 220, 100)\n",
    "y = country.pdf(x)\n",
    "\n",
    "fill_x = np.linspace(160, 180, 100)\n",
    "plt.fill_between(fill_x, country.pdf(fill_x), color=\"r\")\n",
    "plt.text(167, 0.008, text, size=15)\n",
    "\n",
    "plt.plot(x, y);\n",
    "\n",
    "# mu = 170\n",
    "# stdev = 10, on average ill be wrong by 10cm by guessing always 170"
   ]
  },
  {
   "cell_type": "code",
   "execution_count": null,
   "metadata": {},
   "outputs": [],
   "source": [
    "# ppf ,percentile"
   ]
  },
  {
   "cell_type": "code",
   "execution_count": 171,
   "metadata": {},
   "outputs": [
    {
     "name": "stdout",
     "output_type": "stream",
     "text": [
      "The 95.0% percentile value for a normal distribution is: 186.44853626951473\n"
     ]
    }
   ],
   "source": [
    "from scipy.stats import norm\n",
    "\n",
    "probability = 0.95\n",
    "\n",
    "ppf_value = country.ppf(probability)\n",
    "\n",
    "print(f'The {probability * 100}% percentile value for a normal distribution is: {ppf_value}')\n"
   ]
  },
  {
   "cell_type": "code",
   "execution_count": null,
   "metadata": {},
   "outputs": [],
   "source": []
  },
  {
   "cell_type": "markdown",
   "metadata": {
    "lang": "en"
   },
   "source": [
    "#### We sample with normal"
   ]
  },
  {
   "cell_type": "markdown",
   "metadata": {
    "lang": "en"
   },
   "source": [
    "`.rvs` generates a sample drawn from the distribution"
   ]
  },
  {
   "cell_type": "code",
   "execution_count": null,
   "metadata": {},
   "outputs": [],
   "source": []
  },
  {
   "cell_type": "markdown",
   "metadata": {
    "lang": "en"
   },
   "source": [
    "#### Probability density function"
   ]
  },
  {
   "cell_type": "code",
   "execution_count": null,
   "metadata": {},
   "outputs": [],
   "source": []
  },
  {
   "cell_type": "markdown",
   "metadata": {
    "lang": "en"
   },
   "source": [
    "`.pdf` Probability density function.\n",
    "[Wikipedia](https://es.wikipedia.org/wiki/Funci%C3%B3n_de_densidad_de_probability) says that:\n",
    "In probability theory, the probability density function, density function, or simply density of a continuous random variable describes the relative probability according to which said random variable will take a certain value.\n",
    "The probability that the random variable falls in a specific region of the possibility space will be given by the integral of the density of this variable between one and another limit of said region.\n",
    "The probability density function (PDF or PDF in English) is positive throughout its domain and its integral over the entire space is of unit value."
   ]
  },
  {
   "cell_type": "markdown",
   "metadata": {
    "lang": "en"
   },
   "source": [
    "The PDF in a value of a continuous does not give me much information, it is not the probability that someone measures exactly 160 because we have already said that the probability of that particular value tends to 0. If I tell you what is the probability that someone measures between 160 and 180 you will have to draw two verticals and paint the area under the curve, yes, the information it gives us is that there is more probability of measuring 165 than 160 or in my distribution there are more people who measure 165 than 160"
   ]
  },
  {
   "cell_type": "code",
   "execution_count": null,
   "metadata": {},
   "outputs": [],
   "source": []
  },
  {
   "cell_type": "markdown",
   "metadata": {
    "lang": "en"
   },
   "source": [
    "The total area under the curve is 1"
   ]
  },
  {
   "cell_type": "markdown",
   "metadata": {
    "lang": "en"
   },
   "source": [
    "As this distribution is **continuous**, we cannot ADD several .pdf values, but we have to INTEGRATE (area under the curve) up to 170"
   ]
  },
  {
   "cell_type": "markdown",
   "metadata": {},
   "source": [
    "$P(X < 170)$"
   ]
  },
  {
   "cell_type": "code",
   "execution_count": null,
   "metadata": {},
   "outputs": [],
   "source": []
  },
  {
   "cell_type": "markdown",
   "metadata": {
    "lang": "en"
   },
   "source": [
    "What is the proportion of people in the interval ($\\mu - \\sigma, \\mu + \\sigma)$?\n",
    "\n",
    "$P(160 < X < 180)$"
   ]
  },
  {
   "cell_type": "code",
   "execution_count": null,
   "metadata": {},
   "outputs": [],
   "source": []
  },
  {
   "cell_type": "markdown",
   "metadata": {
    "lang": "en"
   },
   "source": [
    "What is the proportion of people in the interval ($\\mu - 3\\sigma, \\mu + 3\\sigma)$?"
   ]
  },
  {
   "cell_type": "markdown",
   "metadata": {
    "lang": "en"
   },
   "source": [
    "In a normal distribution, this is ALWAYS true."
   ]
  },
  {
   "cell_type": "markdown",
   "metadata": {
    "lang": "en"
   },
   "source": [
    "How do you interpret this... we repeat ourselves a bit:\n",
    "\n",
    "Australian lizards measure:\n",
    "- Average 6.2\n",
    "- Standard deviation 1\n",
    "\n",
    "**Means:**\n",
    "- Between 5.2 and 7.2 are 68% of the lizards\n",
    "- Between 4.2 and 8.2 are 95.45% of the lizards\n",
    "- Between 3.2 and 9.2 are 99.73% of the lizards"
   ]
  },
  {
   "cell_type": "markdown",
   "metadata": {
    "lang": "en"
   },
   "source": [
    "#### Percent point function (PPF)\n",
    "Do we remember how this is interpreted?"
   ]
  },
  {
   "cell_type": "code",
   "execution_count": null,
   "metadata": {},
   "outputs": [],
   "source": []
  },
  {
   "cell_type": "markdown",
   "metadata": {
    "lang": "en"
   },
   "source": [
    "Basically it is the [Quantile Function](https://es.wikipedia.org/wiki/Funci%C3%B3n_cuantil), it gives us the inverse and tells us the percentile."
   ]
  },
  {
   "cell_type": "markdown",
   "metadata": {
    "lang": "en"
   },
   "source": [
    "* *CDF(height) = gives us the probability of measuring less than that height\n",
    "* *PPF(probability) = gives us the heightº"
   ]
  },
  {
   "cell_type": "markdown",
   "metadata": {
    "lang": "en"
   },
   "source": [
    "What height is such that 80% of the people are shorter than someone?"
   ]
  },
  {
   "cell_type": "code",
   "execution_count": null,
   "metadata": {},
   "outputs": [],
   "source": []
  },
  {
   "cell_type": "markdown",
   "metadata": {
    "lang": "en"
   },
   "source": [
    "### Other continuous probability distributions"
   ]
  },
  {
   "cell_type": "markdown",
   "metadata": {
    "lang": "en"
   },
   "source": [
    "* Student's $t$ distribution\n",
    "* Snedecor's $F$ distribution\n",
    "* Chi square distribution"
   ]
  },
  {
   "cell_type": "markdown",
   "metadata": {
    "lang": "en"
   },
   "source": [
    "## Summary\n"
   ]
  },
  {
   "cell_type": "code",
   "execution_count": null,
   "metadata": {},
   "outputs": [],
   "source": []
  },
  {
   "cell_type": "markdown",
   "metadata": {},
   "source": [
    "[4 Reasons Why Data Scientists Should Have Love Affairs with Probability Distributions](https://medium.com/@minaienick/4-reasons-data-scientists-should-have-love-affairs-with-probability-distributions-b7d5051dc7aa)"
   ]
  }
 ],
 "metadata": {
  "colab": {
   "collapsed_sections": [],
   "name": "ProbabilityDistribution (1).ipynb",
   "provenance": []
  },
  "kernelspec": {
   "display_name": "ironhack",
   "language": "python",
   "name": "ironhack"
  },
  "language_info": {
   "codemirror_mode": {
    "name": "ipython",
    "version": 3
   },
   "file_extension": ".py",
   "mimetype": "text/x-python",
   "name": "python",
   "nbconvert_exporter": "python",
   "pygments_lexer": "ipython3",
   "version": "3.9.12"
  },
  "nbTranslate": {
   "displayLangs": [
    "en",
    "es"
   ],
   "hotkey": "alt-a",
   "langInMainMenu": true,
   "sourceLang": "es",
   "targetLang": "en",
   "useGoogleTranslate": true
  },
  "toc": {
   "base_numbering": 1,
   "nav_menu": {},
   "number_sections": true,
   "sideBar": true,
   "skip_h1_title": true,
   "title_cell": "Table of Contents",
   "title_sidebar": "Contents",
   "toc_cell": true,
   "toc_position": {
    "height": "calc(100% - 180px)",
    "left": "10px",
    "top": "150px",
    "width": "212.819px"
   },
   "toc_section_display": true,
   "toc_window_display": false
  },
  "varInspector": {
   "cols": {
    "lenName": 16,
    "lenType": 16,
    "lenVar": 40
   },
   "kernels_config": {
    "python": {
     "delete_cmd_postfix": "",
     "delete_cmd_prefix": "del ",
     "library": "var_list.py",
     "varRefreshCmd": "print(var_dic_list())"
    },
    "r": {
     "delete_cmd_postfix": ") ",
     "delete_cmd_prefix": "rm(",
     "library": "var_list.r",
     "varRefreshCmd": "cat(var_dic_list()) "
    }
   },
   "types_to_exclude": [
    "module",
    "function",
    "builtin_function_or_method",
    "instance",
    "_Feature"
   ],
   "window_display": false
  }
 },
 "nbformat": 4,
 "nbformat_minor": 1
}
