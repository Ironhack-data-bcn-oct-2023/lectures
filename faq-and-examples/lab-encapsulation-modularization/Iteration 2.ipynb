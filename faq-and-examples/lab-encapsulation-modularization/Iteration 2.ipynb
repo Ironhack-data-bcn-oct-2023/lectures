{
 "cells": [
  {
   "cell_type": "markdown",
   "id": "4d6436d8",
   "metadata": {},
   "source": [
    "# Create functions re-using the code from Iteration 1"
   ]
  },
  {
   "cell_type": "markdown",
   "id": "6064c879",
   "metadata": {},
   "source": [
    "## Challenge 1: downloading function"
   ]
  },
  {
   "cell_type": "markdown",
   "id": "b10e2c30",
   "metadata": {},
   "source": [
    "- Params\n",
    "    - url\n",
    "    - name (of the file)\n",
    " \n",
    "- Return: the dataframne\n",
    "- Downloads the passed url into the data folder with the given name. \n",
    "- After downloading, it will assign the `df` variable to the csv according to its path."
   ]
  },
  {
   "cell_type": "code",
   "execution_count": null,
   "id": "8c91ab44",
   "metadata": {},
   "outputs": [],
   "source": [
    "def downloading ():\n",
    "    pass"
   ]
  },
  {
   "cell_type": "markdown",
   "id": "8cb28fb6",
   "metadata": {},
   "source": [
    "## Challenge 2: Cleaning function"
   ]
  },
  {
   "cell_type": "markdown",
   "id": "5135c162",
   "metadata": {},
   "source": [
    "- Params\n",
    "    - receives a dataframe\n",
    " \n",
    "- Return: the clean dataframe.\n",
    "- Cleans the dataframe and exports a cleaned version. It will assign the `df` variable to the csv according to its path."
   ]
  },
  {
   "cell_type": "code",
   "execution_count": null,
   "id": "82a9cb25",
   "metadata": {},
   "outputs": [],
   "source": [
    "def basic_cleaning ():\n",
    "    pass"
   ]
  },
  {
   "cell_type": "markdown",
   "id": "d93b803e",
   "metadata": {},
   "source": [
    "## Challenge 3: Visualization function"
   ]
  },
  {
   "cell_type": "markdown",
   "id": "d7cf41f0",
   "metadata": {},
   "source": [
    "- Params\n",
    "    - receives a dataframe\n",
    "    - receives the name of the exported file\n",
    " \n",
    "- Return: not needed\n",
    "- Exports a figure into the images folder and opens it."
   ]
  },
  {
   "cell_type": "code",
   "execution_count": null,
   "id": "ea7d750b",
   "metadata": {},
   "outputs": [],
   "source": [
    "def visualizing ():\n",
    "    pass"
   ]
  },
  {
   "cell_type": "markdown",
   "id": "7c7bc0bd",
   "metadata": {},
   "source": [
    "## Challenge 4: Document the functions"
   ]
  },
  {
   "cell_type": "markdown",
   "id": "a7bf220a",
   "metadata": {},
   "source": [
    "- Use docstrings\n",
    "- Use hashtags if necessary"
   ]
  }
 ],
 "metadata": {
  "kernelspec": {
   "display_name": "ironhack",
   "language": "python",
   "name": "ironhack"
  },
  "language_info": {
   "codemirror_mode": {
    "name": "ipython",
    "version": 3
   },
   "file_extension": ".py",
   "mimetype": "text/x-python",
   "name": "python",
   "nbconvert_exporter": "python",
   "pygments_lexer": "ipython3",
   "version": "3.8.5"
  }
 },
 "nbformat": 4,
 "nbformat_minor": 5
}
