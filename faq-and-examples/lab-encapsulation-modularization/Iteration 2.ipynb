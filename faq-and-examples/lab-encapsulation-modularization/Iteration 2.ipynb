{
 "cells": [
  {
   "cell_type": "markdown",
   "id": "4d6436d8",
   "metadata": {},
   "source": [
    "# Create functions re-using the code from Iteration 1"
   ]
  },
  {
   "cell_type": "markdown",
   "id": "6064c879",
   "metadata": {},
   "source": [
    "## Challenge 1: downloading function"
   ]
  },
  {
   "cell_type": "markdown",
   "id": "b10e2c30",
   "metadata": {},
   "source": [
    "- Params\n",
    "    - url\n",
    "    - name (of the file)\n",
    " \n",
    "- Return: the dataframne\n",
    "- Downloads the passed url into the data folder with the given name. \n",
    "- After downloading, it will assign the `df` variable to the csv according to its path."
   ]
  },
  {
   "cell_type": "code",
   "execution_count": 37,
   "id": "0a482c50",
   "metadata": {},
   "outputs": [],
   "source": [
    "import os\n",
    "import pandas as pd"
   ]
  },
  {
   "cell_type": "code",
   "execution_count": 38,
   "id": "64f8bdaa",
   "metadata": {},
   "outputs": [],
   "source": [
    "name = \"hello\""
   ]
  },
  {
   "cell_type": "code",
   "execution_count": 39,
   "id": "eda925ce",
   "metadata": {},
   "outputs": [
    {
     "name": "stdout",
     "output_type": "stream",
     "text": [
      "My name is hello\n"
     ]
    }
   ],
   "source": [
    "print(f\"My name is {name}\")"
   ]
  },
  {
   "cell_type": "code",
   "execution_count": 40,
   "id": "8c91ab44",
   "metadata": {},
   "outputs": [],
   "source": [
    "def downloading (url, name):\n",
    "    command = f\"curl {url} > data/{name}.csv\"\n",
    "    os.system(command)\n",
    "    df = pd.read_csv(f\"data/{name}.csv\")\n",
    "    return df"
   ]
  },
  {
   "cell_type": "code",
   "execution_count": 41,
   "id": "8e8a23bb",
   "metadata": {},
   "outputs": [],
   "source": [
    "url = \"https://raw.githubusercontent.com/Ironhack-data-bcn-oct-2023/lectures/main/datasets/avocado_kaggle.csv\""
   ]
  },
  {
   "cell_type": "code",
   "execution_count": 42,
   "id": "8570d764",
   "metadata": {},
   "outputs": [
    {
     "name": "stderr",
     "output_type": "stream",
     "text": [
      "  % Total    % Received % Xferd  Average Speed   Time    Time     Time  Current\n",
      "                                 Dload  Upload   Total   Spent    Left  Speed\n",
      "100 1942k  100 1942k    0     0  3817k      0 --:--:-- --:--:-- --:--:-- 3861k\n"
     ]
    }
   ],
   "source": [
    "df = downloading(url, \"data_3\")"
   ]
  },
  {
   "cell_type": "markdown",
   "id": "8cb28fb6",
   "metadata": {},
   "source": [
    "## Challenge 2: Cleaning function"
   ]
  },
  {
   "cell_type": "markdown",
   "id": "5135c162",
   "metadata": {},
   "source": [
    "- Params\n",
    "    - receives a dataframe\n",
    " \n",
    "- Return: the clean dataframe.\n",
    "- Cleans the dataframe and exports a cleaned version. It will assign the `df` variable to the csv according to its path."
   ]
  },
  {
   "cell_type": "code",
   "execution_count": 43,
   "id": "82a9cb25",
   "metadata": {},
   "outputs": [],
   "source": [
    "def basic_cleaning (df):\n",
    "    df.drop(columns=[\"Unnamed: 0\"], inplace=True)# \"unnamed:_0\" \n",
    "    df.columns = [i.lower().replace(\" \", \"-\")   for i in df.columns]\n",
    "    df.dropna(inplace=True)\n",
    "    \n",
    "    return df"
   ]
  },
  {
   "cell_type": "code",
   "execution_count": 44,
   "id": "d93cb5f9",
   "metadata": {},
   "outputs": [],
   "source": [
    "df_clean = basic_cleaning (df)"
   ]
  },
  {
   "cell_type": "code",
   "execution_count": 45,
   "id": "c30ba923",
   "metadata": {},
   "outputs": [
    {
     "data": {
      "text/html": [
       "<div>\n",
       "<style scoped>\n",
       "    .dataframe tbody tr th:only-of-type {\n",
       "        vertical-align: middle;\n",
       "    }\n",
       "\n",
       "    .dataframe tbody tr th {\n",
       "        vertical-align: top;\n",
       "    }\n",
       "\n",
       "    .dataframe thead th {\n",
       "        text-align: right;\n",
       "    }\n",
       "</style>\n",
       "<table border=\"1\" class=\"dataframe\">\n",
       "  <thead>\n",
       "    <tr style=\"text-align: right;\">\n",
       "      <th></th>\n",
       "      <th>date</th>\n",
       "      <th>averageprice</th>\n",
       "      <th>total-volume</th>\n",
       "      <th>4046</th>\n",
       "      <th>4225</th>\n",
       "      <th>4770</th>\n",
       "      <th>total-bags</th>\n",
       "      <th>small-bags</th>\n",
       "      <th>large-bags</th>\n",
       "      <th>xlarge-bags</th>\n",
       "      <th>type</th>\n",
       "      <th>year</th>\n",
       "      <th>region</th>\n",
       "    </tr>\n",
       "  </thead>\n",
       "  <tbody>\n",
       "    <tr>\n",
       "      <th>0</th>\n",
       "      <td>2015-12-27</td>\n",
       "      <td>1.33</td>\n",
       "      <td>64236.62</td>\n",
       "      <td>1036.74</td>\n",
       "      <td>54454.85</td>\n",
       "      <td>48.16</td>\n",
       "      <td>8696.87</td>\n",
       "      <td>8603.62</td>\n",
       "      <td>93.25</td>\n",
       "      <td>0.0</td>\n",
       "      <td>conventional</td>\n",
       "      <td>2015</td>\n",
       "      <td>Albany</td>\n",
       "    </tr>\n",
       "    <tr>\n",
       "      <th>1</th>\n",
       "      <td>2015-12-20</td>\n",
       "      <td>1.35</td>\n",
       "      <td>54876.98</td>\n",
       "      <td>674.28</td>\n",
       "      <td>44638.81</td>\n",
       "      <td>58.33</td>\n",
       "      <td>9505.56</td>\n",
       "      <td>9408.07</td>\n",
       "      <td>97.49</td>\n",
       "      <td>0.0</td>\n",
       "      <td>conventional</td>\n",
       "      <td>2015</td>\n",
       "      <td>Albany</td>\n",
       "    </tr>\n",
       "    <tr>\n",
       "      <th>2</th>\n",
       "      <td>2015-12-13</td>\n",
       "      <td>0.93</td>\n",
       "      <td>118220.22</td>\n",
       "      <td>794.70</td>\n",
       "      <td>109149.67</td>\n",
       "      <td>130.50</td>\n",
       "      <td>8145.35</td>\n",
       "      <td>8042.21</td>\n",
       "      <td>103.14</td>\n",
       "      <td>0.0</td>\n",
       "      <td>conventional</td>\n",
       "      <td>2015</td>\n",
       "      <td>Albany</td>\n",
       "    </tr>\n",
       "    <tr>\n",
       "      <th>3</th>\n",
       "      <td>2015-12-06</td>\n",
       "      <td>1.08</td>\n",
       "      <td>78992.15</td>\n",
       "      <td>1132.00</td>\n",
       "      <td>71976.41</td>\n",
       "      <td>72.58</td>\n",
       "      <td>5811.16</td>\n",
       "      <td>5677.40</td>\n",
       "      <td>133.76</td>\n",
       "      <td>0.0</td>\n",
       "      <td>conventional</td>\n",
       "      <td>2015</td>\n",
       "      <td>Albany</td>\n",
       "    </tr>\n",
       "    <tr>\n",
       "      <th>4</th>\n",
       "      <td>2015-11-29</td>\n",
       "      <td>1.28</td>\n",
       "      <td>51039.60</td>\n",
       "      <td>941.48</td>\n",
       "      <td>43838.39</td>\n",
       "      <td>75.78</td>\n",
       "      <td>6183.95</td>\n",
       "      <td>5986.26</td>\n",
       "      <td>197.69</td>\n",
       "      <td>0.0</td>\n",
       "      <td>conventional</td>\n",
       "      <td>2015</td>\n",
       "      <td>Albany</td>\n",
       "    </tr>\n",
       "    <tr>\n",
       "      <th>...</th>\n",
       "      <td>...</td>\n",
       "      <td>...</td>\n",
       "      <td>...</td>\n",
       "      <td>...</td>\n",
       "      <td>...</td>\n",
       "      <td>...</td>\n",
       "      <td>...</td>\n",
       "      <td>...</td>\n",
       "      <td>...</td>\n",
       "      <td>...</td>\n",
       "      <td>...</td>\n",
       "      <td>...</td>\n",
       "      <td>...</td>\n",
       "    </tr>\n",
       "    <tr>\n",
       "      <th>18244</th>\n",
       "      <td>2018-02-04</td>\n",
       "      <td>1.63</td>\n",
       "      <td>17074.83</td>\n",
       "      <td>2046.96</td>\n",
       "      <td>1529.20</td>\n",
       "      <td>0.00</td>\n",
       "      <td>13498.67</td>\n",
       "      <td>13066.82</td>\n",
       "      <td>431.85</td>\n",
       "      <td>0.0</td>\n",
       "      <td>organic</td>\n",
       "      <td>2018</td>\n",
       "      <td>WestTexNewMexico</td>\n",
       "    </tr>\n",
       "    <tr>\n",
       "      <th>18245</th>\n",
       "      <td>2018-01-28</td>\n",
       "      <td>1.71</td>\n",
       "      <td>13888.04</td>\n",
       "      <td>1191.70</td>\n",
       "      <td>3431.50</td>\n",
       "      <td>0.00</td>\n",
       "      <td>9264.84</td>\n",
       "      <td>8940.04</td>\n",
       "      <td>324.80</td>\n",
       "      <td>0.0</td>\n",
       "      <td>organic</td>\n",
       "      <td>2018</td>\n",
       "      <td>WestTexNewMexico</td>\n",
       "    </tr>\n",
       "    <tr>\n",
       "      <th>18246</th>\n",
       "      <td>2018-01-21</td>\n",
       "      <td>1.87</td>\n",
       "      <td>13766.76</td>\n",
       "      <td>1191.92</td>\n",
       "      <td>2452.79</td>\n",
       "      <td>727.94</td>\n",
       "      <td>9394.11</td>\n",
       "      <td>9351.80</td>\n",
       "      <td>42.31</td>\n",
       "      <td>0.0</td>\n",
       "      <td>organic</td>\n",
       "      <td>2018</td>\n",
       "      <td>WestTexNewMexico</td>\n",
       "    </tr>\n",
       "    <tr>\n",
       "      <th>18247</th>\n",
       "      <td>2018-01-14</td>\n",
       "      <td>1.93</td>\n",
       "      <td>16205.22</td>\n",
       "      <td>1527.63</td>\n",
       "      <td>2981.04</td>\n",
       "      <td>727.01</td>\n",
       "      <td>10969.54</td>\n",
       "      <td>10919.54</td>\n",
       "      <td>50.00</td>\n",
       "      <td>0.0</td>\n",
       "      <td>organic</td>\n",
       "      <td>2018</td>\n",
       "      <td>WestTexNewMexico</td>\n",
       "    </tr>\n",
       "    <tr>\n",
       "      <th>18248</th>\n",
       "      <td>2018-01-07</td>\n",
       "      <td>1.62</td>\n",
       "      <td>17489.58</td>\n",
       "      <td>2894.77</td>\n",
       "      <td>2356.13</td>\n",
       "      <td>224.53</td>\n",
       "      <td>12014.15</td>\n",
       "      <td>11988.14</td>\n",
       "      <td>26.01</td>\n",
       "      <td>0.0</td>\n",
       "      <td>organic</td>\n",
       "      <td>2018</td>\n",
       "      <td>WestTexNewMexico</td>\n",
       "    </tr>\n",
       "  </tbody>\n",
       "</table>\n",
       "<p>18249 rows × 13 columns</p>\n",
       "</div>"
      ],
      "text/plain": [
       "             date  averageprice  total-volume     4046       4225    4770   \n",
       "0      2015-12-27          1.33      64236.62  1036.74   54454.85   48.16  \\\n",
       "1      2015-12-20          1.35      54876.98   674.28   44638.81   58.33   \n",
       "2      2015-12-13          0.93     118220.22   794.70  109149.67  130.50   \n",
       "3      2015-12-06          1.08      78992.15  1132.00   71976.41   72.58   \n",
       "4      2015-11-29          1.28      51039.60   941.48   43838.39   75.78   \n",
       "...           ...           ...           ...      ...        ...     ...   \n",
       "18244  2018-02-04          1.63      17074.83  2046.96    1529.20    0.00   \n",
       "18245  2018-01-28          1.71      13888.04  1191.70    3431.50    0.00   \n",
       "18246  2018-01-21          1.87      13766.76  1191.92    2452.79  727.94   \n",
       "18247  2018-01-14          1.93      16205.22  1527.63    2981.04  727.01   \n",
       "18248  2018-01-07          1.62      17489.58  2894.77    2356.13  224.53   \n",
       "\n",
       "       total-bags  small-bags  large-bags  xlarge-bags          type  year   \n",
       "0         8696.87     8603.62       93.25          0.0  conventional  2015  \\\n",
       "1         9505.56     9408.07       97.49          0.0  conventional  2015   \n",
       "2         8145.35     8042.21      103.14          0.0  conventional  2015   \n",
       "3         5811.16     5677.40      133.76          0.0  conventional  2015   \n",
       "4         6183.95     5986.26      197.69          0.0  conventional  2015   \n",
       "...           ...         ...         ...          ...           ...   ...   \n",
       "18244    13498.67    13066.82      431.85          0.0       organic  2018   \n",
       "18245     9264.84     8940.04      324.80          0.0       organic  2018   \n",
       "18246     9394.11     9351.80       42.31          0.0       organic  2018   \n",
       "18247    10969.54    10919.54       50.00          0.0       organic  2018   \n",
       "18248    12014.15    11988.14       26.01          0.0       organic  2018   \n",
       "\n",
       "                 region  \n",
       "0                Albany  \n",
       "1                Albany  \n",
       "2                Albany  \n",
       "3                Albany  \n",
       "4                Albany  \n",
       "...                 ...  \n",
       "18244  WestTexNewMexico  \n",
       "18245  WestTexNewMexico  \n",
       "18246  WestTexNewMexico  \n",
       "18247  WestTexNewMexico  \n",
       "18248  WestTexNewMexico  \n",
       "\n",
       "[18249 rows x 13 columns]"
      ]
     },
     "execution_count": 45,
     "metadata": {},
     "output_type": "execute_result"
    }
   ],
   "source": [
    "df_clean"
   ]
  },
  {
   "cell_type": "markdown",
   "id": "d93b803e",
   "metadata": {},
   "source": [
    "## Challenge 3: Visualization function"
   ]
  },
  {
   "cell_type": "markdown",
   "id": "d7cf41f0",
   "metadata": {},
   "source": [
    "- Params\n",
    "    - receives a dataframe\n",
    "    - receives the name of the exported file\n",
    " \n",
    "- Return: not needed\n",
    "- Exports a figure into the images folder and opens it."
   ]
  },
  {
   "cell_type": "code",
   "execution_count": 48,
   "id": "ea7d750b",
   "metadata": {},
   "outputs": [],
   "source": [
    "def visualizing (df, name):\n",
    "    df.groupby(\"type\").aggregate({\"averageprice\":\"mean\"})\n",
    "    df.groupby(\"type\").aggregate({\"averageprice\":\"mean\"}).plot.bar().get_figure().savefig(f'images/{name}')\n",
    "    os.system(f\"open images/{name}.png\")\n",
    "    \n",
    "    # assert the image is there: ls\n",
    "    \n",
    "    print(\"Exported!\")"
   ]
  },
  {
   "cell_type": "code",
   "execution_count": 49,
   "id": "1cc5e12d",
   "metadata": {},
   "outputs": [
    {
     "name": "stdout",
     "output_type": "stream",
     "text": [
      "Exported!\n"
     ]
    },
    {
     "data": {
      "image/png": "[encoded data removed]",
      "text/plain": [
       "<Figure size 432x288 with 1 Axes>"
      ]
     },
     "metadata": {
      "needs_background": "light"
     },
     "output_type": "display_data"
    }
   ],
   "source": [
    "visualizing(df_clean, \"ugly_barplot\")"
   ]
  },
  {
   "cell_type": "markdown",
   "id": "7c7bc0bd",
   "metadata": {},
   "source": [
    "## Challenge 4: Document the functions"
   ]
  },
  {
   "cell_type": "markdown",
   "id": "a7bf220a",
   "metadata": {},
   "source": [
    "- Use docstrings\n",
    "- Use hashtags if necessary"
   ]
  }
 ],
 "metadata": {
  "kernelspec": {
   "display_name": "ironhack",
   "language": "python",
   "name": "ironhack"
  },
  "language_info": {
   "codemirror_mode": {
    "name": "ipython",
    "version": 3
   },
   "file_extension": ".py",
   "mimetype": "text/x-python",
   "name": "python",
   "nbconvert_exporter": "python",
   "pygments_lexer": "ipython3",
   "version": "3.9.12"
  },
  "nbTranslate": {
   "displayLangs": [
    "en",
    "es"
   ],
   "hotkey": "alt-a",
   "langInMainMenu": true,
   "sourceLang": "es",
   "targetLang": "en",
   "useGoogleTranslate": true
  },
  "toc": {
   "base_numbering": 1,
   "nav_menu": {},
   "number_sections": true,
   "sideBar": true,
   "skip_h1_title": false,
   "title_cell": "Table of Contents",
   "title_sidebar": "Contents",
   "toc_cell": false,
   "toc_position": {},
   "toc_section_display": true,
   "toc_window_display": false
  }
 },
 "nbformat": 4,
 "nbformat_minor": 5
}
