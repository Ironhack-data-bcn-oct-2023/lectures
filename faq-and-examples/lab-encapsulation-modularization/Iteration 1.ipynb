{
 "cells": [
  {
   "cell_type": "code",
   "execution_count": null,
   "id": "1aa5cee2",
   "metadata": {},
   "outputs": [],
   "source": [
    "import os\n",
    "import pandas as pd"
   ]
  },
  {
   "cell_type": "markdown",
   "id": "036aadec",
   "metadata": {},
   "source": [
    "## Challenge 1: Download the `avocado_kaggle.csv` from lectures/datasets folder into the data folder"
   ]
  },
  {
   "cell_type": "markdown",
   "id": "39241812",
   "metadata": {},
   "source": [
    "### 1st: using bash commands on jupyter notebooks"
   ]
  },
  {
   "cell_type": "markdown",
   "id": "ac8486e7",
   "metadata": {},
   "source": [
    "We'll use the `ls` command first. In order to run it from jupyter notebook, you will need to include an exclamation mark in the beginning. You should get a print of all the files in there"
   ]
  },
  {
   "cell_type": "code",
   "execution_count": null,
   "id": "472dc052",
   "metadata": {},
   "outputs": [],
   "source": [
    "# Your code here\n"
   ]
  },
  {
   "cell_type": "markdown",
   "id": "90da38d1",
   "metadata": {},
   "source": [
    "### 2nd: find the url to the `avocado_kaggle.csv` from lectures/datasets"
   ]
  },
  {
   "cell_type": "markdown",
   "id": "63afe437",
   "metadata": {},
   "source": [
    "- Go to the lectures repo\n",
    "- Look for the datasets folder\n",
    "- Find the avocado_kaggle.csv file\n",
    "- Click on raw\n",
    "- Get the link and paste it on the cell down below"
   ]
  },
  {
   "cell_type": "code",
   "execution_count": 39,
   "id": "e64468f2",
   "metadata": {},
   "outputs": [],
   "source": [
    "# The url here: "
   ]
  },
  {
   "cell_type": "markdown",
   "id": "0e4d235d",
   "metadata": {},
   "source": [
    "### 3nd: try the `curl` command with the link"
   ]
  },
  {
   "cell_type": "markdown",
   "id": "777ccdf8",
   "metadata": {},
   "source": [
    "```bash\n",
    "curl the_link\n",
    "```"
   ]
  },
  {
   "cell_type": "markdown",
   "id": "eb8b7794",
   "metadata": {},
   "source": [
    "- Use the exclamation mark\n",
    "- Substitute the_link for the actual raw link you pasted above"
   ]
  },
  {
   "cell_type": "code",
   "execution_count": null,
   "id": "d3dd9c77",
   "metadata": {},
   "outputs": [],
   "source": []
  },
  {
   "cell_type": "markdown",
   "id": "2be1cda5",
   "metadata": {},
   "source": [
    "### 4th: curl it into the data folder"
   ]
  },
  {
   "cell_type": "markdown",
   "id": "7c71894d",
   "metadata": {},
   "source": [
    "```bash\n",
    "curl the_link > data/avocado.csv\n",
    "```"
   ]
  },
  {
   "cell_type": "code",
   "execution_count": null,
   "id": "bd50a9a4",
   "metadata": {},
   "outputs": [],
   "source": [
    "#Your code here\n"
   ]
  },
  {
   "cell_type": "markdown",
   "id": "72388492",
   "metadata": {},
   "source": [
    "### 5th: repeat the process but instead through notebooks, through python"
   ]
  },
  {
   "cell_type": "markdown",
   "id": "aedf6f3f",
   "metadata": {},
   "source": [
    "Using `os.system(command)` syntax, run that command. `command` should be a stringified version of the command you just built"
   ]
  },
  {
   "cell_type": "code",
   "execution_count": null,
   "id": "34983141",
   "metadata": {},
   "outputs": [],
   "source": []
  },
  {
   "cell_type": "markdown",
   "id": "8e9b763a",
   "metadata": {},
   "source": [
    "## Challenge 2: Some manipulation"
   ]
  },
  {
   "cell_type": "markdown",
   "id": "f6497670",
   "metadata": {},
   "source": [
    "Read the downloaded csv as a df using pandas"
   ]
  },
  {
   "cell_type": "code",
   "execution_count": null,
   "id": "a064e763",
   "metadata": {},
   "outputs": [],
   "source": []
  },
  {
   "cell_type": "markdown",
   "id": "7b7d7aa5",
   "metadata": {},
   "source": [
    "Drop the column named `Unnamed: 0`."
   ]
  },
  {
   "cell_type": "code",
   "execution_count": null,
   "id": "4afc1632",
   "metadata": {},
   "outputs": [],
   "source": [
    "# Your code here"
   ]
  },
  {
   "cell_type": "code",
   "execution_count": null,
   "id": "20586add",
   "metadata": {},
   "outputs": [],
   "source": []
  },
  {
   "cell_type": "markdown",
   "id": "dc15ef0d",
   "metadata": {},
   "source": [
    "Drop missing values if any"
   ]
  },
  {
   "cell_type": "code",
   "execution_count": null,
   "id": "cb5160fd",
   "metadata": {},
   "outputs": [],
   "source": [
    "# Your code here"
   ]
  },
  {
   "cell_type": "markdown",
   "id": "3d8672bf",
   "metadata": {},
   "source": [
    "Format the column names: substitute whitespaces for dashes and make them lower case"
   ]
  },
  {
   "cell_type": "code",
   "execution_count": null,
   "id": "cb77f810",
   "metadata": {},
   "outputs": [],
   "source": [
    "# Your code here"
   ]
  },
  {
   "cell_type": "code",
   "execution_count": null,
   "id": "639257be",
   "metadata": {},
   "outputs": [],
   "source": []
  },
  {
   "cell_type": "markdown",
   "id": "18769374",
   "metadata": {},
   "source": [
    "Export it into the data folder with the name `avocado_clean.csv`. Make sure index is set to False when exporting"
   ]
  },
  {
   "cell_type": "code",
   "execution_count": null,
   "id": "2d0b8280",
   "metadata": {},
   "outputs": [],
   "source": [
    "# Your code here\n"
   ]
  },
  {
   "cell_type": "markdown",
   "id": "9ec5d99f",
   "metadata": {},
   "source": [
    "## Challenge 3: Draw a bar plot of grouped info"
   ]
  },
  {
   "cell_type": "markdown",
   "id": "2fb338d5",
   "metadata": {},
   "source": [
    "Group by type and aggregate by the mean of the average price"
   ]
  },
  {
   "cell_type": "code",
   "execution_count": null,
   "id": "f62e3068",
   "metadata": {},
   "outputs": [],
   "source": []
  },
  {
   "cell_type": "markdown",
   "id": "58257219",
   "metadata": {},
   "source": [
    "Reuse that syntax and plot a barplot"
   ]
  },
  {
   "cell_type": "markdown",
   "id": "bcdbba2f",
   "metadata": {},
   "source": [
    "[DOCS: df plot](https://pandas.pydata.org/docs/reference/api/pandas.DataFrame.plot.bar.html)"
   ]
  },
  {
   "cell_type": "code",
   "execution_count": null,
   "id": "cf0c43da",
   "metadata": {},
   "outputs": [],
   "source": [
    "# Your code here"
   ]
  },
  {
   "cell_type": "markdown",
   "id": "eada9536",
   "metadata": {},
   "source": [
    "After is plotted, make sure you can also save it. Do so by concatenating `.get_figure().savefig('images/avg_price_by_type')` to your plot"
   ]
  },
  {
   "cell_type": "code",
   "execution_count": null,
   "id": "8e88addc",
   "metadata": {},
   "outputs": [],
   "source": [
    "# Your code here"
   ]
  },
  {
   "cell_type": "markdown",
   "id": "7f6b40c2",
   "metadata": {},
   "source": [
    "Run the following command<br>\n",
    "- MacOS: `os.system(\"open images/avg_price_by_type.png\")`\n",
    "- windows: `os.system(\"start images/avg_price_by_type.png\")`"
   ]
  },
  {
   "cell_type": "code",
   "execution_count": null,
   "id": "7f3f623a",
   "metadata": {},
   "outputs": [],
   "source": [
    "# Your code here\n"
   ]
  }
 ],
 "metadata": {
  "kernelspec": {
   "display_name": "ironhack",
   "language": "python",
   "name": "ironhack"
  },
  "language_info": {
   "codemirror_mode": {
    "name": "ipython",
    "version": 3
   },
   "file_extension": ".py",
   "mimetype": "text/x-python",
   "name": "python",
   "nbconvert_exporter": "python",
   "pygments_lexer": "ipython3",
   "version": "3.8.5"
  }
 },
 "nbformat": 4,
 "nbformat_minor": 5
}
