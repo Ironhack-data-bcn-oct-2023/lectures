{
 "cells": [
  {
   "cell_type": "markdown",
   "id": "4d6436d8",
   "metadata": {},
   "source": [
    "# Create functions re-using the code from Iteration 1"
   ]
  },
  {
   "cell_type": "markdown",
   "id": "6064c879",
   "metadata": {},
   "source": [
    "## Challenge 1: downloading function"
   ]
  },
  {
   "cell_type": "markdown",
   "id": "b10e2c30",
   "metadata": {},
   "source": [
    "- Params\n",
    "    - url\n",
    "    - name (of the file)\n",
    " \n",
    "- Return: the dataframne\n",
    "- Downloads the passed url into the data folder with the given name. \n",
    "- After downloading, it will assign the `df` variable to the csv according to its path."
   ]
  },
  {
   "cell_type": "code",
   "execution_count": 6,
   "id": "8c91ab44",
   "metadata": {},
   "outputs": [],
   "source": [
    "def downloading (url, name):\n",
    "    \"\"\"This function downloads from a raw link and saves the dataframe locally.\n",
    "    args:\n",
    "    :url: string. the link\n",
    "    :name: string. name to save the file\n",
    "    \"\"\"\n",
    "    \n",
    "    # 0. Establish variables\n",
    "    path = f\"data/{name}.csv\"\n",
    "    \n",
    "    # 1. Download to the path\n",
    "    command = f\"curl {url} > {path}\"\n",
    "    os.system(command)\n",
    "    \n",
    "    # 2. We read from the path\n",
    "    df = pd.read_csv(path)\n",
    "    \n",
    "    return df"
   ]
  },
  {
   "cell_type": "markdown",
   "id": "8cb28fb6",
   "metadata": {},
   "source": [
    "## Challenge 2: Cleaning function"
   ]
  },
  {
   "cell_type": "markdown",
   "id": "5135c162",
   "metadata": {},
   "source": [
    "- Params\n",
    "    - receives a dataframe\n",
    " \n",
    "- Return: the clean dataframe.\n",
    "- Cleans the dataframe and exports a cleaned version. It will assign the `df` variable to the csv according to its path."
   ]
  },
  {
   "cell_type": "code",
   "execution_count": 7,
   "id": "82a9cb25",
   "metadata": {},
   "outputs": [],
   "source": [
    "def basic_cleaning (df):\n",
    "    \"\"\"\n",
    "    This function renames columns, drops index and drops nans.\n",
    "    args\n",
    "    :df: dataframe to be cleaned\n",
    "    return: cleaned dataframe\n",
    "    \"\"\"\n",
    "    \n",
    "    # 1. Modify the dataframe\n",
    "    df.drop([\"Unnamed: 0\"], axis=1, inplace=True)\n",
    "    df.dropna(how=\"any\", inplace=True)\n",
    "    df.columns = [i.lower().replace(\" \", \"-\") for i in df.columns]\n",
    "    \n",
    "    # 2. Export and read\n",
    "    df.to_csv(\"data/avocado_clean.csv\", index=False)\n",
    "    df = pd.read_csv(\"data/avocado_clean.csv\")\n",
    "    \n",
    "    return df"
   ]
  },
  {
   "cell_type": "markdown",
   "id": "d93b803e",
   "metadata": {},
   "source": [
    "## Challenge 3: Visualization function"
   ]
  },
  {
   "cell_type": "markdown",
   "id": "d7cf41f0",
   "metadata": {},
   "source": [
    "- Params\n",
    "    - receives a dataframe\n",
    "    - receives the name of the exported file\n",
    " \n",
    "- Return: not needed\n",
    "- Exports a figure into the images folder and opens it."
   ]
  },
  {
   "cell_type": "code",
   "execution_count": 8,
   "id": "ea7d750b",
   "metadata": {},
   "outputs": [],
   "source": [
    "def visualizing (df, name):\n",
    "    \"\"\"This function groups by type \n",
    "    and creates a bar chart with avgeprice\n",
    "    Arguments\n",
    "    :df: df. dataframe to group\n",
    "    :name: string. name to save\n",
    "    \"\"\"\n",
    "    \n",
    "    # 1. Groupby & visualize\n",
    "    df.groupby(['type'])[[\"averageprice\"]].mean()\n",
    "    df.groupby(['type'])[[\"averageprice\"]].mean().plot.bar().get_figure().savefig(f'images/{name}')\n",
    "    \n",
    "    # 2. Open\n",
    "    os.system(f\"open images/{name}.png\")"
   ]
  },
  {
   "cell_type": "markdown",
   "id": "7c7bc0bd",
   "metadata": {},
   "source": [
    "## Challenge 4: Document the functions"
   ]
  },
  {
   "cell_type": "markdown",
   "id": "a7bf220a",
   "metadata": {},
   "source": [
    "- Use docstrings\n",
    "- Use hashtags if necessary"
   ]
  }
 ],
 "metadata": {
  "kernelspec": {
   "display_name": "ironhack",
   "language": "python",
   "name": "ironhack"
  },
  "language_info": {
   "codemirror_mode": {
    "name": "ipython",
    "version": 3
   },
   "file_extension": ".py",
   "mimetype": "text/x-python",
   "name": "python",
   "nbconvert_exporter": "python",
   "pygments_lexer": "ipython3",
   "version": "3.9.12"
  },
  "toc": {
   "base_numbering": 1,
   "nav_menu": {},
   "number_sections": true,
   "sideBar": true,
   "skip_h1_title": false,
   "title_cell": "Table of Contents",
   "title_sidebar": "Contents",
   "toc_cell": false,
   "toc_position": {},
   "toc_section_display": true,
   "toc_window_display": false
  }
 },
 "nbformat": 4,
 "nbformat_minor": 5
}
