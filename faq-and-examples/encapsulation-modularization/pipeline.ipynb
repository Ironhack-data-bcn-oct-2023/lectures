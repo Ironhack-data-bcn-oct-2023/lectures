{
 "cells": [
  {
   "cell_type": "code",
   "execution_count": 1,
   "id": "dd351c94",
   "metadata": {},
   "outputs": [],
   "source": [
    "import src.extraction as extract\n",
    "import src.cleaning as clean\n",
    "import src.visualization as viz"
   ]
  },
  {
   "cell_type": "markdown",
   "id": "1640533d",
   "metadata": {},
   "source": [
    "# Downloading"
   ]
  },
  {
   "cell_type": "code",
   "execution_count": 2,
   "id": "a4696727",
   "metadata": {},
   "outputs": [
    {
     "name": "stderr",
     "output_type": "stream",
     "text": [
      "  % Total    % Received % Xferd  Average Speed   Time    Time     Time  Current\n",
      "                                 Dload  Upload   Total   Spent    Left  Speed\n",
      "100 1942k  100 1942k    0     0  2951k      0 --:--:-- --:--:-- --:--:-- 2970k\n"
     ]
    }
   ],
   "source": [
    "df = extract.downloading(\"https://raw.githubusercontent.com/Ironhack-data-bcn-april-2023/lectures/main/datasets/avocado_kaggle.csv\", \"avocado_clean\")"
   ]
  },
  {
   "cell_type": "markdown",
   "id": "b7f0e1d6",
   "metadata": {},
   "source": [
    "# Cleaning"
   ]
  },
  {
   "cell_type": "code",
   "execution_count": 3,
   "id": "f4b5047f",
   "metadata": {},
   "outputs": [],
   "source": [
    "df_clean = clean.basic_cleaning(df)"
   ]
  },
  {
   "cell_type": "markdown",
   "id": "6ddbf92f",
   "metadata": {},
   "source": [
    "# Visualizing"
   ]
  },
  {
   "cell_type": "code",
   "execution_count": 4,
   "id": "9eb47a0a",
   "metadata": {},
   "outputs": [
    {
     "data": {
      "image/png": "[encoded data removed]",
      "text/plain": [
       "<Figure size 432x288 with 1 Axes>"
      ]
     },
     "metadata": {
      "needs_background": "light"
     },
     "output_type": "display_data"
    }
   ],
   "source": [
    "viz.visualizing(df_clean, \"avg_price_by_type\")"
   ]
  }
 ],
 "metadata": {
  "kernelspec": {
   "display_name": "ironhack",
   "language": "python",
   "name": "ironhack"
  },
  "language_info": {
   "codemirror_mode": {
    "name": "ipython",
    "version": 3
   },
   "file_extension": ".py",
   "mimetype": "text/x-python",
   "name": "python",
   "nbconvert_exporter": "python",
   "pygments_lexer": "ipython3",
   "version": "3.9.12"
  },
  "toc": {
   "base_numbering": 1,
   "nav_menu": {},
   "number_sections": true,
   "sideBar": true,
   "skip_h1_title": false,
   "title_cell": "Table of Contents",
   "title_sidebar": "Contents",
   "toc_cell": false,
   "toc_position": {},
   "toc_section_display": true,
   "toc_window_display": false
  }
 },
 "nbformat": 4,
 "nbformat_minor": 5
}
