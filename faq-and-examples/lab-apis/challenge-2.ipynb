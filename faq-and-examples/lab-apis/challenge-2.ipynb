{
 "cells": [
  {
   "cell_type": "markdown",
   "id": "00dfecb2",
   "metadata": {},
   "source": [
    "![Flos Mariae](https://e00-elmundo.uecdn.es/assets/multimedia/imagenes/2023/03/07/16781451615938.jpg)"
   ]
  },
  {
   "cell_type": "markdown",
   "id": "04e5b3f8",
   "metadata": {},
   "source": [
    "Some catholic pop to get into the mood: [Flos Mariae - Amén](https://www.youtube.com/watch?v=viQOBLF3AcY&themeRefresh=1)"
   ]
  },
  {
   "cell_type": "markdown",
   "id": "928711fd",
   "metadata": {},
   "source": [
    "The girls in Flos Mariae need your help. Their study sheets are incomplete and teachers told them to `google it` when they asked about verses. Help them complete their data. "
   ]
  },
  {
   "cell_type": "markdown",
   "id": "259c3d31",
   "metadata": {},
   "source": [
    "[Bible API](https://github.com/seven1m/bible_api)"
   ]
  },
  {
   "cell_type": "markdown",
   "id": "822517ff",
   "metadata": {},
   "source": [
    "[Bible documentation](https://bible-api.com/)"
   ]
  },
  {
   "cell_type": "code",
   "execution_count": 16,
   "id": "5c4b28cc",
   "metadata": {},
   "outputs": [
    {
     "data": {
      "text/plain": [
       "'\\nGoals\\n\\n- API that receives parameters\\n- From a given dataframe (necesitamos encontrar uno), crear una columna nueva según parámetros\\n- Acabar con un dataframe modificado\\n- Encapsulado\\n'"
      ]
     },
     "execution_count": 16,
     "metadata": {},
     "output_type": "execute_result"
    }
   ],
   "source": [
    "\"\"\"\n",
    "Goals\n",
    "\n",
    "- API that receives parameters\n",
    "- From a given dataframe (necesitamos encontrar uno), crear una columna nueva según parámetros\n",
    "- Acabar con un dataframe modificado\n",
    "- Encapsulado\n",
    "\"\"\""
   ]
  },
  {
   "cell_type": "markdown",
   "id": "b25842d6",
   "metadata": {},
   "source": [
    "# Import the necessary libraries: pandas & requests"
   ]
  },
  {
   "cell_type": "code",
   "execution_count": 17,
   "id": "215eb6bc",
   "metadata": {},
   "outputs": [],
   "source": [
    "import requests\n",
    "import pandas as pd"
   ]
  },
  {
   "cell_type": "markdown",
   "id": "dc555f58",
   "metadata": {},
   "source": [
    "# Load the .csv file on `data/` folder"
   ]
  },
  {
   "cell_type": "markdown",
   "id": "57834374",
   "metadata": {},
   "source": [
    "These are the incomplete study sheets of the Flos Mariae sisters. 👀 They know the references they need (book, chapter and verse) but lack the text information."
   ]
  },
  {
   "cell_type": "code",
   "execution_count": 24,
   "id": "6ba76753",
   "metadata": {},
   "outputs": [
    {
     "data": {
      "text/html": [
       "<div>\n",
       "<style scoped>\n",
       "    .dataframe tbody tr th:only-of-type {\n",
       "        vertical-align: middle;\n",
       "    }\n",
       "\n",
       "    .dataframe tbody tr th {\n",
       "        vertical-align: top;\n",
       "    }\n",
       "\n",
       "    .dataframe thead th {\n",
       "        text-align: right;\n",
       "    }\n",
       "</style>\n",
       "<table border=\"1\" class=\"dataframe\">\n",
       "  <thead>\n",
       "    <tr style=\"text-align: right;\">\n",
       "      <th></th>\n",
       "      <th>Name</th>\n",
       "      <th>Role</th>\n",
       "      <th>Book</th>\n",
       "      <th>Chapter</th>\n",
       "      <th>Verse</th>\n",
       "    </tr>\n",
       "  </thead>\n",
       "  <tbody>\n",
       "    <tr>\n",
       "      <th>0</th>\n",
       "      <td>Adam</td>\n",
       "      <td>First Man</td>\n",
       "      <td>Genesis</td>\n",
       "      <td>1</td>\n",
       "      <td>1</td>\n",
       "    </tr>\n",
       "    <tr>\n",
       "      <th>1</th>\n",
       "      <td>Eve</td>\n",
       "      <td>First Woman</td>\n",
       "      <td>Genesis</td>\n",
       "      <td>22</td>\n",
       "      <td>5</td>\n",
       "    </tr>\n",
       "    <tr>\n",
       "      <th>2</th>\n",
       "      <td>Noah</td>\n",
       "      <td>Builder of the Ark</td>\n",
       "      <td>Genesis</td>\n",
       "      <td>12</td>\n",
       "      <td>10</td>\n",
       "    </tr>\n",
       "    <tr>\n",
       "      <th>3</th>\n",
       "      <td>Abraham</td>\n",
       "      <td>Father of Nations</td>\n",
       "      <td>Genesis</td>\n",
       "      <td>6</td>\n",
       "      <td>15</td>\n",
       "    </tr>\n",
       "    <tr>\n",
       "      <th>4</th>\n",
       "      <td>Sarah</td>\n",
       "      <td>Wife of Abraham</td>\n",
       "      <td>Genesis</td>\n",
       "      <td>28</td>\n",
       "      <td>2</td>\n",
       "    </tr>\n",
       "  </tbody>\n",
       "</table>\n",
       "</div>"
      ],
      "text/plain": [
       "      Name                Role     Book  Chapter  Verse\n",
       "0     Adam           First Man  Genesis        1      1\n",
       "1      Eve         First Woman  Genesis       22      5\n",
       "2     Noah  Builder of the Ark  Genesis       12     10\n",
       "3  Abraham   Father of Nations  Genesis        6     15\n",
       "4    Sarah     Wife of Abraham  Genesis       28      2"
      ]
     },
     "execution_count": 24,
     "metadata": {},
     "output_type": "execute_result"
    }
   ],
   "source": [
    "df = pd.read_csv(\"../data/bible_2.csv\")\n",
    "df.head()"
   ]
  },
  {
   "cell_type": "markdown",
   "id": "d78dd2c2",
   "metadata": {},
   "source": [
    "# Go on to this website: [Bible API documentation](https://bible-api.com/). Read the usage and given examples."
   ]
  },
  {
   "cell_type": "markdown",
   "id": "679830f3",
   "metadata": {},
   "source": [
    "## Build the `url_for_request` for a single reference: book, chapter and verse. This will be the result of: reading the API documentation 🙃. "
   ]
  },
  {
   "cell_type": "markdown",
   "id": "20098873",
   "metadata": {},
   "source": [
    "Hint: there's a `base_url` to which you need to add another `endpoint`. Call the resulting string `url_for_request`"
   ]
  },
  {
   "cell_type": "code",
   "execution_count": 34,
   "id": "8ab21dfb",
   "metadata": {},
   "outputs": [],
   "source": [
    "base_url = 'https://bible-api.com/'"
   ]
  },
  {
   "cell_type": "code",
   "execution_count": 35,
   "id": "b1fd69c6",
   "metadata": {},
   "outputs": [],
   "source": [
    "endpoint = 'Genesis 1:1'"
   ]
  },
  {
   "cell_type": "code",
   "execution_count": 36,
   "id": "d3450de4",
   "metadata": {},
   "outputs": [],
   "source": [
    "url_for_request = base_url + endpoint"
   ]
  },
  {
   "cell_type": "code",
   "execution_count": 37,
   "id": "7d052880",
   "metadata": {},
   "outputs": [
    {
     "data": {
      "text/plain": [
       "<Response [200]>"
      ]
     },
     "execution_count": 37,
     "metadata": {},
     "output_type": "execute_result"
    }
   ],
   "source": [
    "res = requests.get(url_for_request)\n",
    "res"
   ]
  },
  {
   "cell_type": "code",
   "execution_count": 39,
   "id": "70c622d7",
   "metadata": {},
   "outputs": [
    {
     "data": {
      "text/plain": [
       "{'reference': 'Genesis 1:1',\n",
       " 'verses': [{'book_id': 'GEN',\n",
       "   'book_name': 'Genesis',\n",
       "   'chapter': 1,\n",
       "   'verse': 1,\n",
       "   'text': 'In the beginning, God created the heavens and the earth.\\n'}],\n",
       " 'text': 'In the beginning, God created the heavens and the earth.\\n',\n",
       " 'translation_id': 'web',\n",
       " 'translation_name': 'World English Bible',\n",
       " 'translation_note': 'Public Domain'}"
      ]
     },
     "execution_count": 39,
     "metadata": {},
     "output_type": "execute_result"
    }
   ],
   "source": [
    "data = res.json()\n",
    "data"
   ]
  },
  {
   "cell_type": "markdown",
   "id": "d3fb564c",
   "metadata": {},
   "source": [
    "# Great! 💥 We have some information. Now, we want to clean it up to get only the text that corresponds to the reference we are looking for."
   ]
  },
  {
   "cell_type": "code",
   "execution_count": 41,
   "id": "5ac1bcd2",
   "metadata": {},
   "outputs": [
    {
     "data": {
      "text/plain": [
       "'In the beginning, God created the heavens and the earth.'"
      ]
     },
     "execution_count": 41,
     "metadata": {},
     "output_type": "execute_result"
    }
   ],
   "source": [
    "text = data['text']\n",
    "text_cleaned = text.replace('\\n', '')\n",
    "text_cleaned"
   ]
  },
  {
   "cell_type": "markdown",
   "id": "a283a243",
   "metadata": {},
   "source": [
    "# Now we want to obtain the information of all the necessary references in the study sheets."
   ]
  },
  {
   "cell_type": "markdown",
   "id": "df0e9c9e",
   "metadata": {},
   "source": [
    "Hint: book, chapter and verse `actual columns` will be the `argument` to pass to the endpoint of the url_for_request. The `text results` from the API call, will be a `new column` of the dataframe."
   ]
  },
  {
   "cell_type": "code",
   "execution_count": 42,
   "id": "b3a9a0f0",
   "metadata": {},
   "outputs": [],
   "source": [
    "def get_response(book, chapter, verse):\n",
    "    \"\"\"\n",
    "    This function retrieves a specific Bible verse from an API.\n",
    "    \n",
    "    Parameters:\n",
    "    - book_name: name of the book in the Bible\n",
    "    - chapter: chapter number\n",
    "    - verse: verse number\n",
    "    \"\"\"\n",
    "    base_url = 'https://bible-api.com/'\n",
    "    endpoint = f'{book} {chapter}:{verse}'\n",
    "    url_for_request = base_url + endpoint\n",
    "    res = requests.get(url_for_request)\n",
    "    \n",
    "    if res.status_code == 200:\n",
    "        data = res.json()\n",
    "        text = data['text']\n",
    "        text_cleaned = text.replace('\\n', '')\n",
    "        return text\n",
    "    else:\n",
    "        return \"Request did not work properly\""
   ]
  },
  {
   "cell_type": "code",
   "execution_count": 43,
   "id": "2b4f4e78",
   "metadata": {},
   "outputs": [],
   "source": [
    "df['Text'] = df.apply(lambda row: get_response(row['Book'], row['Chapter'], row['Verse']), axis=1)"
   ]
  },
  {
   "cell_type": "code",
   "execution_count": 44,
   "id": "d9274b89",
   "metadata": {},
   "outputs": [
    {
     "data": {
      "text/html": [
       "<div>\n",
       "<style scoped>\n",
       "    .dataframe tbody tr th:only-of-type {\n",
       "        vertical-align: middle;\n",
       "    }\n",
       "\n",
       "    .dataframe tbody tr th {\n",
       "        vertical-align: top;\n",
       "    }\n",
       "\n",
       "    .dataframe thead th {\n",
       "        text-align: right;\n",
       "    }\n",
       "</style>\n",
       "<table border=\"1\" class=\"dataframe\">\n",
       "  <thead>\n",
       "    <tr style=\"text-align: right;\">\n",
       "      <th></th>\n",
       "      <th>Name</th>\n",
       "      <th>Role</th>\n",
       "      <th>Book</th>\n",
       "      <th>Chapter</th>\n",
       "      <th>Verse</th>\n",
       "      <th>Text</th>\n",
       "    </tr>\n",
       "  </thead>\n",
       "  <tbody>\n",
       "    <tr>\n",
       "      <th>0</th>\n",
       "      <td>Adam</td>\n",
       "      <td>First Man</td>\n",
       "      <td>Genesis</td>\n",
       "      <td>1</td>\n",
       "      <td>1</td>\n",
       "      <td>In the beginning, God created the heavens and ...</td>\n",
       "    </tr>\n",
       "    <tr>\n",
       "      <th>1</th>\n",
       "      <td>Eve</td>\n",
       "      <td>First Woman</td>\n",
       "      <td>Genesis</td>\n",
       "      <td>22</td>\n",
       "      <td>5</td>\n",
       "      <td>Abraham said to his young men, “Stay here with...</td>\n",
       "    </tr>\n",
       "    <tr>\n",
       "      <th>2</th>\n",
       "      <td>Noah</td>\n",
       "      <td>Builder of the Ark</td>\n",
       "      <td>Genesis</td>\n",
       "      <td>12</td>\n",
       "      <td>10</td>\n",
       "      <td>There was a famine in the land. Abram went dow...</td>\n",
       "    </tr>\n",
       "    <tr>\n",
       "      <th>3</th>\n",
       "      <td>Abraham</td>\n",
       "      <td>Father of Nations</td>\n",
       "      <td>Genesis</td>\n",
       "      <td>6</td>\n",
       "      <td>15</td>\n",
       "      <td>This is how you shall make it. The length of t...</td>\n",
       "    </tr>\n",
       "    <tr>\n",
       "      <th>4</th>\n",
       "      <td>Sarah</td>\n",
       "      <td>Wife of Abraham</td>\n",
       "      <td>Genesis</td>\n",
       "      <td>28</td>\n",
       "      <td>2</td>\n",
       "      <td>Arise, go to Paddan Aram, to the house of Beth...</td>\n",
       "    </tr>\n",
       "    <tr>\n",
       "      <th>5</th>\n",
       "      <td>Moses</td>\n",
       "      <td>Leader of the Exodus</td>\n",
       "      <td>Exodus</td>\n",
       "      <td>2</td>\n",
       "      <td>3</td>\n",
       "      <td>When she could no longer hide him, she took a ...</td>\n",
       "    </tr>\n",
       "    <tr>\n",
       "      <th>6</th>\n",
       "      <td>Aaron</td>\n",
       "      <td>Brother of Moses</td>\n",
       "      <td>Exodus</td>\n",
       "      <td>13</td>\n",
       "      <td>8</td>\n",
       "      <td>You shall tell your son in that day, saying, ‘...</td>\n",
       "    </tr>\n",
       "    <tr>\n",
       "      <th>7</th>\n",
       "      <td>David</td>\n",
       "      <td>King of Israel</td>\n",
       "      <td>1 Samuel</td>\n",
       "      <td>8</td>\n",
       "      <td>4</td>\n",
       "      <td>Then all the elders of Israel gathered themsel...</td>\n",
       "    </tr>\n",
       "    <tr>\n",
       "      <th>8</th>\n",
       "      <td>Solomon</td>\n",
       "      <td>Wisest Man</td>\n",
       "      <td>Proverbs</td>\n",
       "      <td>12</td>\n",
       "      <td>9</td>\n",
       "      <td>Better is he who is little know, and has a ser...</td>\n",
       "    </tr>\n",
       "    <tr>\n",
       "      <th>9</th>\n",
       "      <td>Isaiah</td>\n",
       "      <td>Prophet</td>\n",
       "      <td>Isaiah</td>\n",
       "      <td>4</td>\n",
       "      <td>6</td>\n",
       "      <td>There will be a pavilion for a shade in the da...</td>\n",
       "    </tr>\n",
       "    <tr>\n",
       "      <th>10</th>\n",
       "      <td>Jeremiah</td>\n",
       "      <td>Prophet</td>\n",
       "      <td>Jeremiah</td>\n",
       "      <td>3</td>\n",
       "      <td>16</td>\n",
       "      <td>It will come to pass, when you are multiplied ...</td>\n",
       "    </tr>\n",
       "    <tr>\n",
       "      <th>11</th>\n",
       "      <td>John the Baptist</td>\n",
       "      <td>Forerunner of Jesus</td>\n",
       "      <td>Matthew</td>\n",
       "      <td>12</td>\n",
       "      <td>5</td>\n",
       "      <td>\\nOr have you not read in the law, that on the...</td>\n",
       "    </tr>\n",
       "    <tr>\n",
       "      <th>12</th>\n",
       "      <td>Jesus Christ</td>\n",
       "      <td>Son of God</td>\n",
       "      <td>Matthew</td>\n",
       "      <td>5</td>\n",
       "      <td>10</td>\n",
       "      <td>\\nBlessed are those who have been persecuted f...</td>\n",
       "    </tr>\n",
       "    <tr>\n",
       "      <th>13</th>\n",
       "      <td>Mary</td>\n",
       "      <td>Mother of Jesus</td>\n",
       "      <td>Luke</td>\n",
       "      <td>6</td>\n",
       "      <td>15</td>\n",
       "      <td>Matthew; Thomas; James, the son of Alphaeus; S...</td>\n",
       "    </tr>\n",
       "    <tr>\n",
       "      <th>14</th>\n",
       "      <td>Peter</td>\n",
       "      <td>Apostle</td>\n",
       "      <td>Matthew</td>\n",
       "      <td>4</td>\n",
       "      <td>2</td>\n",
       "      <td>When he had fasted forty days and forty nights...</td>\n",
       "    </tr>\n",
       "    <tr>\n",
       "      <th>15</th>\n",
       "      <td>Andrew</td>\n",
       "      <td>Apostle</td>\n",
       "      <td>Matthew</td>\n",
       "      <td>3</td>\n",
       "      <td>3</td>\n",
       "      <td>Request did not work properly</td>\n",
       "    </tr>\n",
       "    <tr>\n",
       "      <th>16</th>\n",
       "      <td>James the Greater</td>\n",
       "      <td>Apostle</td>\n",
       "      <td>Matthew</td>\n",
       "      <td>5</td>\n",
       "      <td>8</td>\n",
       "      <td>Request did not work properly</td>\n",
       "    </tr>\n",
       "    <tr>\n",
       "      <th>17</th>\n",
       "      <td>John the Evangelist</td>\n",
       "      <td>Apostle</td>\n",
       "      <td>John</td>\n",
       "      <td>3</td>\n",
       "      <td>4</td>\n",
       "      <td>Request did not work properly</td>\n",
       "    </tr>\n",
       "    <tr>\n",
       "      <th>18</th>\n",
       "      <td>Philip</td>\n",
       "      <td>Apostle</td>\n",
       "      <td>Matthew</td>\n",
       "      <td>6</td>\n",
       "      <td>9</td>\n",
       "      <td>Request did not work properly</td>\n",
       "    </tr>\n",
       "    <tr>\n",
       "      <th>19</th>\n",
       "      <td>Thomas</td>\n",
       "      <td>Apostle</td>\n",
       "      <td>Matthew</td>\n",
       "      <td>4</td>\n",
       "      <td>6</td>\n",
       "      <td>Request did not work properly</td>\n",
       "    </tr>\n",
       "    <tr>\n",
       "      <th>20</th>\n",
       "      <td>James the Lesser</td>\n",
       "      <td>Apostle</td>\n",
       "      <td>Matthew</td>\n",
       "      <td>18</td>\n",
       "      <td>9</td>\n",
       "      <td>Request did not work properly</td>\n",
       "    </tr>\n",
       "    <tr>\n",
       "      <th>21</th>\n",
       "      <td>Jude Thaddeus</td>\n",
       "      <td>Apostle</td>\n",
       "      <td>Matthew</td>\n",
       "      <td>9</td>\n",
       "      <td>12</td>\n",
       "      <td>Request did not work properly</td>\n",
       "    </tr>\n",
       "    <tr>\n",
       "      <th>22</th>\n",
       "      <td>Simon the Zealot</td>\n",
       "      <td>Apostle</td>\n",
       "      <td>Matthew</td>\n",
       "      <td>27</td>\n",
       "      <td>3</td>\n",
       "      <td>Request did not work properly</td>\n",
       "    </tr>\n",
       "    <tr>\n",
       "      <th>23</th>\n",
       "      <td>Bartholomew</td>\n",
       "      <td>Apostle</td>\n",
       "      <td>Matthew</td>\n",
       "      <td>6</td>\n",
       "      <td>2</td>\n",
       "      <td>Request did not work properly</td>\n",
       "    </tr>\n",
       "  </tbody>\n",
       "</table>\n",
       "</div>"
      ],
      "text/plain": [
       "                   Name                  Role      Book  Chapter  Verse  \\\n",
       "0                  Adam             First Man   Genesis        1      1   \n",
       "1                   Eve           First Woman   Genesis       22      5   \n",
       "2                  Noah    Builder of the Ark   Genesis       12     10   \n",
       "3               Abraham     Father of Nations   Genesis        6     15   \n",
       "4                 Sarah       Wife of Abraham   Genesis       28      2   \n",
       "5                 Moses  Leader of the Exodus    Exodus        2      3   \n",
       "6                 Aaron      Brother of Moses    Exodus       13      8   \n",
       "7                 David        King of Israel  1 Samuel        8      4   \n",
       "8               Solomon            Wisest Man  Proverbs       12      9   \n",
       "9                Isaiah               Prophet    Isaiah        4      6   \n",
       "10             Jeremiah               Prophet  Jeremiah        3     16   \n",
       "11     John the Baptist   Forerunner of Jesus   Matthew       12      5   \n",
       "12         Jesus Christ            Son of God   Matthew        5     10   \n",
       "13                 Mary       Mother of Jesus      Luke        6     15   \n",
       "14                Peter               Apostle   Matthew        4      2   \n",
       "15               Andrew               Apostle   Matthew        3      3   \n",
       "16    James the Greater               Apostle   Matthew        5      8   \n",
       "17  John the Evangelist               Apostle      John        3      4   \n",
       "18               Philip               Apostle   Matthew        6      9   \n",
       "19               Thomas               Apostle   Matthew        4      6   \n",
       "20     James the Lesser               Apostle   Matthew       18      9   \n",
       "21        Jude Thaddeus               Apostle   Matthew        9     12   \n",
       "22     Simon the Zealot               Apostle   Matthew       27      3   \n",
       "23          Bartholomew               Apostle   Matthew        6      2   \n",
       "\n",
       "                                                 Text  \n",
       "0   In the beginning, God created the heavens and ...  \n",
       "1   Abraham said to his young men, “Stay here with...  \n",
       "2   There was a famine in the land. Abram went dow...  \n",
       "3   This is how you shall make it. The length of t...  \n",
       "4   Arise, go to Paddan Aram, to the house of Beth...  \n",
       "5   When she could no longer hide him, she took a ...  \n",
       "6   You shall tell your son in that day, saying, ‘...  \n",
       "7   Then all the elders of Israel gathered themsel...  \n",
       "8   Better is he who is little know, and has a ser...  \n",
       "9   There will be a pavilion for a shade in the da...  \n",
       "10  It will come to pass, when you are multiplied ...  \n",
       "11  \\nOr have you not read in the law, that on the...  \n",
       "12  \\nBlessed are those who have been persecuted f...  \n",
       "13  Matthew; Thomas; James, the son of Alphaeus; S...  \n",
       "14  When he had fasted forty days and forty nights...  \n",
       "15                      Request did not work properly  \n",
       "16                      Request did not work properly  \n",
       "17                      Request did not work properly  \n",
       "18                      Request did not work properly  \n",
       "19                      Request did not work properly  \n",
       "20                      Request did not work properly  \n",
       "21                      Request did not work properly  \n",
       "22                      Request did not work properly  \n",
       "23                      Request did not work properly  "
      ]
     },
     "execution_count": 44,
     "metadata": {},
     "output_type": "execute_result"
    }
   ],
   "source": [
    "df"
   ]
  },
  {
   "cell_type": "markdown",
   "id": "10600acf",
   "metadata": {},
   "source": [
    "# Save the dataframe into the data folder. "
   ]
  },
  {
   "cell_type": "markdown",
   "id": "2b334e3d",
   "metadata": {},
   "source": [
    "Make sure you don't get that unnamed: 0 column. Hint: https://stackoverflow.com/questions/36519086/how-to-get-rid-of-unnamed-0-column-in-a-pandas-dataframe-read-in-from-csv-fil"
   ]
  },
  {
   "cell_type": "code",
   "execution_count": null,
   "id": "556829be",
   "metadata": {},
   "outputs": [],
   "source": [
    "# df.to_csv('lab-apis/data/bible_2_completed.csv', index = False)"
   ]
  }
 ],
 "metadata": {
  "kernelspec": {
   "display_name": "ironhack",
   "language": "python",
   "name": "ironhack"
  },
  "language_info": {
   "codemirror_mode": {
    "name": "ipython",
    "version": 3
   },
   "file_extension": ".py",
   "mimetype": "text/x-python",
   "name": "python",
   "nbconvert_exporter": "python",
   "pygments_lexer": "ipython3",
   "version": "3.11.5"
  },
  "nbTranslate": {
   "displayLangs": [
    "en",
    "es"
   ],
   "hotkey": "alt-a",
   "langInMainMenu": true,
   "sourceLang": "es",
   "targetLang": "en",
   "useGoogleTranslate": true
  },
  "toc": {
   "base_numbering": 1,
   "nav_menu": {},
   "number_sections": true,
   "sideBar": true,
   "skip_h1_title": false,
   "title_cell": "Table of Contents",
   "title_sidebar": "Contents",
   "toc_cell": false,
   "toc_position": {},
   "toc_section_display": true,
   "toc_window_display": false
  }
 },
 "nbformat": 4,
 "nbformat_minor": 5
}
