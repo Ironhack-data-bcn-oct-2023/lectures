{
 "cells": [
  {
   "cell_type": "markdown",
   "id": "b25842d6",
   "metadata": {},
   "source": [
    "# Import the necessary libraries: pandas, requests & getpass."
   ]
  },
  {
   "cell_type": "code",
   "execution_count": 1,
   "id": "215eb6bc",
   "metadata": {},
   "outputs": [],
   "source": [
    "import requests\n",
    "import pandas as pd\n",
    "import getpass"
   ]
  },
  {
   "cell_type": "markdown",
   "id": "07845a2a",
   "metadata": {},
   "source": [
    "# Go on to this website: [Tomorrow API documentation - Weather Forecast](https://docs.tomorrow.io/reference/weather-forecast). Read the documentation and the usage. 🙃"
   ]
  },
  {
   "cell_type": "markdown",
   "id": "9531d908",
   "metadata": {},
   "source": [
    "Be aware of API request limits.  ⚠️ "
   ]
  },
  {
   "cell_type": "markdown",
   "id": "2fba017f",
   "metadata": {},
   "source": [
    "![image](../api_limit_requests.png)"
   ]
  },
  {
   "cell_type": "markdown",
   "id": "aaa6cbf4",
   "metadata": {},
   "source": [
    "#  After exploring how the API works. Generate a token and store it in a `'token'` variable using getpass. 🔐"
   ]
  },
  {
   "cell_type": "code",
   "execution_count": 2,
   "id": "7ea8624f",
   "metadata": {},
   "outputs": [
    {
     "name": "stdout",
     "output_type": "stream",
     "text": [
      "Enter your token: ········\n"
     ]
    }
   ],
   "source": [
    "token = getpass.getpass(\"Enter your token: \")"
   ]
  },
  {
   "cell_type": "markdown",
   "id": "a4df9b4a",
   "metadata": {},
   "source": [
    "# Now, choose the location where you want to browse the Weather Forecast and store it in a variable called ``location``. 📍"
   ]
  },
  {
   "cell_type": "code",
   "execution_count": 3,
   "id": "968e4e9c",
   "metadata": {},
   "outputs": [],
   "source": [
    "location = \"madrid\""
   ]
  },
  {
   "cell_type": "markdown",
   "id": "ef89e4cf",
   "metadata": {},
   "source": [
    "# The next step is to build the `url_for_request`.  You must parameterise it with your `location` and your `token`. "
   ]
  },
  {
   "cell_type": "code",
   "execution_count": 4,
   "id": "bdc7c366",
   "metadata": {},
   "outputs": [],
   "source": [
    "url = f\"https://api.tomorrow.io/v4/weather/history/recent?location={location}&apikey={token}\""
   ]
  },
  {
   "cell_type": "markdown",
   "id": "d93a6c92",
   "metadata": {},
   "source": [
    "# It's time to call the API. 📞 We need to get the weather forecast information for the chosen location."
   ]
  },
  {
   "cell_type": "code",
   "execution_count": 5,
   "id": "8355e9e6",
   "metadata": {},
   "outputs": [],
   "source": [
    "def get_weather_response (location, token):\n",
    "    url = f\"https://api.tomorrow.io/v4/weather/history/recent?location={location}&apikey={token}\"\n",
    "    headers = {\"accept\": \"application/json\"}\n",
    "    res = requests.get(url, headers=headers)\n",
    "    return res.json()"
   ]
  },
  {
   "cell_type": "code",
   "execution_count": 8,
   "id": "98880a74",
   "metadata": {},
   "outputs": [],
   "source": [
    "data = get_weather_response (location, token)\n",
    "#data"
   ]
  },
  {
   "cell_type": "markdown",
   "id": "59aaceb4",
   "metadata": {},
   "source": [
    "# Last step will be to turn it into a Dataframe! 🐼"
   ]
  },
  {
   "cell_type": "markdown",
   "id": "d99fe0fd",
   "metadata": {},
   "source": [
    "The result should look like:"
   ]
  },
  {
   "cell_type": "markdown",
   "id": "890689e1",
   "metadata": {},
   "source": [
    "![image](../challenge_2_df_example.png)"
   ]
  },
  {
   "cell_type": "code",
   "execution_count": 9,
   "id": "d535d69b",
   "metadata": {},
   "outputs": [],
   "source": [
    "all_data = []\n",
    "def get_responses_into_df (data):\n",
    "\n",
    "    for element in data:\n",
    "        response = data['timelines']['hourly']\n",
    "        location = data['location']['name']\n",
    "        for entry in response:\n",
    "            data_dict = entry['values']\n",
    "            data_dict['time'] = entry['time']\n",
    "            all_data.append(data_dict)\n",
    "            \n",
    "    df = pd.DataFrame(all_data)\n",
    "    df['location'] = data['location']['name']\n",
    "    \n",
    "    return df"
   ]
  },
  {
   "cell_type": "code",
   "execution_count": 11,
   "id": "2c25d489",
   "metadata": {},
   "outputs": [
    {
     "data": {
      "text/html": [
       "<div>\n",
       "<style scoped>\n",
       "    .dataframe tbody tr th:only-of-type {\n",
       "        vertical-align: middle;\n",
       "    }\n",
       "\n",
       "    .dataframe tbody tr th {\n",
       "        vertical-align: top;\n",
       "    }\n",
       "\n",
       "    .dataframe thead th {\n",
       "        text-align: right;\n",
       "    }\n",
       "</style>\n",
       "<table border=\"1\" class=\"dataframe\">\n",
       "  <thead>\n",
       "    <tr style=\"text-align: right;\">\n",
       "      <th></th>\n",
       "      <th>cloudBase</th>\n",
       "      <th>cloudCeiling</th>\n",
       "      <th>cloudCover</th>\n",
       "      <th>dewPoint</th>\n",
       "      <th>evapotranspiration</th>\n",
       "      <th>freezingRainIntensity</th>\n",
       "      <th>humidity</th>\n",
       "      <th>iceAccumulation</th>\n",
       "      <th>iceAccumulationLwe</th>\n",
       "      <th>precipitationProbability</th>\n",
       "      <th>...</th>\n",
       "      <th>temperatureApparent</th>\n",
       "      <th>uvHealthConcern</th>\n",
       "      <th>uvIndex</th>\n",
       "      <th>visibility</th>\n",
       "      <th>weatherCode</th>\n",
       "      <th>windDirection</th>\n",
       "      <th>windGust</th>\n",
       "      <th>windSpeed</th>\n",
       "      <th>time</th>\n",
       "      <th>location</th>\n",
       "    </tr>\n",
       "  </thead>\n",
       "  <tbody>\n",
       "    <tr>\n",
       "      <th>0</th>\n",
       "      <td>0.38</td>\n",
       "      <td>0.38</td>\n",
       "      <td>72</td>\n",
       "      <td>14.00</td>\n",
       "      <td>0.140</td>\n",
       "      <td>0</td>\n",
       "      <td>82</td>\n",
       "      <td>0</td>\n",
       "      <td>0.0</td>\n",
       "      <td>0</td>\n",
       "      <td>...</td>\n",
       "      <td>17.13</td>\n",
       "      <td>1</td>\n",
       "      <td>2</td>\n",
       "      <td>9.70</td>\n",
       "      <td>1102</td>\n",
       "      <td>221.63</td>\n",
       "      <td>17.19</td>\n",
       "      <td>9.63</td>\n",
       "      <td>2023-10-26T11:00:00Z</td>\n",
       "      <td>Madrid, Comunidad de Madrid, España</td>\n",
       "    </tr>\n",
       "    <tr>\n",
       "      <th>1</th>\n",
       "      <td>0.30</td>\n",
       "      <td>0.30</td>\n",
       "      <td>72</td>\n",
       "      <td>14.38</td>\n",
       "      <td>0.184</td>\n",
       "      <td>0</td>\n",
       "      <td>86</td>\n",
       "      <td>0</td>\n",
       "      <td>0.0</td>\n",
       "      <td>0</td>\n",
       "      <td>...</td>\n",
       "      <td>16.88</td>\n",
       "      <td>1</td>\n",
       "      <td>2</td>\n",
       "      <td>8.10</td>\n",
       "      <td>1102</td>\n",
       "      <td>216.81</td>\n",
       "      <td>14.31</td>\n",
       "      <td>7.63</td>\n",
       "      <td>2023-10-26T12:00:00Z</td>\n",
       "      <td>Madrid, Comunidad de Madrid, España</td>\n",
       "    </tr>\n",
       "    <tr>\n",
       "      <th>2</th>\n",
       "      <td>0.23</td>\n",
       "      <td>0.23</td>\n",
       "      <td>75</td>\n",
       "      <td>15.19</td>\n",
       "      <td>0.140</td>\n",
       "      <td>0</td>\n",
       "      <td>89</td>\n",
       "      <td>0</td>\n",
       "      <td>0.0</td>\n",
       "      <td>0</td>\n",
       "      <td>...</td>\n",
       "      <td>17.00</td>\n",
       "      <td>0</td>\n",
       "      <td>1</td>\n",
       "      <td>9.26</td>\n",
       "      <td>1001</td>\n",
       "      <td>217.13</td>\n",
       "      <td>15.13</td>\n",
       "      <td>5.38</td>\n",
       "      <td>2023-10-26T13:00:00Z</td>\n",
       "      <td>Madrid, Comunidad de Madrid, España</td>\n",
       "    </tr>\n",
       "    <tr>\n",
       "      <th>3</th>\n",
       "      <td>0.49</td>\n",
       "      <td>0.49</td>\n",
       "      <td>75</td>\n",
       "      <td>14.19</td>\n",
       "      <td>0.171</td>\n",
       "      <td>0</td>\n",
       "      <td>78</td>\n",
       "      <td>0</td>\n",
       "      <td>NaN</td>\n",
       "      <td>0</td>\n",
       "      <td>...</td>\n",
       "      <td>18.00</td>\n",
       "      <td>0</td>\n",
       "      <td>0</td>\n",
       "      <td>11.35</td>\n",
       "      <td>1001</td>\n",
       "      <td>216.81</td>\n",
       "      <td>20.88</td>\n",
       "      <td>12.63</td>\n",
       "      <td>2023-10-26T14:00:00Z</td>\n",
       "      <td>Madrid, Comunidad de Madrid, España</td>\n",
       "    </tr>\n",
       "    <tr>\n",
       "      <th>4</th>\n",
       "      <td>0.39</td>\n",
       "      <td>0.39</td>\n",
       "      <td>60</td>\n",
       "      <td>14.38</td>\n",
       "      <td>0.038</td>\n",
       "      <td>0</td>\n",
       "      <td>82</td>\n",
       "      <td>0</td>\n",
       "      <td>0.0</td>\n",
       "      <td>0</td>\n",
       "      <td>...</td>\n",
       "      <td>17.63</td>\n",
       "      <td>0</td>\n",
       "      <td>0</td>\n",
       "      <td>9.42</td>\n",
       "      <td>1101</td>\n",
       "      <td>235.19</td>\n",
       "      <td>18.38</td>\n",
       "      <td>13.50</td>\n",
       "      <td>2023-10-26T15:00:00Z</td>\n",
       "      <td>Madrid, Comunidad de Madrid, España</td>\n",
       "    </tr>\n",
       "  </tbody>\n",
       "</table>\n",
       "<p>5 rows × 31 columns</p>\n",
       "</div>"
      ],
      "text/plain": [
       "   cloudBase  cloudCeiling  cloudCover  dewPoint  evapotranspiration  \\\n",
       "0       0.38          0.38          72     14.00               0.140   \n",
       "1       0.30          0.30          72     14.38               0.184   \n",
       "2       0.23          0.23          75     15.19               0.140   \n",
       "3       0.49          0.49          75     14.19               0.171   \n",
       "4       0.39          0.39          60     14.38               0.038   \n",
       "\n",
       "   freezingRainIntensity  humidity  iceAccumulation  iceAccumulationLwe  \\\n",
       "0                      0        82                0                 0.0   \n",
       "1                      0        86                0                 0.0   \n",
       "2                      0        89                0                 0.0   \n",
       "3                      0        78                0                 NaN   \n",
       "4                      0        82                0                 0.0   \n",
       "\n",
       "   precipitationProbability  ...  temperatureApparent  uvHealthConcern  \\\n",
       "0                         0  ...                17.13                1   \n",
       "1                         0  ...                16.88                1   \n",
       "2                         0  ...                17.00                0   \n",
       "3                         0  ...                18.00                0   \n",
       "4                         0  ...                17.63                0   \n",
       "\n",
       "   uvIndex  visibility  weatherCode  windDirection  windGust  windSpeed  \\\n",
       "0        2        9.70         1102         221.63     17.19       9.63   \n",
       "1        2        8.10         1102         216.81     14.31       7.63   \n",
       "2        1        9.26         1001         217.13     15.13       5.38   \n",
       "3        0       11.35         1001         216.81     20.88      12.63   \n",
       "4        0        9.42         1101         235.19     18.38      13.50   \n",
       "\n",
       "                   time                             location  \n",
       "0  2023-10-26T11:00:00Z  Madrid, Comunidad de Madrid, España  \n",
       "1  2023-10-26T12:00:00Z  Madrid, Comunidad de Madrid, España  \n",
       "2  2023-10-26T13:00:00Z  Madrid, Comunidad de Madrid, España  \n",
       "3  2023-10-26T14:00:00Z  Madrid, Comunidad de Madrid, España  \n",
       "4  2023-10-26T15:00:00Z  Madrid, Comunidad de Madrid, España  \n",
       "\n",
       "[5 rows x 31 columns]"
      ]
     },
     "execution_count": 11,
     "metadata": {},
     "output_type": "execute_result"
    }
   ],
   "source": [
    "df = get_responses_into_df (data)\n",
    "df.head()"
   ]
  },
  {
   "cell_type": "markdown",
   "id": "d3fb564c",
   "metadata": {},
   "source": [
    "# Save the dataframe into the data folder. "
   ]
  },
  {
   "cell_type": "markdown",
   "id": "2b334e3d",
   "metadata": {},
   "source": [
    "Make sure you don't get that unnamed: 0 column. Hint: https://stackoverflow.com/questions/36519086/how-to-get-rid-of-unnamed-0-column-in-a-pandas-dataframe-read-in-from-csv-fil"
   ]
  },
  {
   "cell_type": "code",
   "execution_count": null,
   "id": "ca21a372",
   "metadata": {},
   "outputs": [],
   "source": [
    "# Your code here"
   ]
  },
  {
   "cell_type": "code",
   "execution_count": null,
   "id": "556829be",
   "metadata": {},
   "outputs": [],
   "source": []
  }
 ],
 "metadata": {
  "kernelspec": {
   "display_name": "ironhack",
   "language": "python",
   "name": "ironhack"
  },
  "language_info": {
   "codemirror_mode": {
    "name": "ipython",
    "version": 3
   },
   "file_extension": ".py",
   "mimetype": "text/x-python",
   "name": "python",
   "nbconvert_exporter": "python",
   "pygments_lexer": "ipython3",
   "version": "3.11.5"
  },
  "nbTranslate": {
   "displayLangs": [
    "en",
    "es"
   ],
   "hotkey": "alt-a",
   "langInMainMenu": true,
   "sourceLang": "es",
   "targetLang": "en",
   "useGoogleTranslate": true
  },
  "toc": {
   "base_numbering": 1,
   "nav_menu": {},
   "number_sections": true,
   "sideBar": true,
   "skip_h1_title": false,
   "title_cell": "Table of Contents",
   "title_sidebar": "Contents",
   "toc_cell": false,
   "toc_position": {},
   "toc_section_display": true,
   "toc_window_display": false
  }
 },
 "nbformat": 4,
 "nbformat_minor": 5
}
