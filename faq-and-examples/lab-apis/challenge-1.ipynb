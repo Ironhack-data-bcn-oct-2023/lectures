{
 "cells": [
  {
   "cell_type": "markdown",
   "id": "b25842d6",
   "metadata": {},
   "source": [
    "# Import the necessary libraries: pandas & requests"
   ]
  },
  {
   "cell_type": "code",
   "execution_count": 1,
   "id": "215eb6bc",
   "metadata": {},
   "outputs": [],
   "source": [
    "import requests\n",
    "import pandas as pd\n",
    "import datetime"
   ]
  },
  {
   "cell_type": "markdown",
   "id": "416a4caf",
   "metadata": {},
   "source": [
    "# Go on to this website: `https://kinduff.github.io/dog-api/`. Read the docs. "
   ]
  },
  {
   "cell_type": "markdown",
   "id": "bb949a18",
   "metadata": {},
   "source": [
    "## Build the `url_for_request`. This will be the result of: reading the docs 🙃. "
   ]
  },
  {
   "cell_type": "markdown",
   "id": "543e6c0d",
   "metadata": {},
   "source": [
    "Hint: there's a `base_url` to which you need to add another `endpoint`. Call the resulting string `url_for_request`"
   ]
  },
  {
   "cell_type": "code",
   "execution_count": 2,
   "id": "8c147eb7",
   "metadata": {},
   "outputs": [],
   "source": [
    "# Your code here\n",
    "# base_url"
   ]
  },
  {
   "cell_type": "code",
   "execution_count": 3,
   "id": "c503211c",
   "metadata": {},
   "outputs": [],
   "source": [
    "# Your code here\n",
    "# endpoint "
   ]
  },
  {
   "cell_type": "code",
   "execution_count": 4,
   "id": "e8563709",
   "metadata": {},
   "outputs": [],
   "source": [
    "# Your code here"
   ]
  },
  {
   "cell_type": "code",
   "execution_count": 5,
   "id": "42e7edf3",
   "metadata": {},
   "outputs": [],
   "source": [
    "base_url = \"https://meowfacts.herokuapp.com/\""
   ]
  },
  {
   "cell_type": "code",
   "execution_count": 6,
   "id": "4b42e161",
   "metadata": {},
   "outputs": [],
   "source": [
    "endpoint = \"api/facts\""
   ]
  },
  {
   "cell_type": "code",
   "execution_count": 7,
   "id": "add80f8a",
   "metadata": {},
   "outputs": [],
   "source": [
    "url_for_request = base_url + endpoint"
   ]
  },
  {
   "cell_type": "code",
   "execution_count": 8,
   "id": "b7fda87b",
   "metadata": {},
   "outputs": [
    {
     "data": {
      "text/plain": [
       "'https://meowfacts.herokuapp.com/api/facts'"
      ]
     },
     "execution_count": 8,
     "metadata": {},
     "output_type": "execute_result"
    }
   ],
   "source": [
    "url_for_request"
   ]
  },
  {
   "cell_type": "markdown",
   "id": "c5f33f0f",
   "metadata": {},
   "source": [
    "# Do one request using the `url_for_request`. Make sure it's read as a json."
   ]
  },
  {
   "cell_type": "code",
   "execution_count": 9,
   "id": "30593c56",
   "metadata": {},
   "outputs": [
    {
     "data": {
      "text/plain": [
       "<Response [200]>"
      ]
     },
     "execution_count": 9,
     "metadata": {},
     "output_type": "execute_result"
    }
   ],
   "source": [
    "res = requests.get(base_url)\n",
    "res"
   ]
  },
  {
   "cell_type": "code",
   "execution_count": 10,
   "id": "311d0c28",
   "metadata": {},
   "outputs": [
    {
     "data": {
      "text/plain": [
       "{'data': [\"Not every cat gets 'high' from catnip. Whether or not a cat responds to it depends upon a recessive gene: no gene, no joy.\"]}"
      ]
     },
     "execution_count": 10,
     "metadata": {},
     "output_type": "execute_result"
    }
   ],
   "source": [
    "res.json()"
   ]
  },
  {
   "cell_type": "markdown",
   "id": "1bfb3a80",
   "metadata": {},
   "source": [
    "# Great! Now: encapsulate"
   ]
  },
  {
   "cell_type": "markdown",
   "id": "d72434d8",
   "metadata": {},
   "source": [
    "- Create a function whith the name: `request_dog_facts`\n",
    "- It should not take any argument\n",
    "- It should return one dictionary with the information requested\n"
   ]
  },
  {
   "cell_type": "code",
   "execution_count": 66,
   "id": "e7dc2129",
   "metadata": {},
   "outputs": [],
   "source": [
    "def request_dog_facts (url_for_request):\n",
    "    try:\n",
    "        return requests.get(url_for_request).json()\n",
    "    except:\n",
    "        print(\"no :/ \")"
   ]
  },
  {
   "cell_type": "code",
   "execution_count": 67,
   "id": "43519b9f",
   "metadata": {},
   "outputs": [
    {
     "data": {
      "text/plain": [
       "{'data': ['The ancestor of all domestic cats is the African Wild Cat which still exists today.']}"
      ]
     },
     "execution_count": 67,
     "metadata": {},
     "output_type": "execute_result"
    }
   ],
   "source": [
    "a = request_dog_facts (base_url)\n",
    "a"
   ]
  },
  {
   "cell_type": "markdown",
   "id": "5c01f4ce",
   "metadata": {},
   "source": [
    "# APIs may be faulty when requesting many times: make sure you implement a try & except to cover for that."
   ]
  },
  {
   "cell_type": "markdown",
   "id": "ae0d7596",
   "metadata": {},
   "source": [
    "If the request doesn't work, make sure you return a message"
   ]
  },
  {
   "cell_type": "code",
   "execution_count": null,
   "id": "9263e7c8",
   "metadata": {},
   "outputs": [],
   "source": [
    "# your code here"
   ]
  },
  {
   "cell_type": "markdown",
   "id": "b201a536",
   "metadata": {},
   "source": [
    "# We now want to get as the day of the month today: eg.: if current month is october we'll make 10  requests"
   ]
  },
  {
   "cell_type": "markdown",
   "id": "b9ee1515",
   "metadata": {},
   "source": [
    "Create a variable called `current_month`. Using the imported library in the first cell, save today's day."
   ]
  },
  {
   "cell_type": "code",
   "execution_count": 27,
   "id": "1e7947fe",
   "metadata": {},
   "outputs": [],
   "source": [
    "# Your code here"
   ]
  },
  {
   "cell_type": "code",
   "execution_count": 28,
   "id": "d2e3a32f",
   "metadata": {},
   "outputs": [
    {
     "data": {
      "text/plain": [
       "10"
      ]
     },
     "execution_count": 28,
     "metadata": {},
     "output_type": "execute_result"
    }
   ],
   "source": [
    "from datetime import date\n",
    "current_month = date.today().month\n",
    "current_month"
   ]
  },
  {
   "cell_type": "code",
   "execution_count": 29,
   "id": "552e567b",
   "metadata": {},
   "outputs": [],
   "source": [
    "hello = [i for i in range(current_month)]"
   ]
  },
  {
   "cell_type": "markdown",
   "id": "79f81f5f",
   "metadata": {},
   "source": [
    "# If `todays_date` is 27, create a list with 27 dictionaries reusing the function you just created: `request_dog_facts`. List should be called: `dogs_facts`. Do this using a comprehension list"
   ]
  },
  {
   "cell_type": "code",
   "execution_count": 30,
   "id": "731959ec",
   "metadata": {},
   "outputs": [],
   "source": [
    "# Your code here"
   ]
  },
  {
   "cell_type": "code",
   "execution_count": 43,
   "id": "a044a935",
   "metadata": {},
   "outputs": [
    {
     "data": {
      "text/plain": [
       "{'data': [\"Siamese kittens are born white because of the heat inside the mother's uterus before birth. This heat keeps the kittens' hair from darkening on the points.\"]}"
      ]
     },
     "execution_count": 43,
     "metadata": {},
     "output_type": "execute_result"
    }
   ],
   "source": [
    "request_dog_facts(base_url)"
   ]
  },
  {
   "cell_type": "code",
   "execution_count": 58,
   "id": "970981e1",
   "metadata": {},
   "outputs": [
    {
     "data": {
      "text/plain": [
       "[{'data': ['Of all the species of cats, the domestic cat is the only species able to hold its tail vertically while walking. All species of wild cats hold their talk horizontally or tucked between their legs while walking.']},\n",
       " {'data': ['Cats can not taste sweets.']},\n",
       " {'data': [\"The way you treat kittens in the early stages of it's life will render it's personality traits later in life.\"]},\n",
       " {'data': ['The Maine Coone is the only native American long haired breed.']},\n",
       " {'data': ['The average cat food meal is the equivalent to about five mice.']},\n",
       " {'data': ['All cats have three sets of long hairs that are sensitive to pressure - whiskers, eyebrows,and the hairs between their paw pads.']},\n",
       " {'data': [\"A cat's brain is more similar to a man's brain than that of a dog.\"]},\n",
       " {'data': ['In ancient Egypt, when a family cat died, all family members would shave their eyebrows as a sign of mourning.']},\n",
       " {'data': [\"Siamese kittens are born white because of the heat inside the mother's uterus before birth. This heat keeps the kittens' hair from darkening on the points.\"]},\n",
       " {'data': ['The worlds largest cat measured 48.5 inches long. https://www.youtube.com/watch?v=gc5M0aGc_EI']}]"
      ]
     },
     "execution_count": 58,
     "metadata": {},
     "output_type": "execute_result"
    }
   ],
   "source": [
    "dogs_facts =[request_dog_facts(base_url) for i in range(current_month)]\n",
    "dogs_facts"
   ]
  },
  {
   "cell_type": "code",
   "execution_count": 59,
   "id": "d67c7437",
   "metadata": {},
   "outputs": [
    {
     "data": {
      "text/plain": [
       "[{'data': ['Of all the species of cats, the domestic cat is the only species able to hold its tail vertically while walking. All species of wild cats hold their talk horizontally or tucked between their legs while walking.']},\n",
       " {'data': ['Cats can not taste sweets.']},\n",
       " {'data': [\"The way you treat kittens in the early stages of it's life will render it's personality traits later in life.\"]},\n",
       " {'data': ['The Maine Coone is the only native American long haired breed.']},\n",
       " {'data': ['The average cat food meal is the equivalent to about five mice.']},\n",
       " {'data': ['All cats have three sets of long hairs that are sensitive to pressure - whiskers, eyebrows,and the hairs between their paw pads.']},\n",
       " {'data': [\"A cat's brain is more similar to a man's brain than that of a dog.\"]},\n",
       " {'data': ['In ancient Egypt, when a family cat died, all family members would shave their eyebrows as a sign of mourning.']},\n",
       " {'data': [\"Siamese kittens are born white because of the heat inside the mother's uterus before birth. This heat keeps the kittens' hair from darkening on the points.\"]},\n",
       " {'data': ['The worlds largest cat measured 48.5 inches long. https://www.youtube.com/watch?v=gc5M0aGc_EI']}]"
      ]
     },
     "execution_count": 59,
     "metadata": {},
     "output_type": "execute_result"
    }
   ],
   "source": [
    "dogs_facts"
   ]
  },
  {
   "cell_type": "markdown",
   "id": "ec3a47d4",
   "metadata": {},
   "source": [
    "# Build a DF. You have a list of dictionaries, should be easy!"
   ]
  },
  {
   "cell_type": "code",
   "execution_count": 60,
   "id": "d22652ed",
   "metadata": {},
   "outputs": [],
   "source": [
    "# Your code here"
   ]
  },
  {
   "cell_type": "code",
   "execution_count": 61,
   "id": "6ffe7485",
   "metadata": {},
   "outputs": [],
   "source": [
    "df = pd.DataFrame(dogs_facts)"
   ]
  },
  {
   "cell_type": "code",
   "execution_count": 62,
   "id": "ac4f1a01",
   "metadata": {},
   "outputs": [
    {
     "data": {
      "text/html": [
       "<div>\n",
       "<style scoped>\n",
       "    .dataframe tbody tr th:only-of-type {\n",
       "        vertical-align: middle;\n",
       "    }\n",
       "\n",
       "    .dataframe tbody tr th {\n",
       "        vertical-align: top;\n",
       "    }\n",
       "\n",
       "    .dataframe thead th {\n",
       "        text-align: right;\n",
       "    }\n",
       "</style>\n",
       "<table border=\"1\" class=\"dataframe\">\n",
       "  <thead>\n",
       "    <tr style=\"text-align: right;\">\n",
       "      <th></th>\n",
       "      <th>data</th>\n",
       "    </tr>\n",
       "  </thead>\n",
       "  <tbody>\n",
       "    <tr>\n",
       "      <th>0</th>\n",
       "      <td>[Of all the species of cats, the domestic cat ...</td>\n",
       "    </tr>\n",
       "    <tr>\n",
       "      <th>1</th>\n",
       "      <td>[Cats can not taste sweets.]</td>\n",
       "    </tr>\n",
       "    <tr>\n",
       "      <th>2</th>\n",
       "      <td>[The way you treat kittens in the early stages...</td>\n",
       "    </tr>\n",
       "    <tr>\n",
       "      <th>3</th>\n",
       "      <td>[The Maine Coone is the only native American l...</td>\n",
       "    </tr>\n",
       "    <tr>\n",
       "      <th>4</th>\n",
       "      <td>[The average cat food meal is the equivalent t...</td>\n",
       "    </tr>\n",
       "    <tr>\n",
       "      <th>5</th>\n",
       "      <td>[All cats have three sets of long hairs that a...</td>\n",
       "    </tr>\n",
       "    <tr>\n",
       "      <th>6</th>\n",
       "      <td>[A cat's brain is more similar to a man's brai...</td>\n",
       "    </tr>\n",
       "    <tr>\n",
       "      <th>7</th>\n",
       "      <td>[In ancient Egypt, when a family cat died, all...</td>\n",
       "    </tr>\n",
       "    <tr>\n",
       "      <th>8</th>\n",
       "      <td>[Siamese kittens are born white because of the...</td>\n",
       "    </tr>\n",
       "    <tr>\n",
       "      <th>9</th>\n",
       "      <td>[The worlds largest cat measured 48.5 inches l...</td>\n",
       "    </tr>\n",
       "  </tbody>\n",
       "</table>\n",
       "</div>"
      ],
      "text/plain": [
       "                                                data\n",
       "0  [Of all the species of cats, the domestic cat ...\n",
       "1                       [Cats can not taste sweets.]\n",
       "2  [The way you treat kittens in the early stages...\n",
       "3  [The Maine Coone is the only native American l...\n",
       "4  [The average cat food meal is the equivalent t...\n",
       "5  [All cats have three sets of long hairs that a...\n",
       "6  [A cat's brain is more similar to a man's brai...\n",
       "7  [In ancient Egypt, when a family cat died, all...\n",
       "8  [Siamese kittens are born white because of the...\n",
       "9  [The worlds largest cat measured 48.5 inches l..."
      ]
     },
     "execution_count": 62,
     "metadata": {},
     "output_type": "execute_result"
    }
   ],
   "source": [
    "df"
   ]
  },
  {
   "cell_type": "markdown",
   "id": "9f401ae3",
   "metadata": {},
   "source": [
    "# Modify the previous table, using a lambda function, so you modify the column data to have the same column but with the element instead of the list with that one element"
   ]
  },
  {
   "cell_type": "code",
   "execution_count": null,
   "id": "b29f4826",
   "metadata": {},
   "outputs": [],
   "source": []
  },
  {
   "cell_type": "markdown",
   "id": "d3fb564c",
   "metadata": {},
   "source": [
    "# Save the dataframe into the data folder. "
   ]
  },
  {
   "cell_type": "markdown",
   "id": "2b334e3d",
   "metadata": {},
   "source": [
    "Make sure you don't get that unnamed: 0 column. Hint: https://stackoverflow.com/questions/36519086/how-to-get-rid-of-unnamed-0-column-in-a-pandas-dataframe-read-in-from-csv-fil"
   ]
  },
  {
   "cell_type": "code",
   "execution_count": 50,
   "id": "ca21a372",
   "metadata": {},
   "outputs": [],
   "source": [
    "# Your code here"
   ]
  },
  {
   "cell_type": "code",
   "execution_count": null,
   "id": "556829be",
   "metadata": {},
   "outputs": [],
   "source": []
  }
 ],
 "metadata": {
  "kernelspec": {
   "display_name": "ironhack",
   "language": "python",
   "name": "ironhack"
  },
  "language_info": {
   "codemirror_mode": {
    "name": "ipython",
    "version": 3
   },
   "file_extension": ".py",
   "mimetype": "text/x-python",
   "name": "python",
   "nbconvert_exporter": "python",
   "pygments_lexer": "ipython3",
   "version": "3.11.5"
  },
  "nbTranslate": {
   "displayLangs": [
    "en",
    "es"
   ],
   "hotkey": "alt-a",
   "langInMainMenu": true,
   "sourceLang": "es",
   "targetLang": "en",
   "useGoogleTranslate": true
  },
  "toc": {
   "base_numbering": 1,
   "nav_menu": {},
   "number_sections": true,
   "sideBar": true,
   "skip_h1_title": false,
   "title_cell": "Table of Contents",
   "title_sidebar": "Contents",
   "toc_cell": false,
   "toc_position": {},
   "toc_section_display": true,
   "toc_window_display": false
  }
 },
 "nbformat": 4,
 "nbformat_minor": 5
}
